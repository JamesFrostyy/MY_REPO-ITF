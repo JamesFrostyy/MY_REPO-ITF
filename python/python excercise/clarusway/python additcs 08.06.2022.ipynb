{
 "cells": [
  {
   "cell_type": "markdown",
   "id": "12fc64d2",
   "metadata": {},
   "source": [
    "Find the closest palindrome number for your code:\n",
    "Example:\n",
    " input: 216\n",
    " output: 212\n",
    " input: 100\n",
    " output: 99\n",
    " input: 77\n",
    " output: 77\n",
    ":lower_left_paintbrush:Palindrome number is number is same from left-right side.\n",
    "If the number itself is a palindrome, return that number.\n",
    "If two  palindrome numbers distance is same choose smaller number "
   ]
  },
  {
   "cell_type": "markdown",
   "id": "5d916cc2",
   "metadata": {},
   "source": [
    "### en yakın palindrome bulma"
   ]
  },
  {
   "cell_type": "code",
   "execution_count": null,
   "id": "224b3a7a",
   "metadata": {},
   "outputs": [],
   "source": [
    "def is_palindrom(number):\n",
    "  number = str(number)\n",
    "  if number == number[::-1]:\n",
    "    return True\n",
    "  else:\n",
    "    return False\n",
    "pali = 0\n",
    "giriş = input(\"bir sayı giriniz: \").lstrip(\"0\")\n",
    "\n",
    "giriş = int(giriş)\n",
    "fark = 5\n",
    "for i in range(giriş-5, giriş+6):\n",
    "  if is_palindrom(i):\n",
    "    if abs(giriş-i)<fark:\n",
    "      fark = abs(giriş-i)\n",
    "      pali = i\n",
    "print(pali)"
   ]
  },
  {
   "cell_type": "code",
   "execution_count": null,
   "id": "a418e5ee",
   "metadata": {},
   "outputs": [],
   "source": [
    "def palindromic_number(number):         #sayının palindromic olup olmadığını kontrol eden bir fonksiyon tanımladım.\n",
    "        if len(number) %2 == 0:\n",
    "            first_half = number[0:len(number)//2]\n",
    "            second_half = number[-1:-(len(number)//2)-1:-1]\n",
    "            if first_half == second_half:\n",
    "                return  True\n",
    "            else:\n",
    "                return  False\n",
    "        else:\n",
    "            first_half = number[0:len(number)//2]\n",
    "            second_half = number[-1:-len(number)//2:-1]\n",
    "            if first_half == second_half:\n",
    "                return  True\n",
    "            else:\n",
    "                return  False"
   ]
  },
  {
   "cell_type": "code",
   "execution_count": null,
   "id": "512ece9f",
   "metadata": {},
   "outputs": [],
   "source": [
    "p = int(input(\"enter a number find the closest palindrome:  \"))\n",
    "if str(p) == str(p)[::-1]:\n",
    "    print(p)\n",
    "else:\n",
    "    c1, c2 = p, p\n",
    "    while True:\n",
    "        c1 -= 1\n",
    "        if str(c1) == str(c1)[::-1]:\n",
    "            print(c1)\n",
    "            break\n",
    "        c2 += 1\n",
    "        if str(c2) == str(c2)[::-1]:\n",
    "            print(c2)\n",
    "            break"
   ]
  },
  {
   "cell_type": "markdown",
   "id": "63c34eba",
   "metadata": {},
   "source": [
    "Soru : Kullanıcıdan 2 deger alın. bu degerler arasındakı tum TEK sayıları yazdırın"
   ]
  },
  {
   "cell_type": "code",
   "execution_count": null,
   "id": "fe444d7c",
   "metadata": {},
   "outputs": [],
   "source": [
    "giri_1 = int(input('ilk sayı'))\n",
    "giri_2 = int(input('ikinci sayı'))\n",
    "if giri_2 < giri_1:\n",
    "  giri_1, giri_2 = giri_2, giri_1\n",
    "else:\n",
    "  fark = giri_2 - giri_1\n",
    "a, b = [], 0\n",
    "while b < fark-1:\n",
    "   giri_1 = giri_1 + 1\n",
    "   a.append(giri_1)\n",
    "   b += 1\n",
    "for i in a:\n",
    "   if i % 2 != 0:\n",
    "     print(i, end = ' ')"
   ]
  },
  {
   "cell_type": "code",
   "execution_count": null,
   "id": "fac1cd0f",
   "metadata": {},
   "outputs": [],
   "source": [
    "a = int(input(\"birinci sayıyı giriniz:\"))\n",
    "b = int(input(\"ikinci sayıyı giriniz:\"))\n",
    "if b<a:\n",
    "    a, b = b, a\n",
    "while a<b:\n",
    "    if a % 2 == 1:\n",
    "        print(a, end=\" \")\n",
    "        a += 1\n",
    "    else:\n",
    "        a+=1\n"
   ]
  },
  {
   "cell_type": "markdown",
   "id": "be09dd81",
   "metadata": {},
   "source": [
    "Kaprekar sabiti\n",
    "Dört basamaklı bir sayı seçin, en az iki hanesi farklı rakamlardan oluşan herhangi bir sayı. Mesela 1234.\n",
    "Rakamları büyükten küçüğe doğru sıralayın: 4321.\n",
    "Şimdi rakamları küçükten büyüğe doğru sıralayın: 1234.\n",
    "Elde ettiğiniz büyük sayıdan küçük sayıyı çıkarın: 4321 - 1234.\n",
    "4321 - 1234 = 3087\n",
    "Rakamları büyükten küçüğe doğru sıralayın: 8730\n",
    "Rakamları küçükten büyüğe doğru sıralayın: 0378\n",
    "Küçük sayıyı büyük sayıdan çıkarın: 8730 - 0378 = 8352\n",
    "8532 - 2358 = 6174\n",
    "Hangi sayıyı seçersek seçelim en fazla 7 çıkarma işleminde 6174(Kaprekar Sabiti)'ni elde ederiz. Başka bir örnek\n",
    "2005 mesela.\n",
    "5200 - 0025 = 5175\n",
    "7551 - 1557 = 5994\n",
    "9954 - 4599 = 5355\n",
    "5553 - 3555 = 1998\n",
    "9981 - 1899 = 8082\n",
    "8820 - 0288 = 8532\n",
    "8532 - 2358 = 6174\n",
    "O halde kullanıcıdan alınan en az iki hanesi farklı rakamlardan oluşan 4 basamaklı bir sayının kaç adımda Kaprekar Sabitine ulaştığını bulan python programı"
   ]
  },
  {
   "cell_type": "code",
   "execution_count": 13,
   "id": "bcc2470a",
   "metadata": {},
   "outputs": [
    {
     "name": "stdout",
     "output_type": "stream",
     "text": [
      "Please enter 4 digit number :8730\n",
      "8352\n",
      "6174\n",
      "2\n"
     ]
    }
   ],
   "source": [
    "def kaprekar(num):\n",
    "  if len(set(num))<3:\n",
    "    return \"Please enter a number with at least 2 digits the same.\"\n",
    "  else:\n",
    "    count=0\n",
    "    while num != 6174:\n",
    "      num=int(\"\".join(sorted(str(num), reverse=True)))-int(\"\".join(sorted(str(num))))\n",
    "      count+=1\n",
    "      print(num)\n",
    "    return count\n",
    "print(kaprekar(input(\"Please enter 4 digit number :\")))"
   ]
  },
  {
   "cell_type": "code",
   "execution_count": 3,
   "id": "995e2a6d",
   "metadata": {},
   "outputs": [
    {
     "name": "stdout",
     "output_type": "stream",
     "text": [
      "Please enter 4 digit number :1234\n",
      "3087\n",
      "8352\n",
      "6174\n",
      "3\n"
     ]
    }
   ],
   "source": [
    "def kaprekar(num):\n",
    "  count=0\n",
    "  while count<8:\n",
    "    bigtosmall=sorted(str(num), reverse=True)\n",
    "    big=\"\".join(bigtosmall)\n",
    "    smalltobig=sorted(str(num))\n",
    "    small=\"\".join(smalltobig)\n",
    "    num=int(big)-int(small)\n",
    "    count+=1\n",
    "    print(num)\n",
    "    if num==6174:\n",
    "      break\n",
    "  return count\n",
    "print(kaprekar(input(\"Please enter 4 digit number :\")))"
   ]
  },
  {
   "cell_type": "code",
   "execution_count": 46,
   "id": "d46fa2a6",
   "metadata": {},
   "outputs": [
    {
     "name": "stdout",
     "output_type": "stream",
     "text": [
      "1,2,3,4\n"
     ]
    }
   ],
   "source": [
    "number = 1234\n",
    "number = str(number)\n",
    "a = \",\".join(number)\n",
    "print(a)"
   ]
  },
  {
   "cell_type": "code",
   "execution_count": 47,
   "id": "573ef0cd",
   "metadata": {},
   "outputs": [
    {
     "name": "stdout",
     "output_type": "stream",
     "text": [
      "['1234']\n"
     ]
    }
   ],
   "source": [
    "b = number.split(\" \")\n",
    "print(b)"
   ]
  },
  {
   "cell_type": "markdown",
   "id": "f341e947",
   "metadata": {},
   "source": [
    "Çalışma Sorusu: Karesi  sağdan n dijit,  soldan n-1 dijitin toplamına eşi olan sayılara KaprekarSayıları denir.Örneğin:  9^2 = 81    8 + 1 = 9,    297^2 =  88209    88+209=297     1 ile 1000 arasındaki  tamsayılar içinde  kaprekarolanlarını bulacak  algoritmayı yazınız ?"
   ]
  },
  {
   "cell_type": "code",
   "execution_count": 1,
   "id": "edb32a27",
   "metadata": {},
   "outputs": [
    {
     "name": "stdout",
     "output_type": "stream",
     "text": [
      "Please enter a number: 123\n",
      "149\n"
     ]
    }
   ],
   "source": [
    "297^2 = 88209"
   ]
  },
  {
   "cell_type": "code",
   "execution_count": null,
   "id": "c3168173",
   "metadata": {},
   "outputs": [],
   "source": [
    "number = input(\"Please enter a number: \")\n",
    "print(\"\".join([str(i) for i in [int(j) ** 2 for j in number]]))"
   ]
  }
 ],
 "metadata": {
  "kernelspec": {
   "display_name": "Python 3 (ipykernel)",
   "language": "python",
   "name": "python3"
  },
  "language_info": {
   "codemirror_mode": {
    "name": "ipython",
    "version": 3
   },
   "file_extension": ".py",
   "mimetype": "text/x-python",
   "name": "python",
   "nbconvert_exporter": "python",
   "pygments_lexer": "ipython3",
   "version": "3.10.4"
  }
 },
 "nbformat": 4,
 "nbformat_minor": 5
}
