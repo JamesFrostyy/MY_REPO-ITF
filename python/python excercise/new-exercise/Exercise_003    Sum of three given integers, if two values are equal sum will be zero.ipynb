{
 "cells": [
  {
   "cell_type": "markdown",
   "metadata": {
    "id": "_AXd7SXDsP1g"
   },
   "source": [
    "**Exercise - 3**\n",
    "\n",
    "Write a Python program to sum of three given integers. However, if two values are equal sum will be zero.\n",
    "\n",
    "Verilen üç tamsayıyı toplayan bir Python programı yazın. Ancak, iki değer eşitse toplam sıfır olacaktır."
   ]
  },
  {
   "cell_type": "code",
   "execution_count": null,
   "metadata": {
    "colab": {
     "base_uri": "https://localhost:8080/"
    },
    "id": "uQYpADh6sP6x",
    "outputId": "c725f62a-b75c-423c-a7ba-6e04e5dc21bb"
   },
   "outputs": [
    {
     "name": "stdout",
     "output_type": "stream",
     "text": [
      "12 57 57\n",
      "Toplam: 0\n"
     ]
    }
   ],
   "source": [
    "sayi = list(map(int, input(\"\").split()))\n",
    "if sayi[0] == sayi [1] or sayi[1] == sayi [2] or sayi[0] == sayi[2] :\n",
    "  print(\"Toplam:\", 0)\n",
    "else :\n",
    "  print(sum(sayi))"
   ]
  }
 ],
 "metadata": {
  "colab": {
   "collapsed_sections": [],
   "name": "Exercise - 3.ipynb",
   "provenance": []
  },
  "kernelspec": {
   "display_name": "Python 3 (ipykernel)",
   "language": "python",
   "name": "python3"
  },
  "language_info": {
   "codemirror_mode": {
    "name": "ipython",
    "version": 3
   },
   "file_extension": ".py",
   "mimetype": "text/x-python",
   "name": "python",
   "nbconvert_exporter": "python",
   "pygments_lexer": "ipython3",
   "version": "3.10.1"
  }
 },
 "nbformat": 4,
 "nbformat_minor": 1
}
