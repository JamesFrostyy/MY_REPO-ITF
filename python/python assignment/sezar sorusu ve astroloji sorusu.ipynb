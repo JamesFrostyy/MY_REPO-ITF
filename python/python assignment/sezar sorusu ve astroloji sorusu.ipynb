{
 "cells": [
  {
   "cell_type": "code",
   "execution_count": 1,
   "id": "7dae992c",
   "metadata": {},
   "outputs": [
    {
     "name": "stdout",
     "output_type": "stream",
     "text": [
      "Pls Enter a number! : 123\n",
      "Yüz Yirmi Üc "
     ]
    }
   ],
   "source": [
    "my_dict={\"0\":\"\",\"1\":\"Bir\",\"2\":\"Iki\",\"3\":\"Üc\",\"4\":\"Dört\",\"5\":\"Bes\",\"6\":\"Alti\",\"7\":\"Yedi\",\"8\":\"Sekiz\",\"9\":\"Dokuz\"}\n",
    "two_digits={\"0\":\"\",\"1\":\"On\",\"2\":\"Yirmi\",\"3\":\"Otuz\",\"4\":\"Kirk\",\"5\":\"Elli\",\"6\":\"Altmis\",\"7\":\"Yetmis\",\"8\":\"Seksen\",\"9\":\"Doksan\"}\n",
    "three_digits=\"Yüz\"\n",
    "four_digits=\"Bin\"\n",
    "while True:\n",
    "  number=input(\"Pls Enter a number! : \")\n",
    "  if (number[0]==\"0\" and len(number)==1):  # To get the definition of 0\n",
    "    print(\"Sifir\")\n",
    "    break\n",
    "  elif number.isdigit() and number[0]!=\"0\":  # To only get digits and avoid the numbers start with 0\n",
    "    break\n",
    "  else :\n",
    "    print(\"Pls enter a valid number! : \")\n",
    "flag=False;   # To excute an if statement just once so we dont get the same result when we have the same digits in a number like 11,414,2121\n",
    "flag1=False;\n",
    "flag2=False;\n",
    "for i in number :\n",
    "  length=len(number)  # To switch the cases with the length \n",
    "  \n",
    "  #  first case for the numbers w 1 digit\n",
    "  if(length==1):\n",
    "    print(my_dict[i],end=\" \")\n",
    " #  second case for the numbers w 2 digits\n",
    "  elif (length==2):\n",
    "    if(i==number[0] and flag != True ):\n",
    "      print(two_digits[i],end=\" \")\n",
    "      flag=True;\n",
    "    else:\n",
    "        print(my_dict[i],end=\" \")\n",
    " #  third case for the numbers w 3 digits\n",
    "  elif (length==3):\n",
    "    if(i==number[0] and  flag != True):\n",
    "      if(i!=\"1\"):\n",
    "        print(my_dict[i]+\" \"+three_digits,end=\" \")\n",
    "        flag=True;\n",
    "      else:\n",
    "        print(three_digits,end=\" \")\n",
    "        flag=True;\n",
    "    elif(i==number[1] and flag1 != True):\n",
    "      print(two_digits[i],end=\" \")\n",
    "      flag1=True;\n",
    "    else:\n",
    "        print(my_dict[i],end=\" \")\n",
    " #  fourth case for the numbers w 4 digits\n",
    "  elif (length==4):\n",
    "      if(i==number[0] and  flag2 != True):\n",
    "        if(i!=\"1\"):\n",
    "          print(my_dict[i]+\" \"+four_digits,end=\" \")\n",
    "          flag2=True;\n",
    "        else:\n",
    "          print(four_digits,end=\" \")\n",
    "          flag2=True;\n",
    "      elif(i==number[1] and  flag != True):\n",
    "        if(i!=\"1\" and i!=\"0\"):\n",
    "          print(my_dict[i]+\" \"+three_digits,end=\" \")\n",
    "          flag=True;\n",
    "        elif(i==\"0\"):\n",
    "          pass\n",
    "        else:\n",
    "          print(three_digits,end=\" \")\n",
    "          flag=True;\n",
    "      elif(i==number[2] and flag1 != True):\n",
    "        print(two_digits[i],end=\" \")\n",
    "        flag1=True;\n",
    "      else:\n",
    "          print(my_dict[i],end=\" \")"
   ]
  },
  {
   "cell_type": "code",
   "execution_count": 2,
   "id": "930adc97",
   "metadata": {},
   "outputs": [
    {
     "name": "stdout",
     "output_type": "stream",
     "text": [
      "bilgisayar yine çıldırdı!\n",
      "bilgisayar yine çıldırdı!\n",
      "bilgisayar yine çıldırdı!\n",
      "bilgisayar yine çıldırdı!\n",
      "bilgisayar yine çıldırdı!\n",
      "bilgisayar yine çıldırdı!\n",
      "bilgisayar yine çıldırdı!\n",
      "bilgisayar yine çıldırdı!\n",
      "bilgisayar yine çıldırdı!\n"
     ]
    }
   ],
   "source": [
    "a = 1\n",
    "\n",
    "while a < 10:\n",
    "    a += 1\n",
    "    print(\"bilgisayar yine çıldırdı!\")"
   ]
  },
  {
   "cell_type": "code",
   "execution_count": 3,
   "id": "c9cd72db",
   "metadata": {},
   "outputs": [
    {
     "name": "stdout",
     "output_type": "stream",
     "text": [
      "Yapmak istediğiniz işlemin numarasını girin (Çıkmak için q): q\n",
      "çıkılıyor...\n"
     ]
    }
   ],
   "source": [
    "anahtar = 1\n",
    "\n",
    "while anahtar == 1:\n",
    "    soru = input(\"Yapmak istediğiniz işlemin numarasını girin (Çıkmak için q): \")\n",
    "\n",
    "    if soru == \"q\":\n",
    "        print(\"çıkılıyor...\")\n",
    "        anahtar = 0"
   ]
  },
  {
   "cell_type": "code",
   "execution_count": 4,
   "id": "ea4bcf22",
   "metadata": {},
   "outputs": [
    {
     "name": "stdout",
     "output_type": "stream",
     "text": [
      "Yapmak istediğiniz işlemin numarasını girin (Çıkmak için q): q\n",
      "çıkılıyor...\n"
     ]
    }
   ],
   "source": [
    "while True:\n",
    "    soru = input(\"Yapmak istediğiniz işlemin numarasını girin (Çıkmak için q): \")\n",
    "\n",
    "    if soru == \"q\":\n",
    "        print(\"çıkılıyor...\")\n",
    "        break"
   ]
  },
  {
   "cell_type": "markdown",
   "id": "b50d061e",
   "metadata": {},
   "source": [
    "Write a Python program to display astrological sign for given date of birth.(Verilen doğum tarihi için astrolojik işareti gösteren bir Python programı yazın.)"
   ]
  },
  {
   "cell_type": "code",
   "execution_count": 5,
   "id": "195973b9",
   "metadata": {},
   "outputs": [
    {
     "name": "stdout",
     "output_type": "stream",
     "text": [
      "Please enter your date of birth only in the required format (DD/YY/MM) : 13/03/1982\n",
      "You are a Pisces ♓\n"
     ]
    }
   ],
   "source": [
    "date=input(\"Please enter your date of birth only in the required format (DD/YY/MM) : \").split(\"/\")\n",
    "try:\n",
    "  if  int(date[1].lstrip(\"0\"))==1:\n",
    "    if int(date[0])<21:\n",
    "      print(\"You are a Capricorn\",chr(0x00002651))\n",
    "    else:\n",
    "      print(\"You are a Aquarius\",chr(0x00002652))\n",
    "  elif  int(date[1].lstrip(\"0\"))==2:\n",
    "    if int(date[0])<20:\n",
    "      print(\"You are a Aquarius\",chr(0x00002652))\n",
    "    else:\n",
    "      print(\"You are a Pisces\",chr(0x00002653))\n",
    "  elif  int(date[1].lstrip(\"0\"))==3:\n",
    "    if int(date[0])<21:\n",
    "      print(\"You are a Pisces\",chr(0x00002653))\n",
    "    else:\n",
    "      print(\"You are a Aries\",chr(0x00002648))\n",
    "  elif  int(date[1].lstrip(\"0\"))==4:\n",
    "    if int(date[0])<21:\n",
    "      print(\"You are a Aries\",chr(0x00002648))\n",
    "    else:\n",
    "      print(\"You are a Taurus\",chr(0x00002649))\n",
    "  elif  int(date[1].lstrip(\"0\"))==5:\n",
    "    if int(date[0])<21:\n",
    "      print(\"You are a Taurus\",chr(0x00002649))\n",
    "    else:\n",
    "      print(\"ikizler\")\n",
    "  elif  int(date[1].lstrip(\"0\"))==6:\n",
    "    if int(date[0])<22:\n",
    "      print(\"ikizler\")\n",
    "    else:\n",
    "      print(\"You are a Cancer\",chr(0x0000264B))\n",
    "  elif  int(date[1].lstrip(\"0\"))==7:\n",
    "    if int(date[0])<23:\n",
    "      print(\"You are a Cancer\",chr(0x0000264B))\n",
    "    else:\n",
    "      print(\"You are a Leo\",chr(0x0000264C))\n",
    "  elif  int(date[1].lstrip(\"0\"))==8:\n",
    "    if int(date[0])<24:\n",
    "      print(\"You are a Leo\",chr(0x0000264C))\n",
    "    else:\n",
    "      print(\"You are a Virgo\", chr(0x0000264D))\n",
    "  elif  int(date[1].lstrip(\"0\"))==9:\n",
    "    if int(date[0])<24:\n",
    "      print(\"You are a Virgo\", chr(0x0000264D))\n",
    "    else:\n",
    "      print(\"You are a Libra\",chr(0x0000264E))\n",
    "  elif  int(date[1].lstrip(\"0\"))==10:\n",
    "    if int(date[0])<24:\n",
    "      print(\"You are a Libra\",chr(0x0000264E))\n",
    "    else:\n",
    "      print(\"You are a Scorpius\",chr(0x0000264F))\n",
    "  elif  int(date[1].lstrip(\"0\"))==11:\n",
    "    if int(date[0])<23:\n",
    "      print(\"You are a Scorpius\",chr(0x0000264F))\n",
    "    else:\n",
    "      print(\"You are a Sagittarius\",chr(0x00002650))\n",
    "  elif  int(date[1].lstrip(\"0\"))==12:\n",
    "    if int(date[0])<21:\n",
    "      print(\"You are a Sagittarius\",chr(0x00002650))\n",
    "    else:\n",
    "      print(\"You are a Capricorn\",chr(0x00002651))\n",
    "except:\n",
    "  print(\"Could not detect your date of birth, please enter only in the requested format!!!\")"
   ]
  },
  {
   "cell_type": "markdown",
   "id": "f7b1a310",
   "metadata": {},
   "source": [
    "İşverenimiz bizden, kullanıcı tarafından girilen bir metni şifreleyen bir program istedi. İstenen şartlar şunlar:\n",
    "Girilen Türkçe metinlerde her harf alfabetik sıraya göre kendisinden iki sonraki harfe dönüştürülecek. (Örneğin 'a' harfi 'c', 'z' harfi 'b' olacak)\n",
    "Girilen metinde harf dışında bir karakter varsa 'Lütfen Sadece Harflerden Oluşan Bir Metin Giriniz!' uyarısından sonra tekrar input istenecek.\n",
    "Büyük harfler büyük harf olarak, küçük harflerse küçük harf olarak dönüştürülecek.\n",
    "Boşluklar boşluk olarak korunacak.\n",
    "Çözümde bugüne kadar gördüğümüz konular dairesinde kalınacak."
   ]
  },
  {
   "cell_type": "code",
   "execution_count": 1,
   "id": "1604fd7b",
   "metadata": {},
   "outputs": [
    {
     "name": "stdout",
     "output_type": "stream",
     "text": [
      "şifrenizi giriniz : asuman\n",
      "cuwocp"
     ]
    }
   ],
   "source": [
    "şifre = input(\"şifrenizi giriniz : \")\n",
    "if not şifre.isalpha():\n",
    "  while True:\n",
    "    şifre = input(\" lütfen sadece metin giriniz : \")\n",
    "    if şifre.isalpha():\n",
    "      break\n",
    "for i in şifre:\n",
    "  print(chr(ord(i)+2), end =\"\")"
   ]
  },
  {
   "cell_type": "code",
   "execution_count": null,
   "id": "d61f536f",
   "metadata": {},
   "outputs": [],
   "source": [
    "while True:\n",
    "    text=input(\"Please Enter a Letter Only Text : \")\n",
    "    if not text.replace(' ','').isalpha():\n",
    "      print(\"Please Enter a Letter Only Text :\")\n",
    "      continue\n",
    "    else:\n",
    "      break \n",
    "little=[\"a\",\"b\",\"c\",\"ç\",\"d\",\"e\",\"f\",\"g\",\"ğ\",\"h\",\"ı\",\"i\",\"j\",\"k\",\"l\",\"m\",\"n\",\"o\",\"ö\",\"p\",\"r\",\"s\",\"ş\",\"t\",\"u\",\"ü\",\"v\",\"y\",\"z\"]\n",
    "big=[\"A\",\"B\",\"C\",\"Ç\",\"D\",\"E\",\"F\",\"G\",\"Ğ\",\"H\",\"I\",\"İ\",\"J\",\"K\",\"L\",\"M\",\"N\",\"O\",\"Ö\",\"P\",\"R\",\"S\",\"Ş\",\"T\",\"U\",\"Ü\",\"V\",\"Y\",\"Z\"]\n",
    "newtext=\"\"\n",
    "for i in text:\n",
    "    if i in little:\n",
    "      newtext+=little[little.index(i)+2]\n",
    "    elif i in big:\n",
    "      newtext+=big[big.index(i)+2]\n",
    "    else:\n",
    "      newtext+=i\n",
    "print(newtext)"
   ]
  },
  {
   "cell_type": "code",
   "execution_count": null,
   "id": "281f1265",
   "metadata": {},
   "outputs": [],
   "source": [
    "#building special charset and its indexing\n",
    "alphabet_tr_string=\"abcçdefgğhıijklmnoöprsştuüvyz\"\n",
    "alphabet_tr_checklist=list(alphabet_tr_string)+list(alphabet_tr_string.upper())+[\" \"]\n",
    "alphabet_dict=dict(zip(list(range(1,30)),list(zip(alphabet_tr_string,alphabet_tr_string.upper()))))\n",
    "\n",
    "#input validation\n",
    "while True:\n",
    "  string=input(\"Type something with only letters and whitespace:\")\n",
    "  check=0\n",
    "  for i in string:\n",
    "    if i not in alphabet_tr_checklist:\n",
    "      check=1\n",
    "      break\n",
    "  if check:\n",
    "    print(\"Invalid input. Type only Turkish letters(whitespace allowed).\\n\")\n",
    "    continue\n",
    "  else:\n",
    "    print(\"Processing...\")\n",
    "    break\n",
    "\n",
    "#changing letters\n",
    "string_temp=string[:]\n",
    "for i in range(len(string)):\n",
    "  if string_temp[i]!=\" \":\n",
    "    for key,value in alphabet_dict.items():\n",
    "      if string_temp[i] in value:\n",
    "        if string[i].isupper():\n",
    "          string_temp=string_temp.replace(string_temp[i],alphabet_dict[(key+2)%29][1],1)\n",
    "          break\n",
    "        else:\n",
    "          string_temp=string_temp.replace(string_temp[i],alphabet_dict[(key+2)%29][0],1)\n",
    "          break\n",
    "print(f\"Your text was:{string}, After conversion:{string_temp}\")"
   ]
  },
  {
   "cell_type": "markdown",
   "id": "3427e4a1",
   "metadata": {},
   "source": [
    "tekrar input isteyen kod bloğu "
   ]
  },
  {
   "cell_type": "code",
   "execution_count": null,
   "id": "64066e3c",
   "metadata": {},
   "outputs": [],
   "source": [
    "while True:\n",
    "  girilen = input('Lütfen Bir Kelime / Cümle Giriniz: ')\n",
    "  giri = girilen.replace(' ', '')\n",
    "  if not giri.isalpha():\n",
    "     print('Lütfen Sadece Harf Kullanınız!')\n",
    "     continue\n",
    "  else:\n",
    "     break"
   ]
  }
 ],
 "metadata": {
  "kernelspec": {
   "display_name": "Python 3 (ipykernel)",
   "language": "python",
   "name": "python3"
  },
  "language_info": {
   "codemirror_mode": {
    "name": "ipython",
    "version": 3
   },
   "file_extension": ".py",
   "mimetype": "text/x-python",
   "name": "python",
   "nbconvert_exporter": "python",
   "pygments_lexer": "ipython3",
   "version": "3.10.4"
  }
 },
 "nbformat": 4,
 "nbformat_minor": 5
}
