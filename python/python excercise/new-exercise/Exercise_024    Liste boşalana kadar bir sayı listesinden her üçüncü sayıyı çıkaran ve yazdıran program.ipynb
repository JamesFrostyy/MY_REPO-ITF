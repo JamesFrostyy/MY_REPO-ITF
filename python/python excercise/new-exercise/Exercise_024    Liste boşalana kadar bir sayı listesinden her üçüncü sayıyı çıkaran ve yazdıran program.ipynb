{
 "cells": [
  {
   "cell_type": "markdown",
   "metadata": {
    "id": "X-fWz_j0Xr6F"
   },
   "source": [
    "**Exercise - 24**\n",
    "\n",
    "Write a Python program to remove and print every third number from a list of numbers until the list becomes empty.\n",
    "\n",
    "Liste boşalana kadar bir sayı listesinden her üçüncü sayıyı çıkarmak ve yazdırmak için bir Python programı yazın.\n",
    "\n",
    "For Example :\n",
    "\n",
    "liste = [1 ,2 ,3 ,4 ,5 ,6 ,7 ,8 ,9]\n",
    "\n",
    "Expected Output:\n",
    "\n",
    "[1, 2, 4, 5, 6, 7, 8, 9]\n",
    "\n",
    "[1, 2, 4, 5, 7, 8, 9]\n",
    "\n",
    "[1, 2, 4, 5, 7, 8]\n",
    "\n",
    "[1, 2, 5, 7, 8]\n",
    "\n",
    "[1, 2, 5, 7]\n",
    "\n",
    "[1, 2, 7]\n",
    "\n",
    "[1, 7]\n",
    "\n",
    "[1]\n",
    "\n",
    "[]"
   ]
  },
  {
   "cell_type": "code",
   "execution_count": null,
   "metadata": {
    "colab": {
     "base_uri": "https://localhost:8080/"
    },
    "id": "4ULjyn5VXsBW",
    "outputId": "1d5aa017-0087-4fa9-c307-f6523c3b24f8"
   },
   "outputs": [
    {
     "name": "stdout",
     "output_type": "stream",
     "text": [
      "[1, 2, 4, 5, 6, 7, 8, 9]\n",
      "[1, 2, 5, 6, 7, 8, 9]\n",
      "[1, 2, 6, 7, 8, 9]\n",
      "[1, 2, 7, 8, 9]\n",
      "[1, 2, 8, 9]\n",
      "[1, 2, 9]\n",
      "[1, 2]\n",
      "[1]\n",
      "[]\n"
     ]
    }
   ],
   "source": [
    "liste = [1, 2, 3, 4, 5, 6, 7, 8, 9]\n",
    "for i in range(0, len(liste)) :\n",
    "  if len(liste) >= 3 :\n",
    "    liste.pop(2)\n",
    "    print(liste)\n",
    "  else :\n",
    "    liste.pop()\n",
    "    print(liste)"
   ]
  },
  {
   "cell_type": "code",
   "execution_count": null,
   "metadata": {
    "colab": {
     "base_uri": "https://localhost:8080/"
    },
    "id": "NK-a6zqGX70x",
    "outputId": "f92d16b5-ec24-4c42-aac9-bde2fda1aaae"
   },
   "outputs": [
    {
     "name": "stdout",
     "output_type": "stream",
     "text": [
      "[1, 2, 4, 5, 6, 7, 8, 9]\n",
      "[1, 2, 4, 5, 7, 8, 9]\n",
      "[1, 2, 4, 5, 7, 8]\n",
      "[1, 2, 5, 7, 8]\n",
      "[1, 2, 5, 7]\n",
      "[1, 2, 7]\n",
      "[1, 7]\n",
      "[1]\n",
      "[]\n"
     ]
    }
   ],
   "source": [
    "# Alternative\n",
    "liste = [1 ,2 ,3 ,4 ,5 ,6 ,7 ,8 ,9]\n",
    "indeks = 0\n",
    "uzunluk = len(liste)\n",
    "while len(liste) > 0 :\n",
    "  indeks = (2 + indeks) % uzunluk\n",
    "  liste.pop(indeks)\n",
    "  print(liste)\n",
    "  uzunluk -= 1"
   ]
  }
 ],
 "metadata": {
  "colab": {
   "collapsed_sections": [],
   "name": "Exercise - 24",
   "provenance": []
  },
  "kernelspec": {
   "display_name": "Python 3 (ipykernel)",
   "language": "python",
   "name": "python3"
  },
  "language_info": {
   "codemirror_mode": {
    "name": "ipython",
    "version": 3
   },
   "file_extension": ".py",
   "mimetype": "text/x-python",
   "name": "python",
   "nbconvert_exporter": "python",
   "pygments_lexer": "ipython3",
   "version": "3.10.1"
  }
 },
 "nbformat": 4,
 "nbformat_minor": 1
}
