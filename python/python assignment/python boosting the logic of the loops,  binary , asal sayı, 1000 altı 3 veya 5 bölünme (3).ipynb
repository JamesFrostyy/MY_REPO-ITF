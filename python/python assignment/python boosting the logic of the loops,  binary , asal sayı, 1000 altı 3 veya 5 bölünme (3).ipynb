{
 "cells": [
  {
   "cell_type": "code",
   "execution_count": null,
   "id": "d1b8df80",
   "metadata": {},
   "outputs": [],
   "source": [
    "sum_num = 0\n",
    "for i in range(1, 75):\n",
    "    sum_num += i\n",
    "    print(sum_num, end = \"*\")"
   ]
  },
  {
   "cell_type": "code",
   "execution_count": null,
   "id": "95ba1c0b",
   "metadata": {},
   "outputs": [],
   "source": [
    "sum_num = 0\n",
    "for i in range(1, 75):\n",
    "    sum_num += i\n",
    "print(sum_num)"
   ]
  },
  {
   "cell_type": "code",
   "execution_count": 3,
   "id": "4f6bb4f3",
   "metadata": {},
   "outputs": [
    {
     "name": "stdout",
     "output_type": "stream",
     "text": [
      "enter a name: asuman\n",
      "Hello Asuman your password: a@2022 \n"
     ]
    }
   ],
   "source": [
    "name = \"asuman\"\n",
    "x = input(\"enter a name: \")\n",
    "if x == name:\n",
    "    print(\"Hello Asuman your password: a@2022 \")\n",
    "else:\n",
    "    print(\"see you later :) \")"
   ]
  },
  {
   "cell_type": "markdown",
   "id": "cb4c0149",
   "metadata": {},
   "source": [
    "Kullanıcıdan ilk adı alır ve sizinkiyle karşılaştırır,\n",
    "Ardından, kullanıcının girdiği ad sizinkiyle aynıysa, 'Merhaba Yusuf! Şifre: W@12' gibi bir çıktı alın,\n",
    "Kullanıcının girdiği ad sizinkiyle aynı değilse, 'Merhaba, Amina! Sonra görüşürüz' gibi bir çıktı alın.       "
   ]
  },
  {
   "cell_type": "code",
   "execution_count": 4,
   "id": "246fb1aa",
   "metadata": {},
   "outputs": [
    {
     "name": "stdout",
     "output_type": "stream",
     "text": [
      "75 yaş üzeri ve sigara bağımlısımısınız(E/H) :E\n",
      "Kronik rahatsızlığınız var mı? (E/H): E\n",
      "Bağışıklığınız kuvvetli mi? (E/H): E\n",
      "Risk grubundasınız!\n"
     ]
    }
   ],
   "source": [
    "age = input(\"75 yaş üzeri ve sigara bağımlısımısınız(E/H) :\")\n",
    "chronic = input(\"Kronik rahatsızlığınız var mı? (E/H): \")\n",
    "immune = input(\"Bağışıklığınız kuvvetli mi? (E/H): \")\n",
    "\n",
    "if age.startswith(\"E\") or immune.startswith(\"H\") or chronic.startswith(\"E\") :\n",
    "  print(\"Risk grubundasınız!\")\n",
    "else :\n",
    "  print(\"Risk grubunda değilsiniz!\")"
   ]
  },
  {
   "cell_type": "code",
   "execution_count": 5,
   "id": "dcd535b9",
   "metadata": {},
   "outputs": [
    {
     "name": "stdout",
     "output_type": "stream",
     "text": [
      "Enter a positive integer number;371\n",
      "371 is an Armstrong Number.\n"
     ]
    }
   ],
   "source": [
    "while True:      #while döngüleri condition ile kontrol edilen döngülerdir. UNUTMA.\n",
    "# While döngüleri True ve False yani boolean lara ihtiyaça duyar. conditionlar ile çalışır.\n",
    "  number = input ('Enter a positive integer number;') #hatalı sayı yazdırmak için while döngüsü yazdık.\n",
    "  digits = len (number) #mesela burada 3 basamaklı bir number girildi, biz 0,1,2 üzerinde iterasyon yapacağız.\n",
    "  summ = 0   #üsler toplamı. summ == number olmalı o zaman armstrong number olur.\n",
    "  if not number.isdigit() :   #sayılar dışında bir karakter olup olmadığına bakar. possitive integer olursa True verir.\n",
    "  #burada yanlış sayıyı girince döngü devam etsin yani while çalışsın diye not isdigit dedim, not demesek doğru girice de döngü çalışırdı.\n",
    "    print(number, \"is invalid entry. Please enter valid input.\" )\n",
    "  elif int(number) >= 0 :  #else de olur. Burası poz.integer girince çalışacak bir aşağı inecek.\n",
    "    for i in range(digits) : #for döngüsünü kullanarak girilen sayının basamakları üzerine iterasyon yapacağız. digitsler yani indexler üzerinde iterasyon yapmamız lazım.\n",
    "      summ = summ + int(number[i]) ** digits #buradaki i = 0 ile number ın 1.basamağı, 1 ise number in 2.basamağı gibi\n",
    "    if summ == int(number) :\n",
    "      print(number, \"is an Armstrong Number.\")\n",
    "      break\n",
    "    else:\n",
    "      print(number, 'is not an Armstrong Number.')\n",
    "      break"
   ]
  },
  {
   "cell_type": "code",
   "execution_count": null,
   "id": "79ec4553",
   "metadata": {},
   "outputs": [],
   "source": [
    "number = input(\"Enter a number : \")\n",
    "\n",
    "while not number.isdigit():\n",
    "    print(\"It is an invalid entry. Don't use non-numeric, float, or negative values!\")\n",
    "    number = input(\"Enter a number : \")\n",
    "    \n",
    "list_number = list(number)\n",
    "arm_num = 0    \n",
    "for i in list_number:\n",
    "    arm_num += pow(int(i), len(number))\n",
    "if arm_num == int(number):\n",
    "    print(f\"{number} is an Armstrong number\")\n",
    "else:\n",
    "    print(f\"{number} is not an Armstrong number\")"
   ]
  },
  {
   "cell_type": "code",
   "execution_count": 6,
   "id": "3e5d5cc6",
   "metadata": {},
   "outputs": [
    {
     "name": "stdout",
     "output_type": "stream",
     "text": [
      "Enter a number: 371\n",
      "371 is an Armstrong number\n"
     ]
    }
   ],
   "source": [
    "# Python program to check if the number is an Armstrong number or not\n",
    "\n",
    "# take input from the user\n",
    "num = int(input(\"Enter a number: \"))\n",
    "\n",
    "# initialize sum\n",
    "sum = 0\n",
    "\n",
    "# find the sum of the cube of each digit\n",
    "temp = num\n",
    "while temp > 0:\n",
    "   digit = temp % 10\n",
    "   sum += digit ** 3\n",
    "   temp //= 10\n",
    "\n",
    "# display the result\n",
    "if num == sum:\n",
    "   print(num,\"is an Armstrong number\")\n",
    "else:\n",
    "   print(num,\"is not an Armstrong number\")"
   ]
  },
  {
   "cell_type": "code",
   "execution_count": 13,
   "id": "4f25a408",
   "metadata": {},
   "outputs": [
    {
     "name": "stdout",
     "output_type": "stream",
     "text": [
      "Please enter a number : 371\n",
      "371 is an Armstrong number\n"
     ]
    }
   ],
   "source": [
    "num=input(\"Please enter a number : \")\n",
    "if num.isnumeric():\n",
    "    sum=0\n",
    "    for i in list(num):\n",
    "        sum+=int(i)**len(num)\n",
    "    if sum==int(num):\n",
    "            print(\"{} is an Armstrong number\".format(num))\n",
    "    else:\n",
    "            print(\"{} is not an Armstrong number\".format(num))\n",
    "else:\n",
    "    print(\"It is an invalid entry. Don't use non-numeric, float, or negative values!\")"
   ]
  },
  {
   "cell_type": "code",
   "execution_count": null,
   "id": "0f3518ef",
   "metadata": {},
   "outputs": [],
   "source": [
    "a = input(\"bir kelime girin:\")\n",
    "for i in a:\n",
    "    print(i, end = \"-\")\n",
    "print('\\b')"
   ]
  },
  {
   "cell_type": "code",
   "execution_count": null,
   "id": "6cb0bd7d",
   "metadata": {},
   "outputs": [],
   "source": [
    "evens = [i ** 2 for i in range (10) if i ** 2 % 2 == 0]\n",
    "print(evens)"
   ]
  },
  {
   "cell_type": "markdown",
   "id": "127cf7e3",
   "metadata": {},
   "source": [
    "***Kullanıcıdan bir sayı alan ve asal sayı olup olmadığını kontrol etmek için sonucu yazdıran bir program yazın."
   ]
  },
  {
   "cell_type": "code",
   "execution_count": 14,
   "id": "e1a9ea64",
   "metadata": {},
   "outputs": [
    {
     "name": "stdout",
     "output_type": "stream",
     "text": [
      "Enter a number to check if it is a prime number : 371\n",
      "371 is not a prime number\n"
     ]
    }
   ],
   "source": [
    "n = int(input('Enter a number to check if it is a prime number : '))\n",
    "count=0\n",
    "for i in range(1, n+1):\n",
    "    if n % i == 0:\n",
    "        count += 1\n",
    "    else:\n",
    "        count += 0\n",
    "\n",
    "if count < 3:\n",
    "    print('{} is a prime number '.format(n))\n",
    "else:\n",
    "    print('{} is not a prime number'.format(n))\n"
   ]
  },
  {
   "cell_type": "code",
   "execution_count": 15,
   "id": "2bad8445",
   "metadata": {},
   "outputs": [
    {
     "ename": "IndentationError",
     "evalue": "expected an indented block after 'while' statement on line 2 (4294734798.py, line 3)",
     "output_type": "error",
     "traceback": [
      "\u001b[1;36m  Input \u001b[1;32mIn [15]\u001b[1;36m\u001b[0m\n\u001b[1;33m    count = 0\u001b[0m\n\u001b[1;37m    ^\u001b[0m\n\u001b[1;31mIndentationError\u001b[0m\u001b[1;31m:\u001b[0m expected an indented block after 'while' statement on line 2\n"
     ]
    }
   ],
   "source": [
    "sayi=int(input(\"Sayıyı Girin : \"))\n",
    "while sayi>1:\n",
    "    count = 0\n",
    "for i in range(2, sayi+1):\n",
    "    if (sayi % i) == 0:\n",
    "        count += 1\n",
    "    else:\n",
    "        count +=0\n",
    "if count < 3:\n",
    "    print(\"{} is a prime number\". format(sayi))\n",
    "else:\n",
    "    print(\"{} is not a prime number\".format(sayi))"
   ]
  },
  {
   "cell_type": "markdown",
   "id": "199b56fc",
   "metadata": {},
   "source": [
    "***Şimdi biraz daha karmaşık egzersiz yapalım. Bu sefer 1 - 100 arasındaki asal sayıları yazdırmaya çalışacağız. Asal sayıları liste şeklinde göstereceğiz. Bu yüzden onları bir liste halinde toplayacağız."
   ]
  },
  {
   "cell_type": "code",
   "execution_count": 18,
   "id": "6efa262d",
   "metadata": {},
   "outputs": [
    {
     "name": "stdout",
     "output_type": "stream",
     "text": [
      "[2, 3, 5, 7, 11, 13, 17, 19, 23, 29, 31, 37, 41, 43, 47, 53, 59, 61, 67, 71, 73, 79, 83, 89, 97]\n"
     ]
    }
   ],
   "source": [
    "prime=[] # created an empty list to collect prime numbers in it\n",
    "for num in range(2, 101):\n",
    "    status = True\n",
    "    for i in range(2, num):\n",
    "        if num % i == 0: # check if the only factors are 1 and itself\n",
    "            status = False\n",
    "    if status:\n",
    "        prime.append(num) # collect prime numbers in the list\n",
    "print(prime)"
   ]
  },
  {
   "cell_type": "code",
   "execution_count": 20,
   "id": "40d4135a",
   "metadata": {},
   "outputs": [
    {
     "name": "stdout",
     "output_type": "stream",
     "text": [
      "Sayı 1: 2\n",
      "Sayı 2: 97\n",
      "2 ile 97 arasındaki asal sayılar:\n",
      "2 3 5 7 11 13 17 19 23 29 31 37 41 43 47 53 59 61 67 71 73 79 83 89 97 "
     ]
    }
   ],
   "source": [
    "sayi1 = int(input(\"Sayı 1: \"))\n",
    "sayi2 = int(input(\"Sayı 2: \"))\n",
    " \n",
    "print(sayi1,\"ile\",sayi2,\"arasındaki asal sayılar:\")\n",
    " \n",
    "for sayi in range(sayi1,sayi2 + 1):\n",
    "   if sayi > 1:\n",
    "       for i in range(2,sayi):\n",
    "           if (sayi % i) == 0:\n",
    "               break\n",
    "       else:\n",
    "           print(sayi, end = \" \")\n",
    " "
   ]
  },
  {
   "cell_type": "markdown",
   "id": "9bc78621",
   "metadata": {},
   "source": [
    "S: Python'da kontrol akışı deyimleri nelerdir?\n",
    "A: Kontrol akışı ifadeleri, bir programın yürütme akışını değiştirmek veya değiştirmek için kullanılır. Temel olarak, Koşullu İfadeler (if ifadeleri, boolean mantıksal ifadeler) ve Döngüler kullanarak Python kod satırlarının akışını kontrol edebiliriz.\n",
    "\n",
    "Genel olarak, bir programın yürütme akışı yukarıdan aşağıya doğru çalışır, ancak Python'daki bazı ifadeler (kontrol akışı ifadeleri) bu yukarıdan aşağıya yürütme sırasını bozabilir. Kontrol akışı ifadeleri karar verme, döngü oluşturma ve daha fazlasını içerir."
   ]
  },
  {
   "cell_type": "code",
   "execution_count": null,
   "id": "769ed9d9",
   "metadata": {},
   "outputs": [],
   "source": []
  },
  {
   "cell_type": "markdown",
   "id": "316eff64",
   "metadata": {},
   "source": [
    "Kullanıcıdan binary bir numara girmesini isteyelim ve onu decimal sayıya convert edelim örn: kullanıcı 1101001 sayısını girdi çıktı : 105 olmalı"
   ]
  },
  {
   "cell_type": "code",
   "execution_count": null,
   "id": "2620ccfd",
   "metadata": {},
   "outputs": [],
   "source": [
    "bin_sayı = input('Enter a binary number: ')\n",
    "a = 0 \n",
    "sum = 0\n",
    "for i in bin_sayı[::-1]:\n",
    "    b = int(i) * (pow(2, a))\n",
    "    sum += b\n",
    "    a += 1\n",
    "print(sum)"
   ]
  },
  {
   "cell_type": "code",
   "execution_count": null,
   "id": "a0cf1c08",
   "metadata": {},
   "outputs": [],
   "source": [
    "binary = list(input(\"please input a binary number to find out the actual number :\"))\n",
    "x = len(binary)\n",
    "y = 0\n",
    "while x:\n",
    "  for i in binary:\n",
    "    y += int(i) * 2**(x-1)\n",
    "    x -= 1\n",
    "  print(y)"
   ]
  },
  {
   "cell_type": "code",
   "execution_count": null,
   "id": "c2fb9eb2",
   "metadata": {},
   "outputs": [],
   "source": [
    "bin_number = input(\"entered a binary number: \")\n",
    "bin_number = list(bin_number)\n",
    "i = 1\n",
    "y = 0\n",
    "dec_number = 0\n",
    "while i <= len(bin_number):\n",
    "    dec_number = dec_number + (int(bin_number[-i]) * 2**y)\n",
    "    i+=1\n",
    "    y+=1\n",
    "print(dec_number)"
   ]
  },
  {
   "cell_type": "code",
   "execution_count": null,
   "id": "c51f9c7d",
   "metadata": {},
   "outputs": [],
   "source": [
    "student_number = input(\"please enter your number : \")\n",
    "\n",
    "if student_number == \"\":\n",
    "   print(\"it is need at least one number\")\n",
    "elif student_number.isdigit() != True:\n",
    "  print(\"it is needed to enter only digit number\")\n",
    "while student_number != \"\" and student_number.isdigit() :\n",
    "    if int(student_number) %2 == 0:\n",
    "     print(\"your travel is Saturday\")\n",
    "    else:\n",
    "     print(\"Your travel is Sunday\")\n",
    "    break"
   ]
  },
  {
   "cell_type": "code",
   "execution_count": null,
   "id": "4b6cdbc7",
   "metadata": {},
   "outputs": [],
   "source": [
    "[20, 30, 50] + [\"clarus\", \"way\"] #iki listeyi concatenate edip birbirine ekleyebiliriz.\n",
    "# iki listenin elemanları birbirine eklenip tek bir liste oluşturuldu."
   ]
  },
  {
   "cell_type": "markdown",
   "id": "c616b243",
   "metadata": {},
   "source": [
    "Kullanıcı tarafından girilen bir sayının basamaklarının sayı adlarını görüntüleyen bir program yazın, örneğin sayı 231 ise çıktısı İki Üç Bir olmalıdır.\n"
   ]
  },
  {
   "cell_type": "code",
   "execution_count": null,
   "id": "0b232f0a",
   "metadata": {},
   "outputs": [],
   "source": [
    "num1 = input(\"Enter any number : \")\n",
    "L1 = list(num1)\n",
    "L = len(L1)\n",
    "i = 0 \n",
    "n = {0 : \"Zero\", 1 : \"One\", 2 : \"Two\", 3 : \"Three\", 4 : \"Four\", 5 : \"Five\", 6 : \"Six\", 7 : \"Seven\", 8 : \"Eight\", 9 : \"Nine\"}\n",
    "while (i < L):\n",
    "    print(n[int(L1[i])], end = \" \")\n",
    "    i = i + 1\n"
   ]
  },
  {
   "cell_type": "code",
   "execution_count": null,
   "id": "7ef8c61b",
   "metadata": {},
   "outputs": [],
   "source": [
    "numbers= {\"0\":\"sıfır\",\"1\":\"bir\", \"2\":\"iki\", \"3\":\"üç\",\"4\":\"dört\",\"5\":\"beş\",\"6\":\"altı\",\"7\":\"yedi\",\"8\":\"sekiz\",\"9\":\"dokuz\" }\n",
    "x = input(\"write a number: \")\n",
    "\n",
    "for i in x:\n",
    "  print(numbers[i], end=\" \")"
   ]
  },
  {
   "cell_type": "code",
   "execution_count": null,
   "id": "767a9bf3",
   "metadata": {},
   "outputs": [],
   "source": [
    "number = input(\"enter a number\")\n",
    "word= \"\"\n",
    "for x in number:\n",
    "  if x == \"1\":\n",
    "    word+=\"One \"\n",
    "  if x == \"2\":\n",
    "    word+=\"Two \"\n",
    "  if x == \"3\":\n",
    "    word+=\"Three \"\n",
    "  if x == \"4\":\n",
    "    word+=\"Four \"\n",
    "  if x == \"5\":\n",
    "    word+=\"Five \"\n",
    "  if x == \"6\":\n",
    "    word+=\"Six \"\n",
    "  if x == \"7\":\n",
    "    word+=\"Seven \"\n",
    "  if x == \"8\":\n",
    "    word+=\"Eight \"\n",
    "  if x == \"9\":\n",
    "    word+=\"Nine \"\n",
    "  if x == \"0\":\n",
    "    word+=\"Zero \"\n",
    "print(word)"
   ]
  },
  {
   "cell_type": "code",
   "execution_count": null,
   "id": "237a39a4",
   "metadata": {},
   "outputs": [],
   "source": [
    "num=input(\"Please enter a number : \")\n",
    "numlist=[\"zero\", \"one\", \"two\", \"three\", \"four\", \"five\", \"six\", \"seven\", \"eight\", \"nine\"]\n",
    "new=[]\n",
    "for i in list(num):\n",
    "  remain=int(num) % 10\n",
    "  num = int(num) // 10\n",
    "  new.append(numlist[remain])\n",
    "a=new[::-1]\n",
    "print(\" \".join(a))"
   ]
  },
  {
   "cell_type": "markdown",
   "id": "3937494c",
   "metadata": {},
   "source": [
    "sayıyı 10 a %  modulus yaptığımda  yazdığım sayı ne olursa olsun son basamağını vericek ben onu remaine atadım mesela 123  te 3 remain oldu sora sayıyı floor divison ile 10 böldüğümde son basamak haricindeki sayılarım artık num'ım oldu for döngümde inputun boyu kadar devam edecek ya bu sefer sıra 12 'ye geldi 12%10 yaptığımda sondaki sayı olan 2 yi getirecek busefer 2 yi remaine atadım sayıyı tekrar 10 floor division yaptığımda geriye birdek 1 kaldı basamak."
   ]
  },
  {
   "cell_type": "code",
   "execution_count": null,
   "id": "8bfcb2b1",
   "metadata": {},
   "outputs": [],
   "source": [
    "num=input(\"Please enter a number : \")\n",
    "numlist=[\"zero\", \"one\", \"two\", \"three\", \"four\", \"five\", \"six\", \"seven\", \"eight\", \"nine\"]\n",
    "new=[]\n",
    "for i in list(num):\n",
    "  remain=int(num) % 10\n",
    "  num = num[:-1]\n",
    "  new.append(numlist[remain])\n",
    "a=new[::-1]\n",
    "print(\" \".join(a))"
   ]
  },
  {
   "cell_type": "code",
   "execution_count": null,
   "id": "cc62caf6",
   "metadata": {},
   "outputs": [],
   "source": [
    "dict_numbers = { 1 : 'bir', 2 : 'iki', 3 : 'üç', 4 : 'dört', 5 : 'beş',\n",
    "                6 : 'altı', 7 : 'yedi', 8 :'sekiz', 9 : 'dokuz', 0 : 'sıfır'}\n",
    "\n",
    "num = input(\"Üç basamaklı bir sayı giriniz : \")\n",
    "list_num = list(num)\n",
    "\n",
    "temp = []\n",
    "\n",
    "for i in list_num:\n",
    "    for ii in dict_numbers.keys():\n",
    "        if int(i) == ii :\n",
    "            temp.append(i)\n",
    "            \n",
    "print(dict_numbers[int(temp[0])], dict_numbers[int(temp[1])], dict_numbers[int(temp[2])])"
   ]
  },
  {
   "cell_type": "code",
   "execution_count": 21,
   "id": "ac30b564",
   "metadata": {},
   "outputs": [
    {
     "name": "stdout",
     "output_type": "stream",
     "text": [
      "Type a whole number:123\n",
      "One Two Three "
     ]
    }
   ],
   "source": [
    "#input validation\n",
    "while True:\n",
    "  num=input(\"Type a whole number:\")\n",
    "  if not num.isdigit():\n",
    "    print(\"Invalid input. Try again.\\n\")\n",
    "    continue\n",
    "  else:\n",
    "    break\n",
    "\n",
    "#building key,values\n",
    "digits_text=[\"Zero\",\"One\",\"Two\",\"Three\",\"Four\",\"Five\",\"Six\",\"Seven\",\"Eight\",\"Nine\"]\n",
    "digits_char=[\"0\",\"1\",\"2\",\"3\",\"4\",\"5\",\"6\",\"7\",\"8\",\"9\"]\n",
    "digits_dict=dict(zip(digits_char,digits_text))\n",
    "#final output\n",
    "for i in num:\n",
    "  print(digits_dict[i],\"\",end=\"\")"
   ]
  },
  {
   "cell_type": "code",
   "execution_count": null,
   "id": "0c712849",
   "metadata": {},
   "outputs": [],
   "source": [
    "sayı = input('please input a number: ')\n",
    "dict = {0:'sıfır', 1:'bir', 2:'iki', 3:'üç',\n",
    "        4:'dört', 5:'beş', 6:'altı', 7:'yedi', \n",
    "        8:'sekiz', 9:'dokuz',}\n",
    "for i in sayı :\n",
    "  i = dict[int(i)] \n",
    "  print(i, end=' ')"
   ]
  },
  {
   "cell_type": "markdown",
   "id": "7ec73186",
   "metadata": {},
   "source": [
    "soru  The prime factors of 13195 are 5, 7, 13 and 29.\n",
    "What is the largest prime factor of the number 600851475143 "
   ]
  },
  {
   "cell_type": "code",
   "execution_count": null,
   "id": "c96530c6",
   "metadata": {},
   "outputs": [],
   "source": [
    "n = 600851475143\n",
    "i = 1\n",
    "while i < n:\n",
    "    if n % i == 0:\n",
    "        n = n/i\n",
    "    i += 1\n",
    "print(n)"
   ]
  },
  {
   "cell_type": "code",
   "execution_count": null,
   "id": "94fc8d29",
   "metadata": {},
   "outputs": [],
   "source": [
    "num = int(input(\"bir sayı giriniz:\"))\n",
    "inputnum = num\n",
    "prime = []\n",
    "i = 2\n",
    "while (num>1):\n",
    "    if (num % i == 0):\n",
    "        prime.append(i)\n",
    "        num = num / i\n",
    "    else:\n",
    "        i += 1\n",
    "print(f\"girilen sayı:{inputnum}\", max(prime))"
   ]
  },
  {
   "cell_type": "markdown",
   "id": "8233aef0",
   "metadata": {},
   "source": [
    "If we list all the natural numbers below 10 that are multiples of 3 or 5, we get 3, 5, 6 and 9. The sum of these multiples is 23.\n",
    "Find the sum of all the multiples of 3 or 5 below 1000.\n",
    "10'un altındaki 3 veya 5'in katı olan tüm doğal sayıları listelersek 3, 5, 6 ve 9 elde ederiz. Bu katların toplamı 23'tür. 1000'in altındaki 3 veya 5'in tüm katlarının toplamını bulun."
   ]
  },
  {
   "cell_type": "code",
   "execution_count": null,
   "id": "72e2a236",
   "metadata": {},
   "outputs": [],
   "source": [
    "total = 0\n",
    "num = int(input(\"bir sayı giriniz: \"))\n",
    "for i in range(3, num):\n",
    "    if i %3 == 0 or i % 5 == 0:\n",
    "        total += i\n",
    "print(total)"
   ]
  },
  {
   "cell_type": "code",
   "execution_count": null,
   "id": "4d8c462d",
   "metadata": {},
   "outputs": [],
   "source": [
    "total = 0\n",
    "num = int(input(\"bir sayı giriniz: \"))\n",
    "for i in range(3, num):\n",
    "    if i %3 == 0:\n",
    "        total += i\n",
    "    elif i % 5 == 0:\n",
    "        total += i\n",
    "print(total)"
   ]
  }
 ],
 "metadata": {
  "kernelspec": {
   "display_name": "Python 3 (ipykernel)",
   "language": "python",
   "name": "python3"
  },
  "language_info": {
   "codemirror_mode": {
    "name": "ipython",
    "version": 3
   },
   "file_extension": ".py",
   "mimetype": "text/x-python",
   "name": "python",
   "nbconvert_exporter": "python",
   "pygments_lexer": "ipython3",
   "version": "3.10.4"
  }
 },
 "nbformat": 4,
 "nbformat_minor": 5
}
