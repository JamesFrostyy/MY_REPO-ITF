{
 "cells": [
  {
   "cell_type": "markdown",
   "id": "015604b7",
   "metadata": {},
   "source": [
    "<head> öğe, sayfayla ilgili meta verileri içerir.HTML meta verileri, HTML belgesi hakkındaki verilerdir ve meta veriler görüntülenmez. Meta veriler genellikle belge başlığını, karakter setini, stilleri, komut dosyalarını ve diğer meta bilgileri tanımlar.\n",
    "    <body> Gövde öğesi, ana tarayıcı penceresinde neyin görünmesi gerektiğini belirtir."
   ]
  },
  {
   "cell_type": "code",
   "execution_count": null,
   "id": "ffe58865",
   "metadata": {},
   "outputs": [],
   "source": [
    "<!DOCTYPE html>\n",
    "<html>\n",
    "    <head>\n",
    "        <title>Page Title</title>\n",
    "    </head>\n",
    "    <body>\n",
    "        <h1>This is a Heading</h1>\n",
    "        <p>This is a paragraph.</p>\n",
    "</body>\n",
    "</html>\n",
    "\n",
    "#çalıştırılındığındaki görüntüsü alt satırda"
   ]
  },
  {
   "cell_type": "markdown",
   "id": "0198bab6",
   "metadata": {},
   "source": [
    "<!DOCTYPE html>\n",
    "<html>\n",
    "    <head>\n",
    "        <title>Page Title</title>\n",
    "    </head>\n",
    "    <body>\n",
    "        <h1>This is a Heading</h1>\n",
    "        <p>This is a paragraph.</p>\n",
    "</body>\n",
    "</html>"
   ]
  },
  {
   "cell_type": "markdown",
   "id": "44cac524",
   "metadata": {},
   "source": [
    "!DOCTYPE html bildirimi, bu belgeyi HTML5 olarak tanımlar.\n",
    "\n",
    "Html öğesi, bir HTML sayfasının kök öğesidir.\n",
    "\n",
    "Head öğesi, belgeyle ilgili meta bilgileri içerir.\n",
    "\n",
    "Title öğesi, belge için bir başlık belirtir.\n",
    "\n",
    "body öğesi, görünen sayfa içeriğini içerir.\n",
    "\n",
    "h1 öğesi büyük bir başlığı tanımlar.\n",
    "\n",
    "p öğesi bir paragraf tanımlar."
   ]
  },
  {
   "cell_type": "markdown",
   "id": "164ba3f5",
   "metadata": {},
   "source": [
    "The <!DOCTYPE html> declaration defines this document to be HTML5.\n",
    "\n",
    "The <html> element is the root element of an HTML page.\n",
    "\n",
    "The <head> element contains meta information about the document.\n",
    "\n",
    "The <title> element specifies a title for the document.\n",
    "\n",
    "The <body> element contains the visible page content.\n",
    "\n",
    "The <h1> element defines a large heading. #başlıklar önem sırasına göre büyükten küçüğe doğru sıralanır.\n",
    "\n",
    "The <p> element defines a paragraph."
   ]
  },
  {
   "cell_type": "code",
   "execution_count": null,
   "id": "713d29e6",
   "metadata": {},
   "outputs": [],
   "source": [
    "<!DOCTYPE html>\n",
    "<html>\n",
    "    <body>\n",
    "        <h1>The most important heading</h1>\n",
    "        <h2>This is heading 2</h2>\n",
    "        <h3>This is heading 3</h3>\n",
    "        <h4>This is heading 4</h4>\n",
    "        <h5>This is heading 5</h5>\n",
    "        <h6>The least important heading</h6>\n",
    "    </body>\n",
    "</html>\n",
    "\n",
    "#bunun çalıştırılmış hali alt satırda. h1 ler önem sırasına göre 1 den başlar 6 ya kadar gider. "
   ]
  },
  {
   "cell_type": "markdown",
   "id": "b07a5073",
   "metadata": {},
   "source": [
    "<!DOCTYPE html>\n",
    "<html>\n",
    "    <body>\n",
    "        <h1>The most important heading</h1>\n",
    "        <h2>This is heading 2</h2>\n",
    "        <h3>This is heading 3</h3>\n",
    "        <h4>This is heading 4</h4>\n",
    "        <h5>This is heading 5</h5>\n",
    "        <h6>The least important heading</h6>\n",
    "    </body>\n",
    "</html>"
   ]
  },
  {
   "cell_type": "markdown",
   "id": "4846a39d",
   "metadata": {},
   "source": [
    "command satırı\n",
    "<!-- this is a comment -->"
   ]
  },
  {
   "cell_type": "markdown",
   "id": "f1828d3d",
   "metadata": {},
   "source": [
    "<ol> elemanı, sıralı bir sıra ile sıralı listeler oluşturmak için kullanılır.\n",
    "\n",
    "Her liste öğesi <li> etiketi ile tanımlanır\n",
    "    \n",
    "The <ol> element is used to create ordered lists with a sequential order.\n",
    "\n",
    "Each list item is defined by the <li> tag.     "
   ]
  },
  {
   "cell_type": "code",
   "execution_count": null,
   "id": "7cdf3610",
   "metadata": {},
   "outputs": [],
   "source": [
    "<!DOCTYPE html>\n",
    "<html>\n",
    "    <body>\n",
    "        <h1>Ordered HTML List</h1>\n",
    "        <ol>\n",
    "            <li>Chevrolet</li>\n",
    "            <li>Chrysler</li>\n",
    "            <li>Dodge</li>\n",
    "        </ol>  \n",
    "    </body>\n",
    "</html>"
   ]
  },
  {
   "cell_type": "markdown",
   "id": "30bf5249",
   "metadata": {},
   "source": [
    "<!DOCTYPE html>\n",
    "<html>\n",
    "    <body>\n",
    "        <h1>Ordered HTML List</h1>\n",
    "        <ol>\n",
    "            <li>Chevrolet</li>\n",
    "            <li>Chrysler</li>\n",
    "            <li>Dodge</li>\n",
    "        </ol>  \n",
    "    </body>\n",
    "</html>"
   ]
  },
  {
   "cell_type": "code",
   "execution_count": null,
   "id": "d645d956",
   "metadata": {},
   "outputs": [],
   "source": [
    "The <ul>element is used to create unordered lists with no particular order.\n",
    "ul öğesi, belirli bir sıra olmadan sırasız listeler oluşturmak için kullanılır."
   ]
  },
  {
   "cell_type": "code",
   "execution_count": null,
   "id": "75e6ca18",
   "metadata": {},
   "outputs": [],
   "source": [
    "<!DOCTYPE html>\n",
    "<html>\n",
    "    <body>\n",
    "        <h1>Unordered HTML List</h1>\n",
    "        <ul>\n",
    "            <li>Apple</li>\n",
    "            <li>Microsoft</li>\n",
    "            <li>Intel</li>\n",
    "        </ul>  \n",
    "    </body>\n",
    "</html>"
   ]
  },
  {
   "cell_type": "markdown",
   "id": "a372448d",
   "metadata": {},
   "source": [
    "<!DOCTYPE html>\n",
    "<html>\n",
    "    <body>\n",
    "        <h1>Unordered HTML List</h1>\n",
    "        <ul>\n",
    "            <li>Apple</li>\n",
    "            <li>Microsoft</li>\n",
    "            <li>Intel</li>\n",
    "        </ul>  \n",
    "    </body>\n",
    "</html>"
   ]
  },
  {
   "cell_type": "code",
   "execution_count": null,
   "id": "61e610b8",
   "metadata": {},
   "outputs": [],
   "source": [
    "The < img > Tag\n",
    "We can improve the design of a web page by adding images.\n",
    "The <img> tag is used to define an image.\n",
    "The <img> tag is empty. It means that it does not have a closing tag.\n",
    "The src attribute allows us to specify the web address (URL) of the image and it is mandatory.\n",
    "\n",
    "img etiketi\n",
    "Bir web sayfasının tasarımını görseller ekleyerek iyileştirebiliriz.\n",
    "İmg etiketi, bir resmi tanımlamak için kullanılır.\n",
    "img etiketi boş. Bu, bir kapanış etiketi olmadığı anlamına gelir.\n",
    "src niteliği, resmin web adresini (URL) belirtmemize izin verir ve zorunludur."
   ]
  },
  {
   "cell_type": "code",
   "execution_count": 4,
   "id": "30208fc4",
   "metadata": {},
   "outputs": [
    {
     "ename": "SyntaxError",
     "evalue": "invalid syntax (1676076920.py, line 1)",
     "output_type": "error",
     "traceback": [
      "\u001b[1;36m  Input \u001b[1;32mIn [4]\u001b[1;36m\u001b[0m\n\u001b[1;33m    <!DOCTYPE html>\u001b[0m\n\u001b[1;37m    ^\u001b[0m\n\u001b[1;31mSyntaxError\u001b[0m\u001b[1;31m:\u001b[0m invalid syntax\n"
     ]
    }
   ],
   "source": [
    "<!DOCTYPE html>\n",
    "<html>\n",
    "   <body>\n",
    "      <h1>HTML Image</h1>\n",
    "      <img src=\"https://lms.clarusway.com/theme/image.php/boost/theme_boost/1581703952/Clarusway-LOGOTYPE\">\n",
    "   </body>\n",
    "</html>\n",
    "#çalıştırılmış hali"
   ]
  },
  {
   "cell_type": "markdown",
   "id": "191a778d",
   "metadata": {},
   "source": [
    "<!DOCTYPE html>\n",
    "<html>\n",
    "   <body>\n",
    "      <h1>HTML Image</h1>\n",
    "      <img src=\"https://lms.clarusway.com/theme/image.php/boost/theme_boost/1581703952/Clarusway-LOGOTYPE\">\n",
    "   </body>\n",
    "</html>"
   ]
  },
  {
   "cell_type": "markdown",
   "id": "1b1fcaf6",
   "metadata": {},
   "source": [
    "The alt attribute\n",
    "The alt attribute is used to provide an alternate text for an image in case the image fails to load on a web page or it is not supported by the browser, etc.\n",
    "Moreover, Visually impaired users browse the web via screen reading software. the screen reading software can read the text inside an alt attribute for impaired users.\n",
    "We should add alt attribute to the image tag just like the src attribute.\n",
    "\n",
    "alt özellik\n",
    "Alt özelliği, görüntünün bir web sayfasına yüklenememesi veya tarayıcı tarafından desteklenmemesi vb. durumlarda bir görüntü için alternatif bir metin sağlamak için kullanılır.\n",
    "Ayrıca, görme engelli kullanıcılar, ekran okuma yazılımı aracılığıyla web'de gezinirler. ekran okuma yazılımı, engelli kullanıcılar için bir alt özelliği içindeki metni okuyabilir.\n",
    "Tıpkı src özniteliği gibi alt özniteliğini de resim etiketine eklemeliyiz."
   ]
  },
  {
   "cell_type": "code",
   "execution_count": null,
   "id": "0dafea11",
   "metadata": {},
   "outputs": [],
   "source": [
    "<!DOCTYPE html>\n",
    "<html>\n",
    "   <body>\n",
    "      <h1>HTML Image</h1>\n",
    "      <img src=\"https://clarusway.comt/uploads/2019/11/ClaruswayLOGO_png100_326.png\" alt=\"Clarusway\">\n",
    "   </body>\n",
    "</html>"
   ]
  },
  {
   "cell_type": "markdown",
   "id": "272144a1",
   "metadata": {},
   "source": [
    "<!DOCTYPE html>\n",
    "<html>\n",
    "   <body>\n",
    "      <h1>HTML Image</h1>\n",
    "      <img src=\"https://clarusway.comt/uploads/2019/11/ClaruswayLOGO_png100_326.png\" alt=\"Clarusway\">\n",
    "   </body>\n",
    "</html>"
   ]
  },
  {
   "cell_type": "code",
   "execution_count": null,
   "id": "3d886352",
   "metadata": {},
   "outputs": [],
   "source": [
    "The width and height attributes\n",
    "The width and height attributes are used to resize images.\n",
    "Genişlik ve yükseklik özellikleri\n",
    "Genişlik ve yükseklik öznitelikleri, görüntüleri yeniden boyutlandırmak için kullanılır."
   ]
  },
  {
   "cell_type": "code",
   "execution_count": null,
   "id": "a4d4bafb",
   "metadata": {},
   "outputs": [],
   "source": [
    "<!DOCTYPE html>\n",
    "<html>\n",
    "   <body>\n",
    "      <h1>HTML Image</h1>\n",
    "      <h2>Clarusway</h2>\n",
    "      <img src=\"https://clarusway.com/wp-content/uploads/2019/11/ClaruswayLOGO_png100_326.png\" alt=\"Clarusway\" width=\"100%\" height=\"auto\">\n",
    "   </body>\n",
    "</html>"
   ]
  },
  {
   "cell_type": "markdown",
   "id": "9b72b3bf",
   "metadata": {},
   "source": [
    "<!DOCTYPE html>\n",
    "<html>\n",
    "   <body>\n",
    "      <h1>HTML Image</h1>\n",
    "      <h2>Clarusway</h2>\n",
    "      <img src=\"https://clarusway.com/wp-content/uploads/2019/11/ClaruswayLOGO_png100_326.png\" alt=\"Clarusway\" width=\"25%\" height=\"auto\">\n",
    "   </body>\n",
    "</html>"
   ]
  },
  {
   "cell_type": "code",
   "execution_count": null,
   "id": "73affb73",
   "metadata": {},
   "outputs": [],
   "source": [
    "The border attribute\n",
    "By default, an image has no borders.\n",
    "To add a border around the image, we can use border attribute.\n",
    "\n",
    "sınır özelliği\n",
    "Varsayılan olarak, bir görüntünün sınırları yoktur.\n",
    "Resmin etrafına kenarlık eklemek için border niteliğini kullanabiliriz."
   ]
  },
  {
   "cell_type": "markdown",
   "id": "3f6608c4",
   "metadata": {},
   "source": [
    "<!DOCTYPE html>\n",
    "<html>\n",
    "   <body>\n",
    "      <h1>HTML Image</h1>\n",
    "      <img src=\"https://clarusway.com/wp-content/uploads/2019/12/cw_sonk%C3%BC%C3%A7%C3%BCk2.png\" alt=\"Clarusway\" border=\"2px\">\n",
    "   </body>\n",
    "</html>\n",
    "\n",
    "normalde resmi çerçeve içini alıyor burada çalışmadı. vscode da çalıştı."
   ]
  },
  {
   "cell_type": "markdown",
   "id": "42891ed5",
   "metadata": {},
   "source": [
    "# <!DOCTYPE html>\n",
    "<html>\n",
    "   <body>\n",
    "      <h1>HTML Image</h1>\n",
    "      <img src=\"https://clarusway.com/wp-content/uploads/2019/12/cw_sonk%C3%BC%C3%A7%C3%BCk2.png\" alt=\"Clarusway\" border=\"2px\">\n",
    "   </body>\n",
    "</html>"
   ]
  },
  {
   "cell_type": "markdown",
   "id": "86338b11",
   "metadata": {},
   "source": [
    "The < a > Tag\n",
    "One of the advantages of HTML , is the ability to link to other web pages.\n",
    "The <a> element and including text is used to define a link.\n",
    "    \n",
    "<a> Etiket\n",
    "HTML'nin avantajlarından biri, diğer web sayfalarına bağlantı verme yeteneğidir.\n",
    "a öğesi ve dahil metin, bir bağlantıyı tanımlamak için kullanılır        "
   ]
  },
  {
   "cell_type": "code",
   "execution_count": null,
   "id": "12a90ea0",
   "metadata": {},
   "outputs": [],
   "source": [
    "<!DOCTYPE html>\n",
    "<html>\n",
    "   <body>\n",
    "      <h1>HTML Links</h1>\n",
    "      <a>Welcome clarusway</a>\n",
    "   </body>\n",
    "</html>"
   ]
  },
  {
   "cell_type": "markdown",
   "id": "299df327",
   "metadata": {},
   "source": [
    "<!DOCTYPE html>\n",
    "<html>\n",
    "   <body>\n",
    "      <h1>HTML Links</h1>\n",
    "      <a>Welcome clarusway</a>\n",
    "   </body>\n",
    "</html>"
   ]
  },
  {
   "cell_type": "code",
   "execution_count": null,
   "id": "ecd9f0e1",
   "metadata": {},
   "outputs": [],
   "source": [
    "The href Attribute\n",
    "Technically, we didn't complete the HTML link.\n",
    "We need href attribute inside opening <a> tag to specify which page we want to link.\n",
    "The href attribute defines the address of the link.\n",
    "\n",
    "\n",
    "href Özelliği\n",
    "Teknik olarak, HTML bağlantısını tamamlamadık.\n",
    "Hangi sayfayı bağlamak istediğimizi belirtmek için bir etiket açarken href niteliğine ihtiyacımız var.\n",
    "href özelliği, bağlantının adresini tanımlar."
   ]
  },
  {
   "cell_type": "code",
   "execution_count": null,
   "id": "0de71dff",
   "metadata": {},
   "outputs": [],
   "source": [
    "<!DOCTYPE html>\n",
    "<html>\n",
    "   <body>\n",
    "      <h1>HTML Links</h1>\n",
    "      <a href=\"http://clarusway.com/\">Welcome clarusway</a>\n",
    "   </body>\n",
    "</html>"
   ]
  },
  {
   "cell_type": "markdown",
   "id": "eeca0607",
   "metadata": {},
   "source": [
    "<!DOCTYPE html>\n",
    "<html>\n",
    "   <body>\n",
    "      <h1>HTML Links</h1>\n",
    "      <a href=\"http://clarusway.com/\">Welcome clarusway</a>\n",
    "   </body>\n",
    "</html>"
   ]
  },
  {
   "cell_type": "code",
   "execution_count": null,
   "id": "f8db4631",
   "metadata": {},
   "outputs": [],
   "source": [
    "The target Attribute\n",
    "The target attribute is used to specify how a link should open.\n",
    "In order to open link in a new page, the target attribute requires a value of _blank.\n",
    "We should add the target attribute inside opening <a> tag like href attribute.\n",
    "\n",
    "hedef Özellik\n",
    "Hedef özelliği, bir bağlantının nasıl açılacağını belirtmek için kullanılır.\n",
    "Bağlantıyı yeni bir sayfada açmak için, hedef özniteliği _blank değerine ihtiyaç duyar.\n",
    "Hedef niteliğini href niteliği gibi bir etiket açmanın içine eklemeliyiz."
   ]
  },
  {
   "cell_type": "code",
   "execution_count": null,
   "id": "245c8637",
   "metadata": {},
   "outputs": [],
   "source": [
    "<!DOCTYPE html>\n",
    "<html>\n",
    "   <body>\n",
    "      <h1>HTML Links</h1>\n",
    "      <a href=\"http://clarusway.com/\" target=\"_blank\">Welcome clarusway</a>\n",
    "   </body>\n",
    "</html>"
   ]
  },
  {
   "cell_type": "markdown",
   "id": "8b98215d",
   "metadata": {},
   "source": [
    "<!DOCTYPE html>\n",
    "<html>\n",
    "   <body>\n",
    "      <h1>HTML Links</h1>\n",
    "      <a href=\"http://clarusway.com/\" target=\"_blank\">Welcome clarusway</a>\n",
    "   </body>\n",
    "</html>"
   ]
  },
  {
   "cell_type": "code",
   "execution_count": null,
   "id": "9dd44823",
   "metadata": {},
   "outputs": [],
   "source": [
    "Image as a Link\n",
    "We can use an image as a link in HTML.\n",
    "For this, it is enough to put an <img> tag between opening and closing <a> tag.\n",
    "\n",
    " \n",
    "Bağlantı olarak resim\n",
    "Bir resmi HTML'de bağlantı olarak kullanabiliriz.\n",
    "Bunun için bir tag açma ve kapama arasına img tagı koymak yeterlidir.\n"
   ]
  },
  {
   "cell_type": "code",
   "execution_count": null,
   "id": "814ddd09",
   "metadata": {},
   "outputs": [],
   "source": [
    "<!DOCTYPE html>\n",
    "<html>\n",
    "   <body>\n",
    "      <h1>HTML Links</h1>\n",
    "      <a href=\"http://clarusway.com/\" target=\"_blank\"><img src=\"https://drive.google.com/open?id=1u4ycHASa7sVNknCxXeca2dwD7l9Va0PK\" alt=\"A lighthouse\" width=\"50%\" height=\"auto\"></a>\n",
    "   </body>\n",
    "</html>"
   ]
  },
  {
   "cell_type": "markdown",
   "id": "18446a32",
   "metadata": {},
   "source": [
    "<!DOCTYPE html>\n",
    "<html>\n",
    "   <body>\n",
    "      <h1>HTML Links</h1>\n",
    "      <a href=\"http://clarusway.com/\" target=\"_blank\"><img src=\"https://drive.google.com/open?id=1u4ycHASa7sVNknCxXeca2dwD7l9Va0PK\" alt=\"A lighthouse\" width=\"50%\" height=\"auto\"></a>\n",
    "   </body>\n",
    "</html>"
   ]
  },
  {
   "cell_type": "markdown",
   "id": "223577fd",
   "metadata": {},
   "source": [
    "What do you mean by HTML?\n",
    "HTML is known as Hypertext Markup Language. This Language is used for World Wide Web. It’s a standard Language which is used for creating the web pages."
   ]
  },
  {
   "cell_type": "markdown",
   "id": "00b5fdd6",
   "metadata": {},
   "source": [
    "What are the parts of the HTML page?\n",
    "Basically, there are two parts of the web pages: Content and Tags which are responsible for the format of an HTML page."
   ]
  },
  {
   "cell_type": "markdown",
   "id": "5408a76c",
   "metadata": {},
   "source": [
    "What do you mean by Tags?\n",
    "In HTML page content is placed between the Tags which are basically responsible for the formatting of the page. Tags are written between less than symbol (<) and greater than (>) symbol."
   ]
  },
  {
   "cell_type": "markdown",
   "id": "123293e1",
   "metadata": {},
   "source": [
    "Do all HTML tags are written in a pair?\n",
    "This is the most common HTML Interview Questions asked in an interview. No, there are some HTML tags are present which can be used as single."
   ]
  },
  {
   "cell_type": "markdown",
   "id": "92593666",
   "metadata": {},
   "source": [
    "What are the list types available in HTML?\n",
    "The common list type are available in HTML are given below:\n",
    "– Ordered list\n",
    "– Unordered list\n",
    "– Definition list\n",
    "– Menu list\n",
    "– Directory list"
   ]
  },
  {
   "cell_type": "markdown",
   "id": "f058e8e8",
   "metadata": {},
   "source": [
    "Give the example for putting a comment in the HTML page?\n",
    "<!—Text for comment ->"
   ]
  },
  {
   "cell_type": "markdown",
   "id": "cec1d824",
   "metadata": {},
   "source": [
    "How to apply Hyperlink in an HTML page?\n",
    "We can use <ahref> tag for HTML page. For eg: <ahref> Text </a>"
   ]
  },
  {
   "cell_type": "markdown",
   "id": "4734c8ea",
   "metadata": {},
   "source": [
    "How to change the font colour in the HTML page?\n",
    "<font color=”color”>…</font>"
   ]
  },
  {
   "cell_type": "code",
   "execution_count": null,
   "id": "7197f271",
   "metadata": {},
   "outputs": [],
   "source": [
    "How to write the paragraph in the HTML page?\n",
    "For the paragraph tag <p> text you want to show the paragraph </p> will be used."
   ]
  },
  {
   "cell_type": "code",
   "execution_count": null,
   "id": "36c7c95a",
   "metadata": {},
   "outputs": [],
   "source": [
    "Which browser supports the HTML5?\n",
    "Google Chrome, Apple Safari, Mozilla Firefox, and Opera all support most of the HTML5 features."
   ]
  },
  {
   "cell_type": "code",
   "execution_count": null,
   "id": "3901dd60",
   "metadata": {},
   "outputs": [],
   "source": [
    "What are the different types of heading format supported by HTML?\n",
    "HTML heading is use to highlight the content of HTML document. the heading tags which are used in HTML are <h1> to <h6>."
   ]
  },
  {
   "cell_type": "code",
   "execution_count": null,
   "id": "402e1a2f",
   "metadata": {},
   "outputs": [],
   "source": [
    "How to create a table in HTML?\n",
    "By using <table> tag we create the table in HTML."
   ]
  },
  {
   "cell_type": "code",
   "execution_count": null,
   "id": "c2f74c1f",
   "metadata": {},
   "outputs": [],
   "source": [
    "What are the frames?\n",
    "By using frames we can make the navigation of the site easier."
   ]
  },
  {
   "cell_type": "code",
   "execution_count": null,
   "id": "47fd996c",
   "metadata": {},
   "outputs": [],
   "source": [
    "What is HTML5?\n",
    "HTML5 is the fifth version of HTML language and it is the currently running version of HTML."
   ]
  },
  {
   "cell_type": "code",
   "execution_count": null,
   "id": "63fd1c8a",
   "metadata": {},
   "outputs": [],
   "source": [
    "Explain five new input types provided by HTML5 for shapes?\n",
    "The following important, new data types are provided in HTML5:\n",
    "\n",
    "Date: This allows the user to select a date.\n",
    "\n",
    "Data Time-Local: This input type allows user time and time to select a date and time.\n",
    "\n",
    "Date: This input type allows user time and time to select a time and time.\n",
    "\n",
    "Month: It helps the user choose a month and year"
   ]
  },
  {
   "cell_type": "code",
   "execution_count": null,
   "id": "8d62ccd4",
   "metadata": {},
   "outputs": [],
   "source": [
    "What is Semantic Elements?\n",
    "Semantic elements expresses its meaning for the web browser and developer.\n",
    "\n",
    "Eg: Header , Footer"
   ]
  },
  {
   "cell_type": "code",
   "execution_count": null,
   "id": "fefb432a",
   "metadata": {},
   "outputs": [],
   "source": [
    "A developer has been given an assignment to create a webpage for a shopping application. Which of the below language he need to learn to create the basic structure of the webpage?\n",
    "markup."
   ]
  },
  {
   "cell_type": "code",
   "execution_count": null,
   "id": "309d5fa9",
   "metadata": {},
   "outputs": [],
   "source": [
    "A developer wants to create a HTML page. In which part of the code he can keep the information about the page?\n",
    "head section."
   ]
  },
  {
   "cell_type": "code",
   "execution_count": null,
   "id": "842e37c9",
   "metadata": {},
   "outputs": [],
   "source": [
    "Webpage can be linked to itself by creating _____________.\n",
    "Bookmark"
   ]
  },
  {
   "cell_type": "markdown",
   "id": "222080bd",
   "metadata": {},
   "source": [
    "Basics of Table\n",
    "In order to create a table in HTML, we use <table> tag.\n",
    "The <tr> tag is used to define each table row.\n",
    "The <th> tag defines a table header.\n",
    "A table cell is defined with the <td> tag.\n",
    "Here is an example of a simple table with four rows and two columns.\n",
    "    \n",
    " \n",
    "Tablonun Temelleri\n",
    "HTML'de bir tablo oluşturmak için tablo etiketini kullanırız.\n",
    "tr etiketi, her tablo satırını tanımlamak için kullanılır.\n",
    "th etiketi bir tablo başlığını tanımlar.\n",
    "td etiketi ile bir tablo hücresi tanımlanır.\n",
    "İşte dört satır ve iki sütunlu basit bir tablo örneği.        "
   ]
  },
  {
   "cell_type": "code",
   "execution_count": null,
   "id": "2ea9774c",
   "metadata": {},
   "outputs": [],
   "source": [
    "<!DOCTYPE html>\n",
    "<html>\n",
    "   <body>\n",
    "      <table>\n",
    "         <tr>\n",
    "            <th>Day</th>\n",
    "            <th>Lesson</th>\n",
    "         </tr>\n",
    "         <tr>\n",
    "            <td>Monday</td>\n",
    "            <td>Java</td>\n",
    "         </tr>\n",
    "         <tr>\n",
    "            <td>Tuesday</td>\n",
    "            <td>HTML</td>\n",
    "         </tr>\n",
    "         <tr>\n",
    "            <td>Wednesday</td>\n",
    "            <td>CSS</td>\n",
    "         </tr>\n",
    "      </table>\n",
    "   </body>\n",
    "</html>"
   ]
  },
  {
   "cell_type": "markdown",
   "id": "9b4b9896",
   "metadata": {},
   "source": [
    "<!DOCTYPE html>\n",
    "<html>\n",
    "   <body>\n",
    "      <table>\n",
    "         <tr>\n",
    "            <th>Day</th>\n",
    "            <th>Lesson</th>\n",
    "         </tr>\n",
    "         <tr>\n",
    "            <td>Monday</td>\n",
    "            <td>Java</td>\n",
    "         </tr>\n",
    "         <tr>\n",
    "            <td>Tuesday</td>\n",
    "            <td>HTML</td>\n",
    "         </tr>\n",
    "         <tr>\n",
    "            <td>Wednesday</td>\n",
    "            <td>CSS</td>\n",
    "         </tr>\n",
    "      </table>\n",
    "   </body>\n",
    "</html>"
   ]
  },
  {
   "cell_type": "markdown",
   "id": "99b5a73b",
   "metadata": {},
   "source": [
    "Table Border\n",
    "We can add border to table with border attribute in table tag like example below.\n",
    "<table border=\"number\">\n",
    "⚠️Avoid:\n",
    "The border attribute is not supported in HTML5. Use CSS instead.\n",
    "    \n",
    "Tablo Kenarlığı\n",
    "Aşağıdaki örnekte olduğu gibi tablo etiketinde border özelliği ile tabloya border ekleyebiliriz.\n",
    "tablo sınırı = 'sayı'"
   ]
  },
  {
   "cell_type": "code",
   "execution_count": null,
   "id": "534e6980",
   "metadata": {},
   "outputs": [],
   "source": [
    "<!DOCTYPE html>\n",
    "<html>\n",
    "   <body>\n",
    "      <h1>Course Program</h1>\n",
    "      <table border=\"1\">\n",
    "         <tr>\n",
    "            <th>Day</th>\n",
    "            <th>Lesson</th>\n",
    "         </tr>\n",
    "         <tr>\n",
    "            <td>Monday</td>\n",
    "            <td>Java</td>\n",
    "         </tr>\n",
    "         <tr>\n",
    "            <td>Tuesday</td>\n",
    "            <td>HTML</td>\n",
    "         </tr>\n",
    "         <tr>\n",
    "            <td>Wednesday</td>\n",
    "            <td>CSS</td>\n",
    "         </tr>\n",
    "      </table>\n",
    "   </body>\n",
    "</html>"
   ]
  },
  {
   "cell_type": "markdown",
   "id": "1481e2df",
   "metadata": {},
   "source": [
    "<!DOCTYPE html>\n",
    "<html>\n",
    "   <body>\n",
    "      <h1>Course Program</h1>\n",
    "      <table border=\"1\">\n",
    "         <tr>\n",
    "            <th>Day</th>\n",
    "            <th>Lesson</th>\n",
    "         </tr>\n",
    "         <tr>\n",
    "            <td>Monday</td>\n",
    "            <td>Java</td>\n",
    "         </tr>\n",
    "         <tr>\n",
    "            <td>Tuesday</td>\n",
    "            <td>HTML</td>\n",
    "         </tr>\n",
    "         <tr>\n",
    "            <td>Wednesday</td>\n",
    "            <td>CSS</td>\n",
    "         </tr>\n",
    "      </table>\n",
    "   </body>\n",
    "</html>"
   ]
  },
  {
   "cell_type": "code",
   "execution_count": null,
   "id": "053b5843",
   "metadata": {},
   "outputs": [],
   "source": [
    "Colspan Attribute\n",
    "We can span two or more columns by using the colspan attribute like example below.\n",
    "< td colspan=\"2\" >Java< /td >"
   ]
  },
  {
   "cell_type": "code",
   "execution_count": null,
   "id": "b3b02e3a",
   "metadata": {},
   "outputs": [],
   "source": [
    "<!DOCTYPE html>\n",
    "<html>\n",
    "   <body>\n",
    "      <h1>Course Program</h1>\n",
    "      <table border=\"1\">\n",
    "         <tr>\n",
    "            <th>Day</th>\n",
    "            <th>Lesson-1</th>\n",
    "            <th>Lesson-2</th>\n",
    "         </tr>\n",
    "         <tr>\n",
    "            <td>Monday</td>\n",
    "            <td colspan=\"2\">Java</td> \n",
    "         </tr>\n",
    "         <tr>\n",
    "            <td>Tuesday</td>\n",
    "            <td>Maven</td>\n",
    "            <td>Gradle</td>\n",
    "         </tr>\n",
    "         <tr>\n",
    "            <td>Wednesday</td>\n",
    "            <td>HTML</td>\n",
    "            <td>CSS</td>\n",
    "         </tr>\n",
    "      </table>\n",
    "   </body>\n",
    "</html>"
   ]
  },
  {
   "cell_type": "markdown",
   "id": "4a3ac5bc",
   "metadata": {},
   "source": [
    "<!DOCTYPE html>\n",
    "<html>\n",
    "   <body>\n",
    "      <h1>Course Program</h1>\n",
    "      <table border=\"1\">\n",
    "         <tr>\n",
    "            <th>Day</th>\n",
    "            <th>Lesson-1</th>\n",
    "            <th>Lesson-2</th>\n",
    "         </tr>\n",
    "         <tr>\n",
    "            <td>Monday</td>\n",
    "            <td colspan=\"2\">Java</td> \n",
    "         </tr>\n",
    "         <tr>\n",
    "            <td>Tuesday</td>\n",
    "            <td>Maven</td>\n",
    "            <td>Gradle</td>\n",
    "         </tr>\n",
    "         <tr>\n",
    "            <td>Wednesday</td>\n",
    "            <td>HTML</td>\n",
    "            <td>CSS</td>\n",
    "         </tr>\n",
    "      </table>\n",
    "   </body>\n",
    "</html>"
   ]
  },
  {
   "cell_type": "code",
   "execution_count": null,
   "id": "ef9122fa",
   "metadata": {},
   "outputs": [],
   "source": [
    "Rowspan Attribute\n",
    "We can span two or more rows by using the rowspan attribute like example below.\n",
    "< td rowspan=\"2\" >Java< /td >"
   ]
  },
  {
   "cell_type": "code",
   "execution_count": null,
   "id": "38f599c9",
   "metadata": {},
   "outputs": [],
   "source": [
    "<!DOCTYPE html>\n",
    "<html>\n",
    "   <body>\n",
    "      <h1>Course Program</h1>\n",
    "      <table border=\"1\">\n",
    "         <tr>\n",
    "            <th>Day</th>\n",
    "            <th>Lesson-1</th>\n",
    "            <th>Lesson-2</th>\n",
    "         </tr>\n",
    "         <tr>\n",
    "            <td>Monday</td>\n",
    "            <td>Java</td> \n",
    "            <td>Git</td>\n",
    "         </tr>\n",
    "         <tr>\n",
    "            <td rowspan=\"2\">Tuesday</td>\n",
    "            <td>Maven</td>\n",
    "            <td>Gradle</td>\n",
    "         </tr>\n",
    "         <tr>\n",
    "            <td>HTML</td>\n",
    "            <td>CSS</td>\n",
    "         </tr>\n",
    "      </table>\n",
    "   </body>\n",
    "</html>"
   ]
  },
  {
   "cell_type": "markdown",
   "id": "d5f79f16",
   "metadata": {},
   "source": [
    "<!DOCTYPE html>\n",
    "<html>\n",
    "   <body>\n",
    "      <h1>Course Program</h1>\n",
    "      <table border=\"1\">\n",
    "         <tr>\n",
    "            <th>Day</th>\n",
    "            <th>Lesson-1</th>\n",
    "            <th>Lesson-2</th>\n",
    "         </tr>\n",
    "         <tr>\n",
    "            <td>Monday</td>\n",
    "            <td>Java</td> \n",
    "            <td>Git</td>\n",
    "         </tr>\n",
    "         <tr>\n",
    "            <td rowspan=\"2\">Tuesday</td>\n",
    "            <td>Maven</td>\n",
    "            <td>Gradle</td>\n",
    "         </tr>\n",
    "         <tr>\n",
    "            <td>HTML</td>\n",
    "            <td>CSS</td>\n",
    "         </tr>\n",
    "      </table>\n",
    "   </body>\n",
    "</html>"
   ]
  },
  {
   "cell_type": "code",
   "execution_count": null,
   "id": "c9c56b4c",
   "metadata": {},
   "outputs": [],
   "source": [
    "Align Attribute\n",
    "To change table or cell position, we can use the align attribute inside <table> tag or <td> tag.\n",
    "<td align=\"center\">java</td >"
   ]
  },
  {
   "cell_type": "code",
   "execution_count": null,
   "id": "c7407d9d",
   "metadata": {},
   "outputs": [],
   "source": [
    "<!DOCTYPE html>\n",
    "<html>\n",
    "   <body>\n",
    "      <h1>Course Program</h1>\n",
    "      <table border=\"1\">\n",
    "         <tr>\n",
    "            <th>Day</th>\n",
    "            <th>Lesson-1</th>\n",
    "            <th>Lesson-2</th>\n",
    "         </tr>\n",
    "         <tr>\n",
    "            <td>Monday</td>\n",
    "            <td align=\"center\" colspan=\"2\" >Java</td> \n",
    "         </tr>\n",
    "         <tr>\n",
    "            <td>Tuesday</td>\n",
    "            <td>Maven</td>\n",
    "            <td>Gradle</td>\n",
    "         </tr>\n",
    "         <tr>\n",
    "            <td>Wednesday</td>\n",
    "            <td>HTML</td>\n",
    "            <td>CSS</td>\n",
    "         </tr>\n",
    "      </table>\n",
    "   </body>\n",
    "</html>"
   ]
  },
  {
   "cell_type": "markdown",
   "id": "e2155d14",
   "metadata": {},
   "source": [
    "<!DOCTYPE html>\n",
    "<html>\n",
    "   <body>\n",
    "      <h1>Course Program</h1>\n",
    "      <table border=\"1\">\n",
    "         <tr>\n",
    "            <th>Day</th>\n",
    "            <th>Lesson-1</th>\n",
    "            <th>Lesson-2</th>\n",
    "         </tr>\n",
    "         <tr>\n",
    "            <td>Monday</td>\n",
    "            <td align=\"center\" colspan=\"2\" >Java</td> \n",
    "         </tr>\n",
    "         <tr>\n",
    "            <td>Tuesday</td>\n",
    "            <td>Maven</td>\n",
    "            <td>Gradle</td>\n",
    "         </tr>\n",
    "         <tr>\n",
    "            <td>Wednesday</td>\n",
    "            <td>HTML</td>\n",
    "            <td>CSS</td>\n",
    "         </tr>\n",
    "      </table>\n",
    "   </body>\n",
    "</html>"
   ]
  },
  {
   "cell_type": "code",
   "execution_count": null,
   "id": "ec68ed49",
   "metadata": {},
   "outputs": [],
   "source": [
    "Input Type Text\n",
    "<input type=\"text\"> is used to create a single-line text input.\n",
    "\n",
    "<!DOCTYPE html>\n",
    "<html>\n",
    "   <body>\n",
    "      <form action=\"http://www.clarusway.com/action_page.php\"> \n",
    "         <h2>Welcome Clarusway</h2>\n",
    "         Username:<br>\n",
    "         <input type=\"text\" name=\"username\">\n",
    "      </form>\n",
    "   </body>\n",
    "</html>"
   ]
  },
  {
   "cell_type": "markdown",
   "id": "cebdd62e",
   "metadata": {},
   "source": [
    "<!DOCTYPE html>\n",
    "<html>\n",
    "   <body>\n",
    "      <form action=\"http://www.clarusway.com/action_page.php\"> \n",
    "         <h2>Welcome Clarusway</h2>\n",
    "         Username:<br>\n",
    "         <input type=\"text\" name=\"username\">\n",
    "      </form>\n",
    "   </body>\n",
    "</html>"
   ]
  },
  {
   "cell_type": "code",
   "execution_count": null,
   "id": "1886cef5",
   "metadata": {},
   "outputs": [],
   "source": [
    "Input Type Password\n",
    "<input type=\"password\"> is used to create a password field.\n",
    "\n",
    "The characters in a password field are blocked out. They are shown as asterisks or circles.\n",
    "\n",
    "<!DOCTYPE html>\n",
    "<html>\n",
    "   <body>\n",
    "      <form action=\"http://www.clarusway.com/action_page.php\"> \n",
    "         <h2>Welcome Clarusway</h2>\n",
    "         Username: \n",
    "         <input type=\"text\" name=\"username\"><br><br>\n",
    "         password: \n",
    "         <input type=\"password\" name=\"password\">\n",
    "      </form>\n",
    "   </body>\n",
    "</html>"
   ]
  },
  {
   "cell_type": "code",
   "execution_count": null,
   "id": "728c924d",
   "metadata": {},
   "outputs": [],
   "source": [
    "Input Type Radio\n",
    "<input type=\"radio\"> is used to define a radio button.\n",
    "Radio buttons allow users to select only one of a number of options.\n",
    "Value attribute indicates the value which is sent to the server for the selected option.\n",
    "Checked attribute indicates which value is checked when the page load.\n",
    "<!DOCTYPE html>\n",
    "<html>\n",
    "   <body>\n",
    "      <form action=\"http://www.clarusway.com/action_page.php\"> \n",
    "        <h2>GENDER:</h2>\n",
    "        <input type=\"radio\" name=\"gender\" value=\"male\" checked> Male<br>\n",
    "        <input type=\"radio\" name=\"gender\" value=\"female\"> Female<br>\n",
    "      </form>\n",
    "   </body>\n",
    "</html>"
   ]
  },
  {
   "cell_type": "code",
   "execution_count": null,
   "id": "a5db1eb9",
   "metadata": {},
   "outputs": [],
   "source": [
    "Input Type Checkbox\n",
    "<input type=\"checkbox\"> is used to create a checkbox.\n",
    "\n",
    "Checkboxes allow users to select zero or more options in answer to a question\n",
    "\n",
    "<!DOCTYPE html>\n",
    "<html>\n",
    "   <body>\n",
    "      <form action=\"http://www.clarusway.com/action_page.php\"> \n",
    "        <p>Which days are you busy.</p>\n",
    "        <input type=\"checkbox\" name=\"days\" value=\"monday\"> Monday<br>\n",
    "        <input type=\"checkbox\" name=\"days\" value=\"tuesday\">Tuesday<br>\n",
    "        <input type=\"checkbox\" name=\"days\" value=\"wednesday\"> Wednesday<br>\n",
    "        <input type=\"checkbox\" name=\"days\" value=\"thursday\"> Thursday<br>\n",
    "        <input type=\"checkbox\" name=\"days\" value=\"friday\"> Friday<br>\n",
    "    </form>\n",
    "   </body>\n",
    "</html>"
   ]
  },
  {
   "cell_type": "code",
   "execution_count": null,
   "id": "8eedcd15",
   "metadata": {},
   "outputs": [],
   "source": [
    "Input Type Number\n",
    "<input type=\"number\"> is used to create a single row field for number input.\n",
    "<!DOCTYPE html>\n",
    "<html>\n",
    "   <body>\n",
    "      <form action=\"http://www.clarusway.com/action_page.php\"> \n",
    "        <p>How old are you?</p>\n",
    "        Age: <input type=\"number\" name=\"age\">\n",
    "    </form>\n",
    "   </body>\n",
    "</html>"
   ]
  },
  {
   "cell_type": "code",
   "execution_count": null,
   "id": "f11ed160",
   "metadata": {},
   "outputs": [],
   "source": [
    "Input Type Reset\n",
    "<input type=\"reset\"> is used to reset all form values to their default values.\n",
    "<!DOCTYPE html>\n",
    "<html>\n",
    "   <body>\n",
    "      <form action=\"http://www.clarusway.com/action_page.php\"> \n",
    "         <h2>Welcome Clarusway</h2>\n",
    "         Username: \n",
    "         <input type=\"text\" name=\"username\"><br><br>\n",
    "         password: \n",
    "         <input type=\"password\" name=\"password\">\n",
    "         <p>What is your gender</p>\n",
    "         <input type=\"radio\" name=\"gender\" value=\"male\" checked> Male<br>\n",
    "         <input type=\"radio\" name=\"gender\" value=\"female\"> Female<br>\n",
    "         <p>Which days are you busy.</p>\n",
    "         <input type=\"checkbox\" name=\"days\" value=\"monday\"> Monday<br>\n",
    "         <input type=\"checkbox\" name=\"days\" value=\"tuesday\">Tuesday<br>\n",
    "         <input type=\"checkbox\" name=\"days\" value=\"wednesday\"> Wednesday<br>\n",
    "         <input type=\"checkbox\" name=\"days\" value=\"thursday\"> Thursday<br>\n",
    "         <input type=\"checkbox\" name=\"days\" value=\"friday\"> Friday<br>\n",
    "         <input type=\"reset\" value=\"reset\">\n",
    "      </form>\n",
    "   </body>\n",
    "</html>\n",
    "</html>"
   ]
  },
  {
   "cell_type": "code",
   "execution_count": null,
   "id": "fa00e0cd",
   "metadata": {},
   "outputs": [],
   "source": [
    "Input Type Submit\n",
    "The submit button is used to define a button for sending the form data to the server.\n",
    "\n",
    "The value attribute is used to specify the text that appears on a button.\n",
    "\n",
    "<!DOCTYPE html>\n",
    "<html>\n",
    "   <body>\n",
    "      <form action=\"http://www.clarusway.com/action_page.php\"> \n",
    "         <h2>Welcome Clarusway</h2>\n",
    "         Username:<br>\n",
    "         <input type=\"text\" name=\"username\">\n",
    "         <input type=\"submit\" value=\"Submit\">\n",
    "      </form>\n",
    "   </body>\n",
    "</html>"
   ]
  },
  {
   "cell_type": "code",
   "execution_count": null,
   "id": "3cc74a6c",
   "metadata": {},
   "outputs": [],
   "source": [
    "Textarea Element\n",
    "Normally, text input type is used to create a bigger text. In case users need to write more information, textarea element is used to create a bigger text field for users.\n",
    "Rows and cols attributes are used to determine the amount of rows and columns for the <textarea>.\n",
    "Unlike other input elements this is not an empty element. It means that textarea element has an opening and a closing tag.\n",
    "Any text is written between the opening < textarea > and closing </ textarea > tags will appear in the text box.\n",
    "<!DOCTYPE html>\n",
    "<!DOCTYPE html>\n",
    "<html>\n",
    "   <body>\n",
    "      <form action=\"http://www.clarusway.com/action_page.php\"> \n",
    "        <p>Please, enter your comments.</p>\n",
    "        <textarea name=\"comments\" rows=\"10\" cols=\"60\">Enter your comments here.</textarea>\n",
    "      </form>\n",
    "   </body>\n",
    "</html>"
   ]
  },
  {
   "cell_type": "code",
   "execution_count": null,
   "id": "d87efad4",
   "metadata": {},
   "outputs": [],
   "source": []
  },
  {
   "cell_type": "code",
   "execution_count": null,
   "id": "35f5452a",
   "metadata": {},
   "outputs": [],
   "source": []
  },
  {
   "cell_type": "code",
   "execution_count": null,
   "id": "c585a361",
   "metadata": {},
   "outputs": [],
   "source": []
  }
 ],
 "metadata": {
  "kernelspec": {
   "display_name": "Python 3 (ipykernel)",
   "language": "python",
   "name": "python3"
  },
  "language_info": {
   "codemirror_mode": {
    "name": "ipython",
    "version": 3
   },
   "file_extension": ".py",
   "mimetype": "text/x-python",
   "name": "python",
   "nbconvert_exporter": "python",
   "pygments_lexer": "ipython3",
   "version": "3.10.4"
  }
 },
 "nbformat": 4,
 "nbformat_minor": 5
}
