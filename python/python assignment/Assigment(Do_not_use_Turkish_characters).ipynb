{
  "nbformat": 4,
  "nbformat_minor": 0,
  "metadata": {
    "colab": {
      "name": "Assigment(Do not use Turkish characters).ipynb",
      "provenance": [],
      "collapsed_sections": []
    },
    "kernelspec": {
      "name": "python3",
      "display_name": "Python 3"
    },
    "language_info": {
      "name": "python"
    }
  },
  "cells": [
    {
      "cell_type": "markdown",
      "source": [
        "You work for a manufacturer as a programmer and have been asked to calculate the total profit made on the sales of a product. You are given a dictionary (sales) containing the cost price per unit (in dollars), sell price per unit (in dollars), and the beginning inventory. Write a program to return the total profit made, rounded to the nearest dollar. Assume all of the inventory has been sold. The name and the keys of the dictionary are constant, so use them as they are."
      ],
      "metadata": {
        "id": "JqUDSDNndT4S"
      }
    },
    {
      "cell_type": "code",
      "source": [
        "total_amount=input(\"Input the total amount:\") print(f\"Conversion of the amount is : ${float(total_amount):.2f}\")"
      ],
      "metadata": {
        "id": "IP9L-nfDdX4e"
      },
      "execution_count": null,
      "outputs": []
    },
    {
      "cell_type": "code",
      "source": [
        "payroll = float(input(\"amount $: \"))\n",
        "print(\"{}$\".format(round(payroll,2)))"
      ],
      "metadata": {
        "id": "XIBBxzFpeDXV"
      },
      "execution_count": null,
      "outputs": []
    },
    {
      "cell_type": "code",
      "source": [
        "toplam_kar = (sales[\"sell_value\"]* sales[\"inventory\"]- sales[\"cost_value\"]* sales[\"inventory\"])\n",
        "print(toplam_kar) "
      ],
      "metadata": {
        "id": "8BELJt4heE_w"
      },
      "execution_count": null,
      "outputs": []
    },
    {
      "cell_type": "code",
      "source": [
        "total_profit = (sales[\"sell_value\"]-sales[\"cost_value\"])*sales[\"inventory\"]\n",
        "print(format(total_profit, \".0f\"))"
      ],
      "metadata": {
        "id": "UH-2bwwYeE4d"
      },
      "execution_count": null,
      "outputs": []
    },
    {
      "cell_type": "code",
      "source": [
        "a = float(input(\"Maaş miktarını giriniz : \"))\n",
        "print(\"$\", \"%.2f\" % a)"
      ],
      "metadata": {
        "id": "9nN4wD_FeDRY"
      },
      "execution_count": null,
      "outputs": []
    },
    {
      "cell_type": "markdown",
      "source": [
        "Your boss wants you to prepare the payrolls of the workers in your department. You have to convert the amount of dollars into payroll format. In order to help move things along, you have volunteered to write a code that will take a float and return the money in the following format (as dollars and cents)."
      ],
      "metadata": {
        "id": "izzK-xB-dlsQ"
      }
    },
    {
      "cell_type": "code",
      "source": [
        "sales={\"cost_value\":31.87,\"sell_value\":45.00,\"inventory\":1000} total_profit=(sales[\"sell_value\"]-sales[\"cost_value\"])*sales[\"inventory\"] print(round(total_profit))"
      ],
      "metadata": {
        "id": "U6g5kPz4dYFc"
      },
      "execution_count": null,
      "outputs": []
    },
    {
      "cell_type": "code",
      "source": [
        "sales={\n",
        "    \"cost_value\" : 31.87,\n",
        "    \"sell_value\" : 45.00,\n",
        "    \"inventory\" : 1000\n",
        "}\n",
        "profit= round(sales['inventory']*(sales[\"sell_value\"] - sales[\"cost_value\"]))\n",
        "print(profit)"
      ],
      "metadata": {
        "id": "j8GRo0VieI_X"
      },
      "execution_count": null,
      "outputs": []
    },
    {
      "cell_type": "code",
      "source": [
        "sales = {\n",
        "    \"cost_value\": 31.87,\n",
        "    \"sell_value\": 45.00,\n",
        "    \"inventory\" : 1000\n",
        "}\n",
        "birim_kar = sales[\"sell_value\"] - sales[\"cost_value\"]\n",
        "toplam_kar = birim_kar * sales[\"inventory\"]\n",
        "print(round(toplam_kar))"
      ],
      "metadata": {
        "id": "wZZcPHS3eIkt"
      },
      "execution_count": null,
      "outputs": []
    },
    {
      "cell_type": "code",
      "source": [
        "Sales = {\n",
        "    \"cost_value\" : 31.87,\n",
        "    \"sell_value\" : 45.00,\n",
        "    \"inventory\" : 1000\n",
        "}\n",
        "profit = round((Sales[\"sell_value\"] - Sales[\"cost_value\"]) * Sales[\"inventory\"])\n",
        "print(\"The profit will be {} dollar.\".format(profit))"
      ],
      "metadata": {
        "id": "HhU13UwhePcH"
      },
      "execution_count": null,
      "outputs": []
    },
    {
      "cell_type": "code",
      "source": [
        "sales = {\"cost_value\": 31.87,\"sell_value\": 45.00,\"inventory\": 1000}\n",
        "print(\"the profit will be :\", round((sales[\"sell_value\"]-sales[\"cost_value\"])*sales[\"inventory\"]))"
      ],
      "metadata": {
        "id": "xN7yI-_YePX8"
      },
      "execution_count": null,
      "outputs": []
    },
    {
      "cell_type": "code",
      "source": [
        ""
      ],
      "metadata": {
        "id": "nYn-LqwVePSu"
      },
      "execution_count": null,
      "outputs": []
    },
    {
      "cell_type": "code",
      "source": [
        "Python “object/function/method” komutlarının “ne/nasıl/niçin” kullanıldığını basit komutlarla öğrenebiliriz:\n",
        "Genel Kullanım:\n",
        "func.__doc__ -> Temel Döküman (Kullanım Bilgisi) -> Bu komut nasıl kullanılır?\n",
        "dir(func) -> Metod isimleri özet olarak sunulur.\n",
        "help(func) -> Tam Döküman -> Bu komut (ve varsa metodları) ne/nasıl/niçin kullanılır? (print kullanılmadan yazdırılır.)\n",
        "Örnek: print()\n",
        "print(print.__doc__); print(dir(print)); help(print);\n",
        "Örnek: str() (string data)\n",
        "print(str.__doc__); print(dir(str)); help(str);\n",
        "Örnek: set() (set data)\n",
        "print(set.__doc__); print(dir(set)); help(set);\n",
        "Örnek: max()\n",
        "print(max.__doc__); print(dir(max)); help(max);\n"
      ],
      "metadata": {
        "id": "MCtpPtqjdrzL"
      },
      "execution_count": null,
      "outputs": []
    },
    {
      "cell_type": "code",
      "source": [
        "# mükemmel sayı\n",
        "sum = 0\n",
        "i = 0\n",
        "sayı_5 = input(\"bir sayı giriniz:\")\n",
        "sayı_12 = [x for x in sayı_5]\n",
        "for i in sayı_12:\n",
        "  sum += int(i)**3\n",
        "if int(sayı_5) == sum:\n",
        "    print(\"Mükemmel sayı\")\n",
        "else:\n",
        "    print(\"mükemmel sayı değil\")"
      ],
      "metadata": {
        "id": "basF3JyzdrsI"
      },
      "execution_count": null,
      "outputs": []
    },
    {
      "cell_type": "code",
      "source": [
        "# türkçe karakter kullanmayın sorusu\n",
        "password = set(input('Enter your password:'))\n",
        "tk = ['ö', 'ğ', 'ü', 'ş', 'ı', 'ç', 'İ','Ğ','Ü','Ö','Ş', 'Ç']\n",
        "if password.intersection(tk):\n",
        "    print('Do not use Turkish characters')\n",
        "else:\n",
        "    print('giris yapildi :')"
      ],
      "metadata": {
        "id": "FNi2jcKtdrl6"
      },
      "execution_count": null,
      "outputs": []
    },
    {
      "cell_type": "code",
      "source": [
        "parola = set(input(\"Parolanızı Giriniz: \"))\n",
        "türkçe_k = {\"ğ\", \"ü\", \"ç\", \"ö\", \"ş\", \"İ\", \"ı\"}\n",
        "if parola.isdisjoint(türkçe_k):  # türkçe karakter yoksa True verecek.\n",
        "    print(\"parolanız kabul edildi\")  \n",
        "else:  # türkçe karakter varsa False verecek\n",
        "    print(\"türkçe karakter kullanmayınız\")"
      ],
      "metadata": {
        "id": "aH_h6vWCen8g"
      },
      "execution_count": null,
      "outputs": []
    },
    {
      "cell_type": "code",
      "source": [
        "x = input(\"Lütfen Parolanızı Giriniz: \")\n",
        "a = set(x.lower())\n",
        "b = {\"ç\", \"ğ\", \"ı\", \"ö\", \"ş\", \"ü\"}\n",
        "y = a.intersection(b)\n",
        "\n",
        "if y != set():\n",
        "    print(\"Parolanızda Türkçe Karakter Kullanmayınız!\")\n",
        "elif a == set():\n",
        "    print(\"Parola Kutucuğu Boş Bırakılamaz!\")\n",
        "else:\n",
        "    print(\"Parolanız Kabul Edildi!\")"
      ],
      "metadata": {
        "id": "YPjp0XN-en3j"
      },
      "execution_count": null,
      "outputs": []
    },
    {
      "cell_type": "code",
      "source": [
        "parola = set(input(\"Parolanızı Giriniz: \"))\n",
        "türkçe_k = {\"ğ\", \"ü\", \"ç\", \"ö\", \"ş\", \"İ\", \"ı\"}\n",
        "\n",
        "for i in türkçe_k:\n",
        "    if parola.intersection(türkçe_k):\n",
        "        print('Türkçe karakter kullanmayın')\n",
        "        break\n",
        "else:\n",
        "    print('Giris yapildi :) ')"
      ],
      "metadata": {
        "id": "OKLJX5YSenyH"
      },
      "execution_count": null,
      "outputs": []
    },
    {
      "cell_type": "code",
      "source": [
        "# comfortable\n",
        "left = {'q','w','e','r','t','a','s','d','f','g','z','x','c','v','b'}\n",
        "    right = {'y', 'u', 'i', 'o', 'p', 'h', 'j', 'k', 'l', 'n', 'm'}\n",
        "    myset = set(word)\n",
        "    check_left = myset <= left\n",
        "    check_right = myset <= right\n",
        "    return not(check_left or check_right)"
      ],
      "metadata": {
        "id": "p2mTO_7PeyNN"
      },
      "execution_count": null,
      "outputs": []
    },
    {
      "cell_type": "code",
      "source": [
        "# Sayı içindeki en büyük rakam:\n",
        "digit = 13961923578125162736129974678124\n",
        "str_digit = str(digit)\n",
        "# 1. Yöntem:\n",
        "print(max(str_digit))\n",
        "# 2. Yöntem:\n",
        "buyuk = 0\n",
        "for i in str_digit:\n",
        "  if (buyuk == 9): break; # break: döngüden çık.\n",
        "  if (int(i) >= buyuk):\n",
        "    buyuk = int(i)\n",
        "print(buyuk)\n",
        "# 3. Yöntem:\n",
        "str_set = set(str_digit) # her rakam 1 kez\n",
        "buyuk = 0\n",
        "for i in str_set:\n",
        "  if (int(i) >= buyuk):\n",
        "    buyuk = int(i)\n",
        "print(buyuk)"
      ],
      "metadata": {
        "id": "AxLTrNvteyKA"
      },
      "execution_count": null,
      "outputs": []
    },
    {
      "cell_type": "code",
      "source": [
        "# 4. Yöntem:\n",
        "str_digit.sort(reverse = True) # Büyükten küçüğe sırala.\n",
        "print(str_digit[0]) # En büyük rakam ilk indexte."
      ],
      "metadata": {
        "id": "_8t-WbdJeyGk"
      },
      "execution_count": null,
      "outputs": []
    }
  ]
}