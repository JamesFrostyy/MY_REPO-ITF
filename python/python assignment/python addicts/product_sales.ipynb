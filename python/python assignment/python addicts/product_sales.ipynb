{
 "cells": [
  {
   "cell_type": "code",
   "execution_count": null,
   "metadata": {},
   "outputs": [],
   "source": [
    "\"\"\"\n",
    "  Aşağıdaki ürünler tablosunda toptan satış fiyatları ve birimleri yer almaktadır.\n",
    "  Belirtilen satış fiyatı 1 KG içindir ve her ürün birim miktarı (ve katları) kadar satılmaktadır.\n",
    "  * Örnek: Elmanın toptan alışı \"1KG = 10 TL'dir\" ve \"10 KG ve katları\" kadar alınabilir.\n",
    "  \n",
    "    Ürün      Toptan    Birim\n",
    "    -------------------------\n",
    "    Elma      TL 10     KG 10\n",
    "    Armut     TL 12     KG 5 \n",
    "    Domates   TL 8      KG 20\n",
    "    Biber     TL 20     KG 4 \n",
    "\"\"\"\n",
    "\"\"\"\n",
    "  Soru-1: (Yukarıdaki tabloya göre)\n",
    "  * Toptan ürün satın almak isteyen bir esnafın, sermayesini ve hangi üründen kaç kilo almak istediğini isteyiniz.\n",
    "  * Sonuç olarak: Kaç KG alabileceğini ve para üstü miktarını yazdırınız.\n",
    "  * Kurallar:\n",
    "  * * Daha pahalı olan ürün, önce satılacaktır. Örnek: 20 KG biber ve 20 KG elma için önce biber satılacak, kalan paraya göre elma satılacaktır.\n",
    "  ÖRNEK:\n",
    "    Sermaye giriniz (TL): 1200\n",
    "    Elma (KG): 25\n",
    "    Armut (KG): 25\n",
    "    Domates (KG): 25\n",
    "    Biber (KG): 25\n",
    "    Sonuc: \"Biber: 24 KG + Armut: 25 KG + Elma: 20 KG + Domates: 20 KG = 1140 TL * Para: 1200 TL, ParaUstu: 60 TL\"\n",
    "\"\"\"\n",
    "\"\"\"\n",
    "  Soru-2: (Yukarıdaki tabloya göre)\n",
    "  * Pazarda ürün satan bir esnafın elindeki ürün miktarını ve satış fiyatını ve tahmini fire miktarını isteyiniz.\n",
    "  * Sonuç olarak: Alış, Satış, Fire ve Kar/Zarar bilgilerini hesaplayınız.\n",
    "  * Kurallar:\n",
    "  * * Fire miktarı bir defa istenecektir. (Tüm ürünlere aynı fire oranı hesaplanacaktır.)\n",
    "  * * Fire ürünlere ayrı-ayrı uyglanacaktır. (Toplam miktar üzerinden yapılmayacaktır.)\n",
    "  * * Satış birimi 1 KG'dir. Yani fire hesabından çıkan küsüratlarda fire sayılacaktır. Örneğin: \"25 KG\" - \"%10 Fire\" = 22.5 değil \"22 KG\" sayılacaktır.\n",
    "  ÖRNEK:\n",
    "    Elma (KG * TL): 20 * 18\n",
    "    Armut (KG * TL): 25 * 20\n",
    "    Domates (KG * TL): 20 * 12\n",
    "    Biber (KG * TL): 24 * 40\n",
    "    Fire (%): 10\n",
    "    Sonuc: \"Alış-Miktar: 89 KG, Alış-Tutar: 1140 TL * Satış-Miktar: 79 KG, Satış-Tutar: 1820 TL * Fire-Miktar: 10 KG, Fire-Tutar: 132 TL * SONUÇ: 680 TL KAR\"\n",
    "\"\"\""
   ]
  }
 ],
 "metadata": {
  "language_info": {
   "name": "python"
  },
  "orig_nbformat": 4
 },
 "nbformat": 4,
 "nbformat_minor": 2
}
