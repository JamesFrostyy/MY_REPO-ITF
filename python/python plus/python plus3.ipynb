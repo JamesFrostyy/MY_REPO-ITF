{
 "cells": [
  {
   "cell_type": "code",
   "execution_count": null,
   "id": "e81bd64a",
   "metadata": {},
   "outputs": [],
   "source": [
    "print(f\"you entered { input('yes or no: ').lower().strip()=='yes' }\")"
   ]
  },
  {
   "cell_type": "code",
   "execution_count": null,
   "id": "8c3145b7",
   "metadata": {},
   "outputs": [],
   "source": [
    "import time\n",
    "for i in range(10,-1,-1):\n",
    "  print(i)\n",
    "  time.sleep(1)"
   ]
  },
  {
   "cell_type": "code",
   "execution_count": null,
   "id": "af76f1ac",
   "metadata": {},
   "outputs": [],
   "source": [
    "math->f(x) == python->def(x) # True"
   ]
  },
  {
   "cell_type": "code",
   "execution_count": null,
   "id": "ab562bff",
   "metadata": {},
   "outputs": [],
   "source": [
    "positinaol argüman; sıra önemli\n",
    "keyword argüman; sıra önemli değil çünkü atama yapılır. default values(ilk değer) parametlere ilk değer atanır. "
   ]
  },
  {
   "cell_type": "code",
   "execution_count": 1,
   "id": "2878848a",
   "metadata": {},
   "outputs": [],
   "source": [
    "def func(x = 'ali', y = 11): #keyword argüman\n",
    "    body"
   ]
  },
  {
   "cell_type": "code",
   "execution_count": 2,
   "id": "e84543c4",
   "metadata": {},
   "outputs": [],
   "source": [
    "def fonk(x = \"veli\", y = 22):\n",
    "    print(x, y, \"yaşındadır\")"
   ]
  },
  {
   "cell_type": "code",
   "execution_count": 5,
   "id": "a754abf3",
   "metadata": {},
   "outputs": [
    {
     "name": "stdout",
     "output_type": "stream",
     "text": [
      "veli 22 yaşındadır\n"
     ]
    }
   ],
   "source": [
    "fonk()  # içine hiçbir şey yazmasakta çalışır çünkü keyword argüman atadık."
   ]
  },
  {
   "cell_type": "code",
   "execution_count": 6,
   "id": "62eda4f9",
   "metadata": {},
   "outputs": [
    {
     "name": "stdout",
     "output_type": "stream",
     "text": [
      "veli 22 yaşındadır\n"
     ]
    }
   ],
   "source": [
    "fonk(y = 22, x = \"veli\") # atadığımız değerlerin yerlerini değiştirerek çağırsak bile sorun olmaz. çünkü atarken x,y şeklinde\n",
    "                            #şeklinde atama yaptık."
   ]
  },
  {
   "cell_type": "markdown",
   "id": "c3cfb333",
   "metadata": {},
   "source": [
    "yukarda çağırırken keyword ile çağırdık.\n",
    "keyword olayı;\n",
    "1-çağırırken var\n",
    "2-fonk. tanımlarken var.\n",
    "keyword le tanımlamak demek öndeğer atamak demektir; yani fonk. default değer atamak demektir.\n",
    "Biz fonk. çağırırken x e 22, y ye ise veli atasak da sonuç değişmez \n",
    "çünkü tanımlarken x, y sırasıyla öndeğer atandı."
   ]
  },
  {
   "cell_type": "code",
   "execution_count": 8,
   "id": "5b608fae",
   "metadata": {},
   "outputs": [
    {
     "name": "stdout",
     "output_type": "stream",
     "text": [
      "veli 40 yaşındadır\n"
     ]
    }
   ],
   "source": [
    "# DEFAULT OLARAK KEYWORD ler ile tanımlamış olduğumuz fonk biz\n",
    "# positinial argümanlarla çağırabiliriz;\n",
    "fonk(\"veli\", 40)"
   ]
  },
  {
   "cell_type": "code",
   "execution_count": 9,
   "id": "736f3261",
   "metadata": {},
   "outputs": [
    {
     "name": "stdout",
     "output_type": "stream",
     "text": [
      "asuman 38 yaşındadır\n"
     ]
    }
   ],
   "source": [
    "#keyword argümanlada çağırabiliriz;\n",
    "fonk(y = 38, x=\"asuman\")"
   ]
  },
  {
   "cell_type": "code",
   "execution_count": 10,
   "id": "d2457a8d",
   "metadata": {},
   "outputs": [
    {
     "name": "stdout",
     "output_type": "stream",
     "text": [
      "clarusway 22 yaşındadır\n"
     ]
    }
   ],
   "source": [
    "#hem positinial hem de keyword ile çağırabiliriz mesele sadece bir tane positinal gönderelim;\n",
    "fonk(\"clarusway\")\n",
    "# positinial old. için bu yazdığımız ilk parametreye gider."
   ]
  },
  {
   "cell_type": "code",
   "execution_count": 11,
   "id": "6b500c77",
   "metadata": {},
   "outputs": [
    {
     "name": "stdout",
     "output_type": "stream",
     "text": [
      "clarusway 50 yaşındadır\n"
     ]
    }
   ],
   "source": [
    "#hem positinial hem de keyword ile çağırabiliriz mesele sadece bir tane positinal gönderelim;\n",
    "fonk(\"clarusway\", 50)\n",
    "# positinial old. için bu yazdığımız ilk parametreye gider, ikincisi ise 2.parametreye gider."
   ]
  },
  {
   "cell_type": "code",
   "execution_count": 12,
   "id": "20f0bdf4",
   "metadata": {},
   "outputs": [
    {
     "name": "stdout",
     "output_type": "stream",
     "text": [
      "50 hasan yaşındadır\n"
     ]
    }
   ],
   "source": [
    "fonk(50, \"hasan\") #pos. old.için sırayı takip eder, ilk yazılan ilk atanana, 2.yazılan ise 2.atanana gider."
   ]
  },
  {
   "cell_type": "code",
   "execution_count": 13,
   "id": "dfc7ac58",
   "metadata": {},
   "outputs": [
    {
     "name": "stdout",
     "output_type": "stream",
     "text": [
      "50 22 yaşındadır\n"
     ]
    }
   ],
   "source": [
    "fonk(50) #çağırılırken belirtilmeyenler yerine ise ilk etapta tanımlananlar gelir."
   ]
  },
  {
   "cell_type": "code",
   "execution_count": 27,
   "id": "9fc642ee",
   "metadata": {},
   "outputs": [],
   "source": [
    "#hem positinial hem de keyword ile çağırabiliriz; bu durumda ise önce positinial sonra keyword çağırılır;\n",
    "#bir tane positional, diğerleri ön tanımlı fonk. yazalım\n",
    "def parrot(voltage, state = 'a stiff', action = 'voom', type = 'Norwegian Blue'): \n",
    "    print(\"__This parrot wouldn't\", action)\n",
    "    print(\"  if you put\", voltage, \"volts through it.\")\n",
    "    print(\"--Lovely plumage, the\", type)\n",
    "    print(\"--It's\", state, \"!\")"
   ]
  },
  {
   "cell_type": "code",
   "execution_count": 29,
   "id": "65b80cda",
   "metadata": {},
   "outputs": [
    {
     "name": "stdout",
     "output_type": "stream",
     "text": [
      "__This parrot wouldn't voom\n",
      "  if you put 1000 volts through it.\n",
      "--Lovely plumage, the Norwegian Blue\n",
      "--It's a stiff !\n"
     ]
    }
   ],
   "source": [
    "parrot(1000) #1 positional argument (1000 burada nereye gider ? voltage a gider. Çünkü biz bunu pos.olarak çağırıyoruz, yani\n",
    "#burada bir eşitlik yok, parantez içinde = şu,bu şeklinde bir assign yoksa o positionaldır. tek bir değer; ya bir değer atarız \n",
    "# ya da bir değişken atarız. Burda pos.çalıştı tek değişen voltage değeri oldu diğerleri atandığı gibi otomatik olarak çalıştı."
   ]
  },
  {
   "cell_type": "code",
   "execution_count": 32,
   "id": "58d784f1",
   "metadata": {},
   "outputs": [
    {
     "name": "stdout",
     "output_type": "stream",
     "text": [
      "__This parrot wouldn't VOOOM\n",
      "  if you put 1000 volts through it.\n",
      "--Lovely plumage, the Norwegian Blue\n",
      "--It's a stiff !\n"
     ]
    }
   ],
   "source": [
    "parrot(voltage = 1000, action = \"VOOOM\") #1 keyword arguments (voltage keyword ile çağırdık atama yaptık)"
   ]
  },
  {
   "cell_type": "code",
   "execution_count": 34,
   "id": "6b86d18d",
   "metadata": {},
   "outputs": [
    {
     "name": "stdout",
     "output_type": "stream",
     "text": [
      "__This parrot wouldn't VOOOM\n",
      "  if you put 1000 volts through it.\n",
      "--Lovely plumage, the Norwegian Blue\n",
      "--It's a stiff !\n"
     ]
    }
   ],
   "source": [
    "parrot(1000, action = \"VOOOM\") # doğrudan rakamda yazabilirdik 1000 gibi"
   ]
  },
  {
   "cell_type": "code",
   "execution_count": 36,
   "id": "3f7a8001",
   "metadata": {},
   "outputs": [
    {
     "name": "stdout",
     "output_type": "stream",
     "text": [
      "__This parrot wouldn't VOOOM\n",
      "  if you put 1000000 volts through it.\n",
      "--Lovely plumage, the Norwegian Blue\n",
      "--It's a stiff !\n"
     ]
    }
   ],
   "source": [
    "parrot(voltage = 1000000, action = \"VOOOM\") #2 keyword arguments"
   ]
  },
  {
   "cell_type": "code",
   "execution_count": 37,
   "id": "81c1d57f",
   "metadata": {},
   "outputs": [
    {
     "name": "stdout",
     "output_type": "stream",
     "text": [
      "__This parrot wouldn't VOOOM\n",
      "  if you put 100000 volts through it.\n",
      "--Lovely plumage, the Norwegian Blue\n",
      "--It's a stiff !\n"
     ]
    }
   ],
   "source": [
    "parrot(action=\"VOOOM\", voltage = 100000) # 2 Keyword arguments yerlerini değiştirebiliriz.yukardaki ile aşağıdaki aynı olur.\n",
    "#yukardaki ile çünkü biz bunları keywordler ile çağırdık."
   ]
  },
  {
   "cell_type": "code",
   "execution_count": 38,
   "id": "3da8703a",
   "metadata": {},
   "outputs": [
    {
     "name": "stdout",
     "output_type": "stream",
     "text": [
      "__This parrot wouldn't jump\n",
      "  if you put a milion volts through it.\n",
      "--Lovely plumage, the Norwegian Blue\n",
      "--It's bereft of life !\n"
     ]
    }
   ],
   "source": [
    "parrot(\"a milion\", \"bereft of life\", \"jump\") # parametlerin 3 tanesine pos.gönderelim. fonksiyonumuz ön değerlerle tanımlanmış\n",
    "# olsa bile biz bunları pos.argumanlarla da çağırabiliriz. burada sıra önemli, çağırılma şekliyle atandıkları yerlere giderler."
   ]
  },
  {
   "cell_type": "code",
   "execution_count": 40,
   "id": "4230e684",
   "metadata": {},
   "outputs": [
    {
     "name": "stdout",
     "output_type": "stream",
     "text": [
      "__This parrot wouldn't voom\n",
      "  if you put a thousand volts through it.\n",
      "--Lovely plumage, the Norwegian Blue\n",
      "--It's pushing up the daisies !\n"
     ]
    }
   ],
   "source": [
    "parrot(\"a thousand\", state =\"pushing up the daisies\") #1 positional 1 keyword buradaki \"a thousand\" tek pos.olan voltage gider\n",
    "# state in ise değeri yeni belirttiğimiz olur.\n",
    "# action ve type ın değerleri olduğu için onlarda kendi değerleri ile gelirler."
   ]
  },
  {
   "cell_type": "code",
   "execution_count": 41,
   "id": "785b1402",
   "metadata": {},
   "outputs": [
    {
     "ename": "TypeError",
     "evalue": "parrot() missing 1 required positional argument: 'voltage'",
     "output_type": "error",
     "traceback": [
      "\u001b[1;31m---------------------------------------------------------------------------\u001b[0m",
      "\u001b[1;31mTypeError\u001b[0m                                 Traceback (most recent call last)",
      "Input \u001b[1;32mIn [41]\u001b[0m, in \u001b[0;36m<cell line: 1>\u001b[1;34m()\u001b[0m\n\u001b[1;32m----> 1\u001b[0m \u001b[43mparrot\u001b[49m\u001b[43m(\u001b[49m\u001b[43m)\u001b[49m\n",
      "\u001b[1;31mTypeError\u001b[0m: parrot() missing 1 required positional argument: 'voltage'"
     ]
    }
   ],
   "source": [
    "parrot() # pos.argumeni atamadan çalışmaz. "
   ]
  },
  {
   "cell_type": "code",
   "execution_count": 44,
   "id": "1bebb1b6",
   "metadata": {},
   "outputs": [
    {
     "ename": "SyntaxError",
     "evalue": "positional argument follows keyword argument (3674707168.py, line 1)",
     "output_type": "error",
     "traceback": [
      "\u001b[1;36m  Input \u001b[1;32mIn [44]\u001b[1;36m\u001b[0m\n\u001b[1;33m    parrot(voltage = 5, \"dead\") # hem pos. argument hem de keyword argumanla çağırıyorsak önce pos. argument gelmek zorunda\u001b[0m\n\u001b[1;37m                              ^\u001b[0m\n\u001b[1;31mSyntaxError\u001b[0m\u001b[1;31m:\u001b[0m positional argument follows keyword argument\n"
     ]
    }
   ],
   "source": [
    "parrot(voltage = 5, \"dead\") # hem pos. argument hem de keyword argumanla çağırıyorsak önce pos. argument gelmek zorunda\n",
    "#burada biz voltage yani pos. argumente bi değer atadık, ardından yeniden pos.gidecek bir değer girdik. hata verir. burada\n",
    "# önce pos. olarak atananları bitirip ardından keyword argumanları çağırmalıyız."
   ]
  },
  {
   "cell_type": "code",
   "execution_count": 47,
   "id": "96448d0c",
   "metadata": {},
   "outputs": [
    {
     "ename": "SyntaxError",
     "evalue": "positional argument follows keyword argument (2608681229.py, line 1)",
     "output_type": "error",
     "traceback": [
      "\u001b[1;36m  Input \u001b[1;32mIn [47]\u001b[1;36m\u001b[0m\n\u001b[1;33m    parrot(state=\"ball\", \"a billion\") # buda olmaz çünkü pos. arguman önce gelmeliydi.\u001b[0m\n\u001b[1;37m                                    ^\u001b[0m\n\u001b[1;31mSyntaxError\u001b[0m\u001b[1;31m:\u001b[0m positional argument follows keyword argument\n"
     ]
    }
   ],
   "source": [
    "parrot(state=\"ball\", \"a billion\") # buda olmaz çünkü pos. arguman önce gelmeliydi. \n",
    "# yani pos. argumana gidecek olan \"a bilion\" önce gelmeliydi."
   ]
  },
  {
   "cell_type": "code",
   "execution_count": null,
   "id": "bada3391",
   "metadata": {},
   "outputs": [],
   "source": [
    "#hem positinial hem de keyword ile çağırabiliriz; bu durumda ise önce positinial sonra keyword çağırılır;\n",
    "#bir tane positional, diğerleri ön tanımlı fonk. yazalım\n",
    "def parrot(voltage, state = 'a stiff', action = 'voom', type = 'Norwegian Blue'): \n",
    "    print(\"__This parrot wouldn't\", action)\n",
    "    print(\"  if you put\", voltage, \"volts through it.\")\n",
    "    print(\"--Lovely plumage, the\", type)\n",
    "    print(\"--It's\", state, \"!\")"
   ]
  },
  {
   "cell_type": "code",
   "execution_count": 96,
   "id": "8e029901",
   "metadata": {},
   "outputs": [
    {
     "ename": "SyntaxError",
     "evalue": "positional argument follows keyword argument (1034985458.py, line 2)",
     "output_type": "error",
     "traceback": [
      "\u001b[1;36m  Input \u001b[1;32mIn [96]\u001b[1;36m\u001b[0m\n\u001b[1;33m    parrot(voltage = 5.0, \"dead\")   # non keyword argument after a keyword argument\u001b[0m\n\u001b[1;37m                                ^\u001b[0m\n\u001b[1;31mSyntaxError\u001b[0m\u001b[1;31m:\u001b[0m positional argument follows keyword argument\n"
     ]
    }
   ],
   "source": [
    "parrot()                        # required argument missing (hatası)              (positional argument yok)\n",
    "parrot(voltage = 5.0, \"dead\")   # non keyword argument after a keyword argument   (positional sıralama hatası)\n",
    "parrot(110, voltage = 220)      # duplicate value for the same argument           (positional a 2 değer gönderilmiş)\n",
    "parrot(actor = \"john Clees\")    # unknown keyword argument                        (bilinmeyen parametre)\n"
   ]
  },
  {
   "cell_type": "code",
   "execution_count": 74,
   "id": "bb0fda5e",
   "metadata": {},
   "outputs": [
    {
     "ename": "SyntaxError",
     "evalue": "non-default argument follows default argument (2177299136.py, line 1)",
     "output_type": "error",
     "traceback": [
      "\u001b[1;36m  Input \u001b[1;32mIn [74]\u001b[1;36m\u001b[0m\n\u001b[1;33m    def argu (a, b, c = \"dünya\", d, e = \"satürn\"):  #keyword argumentleri ve pos.argumentleri tanımlarkende sıraya dikkat etmeliyiz.\u001b[0m\n\u001b[1;37m                                 ^\u001b[0m\n\u001b[1;31mSyntaxError\u001b[0m\u001b[1;31m:\u001b[0m non-default argument follows default argument\n"
     ]
    }
   ],
   "source": [
    "def argu (a, b, c = \"dünya\", d, e = \"satürn\"):  #keyword argumentleri ve pos.argumentleri tanımlarkende sıraya dikkat etmeliyiz.\n",
    "    print(a, b, c, d, e, sep = \"\\n\")\n",
    "\n",
    "# burada a, b , d ----> positional argument\n",
    "# c ve e -----> keyword argument"
   ]
  },
  {
   "cell_type": "code",
   "execution_count": 75,
   "id": "95d85252",
   "metadata": {},
   "outputs": [],
   "source": [
    "def argu (a, b, d, c = \"dünya\", e = \"satürn\"):  #keyword argumentleri ve pos.argumentleri tanımlarkende sıraya dikkat etmeliyiz.\n",
    "    print(a, b, c, d, e, sep = \"\\n\")"
   ]
  },
  {
   "cell_type": "code",
   "execution_count": 76,
   "id": "f1a7a1ff",
   "metadata": {},
   "outputs": [
    {
     "name": "stdout",
     "output_type": "stream",
     "text": [
      "uranüs\n",
      "ay\n",
      "dünya\n",
      "mars\n",
      "satürn\n"
     ]
    }
   ],
   "source": [
    "argu(\"uranüs\", \"ay\", \"mars\") # 3 tane pos.argument old. için önce onları çağırırsak eğer keywordlerde gelir."
   ]
  },
  {
   "cell_type": "code",
   "execution_count": 77,
   "id": "d5fd615d",
   "metadata": {},
   "outputs": [
    {
     "ename": "TypeError",
     "evalue": "argu() missing 3 required positional arguments: 'a', 'b', and 'd'",
     "output_type": "error",
     "traceback": [
      "\u001b[1;31m---------------------------------------------------------------------------\u001b[0m",
      "\u001b[1;31mTypeError\u001b[0m                                 Traceback (most recent call last)",
      "Input \u001b[1;32mIn [77]\u001b[0m, in \u001b[0;36m<cell line: 1>\u001b[1;34m()\u001b[0m\n\u001b[1;32m----> 1\u001b[0m \u001b[43margu\u001b[49m\u001b[43m(\u001b[49m\u001b[43m)\u001b[49m\n",
      "\u001b[1;31mTypeError\u001b[0m: argu() missing 3 required positional arguments: 'a', 'b', and 'd'"
     ]
    }
   ],
   "source": [
    "argu() # boş çağıramayız. Positional argumanlara değer atamazsak çalışmaz."
   ]
  },
  {
   "cell_type": "code",
   "execution_count": 78,
   "id": "e4dc500b",
   "metadata": {},
   "outputs": [
    {
     "ename": "SyntaxError",
     "evalue": "positional argument follows keyword argument (2150071478.py, line 1)",
     "output_type": "error",
     "traceback": [
      "\u001b[1;36m  Input \u001b[1;32mIn [78]\u001b[1;36m\u001b[0m\n\u001b[1;33m    argu ('plüto', c = \"venüs\", \"mars\")  # çalışmaz çünkü önce positinialları çağırmak zorundayız. araya keyword girmiş çalışmaz\u001b[0m\n\u001b[1;37m                                      ^\u001b[0m\n\u001b[1;31mSyntaxError\u001b[0m\u001b[1;31m:\u001b[0m positional argument follows keyword argument\n"
     ]
    }
   ],
   "source": [
    "argu ('plüto', c = \"venüs\", \"mars\")  # çalışmaz çünkü önce positinialları çağırmak zorundayız. araya keyword girmiş çalışmaz"
   ]
  },
  {
   "cell_type": "code",
   "execution_count": 79,
   "id": "c419c993",
   "metadata": {},
   "outputs": [],
   "source": [
    "def argu (a, b, d, c = \"dünya\", e = \"satürn\"):  #keyword argumentleri ve pos.argumentleri tanımlarkende sıraya dikkat etmeliyiz.\n",
    "    print(a, b, c, d, e, sep = \"\\n\")"
   ]
  },
  {
   "cell_type": "code",
   "execution_count": 80,
   "id": "d5c8d4ac",
   "metadata": {},
   "outputs": [
    {
     "name": "stdout",
     "output_type": "stream",
     "text": [
      "plüto\n",
      "venüs\n",
      "dünya\n",
      "ay\n",
      "satürn\n"
     ]
    }
   ],
   "source": [
    "argu (\"plüto\", \"venüs\", \"ay\", c = 'dünya') # 3 pos.tamamı çağırıldığı için çalışır."
   ]
  },
  {
   "cell_type": "code",
   "execution_count": 81,
   "id": "5de6c231",
   "metadata": {},
   "outputs": [
    {
     "ename": "TypeError",
     "evalue": "argu() got multiple values for argument 'b'",
     "output_type": "error",
     "traceback": [
      "\u001b[1;31m---------------------------------------------------------------------------\u001b[0m",
      "\u001b[1;31mTypeError\u001b[0m                                 Traceback (most recent call last)",
      "Input \u001b[1;32mIn [81]\u001b[0m, in \u001b[0;36m<cell line: 1>\u001b[1;34m()\u001b[0m\n\u001b[1;32m----> 1\u001b[0m \u001b[43margu\u001b[49m\u001b[43m \u001b[49m\u001b[43m(\u001b[49m\u001b[38;5;124;43m\"\u001b[39;49m\u001b[38;5;124;43mplüto\u001b[39;49m\u001b[38;5;124;43m\"\u001b[39;49m\u001b[43m,\u001b[49m\u001b[43m \u001b[49m\u001b[38;5;124;43m\"\u001b[39;49m\u001b[38;5;124;43mvenüs\u001b[39;49m\u001b[38;5;124;43m\"\u001b[39;49m\u001b[43m,\u001b[49m\u001b[43m \u001b[49m\u001b[38;5;124;43m\"\u001b[39;49m\u001b[38;5;124;43may\u001b[39;49m\u001b[38;5;124;43m\"\u001b[39;49m\u001b[43m,\u001b[49m\u001b[43m \u001b[49m\u001b[43mb\u001b[49m\u001b[43m \u001b[49m\u001b[38;5;241;43m=\u001b[39;49m\u001b[43m \u001b[49m\u001b[38;5;124;43m'\u001b[39;49m\u001b[38;5;124;43mdünya\u001b[39;49m\u001b[38;5;124;43m'\u001b[39;49m\u001b[43m)\u001b[49m\n",
      "\u001b[1;31mTypeError\u001b[0m: argu() got multiple values for argument 'b'"
     ]
    }
   ],
   "source": [
    "argu (\"plüto\", \"venüs\", \"ay\", b = 'dünya') # pos. argumente birden fazla değer atayamayız."
   ]
  },
  {
   "cell_type": "code",
   "execution_count": 82,
   "id": "53fe6eb5",
   "metadata": {},
   "outputs": [],
   "source": [
    "def argu (a, b, d, c = \"dünya\", e = \"satürn\"):  #keyword argumentleri ve pos.argumentleri tanımlarkende sıraya dikkat etmeliyiz.\n",
    "    print(a, b, c, d, e, sep = \"\\n\")"
   ]
  },
  {
   "cell_type": "code",
   "execution_count": 85,
   "id": "a5168120",
   "metadata": {},
   "outputs": [
    {
     "name": "stdout",
     "output_type": "stream",
     "text": [
      "güneş\n",
      "ay\n",
      "dünya\n",
      "plüto\n",
      "satürn\n"
     ]
    }
   ],
   "source": [
    "argu(\"güneş\",\"ay\", \"plüto\") #burada pos.argumentlerle çağırırken direkt  a, b, d sırasını takip etti; c nın zaten değeri dünya \n",
    "# idi e nin ise satürn dü bunu aynen aşağı indirdi."
   ]
  },
  {
   "cell_type": "code",
   "execution_count": 87,
   "id": "00947ecf",
   "metadata": {},
   "outputs": [
    {
     "name": "stdout",
     "output_type": "stream",
     "text": [
      "güneş\n",
      "ay\n",
      "yıldız\n",
      "plüto\n",
      "satürn\n"
     ]
    }
   ],
   "source": [
    "argu(\"güneş\",\"ay\", \"plüto\", \"yıldız\") #burada pos.argumentlerle çağırırken direkt  a, b, d sırasını takip etti; güneş, ay, yıldız\n",
    "# c ye plüto gitti e ye değer kalmadığı için önceden atanan değeri yani satürn ü çağırdı."
   ]
  },
  {
   "cell_type": "code",
   "execution_count": 88,
   "id": "65ee9a0e",
   "metadata": {},
   "outputs": [
    {
     "name": "stdout",
     "output_type": "stream",
     "text": [
      "ay\n",
      "plüto\n",
      "satürn\n",
      "güneş\n",
      "satürn\n"
     ]
    }
   ],
   "source": [
    "argu(d = \"güneş\", a =\"ay\", b= \"plüto\", c = \"satürn\") #her şeyi keyword argument olarak atadık,sorun olmadı."
   ]
  },
  {
   "cell_type": "markdown",
   "id": "9680fef4",
   "metadata": {},
   "source": [
    "pos. ve keyword tanımlayabiliriz\n",
    "pos. ve keyword çağırabiliriz.\n",
    "Tanımlamanın bir sürü \n",
    "ama çağırırken önce mutlaka pos. çağırmalıyız."
   ]
  },
  {
   "cell_type": "code",
   "execution_count": 89,
   "id": "e44bfb71",
   "metadata": {},
   "outputs": [],
   "source": [
    "#positional ile tanımlayıp keywords ile çağıralım.\n",
    "def fonksiyon(x, y):\n",
    "    print(x, y, \"yaşındadır. \")"
   ]
  },
  {
   "cell_type": "code",
   "execution_count": 90,
   "id": "44cbae79",
   "metadata": {},
   "outputs": [
    {
     "name": "stdout",
     "output_type": "stream",
     "text": [
      "ahmet 40 yaşındadır. \n"
     ]
    }
   ],
   "source": [
    "fonksiyon(x=\"ahmet\", y =40)  # y = 40, x = \"ahmet\" ----> şeklinde de olurdu: çünkü keywords ile çağırdık."
   ]
  },
  {
   "cell_type": "code",
   "execution_count": 92,
   "id": "31ce86d1",
   "metadata": {},
   "outputs": [],
   "source": [
    "#keywords arguman ile tanımlayıp, positional ile çağıralım.\n",
    "def bifonk(x = \"ahmet\", y = 48):\n",
    "    print(x, y, \"yaşındadır. \")"
   ]
  },
  {
   "cell_type": "code",
   "execution_count": 93,
   "id": "4c3181e3",
   "metadata": {},
   "outputs": [
    {
     "name": "stdout",
     "output_type": "stream",
     "text": [
      "ahmet 48 yaşındadır. \n"
     ]
    }
   ],
   "source": [
    "bifonk() #positional argument ile çağırdık."
   ]
  },
  {
   "cell_type": "code",
   "execution_count": null,
   "id": "cb51b158",
   "metadata": {},
   "outputs": [],
   "source": [
    "def function(a):\n",
    "    pass #actually, \"pass\" does nothing. it just moves to the next line of code\n",
    "#kodun hata vermesine izin vermez. bu kodu pas geçer bir sonraki satıra atlar.\n",
    "\n",
    "function(0, a=0)"
   ]
  },
  {
   "cell_type": "markdown",
   "id": "7e3f9101",
   "metadata": {},
   "source": [
    "## ARBİTRAY NUMBER OF ARGUMENTS (BELİRSİZ SAYIDA ARGUMANLAR)"
   ]
  },
  {
   "cell_type": "code",
   "execution_count": 102,
   "id": "13f81b44",
   "metadata": {},
   "outputs": [],
   "source": [
    "def city(capital, continent = \"Europe\"):  # 1 pos , ve 1 keyword ile tanımlamış.\n",
    "    print(capital, \"in\", continent)"
   ]
  },
  {
   "cell_type": "code",
   "execution_count": 103,
   "id": "4e559f9c",
   "metadata": {},
   "outputs": [
    {
     "name": "stdout",
     "output_type": "stream",
     "text": [
      "Athens in Europe\n",
      "Ulaanbaatar in Asia\n",
      "cape Town in Africa\n"
     ]
    }
   ],
   "source": [
    "city (\"Athens\")     #we don't have to pass any arguments into 'continent'                  tek pos.ile çağırdık.\n",
    "city ('Ulaanbaatar', continent = \"Asia\") # we can change the default value by kwargs       pos, key ile çağırdık\n",
    "city ('cape Town', 'Africa')  #we can change the default value by positional args.         iki pos. ile çağırdık."
   ]
  },
  {
   "cell_type": "markdown",
   "id": "11c712e6",
   "metadata": {},
   "source": [
    "default arguments;\n",
    "basic usage of the arguments:\n",
    "    possitional\n",
    "    keyword\n",
    "    \n",
    "*args and ** kwargs ile çağırılır.\n",
    "\n",
    "def name (*parameter)\n",
    "    name(multiple args)\n",
    "    \n",
    "def name (** parameter)\n",
    "    name(multiple kwargs)"
   ]
  },
  {
   "cell_type": "code",
   "execution_count": 112,
   "id": "762ef2b2",
   "metadata": {},
   "outputs": [],
   "source": [
    "def fruiterer (fruit1, fruit2):\n",
    "    print(\"I want to get\", fruit1, \"and\", fruit2)"
   ]
  },
  {
   "cell_type": "code",
   "execution_count": 113,
   "id": "d16983bd",
   "metadata": {},
   "outputs": [
    {
     "name": "stdout",
     "output_type": "stream",
     "text": [
      "I want to get orange and banana\n"
     ]
    }
   ],
   "source": [
    "fruiterer(\"orange\", \"banana\")"
   ]
  },
  {
   "cell_type": "code",
   "execution_count": 148,
   "id": "82834c47",
   "metadata": {},
   "outputs": [
    {
     "name": "stdout",
     "output_type": "stream",
     "text": [
      "I want to get: \n",
      "- orange\n",
      "- banana\n",
      "- melon\n",
      "- ananas\n"
     ]
    }
   ],
   "source": [
    "def fruiterer(*fruit):   #başına * koyarak tek bir parametre ile tanımlayıp, birden fazla argumentle çağırabiliriz.\n",
    "#burada yazılan * bu fruit parametresi; iterable a dönüşür. Dolayısıyla bu iterable ı fonk gövdesi içinde iterable \n",
    "# muamelesi yapmak zorundayız.\n",
    "    print('I want to get: ')\n",
    "    for i in fruit:\n",
    "        print('-', i)\n",
    "fruiterer('orange', 'banana', 'melon', 'ananas')"
   ]
  },
  {
   "cell_type": "code",
   "execution_count": 149,
   "id": "aa43678d",
   "metadata": {},
   "outputs": [],
   "source": [
    "# tek yıldız * ile olunca tuple olur.\n",
    "# çift yıldız ile ** olunca dict olur."
   ]
  },
  {
   "cell_type": "code",
   "execution_count": 150,
   "id": "6fd7ddfb",
   "metadata": {},
   "outputs": [
    {
     "name": "stdout",
     "output_type": "stream",
     "text": [
      "<class 'tuple'>\n"
     ]
    }
   ],
   "source": [
    "def fruiterer(*fruit): #tuple halinde bir iterable oluşturdu. positional ---> tuple halinde bir iterable oluşturdu.\n",
    "    print(type(fruit))\n",
    "fruiterer('orange', 'banana', 'melon', 'ananas')"
   ]
  },
  {
   "cell_type": "code",
   "execution_count": 151,
   "id": "1ac023b8",
   "metadata": {},
   "outputs": [
    {
     "name": "stdout",
     "output_type": "stream",
     "text": [
      "<class 'tuple'>\n"
     ]
    }
   ],
   "source": [
    "fruiterer(\"elma\") # iterasyon yapmadığımız sürece bu tuple dır fakat iterasyon yapınca her değer kendi tipinde çıkar."
   ]
  },
  {
   "cell_type": "code",
   "execution_count": 156,
   "id": "393a3a25",
   "metadata": {},
   "outputs": [
    {
     "name": "stdout",
     "output_type": "stream",
     "text": [
      "I want to get: \n",
      "elma\n",
      "2\n",
      "(1, 2)\n"
     ]
    }
   ],
   "source": [
    "def meyve(*listem):         #pastanın dilimlenmesi örneği. pasta ---> tuple ( * listem) \n",
    "    print('I want to get: ')\n",
    "    for i in listem:\n",
    "        print(i) \n",
    "meyve(\"elma\", 2, (1, 2))  # slash lama gibi düşün, her dilimde farklı bir şey olabilir(tuple, str,int) --->kendi tipinde çıkar."
   ]
  },
  {
   "cell_type": "code",
   "execution_count": 126,
   "id": "d76d0d64",
   "metadata": {},
   "outputs": [
    {
     "name": "stdout",
     "output_type": "stream",
     "text": [
      "I want to get: \n",
      "- elma\n"
     ]
    }
   ],
   "source": [
    "meyve(\"elma\") #fonk gönderdiğimiz tek bir değeri iterate etti."
   ]
  },
  {
   "cell_type": "code",
   "execution_count": 163,
   "id": "d4992df3",
   "metadata": {},
   "outputs": [],
   "source": [
    "#arbitry number of (sayısı belirsiz argument ile)\n",
    "def slicer (* num):\n",
    "    evens = []\n",
    "    odds = []\n",
    "    for i in num:\n",
    "        if i % 2 == 0:\n",
    "            evens.append(i)\n",
    "        else:\n",
    "            odds.append(i)\n",
    "    print(\"event list:\", evens)\n",
    "    print(\"odd list:\", odds)         "
   ]
  },
  {
   "cell_type": "code",
   "execution_count": 164,
   "id": "136e8aa7",
   "metadata": {},
   "outputs": [
    {
     "name": "stdout",
     "output_type": "stream",
     "text": [
      "event list: [2, 4, 6, 8]\n",
      "odd list: [1, 3, 5, 7, 9]\n"
     ]
    }
   ],
   "source": [
    "slicer(1, 2, 3, 4, 5, 6, 7, 8, 9)  "
   ]
  },
  {
   "cell_type": "code",
   "execution_count": 165,
   "id": "da05f6e6",
   "metadata": {},
   "outputs": [],
   "source": [
    "def slicer(* numbers) :\n",
    "    evens=[numbers[1::2]]\n",
    "    odds=[numbers[0::2]]\n",
    "    print('odd list =', odds)\n",
    "    print('even_list =', evens)"
   ]
  },
  {
   "cell_type": "code",
   "execution_count": 166,
   "id": "ed7616dc",
   "metadata": {},
   "outputs": [
    {
     "name": "stdout",
     "output_type": "stream",
     "text": [
      "odd list = [(1, 3, 5, 7, 9)]\n",
      "even_list = [(2, 4, 6, 8)]\n"
     ]
    }
   ],
   "source": [
    "slicer(1, 2, 3, 4, 5, 6, 7, 8, 9) "
   ]
  },
  {
   "cell_type": "code",
   "execution_count": 168,
   "id": "dbcf2bdc",
   "metadata": {},
   "outputs": [],
   "source": [
    "def slicer(* numbers) :\n",
    "    evens=[numbers[2]]\n",
    "    odds=[numbers[0]]\n",
    "    print('odd list =', odds)\n",
    "    print('even_list =', evens)"
   ]
  },
  {
   "cell_type": "code",
   "execution_count": 169,
   "id": "a6e8d482",
   "metadata": {},
   "outputs": [
    {
     "name": "stdout",
     "output_type": "stream",
     "text": [
      "odd list = [1]\n",
      "even_list = [3]\n"
     ]
    }
   ],
   "source": [
    "slicer(1, 2, 3, 4, 5, 6, 7, 8, 9)"
   ]
  },
  {
   "cell_type": "markdown",
   "id": "f978fc6f",
   "metadata": {},
   "source": [
    "the ***kwargs works in accordance with the format of the dicts***\n",
    "çağırdığımız keywordler dict. dönüşecek."
   ]
  },
  {
   "cell_type": "code",
   "execution_count": 139,
   "id": "0dc296dc",
   "metadata": {},
   "outputs": [
    {
     "name": "stdout",
     "output_type": "stream",
     "text": [
      "Lions are Carnivores\n",
      "Bears are Omnivers\n",
      "Deers are Herbivores\n",
      "Human are Nomnivores\n"
     ]
    }
   ],
   "source": [
    "def animals(** kwargs):  # dict. şeklinde bir iterable oluşturdu. keyword ---> dict. iterable\n",
    "    for key, value in kwargs.items():\n",
    "        print(value, \"are\", key) #önce value sonra key şeklinde tanımlandığı için böyle çıktı verecek.\n",
    "animals(Carnivores =\"Lions\", Omnivers = \"Bears\", Herbivores = 'Deers', Nomnivores = 'Human') #key and value şeklinde çağırdık."
   ]
  },
  {
   "cell_type": "code",
   "execution_count": 143,
   "id": "107f9d9d",
   "metadata": {},
   "outputs": [],
   "source": [
    "def organizer(** people):\n",
    "    names = []\n",
    "    ages = []\n",
    "    \n",
    "    for keys, values in people.items():\n",
    "        names.append(keys)\n",
    "        ages.append(values)\n",
    "    print(names, ages, sep = '\\n')  "
   ]
  },
  {
   "cell_type": "code",
   "execution_count": 145,
   "id": "7d4ad858",
   "metadata": {},
   "outputs": [
    {
     "name": "stdout",
     "output_type": "stream",
     "text": [
      "['Beth', 'Oscar', 'Justin']\n",
      "[26, 41, 18]\n"
     ]
    }
   ],
   "source": [
    "organizer(Beth = 26, Oscar = 41, Justin = 18) #burada isteğimiz kadar yazabiliriz. "
   ]
  },
  {
   "cell_type": "code",
   "execution_count": 146,
   "id": "1f72be47",
   "metadata": {},
   "outputs": [
    {
     "name": "stdout",
     "output_type": "stream",
     "text": [
      "['Beth', 'Oscar', 'Justin', 'asuman', 'enes']\n",
      "[26, 41, 18, 38, 7]\n"
     ]
    }
   ],
   "source": [
    "organizer(Beth = 26, Oscar = 41, Justin = 18, asuman = 38, enes = 7) #burada isteğimiz kadar yazabiliriz. \n",
    "# dict key leri str çeviriyordu burada aynı şekilde\n",
    "# names yani key ler dict içindeki gibi str ye dönüşür."
   ]
  },
  {
   "cell_type": "code",
   "execution_count": 147,
   "id": "c7ecb1e5",
   "metadata": {},
   "outputs": [
    {
     "data": {
      "text/plain": [
       "{'ali': 11, 'deli': 22, 'veli': 50}"
      ]
     },
     "execution_count": 147,
     "metadata": {},
     "output_type": "execute_result"
    }
   ],
   "source": [
    "dict(ali = 11, deli = 22, veli = 50) #buradaki ali = değişken, 11 =değerdir. bu durum fonk. içinde kullanılırsa\n",
    "                                    # bu değişken keyword argumen oluyor. Yukardaki gibi dict. olduğunde ise değşken (\"ali\")\n",
    "                                # dict.nin key i olur str ye dönüşür. Fakat Argumen str olarak tanımlanamaz çünkü str e değer\n",
    "                                    # atanmaz."
   ]
  },
  {
   "cell_type": "markdown",
   "id": "0e20b810",
   "metadata": {},
   "source": [
    "### Kullandığımız parametre ---> itareble oluyor bu yıldızları kullandıktan sonra;\n",
    "def name (multiple parameters)\n",
    "    name (* variable)\n",
    "def name (multiple parameters)\n",
    "    name (** variable)"
   ]
  },
  {
   "cell_type": "code",
   "execution_count": 181,
   "id": "4fbac2fc",
   "metadata": {},
   "outputs": [],
   "source": [
    "fibo = [1, 1]"
   ]
  },
  {
   "cell_type": "code",
   "execution_count": 182,
   "id": "385acabe",
   "metadata": {},
   "outputs": [],
   "source": [
    "for i in range(8):\n",
    "    fibo.append(fibo[i] + fibo[i + 1])"
   ]
  },
  {
   "cell_type": "code",
   "execution_count": 183,
   "id": "75677899",
   "metadata": {},
   "outputs": [
    {
     "data": {
      "text/plain": [
       "[1, 1, 2, 3, 5, 8, 13, 21, 34, 55]"
      ]
     },
     "execution_count": 183,
     "metadata": {},
     "output_type": "execute_result"
    }
   ],
   "source": [
    "fibo"
   ]
  },
  {
   "cell_type": "code",
   "execution_count": 184,
   "id": "092f3790",
   "metadata": {},
   "outputs": [
    {
     "name": "stdout",
     "output_type": "stream",
     "text": [
      "Bir sayı giriniz: 10\n"
     ]
    },
    {
     "data": {
      "text/plain": [
       "[1, 1, 2, 3, 5, 8, 13, 21, 34, 55]"
      ]
     },
     "execution_count": 184,
     "metadata": {},
     "output_type": "execute_result"
    }
   ],
   "source": [
    "n = int(input(\"Bir sayı giriniz: \"))\n",
    "fibo = [1, 1]\n",
    "for i in range(n-2):\n",
    "    fibo.append(fibo[i] + fibo[i + 1])\n",
    "fibo"
   ]
  },
  {
   "cell_type": "code",
   "execution_count": 190,
   "id": "3dc5b0a8",
   "metadata": {},
   "outputs": [],
   "source": [
    "cümle = \"a silver sky, gümüşten bir bulut\""
   ]
  },
  {
   "cell_type": "code",
   "execution_count": 195,
   "id": "27ade7cc",
   "metadata": {},
   "outputs": [],
   "source": [
    "def ünlü(letter):\n",
    "    ünlüler = \"a e u ü i i o ö\".split()  # listeye çevirdik split ile.\n",
    "    if letter.lower() in ünlüler:\n",
    "        return True\n",
    "    else:\n",
    "        return False"
   ]
  },
  {
   "cell_type": "code",
   "execution_count": 196,
   "id": "e26bf034",
   "metadata": {},
   "outputs": [],
   "source": [
    "filtered_ünlü = filter(ünlü, cümle) # filter fonk. içine bir fonk. birde iterable alır"
   ]
  },
  {
   "cell_type": "code",
   "execution_count": 197,
   "id": "ebdf5f72",
   "metadata": {},
   "outputs": [
    {
     "data": {
      "text/plain": [
       "['a', 'i', 'e', 'ü', 'ü', 'e', 'i', 'u', 'u']"
      ]
     },
     "execution_count": 197,
     "metadata": {},
     "output_type": "execute_result"
    }
   ],
   "source": [
    "list(filtered_ünlü) #görünür hale getirmek için colletion içine atmalıyız filter fonk. tek sefer çalışır, 2. de içi boşalır.\n",
    "#ikinci çalıştırmada boş list verecek, yeniden asign etmek lazım."
   ]
  },
  {
   "cell_type": "code",
   "execution_count": null,
   "id": "b0105c5b",
   "metadata": {},
   "outputs": [],
   "source": []
  }
 ],
 "metadata": {
  "kernelspec": {
   "display_name": "Python 3 (ipykernel)",
   "language": "python",
   "name": "python3"
  },
  "language_info": {
   "codemirror_mode": {
    "name": "ipython",
    "version": 3
   },
   "file_extension": ".py",
   "mimetype": "text/x-python",
   "name": "python",
   "nbconvert_exporter": "python",
   "pygments_lexer": "ipython3",
   "version": "3.10.4"
  }
 },
 "nbformat": 4,
 "nbformat_minor": 5
}
