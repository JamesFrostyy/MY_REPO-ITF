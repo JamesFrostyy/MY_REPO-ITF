{
 "cells": [
  {
   "cell_type": "code",
   "execution_count": 30,
   "id": "65b0e75d",
   "metadata": {},
   "outputs": [
    {
     "name": "stdout",
     "output_type": "stream",
     "text": [
      "A Hoax Number\n",
      "A Hoax Number\n",
      "Not Hoax Number\n"
     ]
    }
   ],
   "source": [
    "#Given a number 'n', check whether it is a hoax number or not. \n",
    "#A Hoax Number is defined as a composite number, whose sum of digits is equal to the sum of digits of its distinct prime factors. It may be noted here that, 1 is not considered a prime number, hence it is not included in the sum of digits of distinct prime factors.\n",
    "#Examples : \n",
    "\n",
    "#Input : 22 \n",
    "#Output : A Hoax Number\n",
    "#Explanation : The distinct prime factors of 22 \n",
    "#are 2 and 11. The sum of their digits are 4, \n",
    "#i.e 2 + 1 + 1 and sum of digits of 22 is also 4.\n",
    "\n",
    "#Input : 84\n",
    "#Output : A Hoax Number\n",
    "#Explanation : The distinct prime factors of 84 \n",
    "#are 2, 3 and 7. The sum of their digits are 12, \n",
    "#i.e 2 + 3 + 4 and sum of digits of 84 is also 12.\n",
    "\n",
    "#Input : 19\n",
    "#Output : Not a Hoax Number\n",
    "#Explanation : By definition, a hoax number is \n",
    "#a composite number.\n",
    "\n",
    "def hoax(x):\n",
    "  number=0\n",
    "  for j in str(x):\n",
    "    number+=int(j)\n",
    "  prime=set()\n",
    "  num=2\n",
    "  while x>1:\n",
    "    if x%num==0:\n",
    "      prime.add(num)\n",
    "      x=x/num\n",
    "    else:\n",
    "      num+=1\n",
    "  ttl=0\n",
    "  for i in prime:\n",
    "    for k in str(i):\n",
    "      ttl+=int(k)\n",
    "  if len(prime)==1:\n",
    "      return \"Not Hoax Number\"\n",
    "  elif ttl==number:\n",
    "      return \"A Hoax Number\"\n",
    "  else:\n",
    "      return \"Not Hoax Number\"\n",
    "print(hoax(22))\n",
    "print(hoax(84))\n",
    "print(hoax(19))"
   ]
  },
  {
   "cell_type": "code",
   "execution_count": 31,
   "id": "a0422a5d",
   "metadata": {},
   "outputs": [
    {
     "name": "stdout",
     "output_type": "stream",
     "text": [
      "False\n",
      "True\n",
      "True\n",
      "False\n",
      "True\n",
      "True\n",
      "True\n",
      "False\n",
      "False\n",
      "False\n"
     ]
    }
   ],
   "source": [
    "#Given a number n, the task is to find out whether this number is smith or not. A Smith Number is a composite number whose sum of digits is equal to the sum of digits in its prime factorization. Examples:\n",
    "\n",
    "#Input  : n = 4\n",
    "#Output : Yes\n",
    "#Prime factorization = 2, 2  and 2 + 2 = 4\n",
    "#Therefore, 4 is a smith number\n",
    "\n",
    "#Input  : n = 6\n",
    "#Output : No\n",
    "#Prime factorization = 2, 3  and 2 + 3 is\n",
    "#not 6. Therefore, 6 is not a smith number\n",
    "\n",
    "#Input   : n = 666\n",
    "#Output  : Yes\n",
    "#Prime factorization = 2, 3, 3, 37 and\n",
    "#2 + 3 + 3 + (3 + 7) = 6 + 6 + 6 = 18\n",
    "#Therefore, 666 is a smith number\n",
    "\n",
    "#Input   : n = 13\n",
    "#Output  : No\n",
    "#Prime factorization = 13 and 13 = 13,\n",
    "#But 13 is not a smith number as it is not\n",
    "#a composite number\n",
    "\n",
    "\n",
    "\n",
    "def issmith(x):\n",
    "  sumnum=0\n",
    "  for i in str(x):\n",
    "    sumnum+=int(i)\n",
    "  sum=[]\n",
    "  prime=2\n",
    "  result=0\n",
    "  while x>1:\n",
    "    if x%prime==0:\n",
    "         sum.append(prime)\n",
    "         x=x/prime\n",
    "    else:\n",
    "      prime+=1\n",
    "  if len(sum)==1:\n",
    "      return False\n",
    "  else:\n",
    "    for i in set(sum):\n",
    "      for j in str(i):\n",
    "        result+=int(j)*sum.count(i)\n",
    "    return result==sumnum\n",
    "  \n",
    "  \n",
    "print(issmith(6))\n",
    "print(issmith(666))\n",
    "print(issmith(4))\n",
    "print(issmith(13))\n",
    "print(issmith(166))\n",
    "print(issmith(202))\n",
    "print(issmith(265))\n",
    "print(issmith(57))\n",
    "print(issmith(75))\n",
    "print(issmith(92))"
   ]
  },
  {
   "cell_type": "code",
   "execution_count": 32,
   "id": "82f48fa9",
   "metadata": {},
   "outputs": [
    {
     "name": "stdout",
     "output_type": "stream",
     "text": [
      "3\n",
      "-1\n"
     ]
    }
   ],
   "source": [
    "#Given two numbers n and k, print k-th prime factor among all prime factors of n. For example, if the input number is 15 and k is 2, then output should be \"5\". And if the k is 3, then output should be \"-1\" (there are less than k prime factors). \n",
    "#Examples: \n",
    " \n",
    "\n",
    "#Input : n = 225, k = 2        \n",
    "#Output : 3\n",
    "#Prime factors are 3 3 5 5. Second\n",
    "#prime factor is 3.\n",
    "\n",
    "#Input : n = 81, k = 5\n",
    "#Output : -1\n",
    "#Prime factors are 3 3 3 3\n",
    "def primefactor(x,y):\n",
    "  prime=[]\n",
    "  num=2\n",
    "  while x>1:\n",
    "    if x%num==0:\n",
    "      prime.append(num)\n",
    "      x=x/num\n",
    "    else:\n",
    "      num+=1\n",
    "  if y>=len(prime):\n",
    "    return -1\n",
    "  else:\n",
    "    return prime[y-1]\n",
    "print(primefactor(225,2))\n",
    "print(primefactor(81,5))"
   ]
  },
  {
   "cell_type": "code",
   "execution_count": 33,
   "id": "21e5ad7e",
   "metadata": {},
   "outputs": [
    {
     "name": "stdout",
     "output_type": "stream",
     "text": [
      "True\n",
      "False\n"
     ]
    }
   ],
   "source": [
    "# A Sphenic Number is a positive integer n which is product of exactly three distinct primes. The first few sphenic numbers are 30, 42, 66, 70, 78, 102, 105, 110, 114, … \n",
    "# Given a number n, determine whether it is a Sphenic Number or not. \n",
    "\n",
    "# Examples: \n",
    "\n",
    "# Input : 30\n",
    "# Output : Yes\n",
    "# Explanation : 30 is the smallest Sphenic number, \n",
    "          # 30 = 2 × 3 × 5 \n",
    "          # the product of the smallest three primes\n",
    "\n",
    "# Input : 60\n",
    "# Output : No\n",
    "# Explanation : 60 = 22 x 3 x 5\n",
    "              # has exactly 3 prime factors but\n",
    "              # is not a sphenic number\n",
    "\n",
    "def sphenic(x):\n",
    "  temp=x\n",
    "  prime=set()\n",
    "  count=2\n",
    "  result=1\n",
    "  while x>1:\n",
    "    if x%count==0:\n",
    "      prime.add(count)\n",
    "      x=x/count\n",
    "    else:\n",
    "      count+=1\n",
    "  for i in prime:\n",
    "    result*=i\n",
    "  return  result==temp\n",
    "print(sphenic(30))\n",
    "print(sphenic(60))"
   ]
  },
  {
   "cell_type": "markdown",
   "id": "1bcc0ae0",
   "metadata": {},
   "source": [
    "SORU;  Have the function StringChallenge(**str**) take the **str** parameter being passed and modify it using the following algorithm. Replace every letter in the string with the letter following it in the alphabet (**ie.** c becomes d, z becomes a). Then capitalize every vowel in this new string (a, e, i, o, u) and finally return this modified string."
   ]
  },
  {
   "cell_type": "code",
   "execution_count": 5,
   "id": "5f9f704a",
   "metadata": {},
   "outputs": [],
   "source": [
    "encrypted_message = ''  #şifrelencek mesajı tanımlıyoruz \n",
    " \n",
    "alphabet=['a','b' ,'c' , 'd', 'e', 'f', 'g' ,'h' ,'i' ,'j','k' ,'l' ,'m' ,'n' ,\n",
    "    'o' ,'p' ,'r' ,'s' ,'t' ,'u' ,'v', 'y' ,'z']  #alfabenin uzunluğuna ihtiyacımız olucak.\n",
    " \n",
    "message = 'abc'            #Şifrelenecek mesaj giriliyor.\n",
    "for i in message:           #mesajımızın her karakterine for yardımı ile ulaşırız\n",
    "       \n",
    "    encrypted_message += alphabet[(alphabet.index(i)+3) % len(alphabet)]\n",
    "       #şifrelenmiş mesaja alfabenin i. indexinden +3 miktar uzaktaki karaktere\n",
    "       #erişiyorum (% len(alphabet)-> eğer +3 yaptığımızda alfabenin uzunluğundan\n",
    "       #büyük bir index elde edersek hata alırız. Onun için alfabenin boyuna \n",
    "       #bölerek mod alıyoruz. Böylelikle, diyelimki 27miktar kaydırma istenildiğinde\n",
    "       #27%26 = 1 (kalan 1) olacağından 1 ötedeki harfa kaydırma yapılsın."
   ]
  },
  {
   "cell_type": "code",
   "execution_count": 23,
   "id": "e6a83fee",
   "metadata": {},
   "outputs": [
    {
     "name": "stdout",
     "output_type": "stream",
     "text": [
      "give me a word : azu\n",
      "b{v"
     ]
    }
   ],
   "source": [
    "char = input(\"give me a word : \")\n",
    "for i in char:\n",
    "  if i.isalpha():\n",
    "    print(chr(ord(i)+1), end =\"\")\n",
    "  else:\n",
    "     print(i, end =\"\")"
   ]
  },
  {
   "cell_type": "code",
   "execution_count": 27,
   "id": "73a827eb",
   "metadata": {},
   "outputs": [
    {
     "name": "stdout",
     "output_type": "stream",
     "text": [
      "give me a word : z\n",
      "give me a number : 3\n",
      "c"
     ]
    }
   ],
   "source": [
    "char = input(\"give me a word : \")\n",
    "num = int(input(\"give me a number : \"))\n",
    "for i in char:\n",
    "  a = ord(i) + num\n",
    "  if i.isalpha() and a < 122:\n",
    "    print(chr(ord(i)+num), end =\"\")\n",
    "  elif a > 122:\n",
    "      print(chr(ord(i)+num-26), end =\"\")\n",
    "  else:\n",
    "     print(i, end =\"\")"
   ]
  },
  {
   "cell_type": "code",
   "execution_count": 28,
   "id": "36a589db",
   "metadata": {},
   "outputs": [
    {
     "name": "stdout",
     "output_type": "stream",
     "text": [
      "please enter a word==>z\n",
      "Please enter a number ==>3\n",
      "d\n"
     ]
    }
   ],
   "source": [
    "a = []\n",
    "vowel_list = [\"a\",\"e\",\"i\",\"o\",\"u\"]\n",
    "words= input(\"please enter a word==>\")\n",
    "number = input(\"Please enter a number ==>\")\n",
    "for i in words:\n",
    "    if i.isalpha() and ord(i)+int(number) > 122 and chr((ord(i)+int(number)- 122)+ord(\"a\")-1) in vowel_list:       \n",
    "        a.append(chr((ord(i)+int(number)- 122)+ord(\"a\")-1).capitalize())\n",
    "    elif i.isalpha() and ord(i)+int(number) > 122:\n",
    "        a.append(chr((ord(i)+int(number)- 122)+ord(\"a\")-1))\n",
    "    elif i.isalpha() and chr(ord(i)+int(number)) in vowel_list:\n",
    "        a.append(chr((ord(i)+int(number))).capitalize())\n",
    "    elif i.isalpha():\n",
    "        a.append(chr(ord(i)+int(number)))\n",
    "    else:\n",
    "        a.append(i)\n",
    "a=\"\".join(a)\n",
    "print(a)"
   ]
  },
  {
   "cell_type": "code",
   "execution_count": 6,
   "id": "1cf38e53",
   "metadata": {},
   "outputs": [
    {
     "data": {
      "text/plain": [
       "'Ifmmp*3'"
      ]
     },
     "execution_count": 6,
     "metadata": {},
     "output_type": "execute_result"
    }
   ],
   "source": [
    "alpha = \"abcdefghijklmnopqrstuvwxyz\"\n",
    "vowels = \"aeiou\"\n",
    "\n",
    "def StringChallenge(text) :\n",
    "  new_text = \"\"\n",
    "  for i in text :\n",
    "    if i.isalpha() :\n",
    "      new_text += alpha[(alpha.index(i)+1) % len(alpha)]\n",
    "    else :\n",
    "      new_text += i\n",
    "\n",
    "  for j in new_text :\n",
    "    if j in vowels :\n",
    "      new_text = new_text.replace(j, j.upper())\n",
    "\n",
    "  return new_text\n",
    "StringChallenge(\"hello*3\")"
   ]
  },
  {
   "cell_type": "code",
   "execution_count": 11,
   "id": "78c7a2d9",
   "metadata": {},
   "outputs": [
    {
     "name": "stdout",
     "output_type": "stream",
     "text": [
      "please enter a word==>hello*3\n",
      "Ifmmp*3\n"
     ]
    }
   ],
   "source": [
    "a =\"\"\n",
    "vowel_list = [\"a\",\"e\",\"i\",\"o\",\"u\"]\n",
    "words= input(\"please enter a word==>\")\n",
    "for i in words:\n",
    "    if i == \"z\":\n",
    "        a+=\"a\".upper()\n",
    "    elif i.isalpha() and chr(ord(i)+1) in vowel_list:\n",
    "        a+=chr((ord(i)+1)).upper()\n",
    "    elif i.isalpha():\n",
    "        a+=chr(ord(i)+1)\n",
    "    else:\n",
    "        a+=i\n",
    "print(a)"
   ]
  },
  {
   "cell_type": "code",
   "execution_count": 16,
   "id": "fe3e26f2",
   "metadata": {},
   "outputs": [
    {
     "name": "stdout",
     "output_type": "stream",
     "text": [
      "please enter a word==>z3\n",
      "A3\n"
     ]
    }
   ],
   "source": [
    "a = []\n",
    "vowel_list = [\"a\",\"e\",\"i\",\"o\",\"u\"]\n",
    "words= input(\"please enter a word==>\")\n",
    "for i in words:\n",
    "    if i == \"z\":\n",
    "        a.append(\"a\".upper())\n",
    "    elif i.isalpha() and chr(ord(i)+1) in vowel_list:\n",
    "        a.append(chr((ord(i)+1)).capitalize())\n",
    "    elif i.isalpha():\n",
    "        a.append(chr(ord(i)+1))\n",
    "    else:\n",
    "        a.append(i)\n",
    "a=\"\".join(a)\n",
    "print(a)"
   ]
  },
  {
   "cell_type": "code",
   "execution_count": null,
   "id": "29d2ffbd",
   "metadata": {},
   "outputs": [],
   "source": [
    "def stringchallange(word):\n",
    "    result = ''\n",
    "    vowels = ['a','e','i','o','u']\n",
    "    for i in word:\n",
    "        if i.isalpha():\n",
    "            if ord(i) == 122:\n",
    "                change = chr(97)\n",
    "            else:\n",
    "                change = chr(ord(i)+1)\n",
    "            if change in vowels:\n",
    "                result += change.upper()\n",
    "            else:\n",
    "                result += change\n",
    "        else:\n",
    "            result += i\n",
    "    return result\n",
    "print(stringchallange(\"hello*3\"))"
   ]
  },
  {
   "cell_type": "code",
   "execution_count": null,
   "id": "a54ab5de",
   "metadata": {},
   "outputs": [],
   "source": [
    "import string\n",
    "lower_letters=list(string.ascii_lowercase)\n",
    "vovel=[\"a\",\"e\",\"i\",\"o\",\"u\"]\n",
    "word=input(\"write a word : \")\n",
    "for i in word:\n",
    "  if i in lower_letters:\n",
    "    word=word.replace(i, lower_letters[(lower_letters.index(i)+1)%len(lower_letters)])\n",
    "for i in word:\n",
    "  if i in vovel:\n",
    "    word=word.replace(i, i.upper())\n",
    "print(word)"
   ]
  },
  {
   "cell_type": "code",
   "execution_count": 34,
   "id": "1681ce95",
   "metadata": {},
   "outputs": [
    {
     "name": "stdout",
     "output_type": "stream",
     "text": [
      "kelime giriniz: z\n",
      "A\n"
     ]
    }
   ],
   "source": [
    "import string\n",
    "str_alpa = string.ascii_lowercase\n",
    "ünlüler = \"aeiou\"\n",
    "yeni_kelime = \"\"\n",
    "kelime = input(\"kelime giriniz: \")\n",
    "for i in kelime:\n",
    "  if i.isalpha():\n",
    "    if str_alpa[(str_alpa.index(i) + 1) % len(str_alpa)] in ünlüler:\n",
    "        yeni_kelime += (str_alpa[(str_alpa.index(i) + 1) % len(str_alpa)]).upper()\n",
    "    else:\n",
    "        yeni_kelime += str_alpa[(str_alpa.index(i) + 1) % len(str_alpa)]\n",
    "  else: \n",
    "    yeni_kelime +=i\n",
    "for j in yeni_kelime :\n",
    "    if j in ünlüler :\n",
    "      yeni_kelime = yeni_kelime.replace(j, j.upper())\n",
    "print(yeni_kelime)"
   ]
  },
  {
   "cell_type": "code",
   "execution_count": 35,
   "id": "33e70d86",
   "metadata": {},
   "outputs": [
    {
     "name": "stdout",
     "output_type": "stream",
     "text": [
      "\"hello*3\" and \"fun times!\" Examples:\n",
      "Ifmmp*3\t\tgvO Ujnft!\n"
     ]
    },
    {
     "ename": "AssertionError",
     "evalue": "Wrong Conversion",
     "output_type": "error",
     "traceback": [
      "\u001b[1;31m---------------------------------------------------------------------------\u001b[0m",
      "\u001b[1;31mAssertionError\u001b[0m                            Traceback (most recent call last)",
      "Input \u001b[1;32mIn [35]\u001b[0m, in \u001b[0;36m<cell line: 19>\u001b[1;34m()\u001b[0m\n\u001b[0;32m     23\u001b[0m \u001b[38;5;28;01massert\u001b[39;00m StringChallenge(\u001b[38;5;124m\"\u001b[39m\u001b[38;5;124mhello*3\u001b[39m\u001b[38;5;124m\"\u001b[39m,\u001b[38;5;241m1\u001b[39m) \u001b[38;5;241m==\u001b[39m \u001b[38;5;124m\"\u001b[39m\u001b[38;5;124mIfmmp*3\u001b[39m\u001b[38;5;124m\"\u001b[39m, \u001b[38;5;124m\"\u001b[39m\u001b[38;5;124mWrong Conversion\u001b[39m\u001b[38;5;124m\"\u001b[39m\n\u001b[0;32m     24\u001b[0m \u001b[38;5;28;01massert\u001b[39;00m StringChallenge(\u001b[38;5;124m\"\u001b[39m\u001b[38;5;124mfun times!\u001b[39m\u001b[38;5;124m\"\u001b[39m,\u001b[38;5;241m1\u001b[39m) \u001b[38;5;241m==\u001b[39m \u001b[38;5;124m\"\u001b[39m\u001b[38;5;124mgvO Ujnft!\u001b[39m\u001b[38;5;124m\"\u001b[39m, \u001b[38;5;124m\"\u001b[39m\u001b[38;5;124mWrong Conversion\u001b[39m\u001b[38;5;124m\"\u001b[39m\n\u001b[1;32m---> 25\u001b[0m \u001b[38;5;28;01massert\u001b[39;00m StringChallenge(\u001b[38;5;124m\"\u001b[39m\u001b[38;5;124mZeppelin Zoo!23a\u001b[39m\u001b[38;5;124m\"\u001b[39m,\u001b[38;5;241m1\u001b[39m) \u001b[38;5;241m==\u001b[39m \u001b[38;5;124m\"\u001b[39m\u001b[38;5;124mAfqqfmjO App!23b\u001b[39m\u001b[38;5;124m\"\u001b[39m, \u001b[38;5;124m\"\u001b[39m\u001b[38;5;124mWrong Conversion\u001b[39m\u001b[38;5;124m\"\u001b[39m\n\u001b[0;32m     26\u001b[0m \u001b[38;5;28mprint\u001b[39m(\u001b[38;5;124m\"\u001b[39m\u001b[38;5;124mFunction working as expected!\u001b[39m\u001b[38;5;124m\"\u001b[39m)\n",
      "\u001b[1;31mAssertionError\u001b[0m: Wrong Conversion"
     ]
    }
   ],
   "source": [
    "from string import ascii_lowercase\n",
    "alphabet,alphabet_len,alphabet_vowel=ascii_lowercase,len(alphabet),\"aeiou\"\n",
    "\n",
    "def StringChallenge(string:str,num:int):\n",
    "  converted_string=\"\"\n",
    "  for i in string:\n",
    "    if i.lower() in alphabet:\n",
    "      i=alphabet[(alphabet.index(i.lower())+num)%alphabet_len]\n",
    "      if i in alphabet_vowel:\n",
    "        i=i.capitalize()\n",
    "        converted_string+=i\n",
    "      else:\n",
    "        converted_string+=i\n",
    "    else:\n",
    "      converted_string+=i\n",
    "  return converted_string\n",
    "\n",
    "#These \"asserts\" using only for self-checking\n",
    "if __name__ == '__main__':\n",
    "    print('\"hello*3\" and \"fun times!\" Examples:')\n",
    "    print(StringChallenge(\"hello*3\",1),StringChallenge(\"fun times!\",1),sep=\"\\t\\t\")\n",
    "\n",
    "    assert StringChallenge(\"hello*3\",1) == \"Ifmmp*3\", \"Wrong Conversion\"\n",
    "    assert StringChallenge(\"fun times!\",1) == \"gvO Ujnft!\", \"Wrong Conversion\"\n",
    "    assert StringChallenge(\"Zeppelin Zoo!23a\",1) == \"AfqqfmjO App!23b\", \"Wrong Conversion\"\n",
    "    print(\"Function working as expected!\")"
   ]
  },
  {
   "cell_type": "code",
   "execution_count": 36,
   "id": "3086638d",
   "metadata": {},
   "outputs": [
    {
     "data": {
      "text/plain": [
       "'gvO Ujnft!'"
      ]
     },
     "execution_count": 36,
     "metadata": {},
     "output_type": "execute_result"
    }
   ],
   "source": [
    "def convert(text):\n",
    "  letters=[chr(i) for i in range(97,123)]\n",
    "  vovels=['a','e','i','o','u']\n",
    "  modified=''\n",
    "  for i in text:\n",
    "    if i in letters:\n",
    "      modified+=letters[(letters.index(i)+1)%26]\n",
    "    else:\n",
    "      modified+=i\n",
    "  for i in modified:\n",
    "    if i in vovels:\n",
    "      modified=modified.replace(i,i.upper())\n",
    "  return modified\n",
    "convert('fun times!')"
   ]
  },
  {
   "cell_type": "code",
   "execution_count": null,
   "id": "9cd0e1ab",
   "metadata": {},
   "outputs": [],
   "source": [
    "import string\n",
    "lower_letters = list(string.ascii_lowercase)"
   ]
  },
  {
   "cell_type": "code",
   "execution_count": null,
   "id": "c51e7aa7",
   "metadata": {},
   "outputs": [],
   "source": [
    "lower_letters"
   ]
  },
  {
   "cell_type": "code",
   "execution_count": null,
   "id": "0487b612",
   "metadata": {},
   "outputs": [],
   "source": [
    "BİLGİSAYARIN TUTTUĞU SAYIYI BULMA OYUNU\n",
    "El emeği göz nuru bir soru daha... Bu oyunu lise yıllarında arkadaşlarımla oynardım, bileniniz vardır; iki kişi 4 basamaklı birer sayı tutuyorlar ve her biri karşıdakinin sayısını bulmaya çalışıyor. Sırayla birer tahmin yapılıyor. Eğer tahmin olarak söylediğin sayıda rakibinin tuttuğu sayıda bulunan bir rakamı bulunduğu basamakla birlikte doğru bilirsen, rakibin sana cevap olarak bu şekilde tutturduğun her rakam için bir +, sayısında bulunan fakat hangi basamakta olduğunu yanlış tahmin ettiğin her rakam için de bir - vererek oluşturduğu ifadeyi söylüyor. Mesela rakip 4568 sayısını tutmuşsa ve sen de 4386 demişsen, rakibin sana \"1 artı 2 eksi\" diyor (4 için bir +, 6 ve 8 için de bulundukları basamakları tutturamadığın için birer eksi). Alınan bu feedbacklerle sayıyı bulmaya çalışıyorsun. İlk bulan kazanıyor.\n",
    "Bu oyunu bilgisayarla oynayacağımız bir python programı yazalım. Kurallar şöyle;\n",
    "Bilgisayara 4 basamaklı random bir sayı tutturulacak, bu sayıda her rakamın sadece bir kere kullanılması sağlanacak, burada yazılacak kod parçası bilgisayarın tuttuğu sayıyı kontrol edecek ve eğer mükerrer rakam varsa her rakamı farklı bir sayı tutulmasını sağlayacak.\n",
    "Kullanıcının girdiği input'un 4 basamaklı olduğu, bir rakamın birden fazla kullanılmadığı ve sayılardan oluştuğu kontrol edilip aksi durumda yeni giriş istenecek ve arzulanan tarzda sayı girilene kadar 10 hakkında azalma olmayacak.\n",
    "Bilgisayarın tuttuğu sayıyı bulmaya çalışan kullanıcının 10 hakkı olacak. Her bir tahmininde, eğer sayıyı bulamamışsa, yeni tahmin istenirken kaç hakkı kaldığı da print edilecek.\n",
    " Kullanıcının her tahmininden sonra, kullanıcının girdiği sayı içerisinde bulunan rakamlar bilgisayarın tuttuğu sayıda da var ise; rakamın bulunduğu basamak da doğru bulunmuşsa bir artı, rakam doğru tahmin edilmiş fakat basamağı tutturalamamışsa bir eksi output  edilecek ve yeni bir tahmin girmesi söylenecek. Output edilen bu feedbackten hangi basamaktaki tutturulmuş kullanıcı anlayamamalı, yani artı ve eksilerin sıralaması da değiştirilip output edilmeli! (Bkz: sayı_oyunu.png)\n",
    "10 hak sonunda sayı bulunamazsa bilgisayarın tuttuğu sayı output edilecek.\n",
    "Bak bu kadar yazdım, üç satırda \"aha kod bu\" deyip gayet güzel çalışan kısacık bir kod yazanlara çok pis gıcığım onu söyleyeyim. Kolay gelsin :slightly_smiling_face:... (edited) "
   ]
  },
  {
   "cell_type": "code",
   "execution_count": null,
   "id": "ccd801bc",
   "metadata": {},
   "outputs": [],
   "source": [
    "import random\n",
    "import time\n",
    "while True:\n",
    "    com_num=random.randint(1000,10000)\n",
    "    valid = True\n",
    "    for i in str(com_num):\n",
    "        if str(com_num).count(i) != 1:valid = False\n",
    "    if valid :break\n",
    "print(\"\\n!!!! Randomly selected number by computer is:\",com_num,\" It's displayed for test.. !!!\\n\")\n",
    "def sel_num():\n",
    "    while True:\n",
    "        time.sleep(0.5)\n",
    "        user_num = input(\"Think a number between 1000 and 10000 and enter here: \")\n",
    "        print(\"Hmmm......\\n\")\n",
    "        time.sleep(1)\n",
    "        user_valid = True\n",
    "        if user_num.isnumeric() == False:\n",
    "            print(\"Please enter only numbers !!!\\n\".upper())\n",
    "            user_valid = False\n",
    "            continue\n",
    "        elif not int(user_num) in range(1000,10000):\n",
    "            print(\"Please enter a four-digit number !!!\\n\".upper())\n",
    "            user_valid = False\n",
    "            continue\n",
    "        for i in user_num:\n",
    "            if user_num.count(i) != 1:\n",
    "                print(\"Please enter a number that all digits are uniq\\n\".upper())\n",
    "                user_valid = False\n",
    "                break\n",
    "            continue\n",
    "        if user_valid :\n",
    "            return user_num\n",
    "\n",
    "user_num = sel_num()\n",
    "number_tries=0\n",
    "while number_tries <= 8:\n",
    "    minus_pluslist = []\n",
    "    for i in user_num:\n",
    "        if i in str(com_num):\n",
    "            if user_num.index(i) == str(com_num).index(i): minus_pluslist.append(\"+\")\n",
    "            else:minus_pluslist.append(\"-\")\n",
    "        else:minus_pluslist.append(\"x\")\n",
    "    if minus_pluslist == [\"+\",\"+\",\"+\",\"+\"]:\n",
    "        print(\"***************Congragulations********************\".upper())\n",
    "        break\n",
    "    else:\n",
    "        number_tries += 1\n",
    "        if number_tries == 8:\n",
    "            print(\"LAST CHANCE, BE CAREFULL\\n\")\n",
    "        if number_tries == 9:\n",
    "            print(\"There is no chance to estimate, i,m sorry. The selected number was\",com_num)\n",
    "            exit()\n",
    "        print(\"Tip of number is\",\"\".join(minus_pluslist),\"\\nLet you try again: \")\n",
    "        print(\"rest of number of tries:\",9-number_tries,\"\\n\")\n",
    "        time.sleep(0.5)\n",
    "        user_num = sel_num()"
   ]
  },
  {
   "cell_type": "code",
   "execution_count": null,
   "id": "ef45b314",
   "metadata": {},
   "outputs": [],
   "source": [
    "print(\"Aklımdaki Sayıyı 10 Denemede Bulmaya Çalış.\\n\\\n",
    "1- Aklımdaki sayi 4 basamaklı ve her rakamı farklı.\\n\\\n",
    "2- Tahmin ettiğin sayının basamağı ve rakamı doğru ise her doğru için (+)\\n\\\n",
    "3- Rakam doğru bulunduğu basamak hatalı ise (-) olarak göreceksin.\\n\\n\")\n",
    "import random\n",
    "while True:\n",
    "    aklimda = str(random.randint(1111,9999))\n",
    "    if len(set(aklimda)) == 4:\n",
    "        break\n",
    "hak = 10\n",
    "sonuc = \"\"\n",
    "while hak > 0:\n",
    "    sayi = input(\"Gönder Sayıyı: \")\n",
    "    if sayi == aklimda:\n",
    "        print(f\"Tebrikler...Aklimdaki Sayi : {aklimda}\")\n",
    "        print(f\"Girilen Sayı: {sayi}\\n{10-hak} Denemede sayıyı buldunuz. \")\n",
    "        break\n",
    "    elif sayi.isdigit and len(set(sayi)) == 4:\n",
    "        for i in range(4):\n",
    "            if sayi[i] in aklimda:\n",
    "                if aklimda[i] == sayi[i]:\n",
    "                    sonuc+= \"+ \"\n",
    "                else:\n",
    "                    sonuc += \"- \"\n",
    "        hak -= 1\n",
    "        print(f\"Girilen Sayı: {sayi}\\nKarşılaştırma: {sonuc}\\nKalan Hakkınız: {hak}\\n\")\n",
    "        sonuc = \"\"\n",
    "                \n",
    "\n",
    "    else:\n",
    "        print(\"Hatalı Giriş Yaptınız. Lütfen Tekrar Giriniz\")\n",
    "        continue\n",
    "if hak == 0:\n",
    "    print(f\"Tekrar Dene - Aklimdaki sayi: {aklimda}\")"
   ]
  },
  {
   "cell_type": "code",
   "execution_count": null,
   "id": "548abc1a",
   "metadata": {},
   "outputs": [],
   "source": []
  }
 ],
 "metadata": {
  "kernelspec": {
   "display_name": "Python 3 (ipykernel)",
   "language": "python",
   "name": "python3"
  },
  "language_info": {
   "codemirror_mode": {
    "name": "ipython",
    "version": 3
   },
   "file_extension": ".py",
   "mimetype": "text/x-python",
   "name": "python",
   "nbconvert_exporter": "python",
   "pygments_lexer": "ipython3",
   "version": "3.10.4"
  }
 },
 "nbformat": 4,
 "nbformat_minor": 5
}
