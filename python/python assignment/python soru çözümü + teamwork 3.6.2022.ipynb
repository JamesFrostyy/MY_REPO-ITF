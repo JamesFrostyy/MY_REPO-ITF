{
 "cells": [
  {
   "cell_type": "markdown",
   "id": "e2e275d6",
   "metadata": {},
   "source": [
    "# soru 1"
   ]
  },
  {
   "cell_type": "raw",
   "id": "8049887d",
   "metadata": {},
   "source": [
    "Bir dize kabul eden ve rakam ve harf sayısını hesaplayan bir Python programı yazın. \n",
    "Örnek Veri : Python 3.2\n",
    "Beklenen Çıktı :\n",
    "Harfler 6\n",
    "Rakam 2"
   ]
  },
  {
   "cell_type": "code",
   "execution_count": 34,
   "id": "8fc7238d",
   "metadata": {},
   "outputs": [
    {
     "name": "stdout",
     "output_type": "stream",
     "text": [
      "bir dize giriniz: ameiakeilmka165464564   -++**//\n",
      "dizede 12 harf, 9 rakam, 3 boşluk ve 7 tanede diğer karakter vardır.\n"
     ]
    }
   ],
   "source": [
    "x = input(\"bir dize giriniz: \")\n",
    "letters = 0\n",
    "digit = 0\n",
    "space = 0\n",
    "other = 0\n",
    "x = list(x)\n",
    "for i in x:\n",
    "    if i.isalpha():\n",
    "        letters+=1\n",
    "    elif i.isnumeric():\n",
    "        digit+=1\n",
    "    elif i.isspace():\n",
    "        space+=1\n",
    "    else:\n",
    "        other+=1\n",
    "print(\"dizede {} harf, {} rakam, {} boşluk ve {} tanede diğer karakter vardır.\".format(letters, digit, space, other))"
   ]
  },
  {
   "cell_type": "code",
   "execution_count": 16,
   "id": "4136e92b",
   "metadata": {},
   "outputs": [
    {
     "name": "stdout",
     "output_type": "stream",
     "text": [
      "Bir dize girişi yapın : aüeiü4564564-+üaae\n",
      "Harfler 9, Rakamlar 7\n",
      "9 7 0 2\n"
     ]
    }
   ],
   "source": [
    "dize = input(\"Bir dize girişi yapın : \")\n",
    "\n",
    "harf = 0\n",
    "rakam = 0\n",
    "space = 0\n",
    "other = 0\n",
    "for i in dize:\n",
    "    if i.isspace():\n",
    "        space +=1\n",
    "    elif i.isdigit():\n",
    "        rakam +=1\n",
    "    elif i.isalpha():\n",
    "        harf += 1\n",
    "    else:\n",
    "        other +=1\n",
    "print(f\"Harfler {harf}, Rakamlar {rakam}\")\n",
    "print(harf, rakam, space, other) # kontrol etmek için ekledim."
   ]
  },
  {
   "cell_type": "code",
   "execution_count": null,
   "id": "c52a9d3b",
   "metadata": {},
   "outputs": [],
   "source": [
    "dize = input(\"Bir dize girişi yapın : \")\n",
    "\n",
    "harf = 0\n",
    "rakam = 0\n",
    "space = 0\n",
    "other = 0\n",
    "for i in dize:\n",
    "    if ord(i)>=97 and ord(i)<=122:\n",
    "        harf += 1\n",
    "    elif ord(i)>=65 and ord(i)<=90:\n",
    "        harf += 1\n",
    "    elif ord(i)>=48 and ord(i)<=57:\n",
    "        rakam +=1\n",
    "    elif ord(i)==32:\n",
    "        space +=1\n",
    "    else:\n",
    "        other +=1\n",
    "print(f\"Harfler {harf}, Rakamlar {rakam}, Boşluk {space}, Diğer karakterler {other}\")"
   ]
  },
  {
   "cell_type": "code",
   "execution_count": null,
   "id": "6f145986",
   "metadata": {},
   "outputs": [],
   "source": [
    "words,numbers,neither=0,0,0\n",
    "for i in input(\"enter an object that contains words and numbers :\"):\n",
    "    if i.isalpha():words+=1\n",
    "    elif i.isnumeric():numbers+=1\n",
    "    else:neither+=1\n",
    "print(\"Word:\",words,\"\\nNumber:\",numbers,\"\\nneither word nor number:\",neither)"
   ]
  },
  {
   "cell_type": "markdown",
   "id": "69f9af5a",
   "metadata": {},
   "source": [
    "\n",
    "# soru 2"
   ]
  },
  {
   "cell_type": "markdown",
   "id": "d40312d2",
   "metadata": {},
   "source": [
    "Rakamlarının toplamına tam olarak bölünebilen bir sayıya Harshad denir. Bir sayının Harshad olup olmadığını belirleyen bir fonksiyon oluşturun.\n",
    "\n",
    "is_harshad(75) ➞ Yanlış #7 + 5 = 12 #75 tam olarak 12 ile bölünemez\n",
    "\n",
    "is_harshad(171) ➞ Doğru #1 + 7 + 1 = 9 #9 tam olarak 171'i böler\n",
    "\n",
    "is_harshad(481) ➞ Doğru\n",
    "\n",
    "is_harshad(89) ➞ Yanlış\n",
    "\n",
    "is_harshad(516) ➞ Doğru\n",
    "\n",
    "is_harshad(200) ➞ Doğru"
   ]
  },
  {
   "cell_type": "code",
   "execution_count": null,
   "id": "35b38d64",
   "metadata": {},
   "outputs": [],
   "source": [
    "a = input(\"bir sayı giriniz:\")\n",
    "sum = 0\n",
    "digit = len(a)\n",
    "for i in range(digit):\n",
    "    sum = sum + int(a[i])\n",
    "if (int(a))%sum == 0:\n",
    "    print(\"True\")\n",
    "else:\n",
    "    print(\"False\")"
   ]
  },
  {
   "cell_type": "code",
   "execution_count": null,
   "id": "c93e3cb1",
   "metadata": {},
   "outputs": [],
   "source": [
    "a = input(\"bir sayı giriniz:\")\n",
    "sum = 0\n",
    "for i in a:\n",
    "    sum += int(i)\n",
    "if (int(a))%sum == 0:\n",
    "    print(\"True\")\n",
    "else:\n",
    "    print(\"False\")"
   ]
  },
  {
   "cell_type": "code",
   "execution_count": null,
   "id": "a1aabeb5",
   "metadata": {},
   "outputs": [],
   "source": [
    "num = input(\"enter a number, please!\")\n",
    "num1 =int(num)\n",
    "sum = rem = 0\n",
    "while num1 > 0:\n",
    "  rem = num1%10\n",
    "  sum+=rem\n",
    "  num1 = num1//10\n",
    "if num1/sum == 0:\n",
    "  print(\"is_harshad({} ➞True)\".format(num))\n",
    "else:\n",
    "  print(\"is_harshad({}) ➞ False\".format(num))"
   ]
  },
  {
   "cell_type": "code",
   "execution_count": null,
   "id": "94aa456d",
   "metadata": {},
   "outputs": [],
   "source": [
    "number=input(\"Enter a number: \")\n",
    "harshed= False\n",
    "if int(number)%(sum([int(i) for i in number ])) == 0:harshed = True\n",
    "print(number,\":\",harshed)"
   ]
  },
  {
   "cell_type": "markdown",
   "id": "78f94970",
   "metadata": {},
   "source": [
    "# soru 3"
   ]
  },
  {
   "cell_type": "markdown",
   "id": "41d72f7d",
   "metadata": {},
   "source": [
    "Beni seviyor, beni sevmiyor', bir kişinin bir çiçeğin tüm yapraklarını tek tek koparıp, sevdiği kişiyi belirlerken 'Beni seviyor' ve 'Beni sevmiyor' sözlerini söyleyerek, geleneksel bir oyundur. onları geri seviyor.\n",
    "\n",
    "Bir dizi yaprak verildiğinde, değişen her yaprak için 'Beni seviyor' ve 'Beni sevmiyor' ifadelerini tekrarlayan bir dize döndürün ve son ifadeyi tamamı büyük harflerle döndürün. İfadeler arasına virgül ve boşluk koymayı unutmayın."
   ]
  },
  {
   "cell_type": "code",
   "execution_count": 39,
   "id": "bd21fa8a",
   "metadata": {},
   "outputs": [
    {
     "name": "stdout",
     "output_type": "stream",
     "text": [
      "9\n",
      "Loves me,\n",
      "Loves not me,\n",
      "Loves me,\n",
      "Loves not me,\n",
      "Loves me,\n",
      "Loves not me,\n",
      "Loves me,\n",
      "Loves not me,\n",
      "LOVES ME\n"
     ]
    }
   ],
   "source": [
    "gir = int(input())\n",
    "\n",
    "for i in range(1, gir +1):\n",
    "  if i % 2 == 0:    \n",
    "    if i == gir:\n",
    "      print(\"LOVES NOT ME\")\n",
    "    else:\n",
    "      print(\"Loves not me,\")\n",
    "  else:\n",
    "    if i == gir:\n",
    "      print(\"LOVES ME\")\n",
    "    else:\n",
    "      print(\"Loves me,\")"
   ]
  },
  {
   "cell_type": "code",
   "execution_count": null,
   "id": "a29a669b",
   "metadata": {},
   "outputs": [],
   "source": [
    "a=int(input())\n",
    "for i in range(1,a):\n",
    "  if i%2 !=0:\n",
    "    print(\"Loves me,\",end=\" \")\n",
    "  else:\n",
    "    print(\"Loves me not,\",end=\" \")\n",
    "if a%2==0:\n",
    "  print(\"LOVES ME NOT\")\n",
    "else:\n",
    "  print(\"LOVES ME\")"
   ]
  },
  {
   "cell_type": "code",
   "execution_count": null,
   "id": "3746b5ba",
   "metadata": {},
   "outputs": [],
   "source": [
    "from random import randint\n",
    "\n",
    "value = randint(1, 10)\n",
    "\n",
    "for i in range(1,value+1):\n",
    "    \n",
    "    if i % 2==0 and i!=value:\n",
    "        print(\"Loves me\",end=\",\")       \n",
    "    elif i % 2==0 and i==value:\n",
    "        print(\"LOVES ME\",end=\"\")\n",
    "    elif i % 2==1 and i!=value:\n",
    "        print(\"Loves me not\",end=\",\") \n",
    "    else:\n",
    "        print(\"LOVES ME NOT\",end=\"\")"
   ]
  },
  {
   "cell_type": "code",
   "execution_count": null,
   "id": "1076262f",
   "metadata": {},
   "outputs": [],
   "source": []
  },
  {
   "cell_type": "markdown",
   "id": "34ae6ebe",
   "metadata": {},
   "source": [
    "# soru 4"
   ]
  },
  {
   "cell_type": "markdown",
   "id": "f234a78d",
   "metadata": {},
   "source": [
    "Given a list of words in the singular form, return a set of those words in the plural form if they appear more than once in the list.\n",
    "\n",
    "pluralize([\"cow\", \"pig\", \"cow\", \"cow\"]) ➞ { \"cows\", \"pig\" }\n",
    "\n",
    "pluralize([\"table\", \"table\", \"table\"]) ➞ { \"tables\" }\n",
    "\n",
    "pluralize([\"chair\", \"pencil\", \"arm\"]) ➞ { \"chair\", \"pencil\", \"arm\" }"
   ]
  },
  {
   "cell_type": "markdown",
   "id": "38a4e5cc",
   "metadata": {},
   "source": [
    "Tekil biçimde bir sözcük listesi verildiğinde, listede birden fazla kez görünüyorlarsa, bu sözcüklerin bir kümesini çoğul biçimde döndürün.\n",
    "\n",
    "pluralize(['inek', 'domuz', 'inek', 'inek']) ➞ { 'inekler', 'domuz' }\n",
    "\n",
    "pluralize(['tablo', 'tablo', 'tablo')]) ➞ { 'tablolar' }\n",
    "\n",
    "pluralize(['sandalye', 'kalem', 'kol']) ➞ { 'sandalye', 'kalem', 'kol' }"
   ]
  },
  {
   "cell_type": "code",
   "execution_count": 35,
   "id": "2c50b402",
   "metadata": {},
   "outputs": [
    {
     "data": {
      "text/plain": [
       "{'cows', 'pig'}"
      ]
     },
     "execution_count": 35,
     "metadata": {},
     "output_type": "execute_result"
    }
   ],
   "source": [
    "my_list = [\"cow\", \"pig\", \"cow\", \"cow\"]\n",
    "küme = set()\n",
    "for i in my_list :\n",
    "  if 1 < my_list.count(i):\n",
    "    i = i+\"s\"\n",
    "    küme.add(i)\n",
    "  else :\n",
    "    küme.add(i)\n",
    "küme"
   ]
  },
  {
   "cell_type": "code",
   "execution_count": 32,
   "id": "1c675728",
   "metadata": {},
   "outputs": [
    {
     "name": "stdout",
     "output_type": "stream",
     "text": [
      "['inek', 'domuz']\n"
     ]
    }
   ],
   "source": [
    "x = ['inek', 'domuz', 'inek', 'inek']\n",
    "y = []\n",
    "for i in x:\n",
    "    if i not in y:\n",
    "        y.append(i)\n",
    "print(y)"
   ]
  },
  {
   "cell_type": "markdown",
   "id": "3a94d3b9",
   "metadata": {},
   "source": [
    "# soru 5"
   ]
  },
  {
   "cell_type": "markdown",
   "id": "94eba67b",
   "metadata": {},
   "source": [
    "mail = \"mailto: Clarusway admission@clarusway.com, 6 Haz 2021 Paz, 21:08 tarihinde şunu yazdı:\"\n",
    "\n",
    "Write python code that outputs \"clarusway.com\" from the string in the \"mail\" variable.\n",
    "\n",
    "Expected Output: clarusway.com"
   ]
  },
  {
   "cell_type": "code",
   "execution_count": 15,
   "id": "421ceb29",
   "metadata": {},
   "outputs": [
    {
     "name": "stdout",
     "output_type": "stream",
     "text": [
      "clarusway.com\n"
     ]
    }
   ],
   "source": [
    "mail = \"mailto: Clarusway admission@clarusway.com, 6 Haz 2021 Paz, 21:08 tarihinde şunu yazdı:\"\n",
    "\n",
    "a =(((mail.split('@'))[1]).split(','))[0]\n",
    "\n",
    "print(a)"
   ]
  },
  {
   "cell_type": "code",
   "execution_count": 17,
   "id": "c6b22b7c",
   "metadata": {},
   "outputs": [
    {
     "name": "stdout",
     "output_type": "stream",
     "text": [
      "clarusway.com\n",
      "clarusway.com\n"
     ]
    }
   ],
   "source": [
    "mail = \"mailto: Clarusway admission@clarusway.com, 6 Haz 2021 Paz, 21:08 tarihinde şunu yazdı:\"\n",
    "print(mail[28:41])\n",
    "print(mail[mail.find(\"@\")+1:mail.find(\",\")])"
   ]
  },
  {
   "cell_type": "code",
   "execution_count": null,
   "id": "085f5afc",
   "metadata": {},
   "outputs": [],
   "source": [
    "mail.split(\"@\")[1].split(\",\")[0]"
   ]
  },
  {
   "cell_type": "code",
   "execution_count": null,
   "id": "c39a64ae",
   "metadata": {},
   "outputs": [],
   "source": []
  },
  {
   "cell_type": "markdown",
   "id": "8e15a747",
   "metadata": {},
   "source": [
    "# soru 6 "
   ]
  },
  {
   "cell_type": "markdown",
   "id": "37958646",
   "metadata": {},
   "source": [
    "Write a Python code that find the students who have maximum and minimum average at below.\n",
    "\n",
    "grades={'Student-1': {'Lesson-1': 57, 'Lesson-2': 46, 'Lesson-3': 58, 'Lesson-4': 81, 'Lesson-5': 85}, 'Student-2': {'Lesson-1': 85, 'Lesson-2': 56, 'Lesson-3': 51, 'Lesson-4': 69, 'Lesson-5': 67}, 'Student-3': {'Lesson-1': 68, 'Lesson-2': 76, 'Lesson-3': 87, 'Lesson-4': 57, 'Lesson-5': 56}, 'Student-4': {'Lesson-1': 78, 'Lesson-2': 93, 'Lesson-3': 88, 'Lesson-4': 38, 'Lesson-5': 54}, 'Student-5': {'Lesson-1': 50, 'Lesson-2': 46, 'Lesson-3': 78, 'Lesson-4': 81, 'Lesson-5': 75}}"
   ]
  },
  {
   "cell_type": "code",
   "execution_count": null,
   "id": "65e65648",
   "metadata": {},
   "outputs": [],
   "source": [
    "grades={'Student-1': {'Lesson-1': 57, 'Lesson-2': 46, 'Lesson-3': 58, 'Lesson-4': 81, 'Lesson-5': 85},\n",
    "        'Student-2': {'Lesson-1': 85, 'Lesson-2': 56, 'Lesson-3': 51, 'Lesson-4': 69, 'Lesson-5': 67}, \n",
    "        'Student-3': {'Lesson-1': 68, 'Lesson-2': 76, 'Lesson-3': 87, 'Lesson-4': 57, 'Lesson-5': 56}, \n",
    "        'Student-4': {'Lesson-1': 78, 'Lesson-2': 93, 'Lesson-3': 88, 'Lesson-4': 38, 'Lesson-5': 54}, \n",
    "        'Student-5': {'Lesson-1': 50, 'Lesson-2': 46, 'Lesson-3': 78, 'Lesson-4': 81, 'Lesson-5': 75}}\n",
    "\n",
    "dosya_1 = []\n",
    "dosya_2 = []\n",
    "dosya_3 = []\n",
    "for i in grades:\n",
    "  a = list(grades[i].values())\n",
    "  dosya_1.append(i)\n",
    "  dosya_2.append(max(a))\n",
    "  dosya_3.append(min(a))\n",
    "\n",
    "\n",
    "öğr_1 = dosya_1[dosya_2.index(max(dosya_2))]\n",
    "öğr_2 = dosya_1[dosya_3.index(max(dosya_3))]\n",
    "maximum = max(dosya_2)\n",
    "minimum = min(dosya_3)\n",
    "\n",
    "print(f\"En yüksek not {öğr_1}'e ait {maximum} notudur.\")\n",
    "print(f\"En düşük not {öğr_2}'e ait {minimum} notudur.\")\n",
    "\n",
    "En yüksek not Student-4'e ait 93 notudur.\n",
    "En düşük not Student-3'e ait 38 notudur."
   ]
  },
  {
   "cell_type": "code",
   "execution_count": null,
   "id": "1eccf293",
   "metadata": {},
   "outputs": [],
   "source": [
    "grade_avg={}\n",
    "    \n",
    "for i in grades.keys():\n",
    "    #print(i) Student-1\n",
    "    sum=0\n",
    "    for j in grades[i].values():\n",
    "        #print(j) Student-1 notes\n",
    "        sum+=j\n",
    "        \n",
    "    avg=sum/5   \n",
    "    grade_avg[i]=avg\n",
    "\n",
    "max_grade=0\n",
    "min_grade=1000\n",
    "student_max=\"\"\n",
    "student_min=\"\"\n",
    "for student,grade in grade_avg.items():\n",
    "    if grade>max_grade:\n",
    "        max_grade=grade\n",
    "        student_max=student\n",
    "    if  grade<min_grade:\n",
    "        min_grade=grade\n",
    "        student_min=student\n",
    "\n",
    "print(grade_avg)      \n",
    "print(student_max,max_grade)\n",
    "print(student_min,min_grade)"
   ]
  },
  {
   "cell_type": "markdown",
   "id": "ad079eb7",
   "metadata": {},
   "source": [
    "# soru 7"
   ]
  },
  {
   "cell_type": "markdown",
   "id": "5dccffbd",
   "metadata": {},
   "source": [
    "Given a list, right rotate the list by n position.\n",
    "\n",
    "Write a program to shift every element of a list to circularly right."
   ]
  },
  {
   "cell_type": "code",
   "execution_count": null,
   "id": "a232fd27",
   "metadata": {},
   "outputs": [],
   "source": [
    "n = int(input(\"Rotate number: \"))\n",
    " \n",
    "list_1 = [1, 2, 3, 4, 5, 6]\n",
    "list_1 = (list_1[len(list_1) - n:len(list_1)]\n",
    "                 + list_1[0:len(list_1) - n])\n",
    "print(list_1)"
   ]
  },
  {
   "cell_type": "markdown",
   "id": "29651fc6",
   "metadata": {},
   "source": [
    "# soru 8 "
   ]
  },
  {
   "cell_type": "markdown",
   "id": "5be25414",
   "metadata": {},
   "source": [
    "Write a program that takes a maximum two-digit (1-99) number from the user and finds the pronunciation of that number. For example:\n",
    "\n",
    "İnput:97\n",
    "\n",
    "Output:Doksan Yedi"
   ]
  },
  {
   "cell_type": "code",
   "execution_count": null,
   "id": "379b23f2",
   "metadata": {},
   "outputs": [],
   "source": [
    "numbers= {\"0\":\"sıfır\",\"1\":\"bir\", \"2\":\"iki\", \"3\":\"üç\",\"4\":\"dört\",\"5\":\"beş\",\"6\":\"altı\",\"7\":\"yedi\",\"8\":\"sekiz\",\"9\":\"dokuz\" }\n",
    "x = input(\"write a number: \")\n",
    "\n",
    "for i in x:\n",
    "  print(numbers[i], end=\" \")"
   ]
  },
  {
   "cell_type": "code",
   "execution_count": null,
   "id": "0333266c",
   "metadata": {},
   "outputs": [],
   "source": [
    "my_dict={\"0\":\"\",\"1\":\"Bir\",\"2\":\"Iki\",\"3\":\"Üc\",\"4\":\"Dört\",\"5\":\"Bes\",\"6\":\"Alti\",\"7\":\"Yedi\",\"8\":\"Sekiz\",\"9\":\"Dokuz\"}\n",
    "two_digits={\"0\":\"\",\"1\":\"On\",\"2\":\"Yirmi\",\"3\":\"Otuz\",\"4\":\"Kirk\",\"5\":\"Elli\",\"6\":\"Altmis\",\"7\":\"Yetmis\",\"8\":\"Seksen\",\"9\":\"Doksan\"}\n",
    "three_digits=\"Yüz\"\n",
    "four_digits=\"Bin\"\n",
    "while True:\n",
    "  number=input(\"Pls Enter a number! : \")\n",
    "  if (number[0]==\"0\" and len(number)==1):  # To get the definition of 0\n",
    "    print(\"Sifir\")\n",
    "    break\n",
    "  elif number.isdigit() and number[0]!=\"0\":  # To only get digits and avoid the numbers start with 0\n",
    "    break\n",
    "  else :\n",
    "    print(\"Pls enter a valid number! : \")\n",
    "length=len(number) #  to get the length of the number, so we can itarate with it\n",
    "for i in reversed(range(0,length+1)):  # to get the index of the element in a number\n",
    "  if(i==4 ):  # index\n",
    "    if(number[-i]!=\"1\"):  # we use always the negative index to get the number at same position always\n",
    "          print(my_dict[number[-i]]+\" \"+four_digits,end=\" \")\n",
    "    else: \n",
    "      print(four_digits,end=\" \")\n",
    "          \n",
    "  elif(i==3) :\n",
    "    if(number[-i]!=\"1\" and number[-i]!=\"0\"):\n",
    "      print(my_dict[number[-i]]+\" \"+three_digits,end=\" \")\n",
    "    elif(i==\"0\"):\n",
    "      pass\n",
    "    else:\n",
    "      print(three_digits,end=\" \")\n",
    "      flag=True;\n",
    "  elif (i==2):\n",
    "    print(two_digits[number[-i]],end=\" \")\n",
    "  elif(i==1):\n",
    "    print(my_dict[number[-i]],end=\" \")"
   ]
  },
  {
   "cell_type": "code",
   "execution_count": 13,
   "id": "21962929",
   "metadata": {},
   "outputs": [
    {
     "name": "stdout",
     "output_type": "stream",
     "text": [
      "Pls Enter a number! : 189\n",
      "Yüz Seksen Dokuz "
     ]
    }
   ],
   "source": [
    "my_dict={\"0\":\"\",\"1\":\"Bir\",\"2\":\"Iki\",\"3\":\"Üc\",\"4\":\"Dört\",\"5\":\"Bes\",\"6\":\"Alti\",\"7\":\"Yedi\",\"8\":\"Sekiz\",\"9\":\"Dokuz\"}\n",
    "two_digits={\"0\":\"\",\"1\":\"On\",\"2\":\"Yirmi\",\"3\":\"Otuz\",\"4\":\"Kirk\",\"5\":\"Elli\",\"6\":\"Altmis\",\"7\":\"Yetmis\",\"8\":\"Seksen\",\"9\":\"Doksan\"}\n",
    "three_digits=\"Yüz\"\n",
    "four_digits=\"Bin\"\n",
    "while True:\n",
    "  number=input(\"Pls Enter a number! : \")\n",
    "  if (number[0]==\"0\" and len(number)==1):  # To get the definition of 0\n",
    "    print(\"Sifir\")\n",
    "    break\n",
    "  elif number.isdigit() and number[0]!=\"0\":  # To only get digits and avoid the numbers start with 0\n",
    "    break\n",
    "  else :\n",
    "    print(\"Pls enter a valid number! : \")\n",
    "flag=False;   # To excute an if statement just once so we dont get the same result when we have the same digits in a number like 11,414,2121\n",
    "flag1=False;\n",
    "flag2=False;\n",
    "for i in number :\n",
    "  length=len(number)  # To switch the cases with the length \n",
    "  \n",
    "  #  first case for the numbers w 1 digit\n",
    "  if(length==1):\n",
    "    print(my_dict[i],end=\" \")\n",
    " #  second case for the numbers w 2 digits\n",
    "  elif (length==2):\n",
    "    if(i==number[0] and flag != True ):\n",
    "      print(two_digits[i],end=\" \")\n",
    "      flag=True;\n",
    "    else:\n",
    "        print(my_dict[i],end=\" \")\n",
    " #  third case for the numbers w 3 digits\n",
    "  elif (length==3):\n",
    "    if(i==number[0] and  flag != True):\n",
    "      if(i!=\"1\"):\n",
    "        print(my_dict[i]+\" \"+three_digits,end=\" \")\n",
    "        flag=True;\n",
    "      else:\n",
    "        print(three_digits,end=\" \")\n",
    "        flag=True;\n",
    "    elif(i==number[1] and flag1 != True):\n",
    "      print(two_digits[i],end=\" \")\n",
    "      flag1=True;\n",
    "    else:\n",
    "        print(my_dict[i],end=\" \")\n",
    " #  fourth case for the numbers w 4 digits\n",
    "  elif (length==4):\n",
    "      if(i==number[0] and  flag2 != True):\n",
    "        if(i!=\"1\"):\n",
    "          print(my_dict[i]+\" \"+four_digits,end=\" \")\n",
    "          flag2=True;\n",
    "        else:\n",
    "          print(four_digits,end=\" \")\n",
    "          flag2=True;\n",
    "      elif(i==number[1] and  flag != True):\n",
    "        if(i!=\"1\" and i!=\"0\"):\n",
    "          print(my_dict[i]+\" \"+three_digits,end=\" \")\n",
    "          flag=True;\n",
    "        elif(i==\"0\"):\n",
    "          pass\n",
    "        else:\n",
    "          print(three_digits,end=\" \")\n",
    "          flag=True;\n",
    "      elif(i==number[2] and flag1 != True):\n",
    "        print(two_digits[i],end=\" \")\n",
    "        flag1=True;\n",
    "      else:\n",
    "          print(my_dict[i],end=\" \")"
   ]
  },
  {
   "cell_type": "code",
   "execution_count": null,
   "id": "ddd7a61c",
   "metadata": {},
   "outputs": [],
   "source": [
    "sayı = input('please input a number: ')\n",
    "\n",
    "dict1 = {0:'sıfır', 1:'On', 2:'Yirmi', 3:'Otuz', 4:'Kırk', 5:'Elli', \n",
    "        6:'Altmış', 7:'Yetmiş', 8:'Seksen', 9:'Doksan',}\n",
    "\n",
    "dict2 = {0:'sıfır', 1:'bir', 2:'iki', 3:'üç', 4:'dört', 5:'beş', \n",
    "        6:'altı', 7:'yedi', 8:'sekiz', 9:'dokuz',}\n",
    "liste1 =[]\n",
    "\n",
    "for i in sayı :\n",
    "    liste1.append(dict1[int(i)])\n",
    "for x in sayı :\n",
    "    liste1.append(dict2[int(x)])\n",
    "    \n",
    "print(liste1[0], liste1[-1], end=' ')"
   ]
  },
  {
   "cell_type": "code",
   "execution_count": null,
   "id": "6e073a6f",
   "metadata": {},
   "outputs": [],
   "source": []
  },
  {
   "cell_type": "markdown",
   "id": "c9d6f477",
   "metadata": {},
   "source": [
    "# soru 9"
   ]
  },
  {
   "cell_type": "markdown",
   "id": "6548797d",
   "metadata": {},
   "source": [
    "Write a program to check if a given string is a Palindrome. A palindrome reads same from front and back e.g.- aba, ccaacc, mom, etc.\n",
    "\n",
    "INPUT: aba\n",
    "\n",
    "OUTPUT: True"
   ]
  },
  {
   "cell_type": "code",
   "execution_count": null,
   "id": "b75472ef",
   "metadata": {},
   "outputs": [],
   "source": [
    "a = input(\"bir kelime giriniz \")\n",
    "b = list(a)\n",
    "c = b[::-1]\n",
    "if b == c:\n",
    "    print(\"True\")\n",
    "else:\n",
    "    print(\"False\")"
   ]
  },
  {
   "cell_type": "code",
   "execution_count": null,
   "id": "e0887227",
   "metadata": {},
   "outputs": [],
   "source": [
    "word = input(\"Enter a word :\")\n",
    "word_pali = word[::-1]\n",
    "print(f\"{word} is Palindrome string : {word==word_pali}\")"
   ]
  },
  {
   "cell_type": "code",
   "execution_count": null,
   "id": "d00ceefb",
   "metadata": {},
   "outputs": [],
   "source": [
    "giri = input('Kelime Gir: ').lower()\n",
    "\n",
    "if giri == giri[::-1]:\n",
    "  sonuç = True\n",
    "else:\n",
    "  sonuç = False\n",
    "\n",
    "print(sonuç)"
   ]
  },
  {
   "cell_type": "code",
   "execution_count": null,
   "id": "ef65543a",
   "metadata": {},
   "outputs": [],
   "source": [
    "word=input(\"Kelime giriniz:\")\n",
    "\n",
    "if word==word[::-1]:\n",
    "    print(\"{} --> is a Palindrome word \".format(word))\n",
    "else:\n",
    "    print(\"{} --> is not a Palindrome word \".format(word))"
   ]
  },
  {
   "cell_type": "markdown",
   "id": "204d728f",
   "metadata": {},
   "source": [
    "# soru 10 ( This Question is optinal, you can  googling)"
   ]
  },
  {
   "cell_type": "markdown",
   "id": "7590b46f",
   "metadata": {},
   "source": [
    "Write a pyhton code, which is a number guessing game that tries to find the number that will be randomly selected from the number sequence from 1 to 100. and indicate in the code that each user has the right to guess 5, deduct 1 right for each wrong guess"
   ]
  },
  {
   "cell_type": "code",
   "execution_count": null,
   "id": "52f8711d",
   "metadata": {},
   "outputs": [],
   "source": [
    "tutulan = 85\n",
    "x = 0\n",
    "while x < 5:\n",
    "    x += 1\n",
    "    y = int(input(\"bir sayı giriniz\"))\n",
    "    if y == tutulan:\n",
    "        print(\"bildiniz tebrikler\")\n",
    "        break\n",
    "    else:\n",
    "        print(\"bilemediniz\")\n",
    "        if x == 5:\n",
    "            print(\"başka giriş hakkınız kalmadı\")"
   ]
  },
  {
   "cell_type": "code",
   "execution_count": null,
   "id": "b3d81964",
   "metadata": {},
   "outputs": [],
   "source": [
    "answer = 19\n",
    "\n",
    "question = 'Hangi sayıyı tuttum ?  '\n",
    "print (\"Aklımdan bir sayı tuttum!\")\n",
    "count = 0\n",
    "\n",
    "while count < 5:\n",
    "    guess = int(input(question))\n",
    "    if guess < answer:\n",
    "        print('Biraz daha YUKARI')\n",
    "        count += 1\n",
    "    elif guess > answer:\n",
    "        print('Biraz daha AŞAĞI')\n",
    "        count += 1\n",
    "    else:  # guess == answer\n",
    "        print('Resmen aklımı okuyorsun, nasıl bildin!!!')\n",
    "        break\n",
    "print(\"Hakkın kalmadı\")"
   ]
  },
  {
   "cell_type": "code",
   "execution_count": null,
   "id": "c6c2f856",
   "metadata": {},
   "outputs": [],
   "source": [
    "answer=randint(1,100)\n",
    "a=0\n",
    "while 5>a:\n",
    "    number = int(input(\"Enter a number : \"))\n",
    "    if number>answer:  \n",
    "        print(\"Lower number\")\n",
    "        a+=1\n",
    "       \n",
    "    elif number<answer:\n",
    "        print(\"higher number\")\n",
    "        a+=1\n",
    "    else:\n",
    "        print(\"you win\")\n",
    "        break"
   ]
  },
  {
   "cell_type": "code",
   "execution_count": null,
   "id": "239ed93c",
   "metadata": {},
   "outputs": [],
   "source": []
  },
  {
   "cell_type": "code",
   "execution_count": null,
   "id": "31abd26e",
   "metadata": {},
   "outputs": [],
   "source": [
    "a=[1,2,3,4]\n",
    "b=[sum(a[0:(x+1)]) for x in range(0,len(a))]\n",
    "\n",
    "print(b)\n",
    "1,3,6,10"
   ]
  },
  {
   "cell_type": "code",
   "execution_count": 1,
   "id": "7a495161",
   "metadata": {},
   "outputs": [
    {
     "name": "stdout",
     "output_type": "stream",
     "text": [
      "[[1, [2, 3], 4]]\n",
      "[[1, [2, 3], 4], 7, 8, 9]\n",
      "11\n"
     ]
    }
   ],
   "source": [
    "L1 = []\n",
    "L1.append([1, [2, 3], 4])\n",
    "print(L1)\n",
    "L1.extend([7, 8, 9])\n",
    "print(L1)\n",
    "print(L1[0][1][1] + L1[2])"
   ]
  },
  {
   "cell_type": "code",
   "execution_count": 2,
   "id": "398af00c",
   "metadata": {},
   "outputs": [
    {
     "name": "stdout",
     "output_type": "stream",
     "text": [
      "<class 'tuple'>\n",
      "5 8\n"
     ]
    }
   ],
   "source": [
    "T = (1, 2, 3, 4, 5, 6, 7, 8)\n",
    "print(type(T))\n",
    "print(T[T.index(5)], end = \" \")  # 5 in indexi ne 4---> T[4] DA ne var; 5\n",
    "print(T[T[T[6]-3]-6]) "
   ]
  },
  {
   "cell_type": "code",
   "execution_count": 38,
   "id": "bf971ccc",
   "metadata": {},
   "outputs": [
    {
     "name": "stdout",
     "output_type": "stream",
     "text": [
      "3\n"
     ]
    }
   ],
   "source": [
    "D = {1 : 1, 2 : '2', '1' : 1, '2' : 3}\n",
    "D['1'] = 2\n",
    "print(D[D[D[str(D[1])]]])"
   ]
  },
  {
   "cell_type": "code",
   "execution_count": 4,
   "id": "c9d9bb0d",
   "metadata": {},
   "outputs": [
    {
     "name": "stdout",
     "output_type": "stream",
     "text": [
      "{1, 2, 3}\n"
     ]
    }
   ],
   "source": [
    "set1 = {1, 2, 3}\n",
    "set2 = set1.copy()\n",
    "set2.add(4)\n",
    "print(set1)"
   ]
  },
  {
   "cell_type": "code",
   "execution_count": 5,
   "id": "809ba5ac",
   "metadata": {},
   "outputs": [
    {
     "name": "stdout",
     "output_type": "stream",
     "text": [
      "[1]\n",
      "e\n"
     ]
    },
    {
     "ename": "NameError",
     "evalue": "name 'index' is not defined",
     "output_type": "error",
     "traceback": [
      "\u001b[1;31m---------------------------------------------------------------------------\u001b[0m",
      "\u001b[1;31mNameError\u001b[0m                                 Traceback (most recent call last)",
      "Input \u001b[1;32mIn [5]\u001b[0m, in \u001b[0;36m<cell line: 7>\u001b[1;34m()\u001b[0m\n\u001b[0;32m      5\u001b[0m \u001b[38;5;28mprint\u001b[39m([vowels\u001b[38;5;241m.\u001b[39mindex(\u001b[38;5;124m\"\u001b[39m\u001b[38;5;124me\u001b[39m\u001b[38;5;124m\"\u001b[39m)])\n\u001b[0;32m      6\u001b[0m \u001b[38;5;28mprint\u001b[39m(vowels[\u001b[38;5;241m1\u001b[39m])\n\u001b[1;32m----> 7\u001b[0m \u001b[38;5;28mprint\u001b[39m(\u001b[38;5;124m'\u001b[39m\u001b[38;5;124mThe index of e:\u001b[39m\u001b[38;5;124m'\u001b[39m, \u001b[43mindex\u001b[49m)\n",
      "\u001b[1;31mNameError\u001b[0m: name 'index' is not defined"
     ]
    }
   ],
   "source": [
    "# vowels tuple\n",
    "vowels = ('a', 'e', 'i', 'o', 'i', 'u')\n",
    "\n",
    "# index of 'e' in vowels\n",
    "print([vowels.index(\"e\")])\n",
    "print(vowels[1])\n",
    "print('The index of e:', index)"
   ]
  },
  {
   "cell_type": "code",
   "execution_count": null,
   "id": "5bb00d6a",
   "metadata": {},
   "outputs": [],
   "source": []
  }
 ],
 "metadata": {
  "kernelspec": {
   "display_name": "Python 3 (ipykernel)",
   "language": "python",
   "name": "python3"
  },
  "language_info": {
   "codemirror_mode": {
    "name": "ipython",
    "version": 3
   },
   "file_extension": ".py",
   "mimetype": "text/x-python",
   "name": "python",
   "nbconvert_exporter": "python",
   "pygments_lexer": "ipython3",
   "version": "3.10.4"
  }
 },
 "nbformat": 4,
 "nbformat_minor": 5
}
