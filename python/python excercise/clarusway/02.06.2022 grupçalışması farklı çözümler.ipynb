{
 "cells": [
  {
   "cell_type": "code",
   "execution_count": null,
   "id": "22dc3516",
   "metadata": {},
   "outputs": [],
   "source": [
    "Aşağıdakileri while döngüsünü kullanarak yazdıran bir program yazın\n",
    "a. İlk 10 Çift Sayı\n",
    "b. İlk 10 Tek Sayı\n",
    "c. İlk 10 Doğal Sayılar\n",
    "d. İlk 10 Tam Sayılar"
   ]
  },
  {
   "cell_type": "code",
   "execution_count": null,
   "id": "cf1eaaf9",
   "metadata": {},
   "outputs": [],
   "source": [
    "x = []\n",
    "y = 0\n",
    "while len(x) < 11:\n",
    "    if y % 2 == 0:\n",
    "        y += 1\n",
    "        x.append(y)\n",
    "        print(x)\n",
    "        break\n",
    "ayşe hocamın yaklaşımı "
   ]
  },
  {
   "cell_type": "code",
   "execution_count": 2,
   "id": "98d995ee",
   "metadata": {},
   "outputs": [
    {
     "name": "stdout",
     "output_type": "stream",
     "text": [
      "even: [0, 2, 4, 6, 8, 10, 12, 14, 16, 18] \n",
      " odd: [1, 3, 5, 7, 9, 11, 13, 15, 17, 19] \n",
      " my_dgl: [0, 1, 2, 3, 4, 5, 6, 7, 8, 9] \n",
      " my_tam: [1, 2, 3, 4, 5, 6, 7, 8, 9, 10]\n"
     ]
    }
   ],
   "source": [
    "sayı = 0\n",
    "even = []\n",
    "odd = []\n",
    "my_tam = []\n",
    "my_dgl = []\n",
    "while sayı < 20 :\n",
    "    if sayı < 10 :\n",
    "        my_dgl.append(sayı)\n",
    "    if 0 < sayı < 11 :\n",
    "        my_tam.append(sayı)\n",
    "    if sayı % 2 == 0 :\n",
    "        even.append(sayı)\n",
    "    elif not sayı % 2 == 0 :\n",
    "        odd.append(sayı)\n",
    "    sayı += 1\n",
    "print(\"even:\", even, \"\\n\", \"odd:\", odd, \"\\n\", \"my_dgl:\", my_dgl, \"\\n\", \"my_tam:\", my_tam)"
   ]
  },
  {
   "cell_type": "code",
   "execution_count": 1,
   "id": "c3c0c0a0",
   "metadata": {},
   "outputs": [
    {
     "name": "stdout",
     "output_type": "stream",
     "text": [
      "0 2 4 6 8 10 12 14 16 18 20 "
     ]
    }
   ],
   "source": [
    "sayi = 0\n",
    "while (sayi<21):\n",
    "    print(sayi, end = \" \")\n",
    "    sayi += 2"
   ]
  },
  {
   "cell_type": "markdown",
   "id": "e30fabb4",
   "metadata": {},
   "source": [
    "Kullanıcı tarafından while döngüsü kullanılarak girilen iki sayı (ikinci sayı hariç) arasındaki tüm çift sayıların toplamını bulan bir program yazınız."
   ]
  },
  {
   "cell_type": "code",
   "execution_count": 9,
   "id": "81f50687",
   "metadata": {},
   "outputs": [
    {
     "name": "stdout",
     "output_type": "stream",
     "text": [
      "birinci sayıyı giriniz: 0\n",
      "ikinci sayıyı giriniz: 10\n",
      "20\n"
     ]
    }
   ],
   "source": [
    "num1 = int(input(\"birinci sayıyı giriniz: \"))\n",
    "num2 = int(input(\"ikinci sayıyı giriniz: \"))\n",
    "i = num1\n",
    "x = []\n",
    "y = 0\n",
    "while i<(num2-1):\n",
    "    i += 1\n",
    "    if i % 2 == 0:\n",
    "        x.append(i)\n",
    "print(sum(x))"
   ]
  },
  {
   "cell_type": "code",
   "execution_count": 10,
   "id": "b4c93c34",
   "metadata": {},
   "outputs": [
    {
     "name": "stdout",
     "output_type": "stream",
     "text": [
      ":0\n",
      ":10\n",
      "20\n"
     ]
    }
   ],
   "source": [
    "while True :\n",
    "    a = int(input(\":\"))\n",
    "    b = int(input(\":\"))\n",
    "    sum = 0\n",
    "    for i in range(a+1, b):\n",
    "        if i % 2 == 0 :\n",
    "            sum += i\n",
    "    break\n",
    "print(sum)"
   ]
  },
  {
   "cell_type": "markdown",
   "id": "e866f7bc",
   "metadata": {},
   "source": [
    "Aşağıdaki dizinin ilk n terimini for döngüsü kullanarak toplayan bir program yazın:\n",
    "1/1! + 1/2! + 1/3! + …….. + 1/n!"
   ]
  },
  {
   "cell_type": "code",
   "execution_count": 12,
   "id": "81010f79",
   "metadata": {},
   "outputs": [
    {
     "name": "stdout",
     "output_type": "stream",
     "text": [
      "enter any number: 3\n",
      "sum is :  2.0\n"
     ]
    }
   ],
   "source": [
    "num = int(input(\"enter any number: \"))\n",
    "sum = 0\n",
    "fact = 1\n",
    "i = 1\n",
    "while (i<num):\n",
    "    fact = fact*i\n",
    "    sum = sum + i/fact\n",
    "    i = i + 1\n",
    "print(\"sum is : \", round(sum, 2))"
   ]
  },
  {
   "cell_type": "code",
   "execution_count": null,
   "id": "2c96e05e",
   "metadata": {},
   "outputs": [],
   "source": [
    "Aşağıdaki çıktıyı almak için bir python programı yazın\n",
    "1—–49\n",
    "\n",
    "2—–48\n",
    "\n",
    "3—–47\n",
    "\n",
    ". .\n",
    "\n",
    ". .\n",
    "\n",
    ". .\n",
    "\n",
    "48—–2\n",
    "\n",
    "49—–1"
   ]
  },
  {
   "cell_type": "code",
   "execution_count": 13,
   "id": "97d70918",
   "metadata": {},
   "outputs": [
    {
     "name": "stdout",
     "output_type": "stream",
     "text": [
      "1 ------ 49\n",
      "2 ------ 48\n",
      "3 ------ 47\n",
      "4 ------ 46\n",
      "5 ------ 45\n",
      "6 ------ 44\n",
      "7 ------ 43\n",
      "8 ------ 42\n",
      "9 ------ 41\n",
      "10 ------ 40\n",
      "11 ------ 39\n",
      "12 ------ 38\n",
      "13 ------ 37\n",
      "14 ------ 36\n",
      "15 ------ 35\n",
      "16 ------ 34\n",
      "17 ------ 33\n",
      "18 ------ 32\n",
      "19 ------ 31\n",
      "20 ------ 30\n",
      "21 ------ 29\n",
      "22 ------ 28\n",
      "23 ------ 27\n",
      "24 ------ 26\n",
      "25 ------ 25\n",
      "26 ------ 24\n",
      "27 ------ 23\n",
      "28 ------ 22\n",
      "29 ------ 21\n",
      "30 ------ 20\n",
      "31 ------ 19\n",
      "32 ------ 18\n",
      "33 ------ 17\n",
      "34 ------ 16\n",
      "35 ------ 15\n",
      "36 ------ 14\n",
      "37 ------ 13\n",
      "38 ------ 12\n",
      "39 ------ 11\n",
      "40 ------ 10\n",
      "41 ------ 9\n",
      "42 ------ 8\n",
      "43 ------ 7\n",
      "44 ------ 6\n",
      "45 ------ 5\n",
      "46 ------ 4\n",
      "47 ------ 3\n",
      "48 ------ 2\n",
      "49 ------ 1\n"
     ]
    }
   ],
   "source": [
    "a = 1\n",
    "b = 49\n",
    "while (a<=49 and b>=1):\n",
    "    print(a, \"------\", b)\n",
    "    a += 1\n",
    "    b -= 1"
   ]
  },
  {
   "cell_type": "markdown",
   "id": "dd78e553",
   "metadata": {},
   "source": [
    "Bir sayının tüm çarpanlarını for döngüsü kullanarak yazdıran bir program yazın."
   ]
  },
  {
   "cell_type": "code",
   "execution_count": 14,
   "id": "fc9df8af",
   "metadata": {},
   "outputs": [
    {
     "name": "stdout",
     "output_type": "stream",
     "text": [
      "1 2 4 5 8 10 16 20 32 40 64 80 160 320 "
     ]
    }
   ],
   "source": [
    "x = 320\n",
    "for i in range(1, x+1):\n",
    "    if x % i == 0:\n",
    "        print(i, end = \" \")"
   ]
  },
  {
   "cell_type": "markdown",
   "id": "1b39bbd9",
   "metadata": {},
   "source": [
    "Write a program to print the following pattern without loop.\n",
    "*\n",
    "* *\n",
    "* * *\n",
    "* * * *"
   ]
  },
  {
   "cell_type": "code",
   "execution_count": 15,
   "id": "ccd5d4b5",
   "metadata": {},
   "outputs": [
    {
     "name": "stdout",
     "output_type": "stream",
     "text": [
      "\n",
      "* \n",
      "* * \n",
      "* * * \n",
      "* * * * \n"
     ]
    }
   ],
   "source": [
    "for i in range (0, 5, 1):\n",
    "    for j in range(0):\n",
    "        print(\"*\", end = \" \")\n",
    "    print()"
   ]
  },
  {
   "cell_type": "markdown",
   "id": "5ac5b99e",
   "metadata": {},
   "source": [
    "Aşağıdaki serilerin toplamını bulan bir program yazın:\n",
    "S = 1 + 4 – 9 + 16 – 25 + 36 – … … n terim"
   ]
  },
  {
   "cell_type": "code",
   "execution_count": 37,
   "id": "7a3a8d50",
   "metadata": {},
   "outputs": [
    {
     "name": "stdout",
     "output_type": "stream",
     "text": [
      "bir sayı giriniz: 3\n",
      "-4\n"
     ]
    }
   ],
   "source": [
    "n = int(input(\"bir sayı giriniz: \"))\n",
    "sp = 1\n",
    "sn = 0\n",
    "i = 2\n",
    "while(i <= n):\n",
    "    if i % 2 == 0:\n",
    "        sp = sp + i ** 2\n",
    "        i = i + 1\n",
    "    else: \n",
    "        sn = sn + i ** 2\n",
    "        i = i + 1\n",
    "print(sp - sn)"
   ]
  },
  {
   "cell_type": "code",
   "execution_count": 38,
   "id": "ce7aa845",
   "metadata": {},
   "outputs": [
    {
     "name": "stdout",
     "output_type": "stream",
     "text": [
      "birsayı giriniz: 3\n",
      "-4\n"
     ]
    }
   ],
   "source": [
    "n = int(input(\"birsayı giriniz: \"))\n",
    "sumeven = 1\n",
    "sumodd = 0\n",
    "for i in range (2, n+1):\n",
    "    if i % 2 == 0:\n",
    "        sumeven += i ** 2\n",
    "    else:\n",
    "        sumodd += i ** 2\n",
    "print(sumeven - sumodd)"
   ]
  },
  {
   "cell_type": "code",
   "execution_count": null,
   "id": "52d51a31",
   "metadata": {},
   "outputs": [],
   "source": []
  },
  {
   "cell_type": "code",
   "execution_count": null,
   "id": "094356d2",
   "metadata": {},
   "outputs": [],
   "source": []
  },
  {
   "cell_type": "code",
   "execution_count": null,
   "id": "b5bd4220",
   "metadata": {},
   "outputs": [],
   "source": []
  },
  {
   "cell_type": "code",
   "execution_count": null,
   "id": "3f28536f",
   "metadata": {},
   "outputs": [],
   "source": []
  }
 ],
 "metadata": {
  "kernelspec": {
   "display_name": "Python 3 (ipykernel)",
   "language": "python",
   "name": "python3"
  },
  "language_info": {
   "codemirror_mode": {
    "name": "ipython",
    "version": 3
   },
   "file_extension": ".py",
   "mimetype": "text/x-python",
   "name": "python",
   "nbconvert_exporter": "python",
   "pygments_lexer": "ipython3",
   "version": "3.10.4"
  }
 },
 "nbformat": 4,
 "nbformat_minor": 5
}
