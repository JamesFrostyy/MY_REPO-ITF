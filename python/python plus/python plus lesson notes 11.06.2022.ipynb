{
 "cells": [
  {
   "cell_type": "markdown",
   "id": "fc9100a7",
   "metadata": {},
   "source": [
    "**ARMSTRONG NUMBER İLE KISA BİLGİ;\n",
    "\n",
    "len  = basamak sayısı\n",
    "üs almayı = indexleme ile yaparız. digit = 123, digit[0] ** 2\n",
    "while ile döngü kurmak lazım ama;\n",
    "* while True dediğimiz an bu döngüden çıkmak için mutlaka BREAK kullanmamız lazım.\n",
    "Alınan inputun içinde sayı dışında bir şey var mı diye bakmak için;\n",
    "***input.isdigit() kullanabiliriz.\n",
    "\n",
    "While True:\n",
    "number = input(\"poz. bir sayı girin):\n",
    "if not number.isdigit()  burası pozitif bir sayı almadıkça yani burası TRUE verecek çünkü NOT NUMBER İSDİGİT yani girilen number isdigit değil mi ?\n",
    "cevap olumla yani TRUE verdikçe yeniden sayı isteyecek. Yani; \n",
    "#### while döngüsünü bu kısımda biteren; if de belirlediğimiz condition dır.\n",
    "***bu koşul sağlanmazsa hemen bunun altında yeniden bir input istenebilir.\n",
    "print(number, \"geçerli bir poz.sayı girin\")\n",
    "#### diyelim ki doğru bir değer aldık bu durumda İF FALSE olacağı için hemen bir sonraki koşula inecek yani elif ya da else. \n",
    "\n",
    "Number ı kontrol etmek için buraya bir koşul daha yazabiliriz.\n",
    " elif ya da else   int(number) >= 0 : \n",
    "\n",
    "#### bundan sonra artık alınan str in digitleri yani indexlerinde üzerinde iterasyon yapmamız lazım. Ne kadar iterate edeceğimizi ise len(digit) ile elde edeceğiz.\n",
    "digits = len(number)\n",
    "len(digit) = basamak sayısı\n",
    "for i in range(digits):\n",
    "##### bundan sonra iterasyon yapacağız ama bu basamakların karelerini toplatacağımız için bir summ tanımlayıp onu update etmeliyiz.\n",
    "summ = üsler toplamı (değişkeni tanımladık, üzerine değer ekleyeceğimiz için önce bir değere atamalıyız)\n",
    "summ = 0\n",
    "**her iterasyonda ekleme yapmasını sağlamak içinde\n",
    "summ = summ + number(i) ** digits   kadar ekleme yapacağız.\n",
    "şimdi bizim aldığımız number str bir değer üs alamayız bu nedenle hemen number ı int.çevirmeliyiz.\n",
    "**** summ += int(number[i]) ** digits\n",
    "##### dememiz gerekiyor.\n",
    "for i in range(digits) durumunda yani for i in range(3)\n",
    "\n",
    "for i in range( 0, 1, 2) old. göre \n",
    "summ = summ + int(number[i]) ** digits  ---> her defasında yeni i için belirtilen indexe gidip yeni rakamı alacak.\n",
    "\n",
    "i = 0 old. da  ---> 0.indexsin(1)  üssünü alacağız 1 ** 3 = 3 (summ a 3 eklenecek)\n",
    "i = 1.index ---> 2 ** 3 = 8 summ = 0 + 3 + 8\n",
    "i = 2.index ---> 3 ** 3 = 27 summ = 0 + 3 + 8 + 27 şeklinde ilerler.\n",
    "\n",
    "***if summ == int(number) :\n",
    "print(\"sayı armstrong Number\")\n",
    "break                                   der ve bitiririz. (yukarda ki while artık çalışmasın diye print ettiği an \n",
    "                                                            döngüden çıkmalı)\n",
    "\n",
    "else:\n",
    "print(\"sayı armstrong Number değildir\")\n",
    "break                                     der ve bitiririz.(yukarda ik while artık çalışmasın diye yani print ettiği an                                                                   çıkmalı döngüden)"
   ]
  },
  {
   "cell_type": "code",
   "execution_count": 1,
   "id": "27f2901b",
   "metadata": {},
   "outputs": [
    {
     "ename": "SyntaxError",
     "evalue": "invalid syntax (2889694462.py, line 1)",
     "output_type": "error",
     "traceback": [
      "\u001b[1;36m  Input \u001b[1;32mIn [1]\u001b[1;36m\u001b[0m\n\u001b[1;33m    While True:\u001b[0m\n\u001b[1;37m          ^\u001b[0m\n\u001b[1;31mSyntaxError\u001b[0m\u001b[1;31m:\u001b[0m invalid syntax\n"
     ]
    }
   ],
   "source": [
    "While True:\n",
    "    number = input(\"poz.bir sayı girin\")\n",
    "    digits = len (number)\n",
    "    summ = 0\n",
    "    if not number.isdigit():                      #bu kısım false verdiğinde doğru sayı alınmıştır ve bir sonrakine inecektir.\n",
    "        print(number, \"poz. bir sayı giriniz.\")\n",
    "    elif int(number) >= 0 :\n",
    "        for i in range(digits):\n",
    "            summ += int(number[i]**digits)\n",
    "        if summ == int(number):\n",
    "            print(\"sayı armstrong number\")\n",
    "            break                                 #ekrana print ettiği an döngüyü biter aksi halde sonsuz döngü.\n",
    "        else:\n",
    "            print(\"armstrong number değil\")\n",
    "            break                                #aynı şek. print ettiği an döngüyü bitir.\n",
    "           \n",
    "** burada if in altına yazılan break üstteki elif in girintisi içinde\n",
    "** aynı şekilde else de elif in girintisi içinde\n",
    "** ELİF ise WHİLE girintisinde old. için döngü bitecektir. Bu önemli."
   ]
  },
  {
   "cell_type": "code",
   "execution_count": null,
   "id": "dc5e1994",
   "metadata": {},
   "outputs": [],
   "source": [
    "n = int(input(\"sayı giriniz: \"))\n",
    "count = 0\n",
    "\n",
    "for i in range(1, n+1):\n",
    "    if n % i == 0:\n",
    "        counter += 1\n",
    "if (n == 0) or (n ==  1) or (counter >= 0):   #asal sayılar 2 den başlar. 0 ve 1  asal sayı değil, sayının bölen sayısı 2 den \n",
    "    print(\"asal sayı değil\")                  # fazla ise yine asal sayı değildir.\n",
    "else:\n",
    "    print(\"asal sayıdır\")"
   ]
  },
  {
   "cell_type": "markdown",
   "id": "6931ccbf",
   "metadata": {},
   "source": [
    "# LİST COMPREHENSİON ların temel yapısı"
   ]
  },
  {
   "cell_type": "markdown",
   "id": "7a27e8a4",
   "metadata": {},
   "source": [
    "```python\n",
    "for item in iterable:\n",
    "    expression\n",
    "\n",
    "[expression(kod bloğu en solda) for item in iterable]\n",
    "```"
   ]
  },
  {
   "cell_type": "code",
   "execution_count": null,
   "id": "5da0b883",
   "metadata": {},
   "outputs": [],
   "source": [
    "sayılar = []\n",
    "for i in range(5):\n",
    "    sayılar.append(i)\n",
    "    print(sayılar)"
   ]
  },
  {
   "cell_type": "markdown",
   "id": "4fd240f0",
   "metadata": {},
   "source": [
    "[her iterasyon değişecek bir  değişken(yani çıktı almak istediğimiz EXPRESSİON) ---- for döngüsü ------ condition]"
   ]
  },
  {
   "cell_type": "code",
   "execution_count": null,
   "id": "b59db6d1",
   "metadata": {},
   "outputs": [],
   "source": [
    "[i for i in range(5)]  #append ve boş liste tanımlamadan tek satırda yapıyoruz list.comp.ile"
   ]
  },
  {
   "cell_type": "code",
   "execution_count": 3,
   "id": "58215c91",
   "metadata": {},
   "outputs": [
    {
     "data": {
      "text/plain": [
       "[0, 2, 6, 12, 20]"
      ]
     },
     "execution_count": 3,
     "metadata": {},
     "output_type": "execute_result"
    }
   ],
   "source": [
    "[(i**2) + i for i in range(5)]"
   ]
  },
  {
   "cell_type": "code",
   "execution_count": 4,
   "id": "df345ded",
   "metadata": {},
   "outputs": [
    {
     "data": {
      "text/plain": [
       "[0, 2, 6, 12, 20]"
      ]
     },
     "execution_count": 4,
     "metadata": {},
     "output_type": "execute_result"
    }
   ],
   "source": [
    "[i**2 + i for i in range(5)]"
   ]
  },
  {
   "cell_type": "code",
   "execution_count": 5,
   "id": "99beb624",
   "metadata": {},
   "outputs": [
    {
     "data": {
      "text/plain": [
       "40"
      ]
     },
     "execution_count": 5,
     "metadata": {},
     "output_type": "execute_result"
    }
   ],
   "source": [
    "(sum([i**2 + i for i in range(5)]))"
   ]
  },
  {
   "cell_type": "code",
   "execution_count": 6,
   "id": "a2eb1daf",
   "metadata": {},
   "outputs": [
    {
     "data": {
      "text/plain": [
       "20"
      ]
     },
     "execution_count": 6,
     "metadata": {},
     "output_type": "execute_result"
    }
   ],
   "source": [
    "max([i**2 + i for i in range(5)])"
   ]
  },
  {
   "cell_type": "code",
   "execution_count": 9,
   "id": "fa7e3795",
   "metadata": {},
   "outputs": [
    {
     "data": {
      "text/plain": [
       "33165"
      ]
     },
     "execution_count": 9,
     "metadata": {},
     "output_type": "execute_result"
    }
   ],
   "source": [
    "(sum([i for i in range(1000) if i % 15 == 0]))"
   ]
  },
  {
   "cell_type": "markdown",
   "id": "a96bb6ca",
   "metadata": {},
   "source": [
    "### TERNARY İF STATEMENTS  (TEK SATIRLI İF Lİ YAPILAR)\n"
   ]
  },
  {
   "cell_type": "code",
   "execution_count": null,
   "id": "b34b7c09",
   "metadata": {},
   "outputs": [],
   "source": [
    "liste = [1, 2, 3, 4, 5, 6, 7]\n",
    "newliste = [] #tek olan elemanları listeye toplayalım.\n",
    "for i in liste:\n",
    "    if i % 2:\n",
    "        newliste.append(i**2)\n",
    "print(newliste)\n",
    "\n",
    "# if 1:\n",
    "# print(\"hello\") dersek if Hello yazdırırız aynı mantıkla;\n",
    "# buradada örnek 5/2=1 olacağı için ve i her defasında 1 olduğunda yapı if 1 (if i) şeklinde olur ve \n",
    "# if 1 de true döneceği için if tek sayıları yakalar. "
   ]
  },
  {
   "cell_type": "markdown",
   "id": "2354a67b",
   "metadata": {},
   "source": [
    "Ternary Yapılarının formulasyonu:\n",
    "```python\n",
    "if condition:\n",
    "    execute-body1\n",
    "else:\n",
    "    execute-body2\n",
    "    \n",
    "execute-body1 if condition else execute-body2\n",
    "```\n",
    "her zaman else kullanılmak zorunda değil. sadece if ile de olur."
   ]
  },
  {
   "cell_type": "code",
   "execution_count": null,
   "id": "9875a0ee",
   "metadata": {},
   "outputs": [],
   "source": [
    "condition = True\n",
    "if condition:\n",
    "    a = 1\n",
    "else:\n",
    "    a = 0\n",
    "print(a)"
   ]
  },
  {
   "cell_type": "code",
   "execution_count": null,
   "id": "76fad40c",
   "metadata": {},
   "outputs": [],
   "source": [
    "1 if condition else 0 # condition true döndüğü an if çalışacak, false old. ise else."
   ]
  },
  {
   "cell_type": "code",
   "execution_count": null,
   "id": "dd47ba77",
   "metadata": {},
   "outputs": [],
   "source": [
    "liste = [1, 2, 3, 4, 5, 6, 7]"
   ]
  },
  {
   "cell_type": "code",
   "execution_count": null,
   "id": "48128210",
   "metadata": {},
   "outputs": [],
   "source": [
    "[i ** 2 for i in liste]"
   ]
  },
  {
   "cell_type": "code",
   "execution_count": null,
   "id": "06c0d778",
   "metadata": {},
   "outputs": [],
   "source": [
    "[i ** 2 for i in liste if i % 2]  \n",
    "\n",
    "# ternary if statements yapısı ile yazarsak eğer;\n",
    "# bizim burada çıktımızı veren yapı --->  i ** 2 for i in liste dir. Yani aslında İF İN condition dır.\n",
    "# o yüzden çıktıyı verecek olan kısım if in solunda kalır."
   ]
  },
  {
   "cell_type": "code",
   "execution_count": null,
   "id": "e559728b",
   "metadata": {},
   "outputs": [],
   "source": [
    "[i ** 2 for i in liste if not i % 2]  #çiftler"
   ]
  },
  {
   "cell_type": "code",
   "execution_count": null,
   "id": "3080a85c",
   "metadata": {},
   "outputs": [],
   "source": [
    "çiftler = [i ** 2 for i in liste if not i % 2] "
   ]
  },
  {
   "cell_type": "code",
   "execution_count": null,
   "id": "485397c1",
   "metadata": {},
   "outputs": [],
   "source": [
    "a=input(\"number: \")\n",
    "a=[(i.replace(i,str(int(i)**3))) for i in a]"
   ]
  },
  {
   "cell_type": "markdown",
   "id": "751edd5c",
   "metadata": {},
   "source": [
    "### Tuple ile list comphe. birleştirince aynı zipped fonk. olduğu gibi bir generator veriyor.  Zipped fonk. iterate edince işi boşalıyordu ve generate ediyordu. Yani bir çıktı vermeyip adres belli ediyor. Bizde kendi generate lerimizi yapabiliriz. Tuple ile list comp. birleşimi böyle oluyor ve biz Buna TUPLE COMPHE. da diyebiliriz."
   ]
  },
  {
   "cell_type": "code",
   "execution_count": null,
   "id": "6a366d8d",
   "metadata": {},
   "outputs": [],
   "source": [
    "(i ** 2 for i in range(6))  # bu bir list comp. değil onun TUPLE hali. şuan bunun içeriğini göremeyiz."
   ]
  },
  {
   "cell_type": "code",
   "execution_count": 10,
   "id": "5a9a2c89",
   "metadata": {},
   "outputs": [],
   "source": [
    "generator = (i ** 2 for i in range(6)) # içeriğini görmek içi bunu bir şeye eşitlemek lazım."
   ]
  },
  {
   "cell_type": "code",
   "execution_count": 11,
   "id": "2f41a5af",
   "metadata": {},
   "outputs": [
    {
     "data": {
      "text/plain": [
       "[0, 1, 4, 9, 16, 25]"
      ]
     },
     "execution_count": 11,
     "metadata": {},
     "output_type": "execute_result"
    }
   ],
   "source": [
    "list(generator)  # listeye çevirerek generate edelim."
   ]
  },
  {
   "cell_type": "code",
   "execution_count": 12,
   "id": "a180b882",
   "metadata": {},
   "outputs": [
    {
     "name": "stdout",
     "output_type": "stream",
     "text": [
      "\n"
     ]
    }
   ],
   "source": [
    "#şimdi tekrar yazdırmak istemek yazdırmayacak. boş çıktı verecek. yeniden generate etmemiz yani atamamız lazım.\n",
    "print(* generator) # yıldızla çıktı almaya çalışalım."
   ]
  },
  {
   "cell_type": "code",
   "execution_count": 13,
   "id": "99eb6afb",
   "metadata": {},
   "outputs": [],
   "source": [
    "generator = (i ** 2 for i in range(6)) # içeriğini görmek için her print sonrası bunu yeniden generate lazım."
   ]
  },
  {
   "cell_type": "code",
   "execution_count": 14,
   "id": "bd3c7dac",
   "metadata": {},
   "outputs": [
    {
     "name": "stdout",
     "output_type": "stream",
     "text": [
      "0\n",
      "1\n",
      "4\n",
      "9\n",
      "16\n",
      "25\n"
     ]
    }
   ],
   "source": [
    "for i in generator:\n",
    "    print(i)"
   ]
  },
  {
   "cell_type": "code",
   "execution_count": 19,
   "id": "a66501d4",
   "metadata": {},
   "outputs": [],
   "source": [
    "generator = (i ** 2 for i in range(6)) # içeriğini görmek için her print sonrası bunu yeniden generate lazım."
   ]
  },
  {
   "cell_type": "code",
   "execution_count": 16,
   "id": "2acb6b2e",
   "metadata": {},
   "outputs": [
    {
     "data": {
      "text/plain": [
       "<generator object <genexpr> at 0x000001629B1FA8F0>"
      ]
     },
     "execution_count": 16,
     "metadata": {},
     "output_type": "execute_result"
    }
   ],
   "source": [
    "generator   #old. yeri bu şekilde görebiliriz."
   ]
  },
  {
   "cell_type": "markdown",
   "id": "765c33ea",
   "metadata": {},
   "source": [
    "# for döngüsünün arka planında çalışan iterate etmemizi sağlayan bir fonk. var bunun adı NEXT fonk. dur.\n",
    "iterator den tek tek eleman alıp iterate ediyor."
   ]
  },
  {
   "cell_type": "code",
   "execution_count": 20,
   "id": "96eeb6ba",
   "metadata": {},
   "outputs": [
    {
     "name": "stdout",
     "output_type": "stream",
     "text": [
      "0\n"
     ]
    }
   ],
   "source": [
    "print(next(generator))"
   ]
  },
  {
   "cell_type": "code",
   "execution_count": 21,
   "id": "c52d7362",
   "metadata": {},
   "outputs": [
    {
     "name": "stdout",
     "output_type": "stream",
     "text": [
      "1\n"
     ]
    }
   ],
   "source": [
    "print(next(generator))"
   ]
  },
  {
   "cell_type": "code",
   "execution_count": 22,
   "id": "052dde9d",
   "metadata": {},
   "outputs": [
    {
     "name": "stdout",
     "output_type": "stream",
     "text": [
      "4\n"
     ]
    }
   ],
   "source": [
    "print(next(generator))"
   ]
  },
  {
   "cell_type": "code",
   "execution_count": 23,
   "id": "d84a516c",
   "metadata": {},
   "outputs": [
    {
     "name": "stdout",
     "output_type": "stream",
     "text": [
      "9\n"
     ]
    }
   ],
   "source": [
    "print(next(generator))"
   ]
  },
  {
   "cell_type": "code",
   "execution_count": 24,
   "id": "a76e66f4",
   "metadata": {},
   "outputs": [
    {
     "name": "stdout",
     "output_type": "stream",
     "text": [
      "16\n"
     ]
    }
   ],
   "source": [
    "print(next(generator))"
   ]
  },
  {
   "cell_type": "code",
   "execution_count": 25,
   "id": "e0369ace",
   "metadata": {},
   "outputs": [
    {
     "name": "stdout",
     "output_type": "stream",
     "text": [
      "25\n"
     ]
    }
   ],
   "source": [
    "print(next(generator))"
   ]
  },
  {
   "cell_type": "code",
   "execution_count": 26,
   "id": "18376d95",
   "metadata": {},
   "outputs": [
    {
     "ename": "StopIteration",
     "evalue": "",
     "output_type": "error",
     "traceback": [
      "\u001b[1;31m---------------------------------------------------------------------------\u001b[0m",
      "\u001b[1;31mStopIteration\u001b[0m                             Traceback (most recent call last)",
      "Input \u001b[1;32mIn [26]\u001b[0m, in \u001b[0;36m<cell line: 1>\u001b[1;34m()\u001b[0m\n\u001b[1;32m----> 1\u001b[0m \u001b[38;5;28mprint\u001b[39m(\u001b[38;5;28;43mnext\u001b[39;49m\u001b[43m(\u001b[49m\u001b[43mgenerator\u001b[49m\u001b[43m)\u001b[49m)\n",
      "\u001b[1;31mStopIteration\u001b[0m: "
     ]
    }
   ],
   "source": [
    "print(next(generator)) #artık içinde eleman kalmadı.iterasyon bitti. iterasyon hatası verdi.  StopIteration:"
   ]
  },
  {
   "cell_type": "code",
   "execution_count": 42,
   "id": "6485f60c",
   "metadata": {},
   "outputs": [
    {
     "name": "stdout",
     "output_type": "stream",
     "text": [
      "\n"
     ]
    }
   ],
   "source": [
    "print(*generator)  # boş çıktı verecek."
   ]
  },
  {
   "cell_type": "code",
   "execution_count": null,
   "id": "a1928b00",
   "metadata": {},
   "outputs": [],
   "source": [
    "# bir tuple comp. tanımlayalım.\n",
    "harfler = (i * 2 for i in \"ABCD\")  # string lerde çarpmada yanyana getirir concat eder. tuple birer elemanı oldu burada harfler.\n",
    "for i in harfler:\n",
    "    print(i)"
   ]
  },
  {
   "cell_type": "markdown",
   "id": "b79f41e8",
   "metadata": {},
   "source": [
    "# fonk: inputu alıp bizim için yararlı hale getiren kod bloklarıdır."
   ]
  },
  {
   "cell_type": "code",
   "execution_count": null,
   "id": "d2c78317",
   "metadata": {},
   "outputs": [],
   "source": [
    "fonk çağırmak demek onu kullanmak demektir.\n",
    "yani print(\"clarusway\") demek aslında print fonk. çağırmaktır."
   ]
  },
  {
   "cell_type": "code",
   "execution_count": null,
   "id": "f168d223",
   "metadata": {},
   "outputs": [],
   "source": [
    "print = fonk. adı\n",
    "parametrelerin değerleri = ARGUMENT diyoruz.\n",
    "tanımlarken parametre\n",
    "parametreleri çağırırken kullandığımız halinede argument diyoruz.\n",
    "multiply(3, 5) ----> bu fonk.çağırmak olur.\n",
    "print(\"I love you\")---> print-->fonk.adı Bu fonk.çağırmak olur. İçindeki ise argumenttir."
   ]
  },
  {
   "cell_type": "markdown",
   "id": "0dc1d945",
   "metadata": {},
   "source": [
    "Built - in Functions ---> mutlaka bakılmalı  (ÖN TANIMLI FONKSİYONLAR)"
   ]
  },
  {
   "cell_type": "code",
   "execution_count": null,
   "id": "01dd665a",
   "metadata": {},
   "outputs": [],
   "source": [
    "print(), int(), list(), input(), range(), bool(), float(), str() ---> şuana kadar sıkça gördüklerimiz. \n",
    "(bunlardan bazıları içinde bulunan dataları kendi cinsine çevirir)---> int, str, bool, float..."
   ]
  },
  {
   "cell_type": "code",
   "execution_count": null,
   "id": "256b6eef",
   "metadata": {},
   "outputs": [],
   "source": [
    "dict(), list(), tuple(), set(), len(), zip(), filter(function, iterable), enumarate(iterable) ---> colletion types lar"
   ]
  },
  {
   "cell_type": "code",
   "execution_count": null,
   "id": "c9483dc0",
   "metadata": {},
   "outputs": [],
   "source": [
    "max(), min(), sum(), round() ----> number larla uğraşanlar"
   ]
  },
  {
   "cell_type": "code",
   "execution_count": null,
   "id": "5ecae5d1",
   "metadata": {},
   "outputs": [],
   "source": [
    "map(function, iterable, ....), eval(expression[, globals[, locals]], sorted(iterable), open(), dir([object]), help([object]) ...\n",
    "                                    özel amaçlı fonksiyonlar"
   ]
  },
  {
   "cell_type": "code",
   "execution_count": null,
   "id": "fcb67e45",
   "metadata": {},
   "outputs": [],
   "source": [
    "all(iterable), any(iterable), callable(object) ---> bool değer döndürenler "
   ]
  },
  {
   "cell_type": "code",
   "execution_count": 40,
   "id": "cfbce7a9",
   "metadata": {},
   "outputs": [
    {
     "name": "stdout",
     "output_type": "stream",
     "text": [
      "['car', 'drive', 'blue red yellow black white']\n"
     ]
    }
   ],
   "source": [
    "x = \"car drive blue red yellow black white\"\n",
    "# x.split(\" , \") #list bir çıktı istiyorsak\n",
    "print(x.split(\" \", 2)) #buraya değer yazmazsak ne olur ???  # baştan başlıyor\n",
    "# rsplit yazınca da sondan başlar."
   ]
  },
  {
   "cell_type": "code",
   "execution_count": 41,
   "id": "2bebe4d6",
   "metadata": {},
   "outputs": [
    {
     "data": {
      "text/plain": [
       "'araba'"
      ]
     },
     "execution_count": 41,
     "metadata": {},
     "output_type": "execute_result"
    }
   ],
   "source": [
    "list = [\"a\", \"r\", \"a\",\"b\",\"a\"]\n",
    "\"\".join(list)  # str bir çıktı istiyorsak"
   ]
  },
  {
   "cell_type": "markdown",
   "id": "7b873d95",
   "metadata": {},
   "source": [
    "# all() function ; colletion ile çalışır. tüm elemanlar true ise true, bir tane bile false varsa false döner. Boş bir colletion true döner. "
   ]
  },
  {
   "cell_type": "markdown",
   "id": "f7d7867b",
   "metadata": {},
   "source": [
    "And her zaman false arardı değil mi ? all fonk. nasıl çalıştığını düşünürsek eğer AND i hatırlayabiliriz."
   ]
  },
  {
   "cell_type": "code",
   "execution_count": 43,
   "id": "67a5d12b",
   "metadata": {},
   "outputs": [
    {
     "name": "stdout",
     "output_type": "stream",
     "text": [
      "True False True True\n"
     ]
    }
   ],
   "source": [
    "animal = [\"cat\", \"dog\", \"giraffe\", \"True\"]\n",
    "colors = [\"red\", \"yellow\", \"black\", 0]\n",
    "empty = {}\n",
    "set = ()\n",
    "print(all(animal), all(colors), all(empty), all(set))"
   ]
  },
  {
   "cell_type": "code",
   "execution_count": 46,
   "id": "86042555",
   "metadata": {},
   "outputs": [
    {
     "name": "stdout",
     "output_type": "stream",
     "text": [
      "True True True\n"
     ]
    }
   ],
   "source": [
    "animal = [\"cat\", \"dog\", \"giraffe\", \"False\"]\n",
    "colors = [\"red\", \"yellow\", \"black\", 1]\n",
    "empty = {}\n",
    "print(all(animal), all(colors), all(empty))"
   ]
  },
  {
   "cell_type": "markdown",
   "id": "f63470b5",
   "metadata": {},
   "source": [
    "# any () function; bir tane bile true varsa true döner. Hepsi false ise false döner.  Boş bir colletion False döner."
   ]
  },
  {
   "cell_type": "markdown",
   "id": "2022dc60",
   "metadata": {},
   "source": [
    "any function nın çalışma mantığı or gibidir. bir tane olumlu durum true dönmesi için yeterli olur."
   ]
  },
  {
   "cell_type": "code",
   "execution_count": 47,
   "id": "07f1cce9",
   "metadata": {},
   "outputs": [
    {
     "name": "stdout",
     "output_type": "stream",
     "text": [
      "True False False\n"
     ]
    }
   ],
   "source": [
    "animal = [\"cat\", \"dog\", \"giraffe\", False]\n",
    "colors = [None, (), 0]\n",
    "empty = {}\n",
    "print(any(animal), any(colors), any(empty))"
   ]
  },
  {
   "cell_type": "code",
   "execution_count": 49,
   "id": "c144e64d",
   "metadata": {},
   "outputs": [
    {
     "name": "stdout",
     "output_type": "stream",
     "text": [
      "Please enter your data: clarusway123344EAMEAKLE\n",
      "True\n",
      "True\n",
      "True\n",
      "True\n",
      "True\n"
     ]
    }
   ],
   "source": [
    "text = input(\"Please enter your data: \")\n",
    "print(any(i.isalnum() for i in text))\n",
    "print(any(i.isalpha() for i in text))\n",
    "print(any(i.isdigit() for i in text))\n",
    "print(any(i.islower() for i in text))\n",
    "print(any(i.isupper() for i in text))"
   ]
  },
  {
   "cell_type": "code",
   "execution_count": 50,
   "id": "d6d9259b",
   "metadata": {},
   "outputs": [
    {
     "name": "stdout",
     "output_type": "stream",
     "text": [
      "Please enter your data: clarusway\n",
      "<generator object <genexpr> at 0x000001629D2013F0>\n"
     ]
    }
   ],
   "source": [
    "text = input(\"Please enter your data: \")\n",
    "print(i.isupper() for i in text)\n",
    "\n",
    "# any olmadığında generator ile bellekteki yerini gösteriyor. zipped fonk. bunun gibiydi"
   ]
  },
  {
   "cell_type": "markdown",
   "id": "806078ef",
   "metadata": {},
   "source": [
    "*** filter (function, iterable)\n",
    "**filter () Parameters\n",
    "# filter () 2 parametresi var;\n",
    "1)function --> bu fonk. true ya da false döndürmesi lazım yani bu Identity Function. (any, all gibi) \n",
    "\n",
    "2)iterable\n",
    "\n",
    "filter() none kullanırsak sadece true olanları alır ve false olanları almaz, yani bir filtrasyon uygular."
   ]
  },
  {
   "cell_type": "code",
   "execution_count": 51,
   "id": "eabd8d86",
   "metadata": {},
   "outputs": [],
   "source": [
    "liste = [\"ali\", \"veli\", False, 0, 36, 1]"
   ]
  },
  {
   "cell_type": "code",
   "execution_count": 52,
   "id": "0bcf5ca5",
   "metadata": {},
   "outputs": [],
   "source": [
    "filterlist = filter(None, liste)  #  -->fonk yerine None, iterable yerine de Liste yazdık."
   ]
  },
  {
   "cell_type": "code",
   "execution_count": 53,
   "id": "186e8f60",
   "metadata": {},
   "outputs": [
    {
     "data": {
      "text/plain": [
       "<filter at 0x1629b4fa2c0>"
      ]
     },
     "execution_count": 53,
     "metadata": {},
     "output_type": "execute_result"
    }
   ],
   "source": [
    "filterlist          # sadece yer belli eder."
   ]
  },
  {
   "cell_type": "code",
   "execution_count": 54,
   "id": "c66c6979",
   "metadata": {},
   "outputs": [
    {
     "name": "stdout",
     "output_type": "stream",
     "text": [
      "ali veli 36 1\n"
     ]
    }
   ],
   "source": [
    "print(* filterlist)"
   ]
  },
  {
   "cell_type": "code",
   "execution_count": 55,
   "id": "cbfeb1be",
   "metadata": {},
   "outputs": [
    {
     "name": "stdout",
     "output_type": "stream",
     "text": [
      "listenecek değerler\n"
     ]
    }
   ],
   "source": [
    "print(\"listenecek değerler\")\n",
    "for i in filterlist:   #tekrar çıktı almak istesek vermez, yeniden list yi çalıştırmak lazım.\n",
    "    print(i)"
   ]
  },
  {
   "cell_type": "markdown",
   "id": "36cbad01",
   "metadata": {},
   "source": [
    "ENUMARATE (iterable, start=0)  İNDEX NUMARALARINI ELEMANLARA YAPIŞTIRIR.                                              \n",
    "\n",
    "*havada yani iterable bir object oluşturur. çıktıyı biz istemedikçe vermez.                                        \n",
    "\n",
    "[\"a\", \"b\", \"c\"]\n",
    "\n",
    "(0, a)(1,b)(2, c)  --> birdeğer vermezsek 0 dan başlar.\n",
    "\n",
    "enumarate() 2 parametre alır;\n",
    "1) itarable\n",
    "2) start "
   ]
  },
  {
   "cell_type": "code",
   "execution_count": 3,
   "id": "54c46a86",
   "metadata": {},
   "outputs": [],
   "source": [
    "meyve = [\"elma\", \"armut\", \"portakal\"]\n",
    "meyvenew = enumerate(meyve)"
   ]
  },
  {
   "cell_type": "code",
   "execution_count": 4,
   "id": "984d3187",
   "metadata": {},
   "outputs": [
    {
     "name": "stdout",
     "output_type": "stream",
     "text": [
      "<class 'enumerate'>\n",
      "[(0, 'elma'), (1, 'armut'), (2, 'portakal')]\n",
      "[(20, 'elma'), (21, 'armut'), (22, 'portakal')]\n"
     ]
    }
   ],
   "source": [
    "print(type(meyvenew))\n",
    "print(list(meyvenew))\n",
    "meyvenew = enumerate(meyve, 20)\n",
    "print(list(meyvenew))"
   ]
  },
  {
   "cell_type": "code",
   "execution_count": 5,
   "id": "41874be4",
   "metadata": {},
   "outputs": [],
   "source": [
    "# Enumerate için dict içinde kullanımı;\n",
    "\n",
    "meyve = list(meyvenew)  #direkt dict içine gönderirsek listeyi çalıştırmaz, boş döndürür."
   ]
  },
  {
   "cell_type": "code",
   "execution_count": 6,
   "id": "f8df9405",
   "metadata": {},
   "outputs": [
    {
     "data": {
      "text/plain": [
       "{}"
      ]
     },
     "execution_count": 6,
     "metadata": {},
     "output_type": "execute_result"
    }
   ],
   "source": [
    "dict(meyve)"
   ]
  },
  {
   "cell_type": "code",
   "execution_count": 15,
   "id": "629d4fd4",
   "metadata": {},
   "outputs": [],
   "source": [
    "meyve = [\"elma\", \"armut\", \"portakal\"]\n",
    "meyvenew = enumerate(meyve)"
   ]
  },
  {
   "cell_type": "code",
   "execution_count": 16,
   "id": "800e5297",
   "metadata": {},
   "outputs": [
    {
     "data": {
      "text/plain": [
       "{0: 'elma', 1: 'armut', 2: 'portakal'}"
      ]
     },
     "execution_count": 16,
     "metadata": {},
     "output_type": "execute_result"
    }
   ],
   "source": [
    "dict(enumerate(meyve))  #tupleları key ve value haline getirmiş olduk."
   ]
  },
  {
   "cell_type": "markdown",
   "id": "60ff42ca",
   "metadata": {},
   "source": [
    "# max(iterable), min(iterable)                                                                                       \n",
    "\n",
    "# eğer str ler üzerinde max, min bakacak olursak harflerin ascıı kodlarına bakarak işlem yapar."
   ]
  },
  {
   "cell_type": "code",
   "execution_count": 21,
   "id": "878af440",
   "metadata": {},
   "outputs": [
    {
     "name": "stdout",
     "output_type": "stream",
     "text": [
      "bsayı 1060 ksayı -922\n"
     ]
    }
   ],
   "source": [
    "sayılar = [10, -922, 6, 5, 804, 1060]\n",
    "bsayı = max(sayılar)\n",
    "ksayı = min(sayılar)\n",
    "print(\"bsayı\", max(sayılar), \"ksayı\", min(sayılar))"
   ]
  },
  {
   "cell_type": "code",
   "execution_count": 22,
   "id": "bffe6e23",
   "metadata": {},
   "outputs": [
    {
     "data": {
      "text/plain": [
       "'a'"
      ]
     },
     "execution_count": 22,
     "metadata": {},
     "output_type": "execute_result"
    }
   ],
   "source": [
    "min(\"araba\")"
   ]
  },
  {
   "cell_type": "code",
   "execution_count": 23,
   "id": "64396ace",
   "metadata": {},
   "outputs": [
    {
     "data": {
      "text/plain": [
       "'r'"
      ]
     },
     "execution_count": 23,
     "metadata": {},
     "output_type": "execute_result"
    }
   ],
   "source": [
    "max(\"araba\")"
   ]
  },
  {
   "cell_type": "code",
   "execution_count": 24,
   "id": "2b39d081",
   "metadata": {},
   "outputs": [
    {
     "data": {
      "text/plain": [
       "97"
      ]
     },
     "execution_count": 24,
     "metadata": {},
     "output_type": "execute_result"
    }
   ],
   "source": [
    "ord(\"a\")"
   ]
  },
  {
   "cell_type": "code",
   "execution_count": 25,
   "id": "07b5d9da",
   "metadata": {},
   "outputs": [
    {
     "data": {
      "text/plain": [
       "65"
      ]
     },
     "execution_count": 25,
     "metadata": {},
     "output_type": "execute_result"
    }
   ],
   "source": [
    "ord(\"A\")"
   ]
  },
  {
   "cell_type": "code",
   "execution_count": 28,
   "id": "75621065",
   "metadata": {},
   "outputs": [
    {
     "data": {
      "text/plain": [
       "5"
      ]
     },
     "execution_count": 28,
     "metadata": {},
     "output_type": "execute_result"
    }
   ],
   "source": [
    "max(1, 2, 3, 4, 5)  # tek başına bir iterable alabildiği gibi; virgüllerle ayrılmış sayı diziside alabilir. max ve min"
   ]
  },
  {
   "cell_type": "code",
   "execution_count": 29,
   "id": "f4173495",
   "metadata": {},
   "outputs": [
    {
     "data": {
      "text/plain": [
       "1"
      ]
     },
     "execution_count": 29,
     "metadata": {},
     "output_type": "execute_result"
    }
   ],
   "source": [
    "min(1, 2, 3, 4, 5)"
   ]
  },
  {
   "cell_type": "code",
   "execution_count": 33,
   "id": "705aabb6",
   "metadata": {},
   "outputs": [
    {
     "data": {
      "text/plain": [
       "'T'"
      ]
     },
     "execution_count": 33,
     "metadata": {},
     "output_type": "execute_result"
    }
   ],
   "source": [
    "min(\"Tab\") #string de alır."
   ]
  },
  {
   "cell_type": "code",
   "execution_count": 34,
   "id": "2f6e60f6",
   "metadata": {},
   "outputs": [
    {
     "data": {
      "text/plain": [
       "'b'"
      ]
     },
     "execution_count": 34,
     "metadata": {},
     "output_type": "execute_result"
    }
   ],
   "source": [
    "max(\"Tab\")"
   ]
  },
  {
   "cell_type": "code",
   "execution_count": 122,
   "id": "6f16f19f",
   "metadata": {},
   "outputs": [
    {
     "data": {
      "text/plain": [
       "'8'"
      ]
     },
     "execution_count": 122,
     "metadata": {},
     "output_type": "execute_result"
    }
   ],
   "source": [
    "max(*'123823')"
   ]
  },
  {
   "cell_type": "markdown",
   "id": "adc16410",
   "metadata": {},
   "source": [
    "# sum(iterable, start)\n",
    "# sum ın içine atılan iterable ın elemanları numeric olmalıdır.\n",
    "# içinde atılan numaraların toplamını alır.\n",
    "# buraya yazılan start değeri, toplama bu değeri ilave et anlamına gelmektedir."
   ]
  },
  {
   "cell_type": "code",
   "execution_count": 35,
   "id": "cb660fbf",
   "metadata": {},
   "outputs": [
    {
     "name": "stdout",
     "output_type": "stream",
     "text": [
      "30.2\n",
      "50.2\n"
     ]
    }
   ],
   "source": [
    "numbers = [1, 2.5, 6.7, 20]\n",
    "numbers_sum = sum(numbers)\n",
    "print(numbers_sum)\n",
    "numbers_sum = sum(numbers, 20)  #burada start kullandığımız için önceki değerin üzerine 20 ekleyecek. start ın defaultu = 0 \n",
    "print(numbers_sum)"
   ]
  },
  {
   "cell_type": "code",
   "execution_count": 38,
   "id": "821598ff",
   "metadata": {},
   "outputs": [
    {
     "ename": "TypeError",
     "evalue": "sum() takes at most 2 arguments (3 given)",
     "output_type": "error",
     "traceback": [
      "\u001b[1;31m---------------------------------------------------------------------------\u001b[0m",
      "\u001b[1;31mTypeError\u001b[0m                                 Traceback (most recent call last)",
      "Input \u001b[1;32mIn [38]\u001b[0m, in \u001b[0;36m<cell line: 1>\u001b[1;34m()\u001b[0m\n\u001b[1;32m----> 1\u001b[0m \u001b[38;5;28;43msum\u001b[39;49m\u001b[43m(\u001b[49m\u001b[38;5;241;43m10\u001b[39;49m\u001b[43m,\u001b[49m\u001b[43m \u001b[49m\u001b[38;5;241;43m20\u001b[39;49m\u001b[43m,\u001b[49m\u001b[43m \u001b[49m\u001b[38;5;241;43m30\u001b[39;49m\u001b[43m)\u001b[49m\n",
      "\u001b[1;31mTypeError\u001b[0m: sum() takes at most 2 arguments (3 given)"
     ]
    }
   ],
   "source": [
    "sum(10, 20, 30) #2 den fazla arguman almaz. bu argumanlardan biri iterable olacak biri de start."
   ]
  },
  {
   "cell_type": "markdown",
   "id": "f6124ce1",
   "metadata": {},
   "source": [
    "# round (numbers, ndigits) --> toplamın üzerine ilave eder.\n",
    "# floatlar ın binary olarak ifadesi zordur."
   ]
  },
  {
   "cell_type": "code",
   "execution_count": 46,
   "id": "8a1af5fd",
   "metadata": {},
   "outputs": [
    {
     "name": "stdout",
     "output_type": "stream",
     "text": [
      "314.98\n",
      "10.99\n",
      "12.569\n",
      "950\n",
      "564.65\n",
      "4.67\n"
     ]
    }
   ],
   "source": [
    "print(round(314.98, 2))\n",
    "print(round(10.989, 2))\n",
    "print(round(12.56879, 3))\n",
    "print(round(950, 2))\n",
    "print(round(564.65, 3))\n",
    "print(round(4.675, 2))"
   ]
  },
  {
   "cell_type": "markdown",
   "id": "2828fca2",
   "metadata": {},
   "source": [
    "``` python\n",
    "--------------------------------------------------------\n",
    "def fonk.adı (parameter) :\n",
    "    execute body\n",
    "\n",
    "--------------------------------------------------------    \n",
    "```\n",
    "fonk.tanımlarken parantez içinde yazılanlar parametre\n",
    "\n",
    "çağırırken kullanılanlar ise argument\n",
    "\n",
    "fonksiyonlar print etmez, return eder diyemeyiz ASLINDA\n",
    "\n",
    "print eder ama biz daha çok return kullanırız.\n",
    "\n",
    "çünkü return ettiği değeri kullanmak isteriz, dersek daha doğru olur. \n"
   ]
  },
  {
   "cell_type": "code",
   "execution_count": 47,
   "id": "07d6c56e",
   "metadata": {},
   "outputs": [],
   "source": [
    "def first_fonk(a, b):\n",
    "    print(a ** 2 + b **2)"
   ]
  },
  {
   "cell_type": "code",
   "execution_count": 49,
   "id": "e788aa50",
   "metadata": {},
   "outputs": [
    {
     "name": "stdout",
     "output_type": "stream",
     "text": [
      "13\n"
     ]
    }
   ],
   "source": [
    "first_fonk(2, 3)"
   ]
  },
  {
   "cell_type": "code",
   "execution_count": 50,
   "id": "1562f10b",
   "metadata": {},
   "outputs": [
    {
     "name": "stdout",
     "output_type": "stream",
     "text": [
      "claruswayclaruswayclarusway\n"
     ]
    }
   ],
   "source": [
    "def multiply(a, b):\n",
    "    print(a * b)\n",
    "\n",
    "multiply(\"clarusway\", 3)\n",
    "# bu durumda a = clarusway, b = 3 olarak assign edilir."
   ]
  },
  {
   "cell_type": "code",
   "execution_count": 52,
   "id": "9b5dea55",
   "metadata": {},
   "outputs": [
    {
     "name": "stdout",
     "output_type": "stream",
     "text": [
      "5.0\n"
     ]
    }
   ],
   "source": [
    "def hipetenus(a, b):\n",
    "    print((a**2 + b **2) ** 0.5)\n",
    "\n",
    "hipetenus(3, 4) #fonk.çağır"
   ]
  },
  {
   "cell_type": "code",
   "execution_count": 53,
   "id": "77375ec1",
   "metadata": {},
   "outputs": [
    {
     "name": "stdout",
     "output_type": "stream",
     "text": [
      "en çok iş bulan cohort :) \n"
     ]
    }
   ],
   "source": [
    "def cohort12():\n",
    "    print(\"en çok iş bulan cohort :) \")\n",
    "cohort12() #çağıralım"
   ]
  },
  {
   "cell_type": "code",
   "execution_count": 54,
   "id": "5efbfbf7",
   "metadata": {},
   "outputs": [
    {
     "name": "stdout",
     "output_type": "stream",
     "text": [
      "108\n"
     ]
    }
   ],
   "source": [
    "def toplam(a, b):  #fonk tanımla\n",
    "    print(a + b)   #yapacağı şeyi burada söyle(yani return edeceğini)\n",
    "toplam(8, 100)"
   ]
  },
  {
   "cell_type": "code",
   "execution_count": 59,
   "id": "9b82d530",
   "metadata": {},
   "outputs": [],
   "source": [
    "def calculator(x, y, işlem) :\n",
    "    if işlem == '+':\n",
    "        print(x + y)\n",
    "    elif işlem == '-':\n",
    "        print(x - y)\n",
    "    elif işlem == '*':\n",
    "        print(x * y)\n",
    "    elif işlem == '/':\n",
    "        print(x/y)\n",
    "    else:\n",
    "        print('geçersiz bir işlem girdiniz: ')"
   ]
  },
  {
   "cell_type": "code",
   "execution_count": 60,
   "id": "a685e74a",
   "metadata": {},
   "outputs": [
    {
     "name": "stdout",
     "output_type": "stream",
     "text": [
      "2.0\n"
     ]
    }
   ],
   "source": [
    "calculator(100, 50, '/')"
   ]
  },
  {
   "cell_type": "markdown",
   "id": "959f43eb",
   "metadata": {},
   "source": [
    "# print ve return farkı;\n",
    "def çarpım(x, y):\n",
    "   return(x * y) # RETURN BİR KEYWORD tür, sağına ne yazılan  değeri döndürür. ekrana yazdırmaz.\n",
    "   \n",
    "print(çarpım(2, 8) # ama print ekrana yazdırır.\n",
    "    16"
   ]
  },
  {
   "cell_type": "code",
   "execution_count": 62,
   "id": "c800b06d",
   "metadata": {},
   "outputs": [],
   "source": [
    "def multiply1(a, b):\n",
    "    return (a * b)"
   ]
  },
  {
   "cell_type": "code",
   "execution_count": 65,
   "id": "1b5ccd38",
   "metadata": {},
   "outputs": [
    {
     "name": "stdout",
     "output_type": "stream",
     "text": [
      "<class 'int'>\n"
     ]
    }
   ],
   "source": [
    "print(type(multiply1(10 ,5)))"
   ]
  },
  {
   "cell_type": "code",
   "execution_count": 63,
   "id": "e85e129e",
   "metadata": {},
   "outputs": [],
   "source": [
    "def multiply2(a, b):\n",
    "    print(a * b)"
   ]
  },
  {
   "cell_type": "code",
   "execution_count": 64,
   "id": "06142436",
   "metadata": {},
   "outputs": [
    {
     "name": "stdout",
     "output_type": "stream",
     "text": [
      "50\n",
      "<class 'NoneType'>\n"
     ]
    }
   ],
   "source": [
    "print(type(multiply2(10, 5)))  # print in tipi none type dır."
   ]
  },
  {
   "cell_type": "code",
   "execution_count": 76,
   "id": "8a5e97bf",
   "metadata": {},
   "outputs": [],
   "source": [
    "# return normalde print etmez ama jupyter in kendi özelliğinden dolayı ekrana en son yazılan print ettiği için \n",
    "# return bir çıktı verir.\n",
    "def cıkar(a, b):   #fonk çağırırken bu yapıyla çağıracağız                çıkar (100, 20 )\n",
    "    return (a - b)  #yaptırmak istediğimiz işlemi buraya yazacağız"
   ]
  },
  {
   "cell_type": "code",
   "execution_count": 77,
   "id": "2c14b10c",
   "metadata": {},
   "outputs": [
    {
     "data": {
      "text/plain": [
       "int"
      ]
     },
     "execution_count": 77,
     "metadata": {},
     "output_type": "execute_result"
    }
   ],
   "source": [
    "type(cıkar(100, 20))  # 100 -20 = 80 bu değeri type(80) integer old. için ekrana yazdırdı."
   ]
  },
  {
   "cell_type": "code",
   "execution_count": 78,
   "id": "1acdc83b",
   "metadata": {},
   "outputs": [
    {
     "name": "stdout",
     "output_type": "stream",
     "text": [
      "<class 'int'>\n"
     ]
    }
   ],
   "source": [
    "print(type(cıkar(100, 20)))"
   ]
  },
  {
   "cell_type": "code",
   "execution_count": 79,
   "id": "431e11bf",
   "metadata": {},
   "outputs": [],
   "source": [
    "def string():     -----> fonk. çağırılma anında def in yanında ki string() yerine return de belirtileni ekliyor gibi düşünebiliriz\n",
    "    return \"clarusway\""
   ]
  },
  {
   "cell_type": "code",
   "execution_count": 80,
   "id": "065af2d2",
   "metadata": {},
   "outputs": [
    {
     "data": {
      "text/plain": [
       "'clarusway'"
      ]
     },
     "execution_count": 80,
     "metadata": {},
     "output_type": "execute_result"
    }
   ],
   "source": [
    "string()      # dediğimizde yani fonk. çağırdığımızda def in yanında ki string()i siliyor, yerine return yanında yazdığımızı ekarana \n",
    "                  # yazdırıyor."
   ]
  },
  {
   "cell_type": "code",
   "execution_count": 81,
   "id": "b05336fb",
   "metadata": {},
   "outputs": [
    {
     "name": "stdout",
     "output_type": "stream",
     "text": [
      "c\n",
      "l\n",
      "a\n",
      "r\n",
      "u\n",
      "s\n",
      "w\n",
      "a\n",
      "y\n"
     ]
    }
   ],
   "source": [
    "for i in string():\n",
    "    print(i)"
   ]
  },
  {
   "cell_type": "code",
   "execution_count": 82,
   "id": "c61a7708",
   "metadata": {},
   "outputs": [
    {
     "name": "stdout",
     "output_type": "stream",
     "text": [
      "c l a r u s w a y\n"
     ]
    }
   ],
   "source": [
    "print(* string())"
   ]
  },
  {
   "cell_type": "code",
   "execution_count": 84,
   "id": "43bd4066",
   "metadata": {},
   "outputs": [
    {
     "name": "stdout",
     "output_type": "stream",
     "text": [
      "c l a r u s w a y\n"
     ]
    }
   ],
   "source": [
    "print(* 'clarusway')"
   ]
  },
  {
   "cell_type": "code",
   "execution_count": 85,
   "id": "bb62c03c",
   "metadata": {},
   "outputs": [],
   "source": [
    "def integer():\n",
    "    return 22"
   ]
  },
  {
   "cell_type": "code",
   "execution_count": 86,
   "id": "9ab0f252",
   "metadata": {},
   "outputs": [
    {
     "data": {
      "text/plain": [
       "22"
      ]
     },
     "execution_count": 86,
     "metadata": {},
     "output_type": "execute_result"
    }
   ],
   "source": [
    "integer() #fonk.çağır"
   ]
  },
  {
   "cell_type": "code",
   "execution_count": 87,
   "id": "adffdbb9",
   "metadata": {},
   "outputs": [
    {
     "data": {
      "text/plain": [
       "22"
      ]
     },
     "execution_count": 87,
     "metadata": {},
     "output_type": "execute_result"
    }
   ],
   "source": [
    "22"
   ]
  },
  {
   "cell_type": "code",
   "execution_count": 88,
   "id": "88cbd1cf",
   "metadata": {},
   "outputs": [],
   "source": [
    "del integer  #burada fonk. sildiğimiz için artık çağırsakta bu fonk. return etmeyecektir."
   ]
  },
  {
   "cell_type": "code",
   "execution_count": 89,
   "id": "4471fe33",
   "metadata": {},
   "outputs": [
    {
     "ename": "NameError",
     "evalue": "name 'integer' is not defined",
     "output_type": "error",
     "traceback": [
      "\u001b[1;31m---------------------------------------------------------------------------\u001b[0m",
      "\u001b[1;31mNameError\u001b[0m                                 Traceback (most recent call last)",
      "Input \u001b[1;32mIn [89]\u001b[0m, in \u001b[0;36m<cell line: 1>\u001b[1;34m()\u001b[0m\n\u001b[1;32m----> 1\u001b[0m \u001b[43minteger\u001b[49m()\n",
      "\u001b[1;31mNameError\u001b[0m: name 'integer' is not defined"
     ]
    }
   ],
   "source": [
    "integer()"
   ]
  },
  {
   "cell_type": "code",
   "execution_count": 92,
   "id": "797d08e9",
   "metadata": {},
   "outputs": [],
   "source": [
    "def boolean():\n",
    "    return True"
   ]
  },
  {
   "cell_type": "code",
   "execution_count": 93,
   "id": "573376b2",
   "metadata": {},
   "outputs": [
    {
     "data": {
      "text/plain": [
       "True"
      ]
     },
     "execution_count": 93,
     "metadata": {},
     "output_type": "execute_result"
    }
   ],
   "source": [
    "boolean()"
   ]
  },
  {
   "cell_type": "code",
   "execution_count": 97,
   "id": "ded0c04a",
   "metadata": {},
   "outputs": [
    {
     "name": "stdout",
     "output_type": "stream",
     "text": [
      "sonuç true ise yazdıracaktır\n"
     ]
    }
   ],
   "source": [
    "if boolean():\n",
    "    print(\"sonuç true ise yazdıracaktır\")"
   ]
  },
  {
   "cell_type": "code",
   "execution_count": 100,
   "id": "cd9b4e93",
   "metadata": {},
   "outputs": [],
   "source": [
    "def işlem(a, b):\n",
    "    return a **2 + b + 100"
   ]
  },
  {
   "cell_type": "code",
   "execution_count": 101,
   "id": "99241d9d",
   "metadata": {},
   "outputs": [
    {
     "data": {
      "text/plain": [
       "103"
      ]
     },
     "execution_count": 101,
     "metadata": {},
     "output_type": "execute_result"
    }
   ],
   "source": [
    "işlem(1, 2)"
   ]
  },
  {
   "cell_type": "code",
   "execution_count": 102,
   "id": "11ecd931",
   "metadata": {},
   "outputs": [],
   "source": [
    "def liste():\n",
    "    return [\"bu\", \"bir\", \"listedir\"]"
   ]
  },
  {
   "cell_type": "code",
   "execution_count": 103,
   "id": "d6c41e2d",
   "metadata": {},
   "outputs": [
    {
     "data": {
      "text/plain": [
       "['bu', 'bir', 'listedir']"
      ]
     },
     "execution_count": 103,
     "metadata": {},
     "output_type": "execute_result"
    }
   ],
   "source": [
    "liste()"
   ]
  },
  {
   "cell_type": "code",
   "execution_count": 105,
   "id": "de82a174",
   "metadata": {},
   "outputs": [],
   "source": [
    "def liste2():\n",
    "    return [1,2,3,4,5]"
   ]
  },
  {
   "cell_type": "code",
   "execution_count": 106,
   "id": "8d7c1bd0",
   "metadata": {},
   "outputs": [
    {
     "data": {
      "text/plain": [
       "[1, 2, 3, 4, 5]"
      ]
     },
     "execution_count": 106,
     "metadata": {},
     "output_type": "execute_result"
    }
   ],
   "source": [
    "liste2()"
   ]
  },
  {
   "cell_type": "code",
   "execution_count": 108,
   "id": "f7caa662",
   "metadata": {},
   "outputs": [
    {
     "name": "stdout",
     "output_type": "stream",
     "text": [
      "1 2 3 4 5 "
     ]
    }
   ],
   "source": [
    "for i in liste2():\n",
    "    print(i, end = \" \")"
   ]
  },
  {
   "cell_type": "code",
   "execution_count": 109,
   "id": "5f8d6dc7",
   "metadata": {},
   "outputs": [
    {
     "data": {
      "text/plain": [
       "3"
      ]
     },
     "execution_count": 109,
     "metadata": {},
     "output_type": "execute_result"
    }
   ],
   "source": [
    "liste2()[2]   #  [1, 2, 3, 4, 5] [2] ----> indexleme yapmış gibi oluruz. fonksiyon yerine listenin kendisini yazdıracağı için."
   ]
  },
  {
   "cell_type": "code",
   "execution_count": 110,
   "id": "dcc2fa5e",
   "metadata": {},
   "outputs": [],
   "source": [
    "x = boolean()"
   ]
  },
  {
   "cell_type": "code",
   "execution_count": 111,
   "id": "c21c17e8",
   "metadata": {},
   "outputs": [
    {
     "name": "stdout",
     "output_type": "stream",
     "text": [
      "True\n"
     ]
    }
   ],
   "source": [
    "print(x)"
   ]
  },
  {
   "cell_type": "code",
   "execution_count": 114,
   "id": "5e776f9d",
   "metadata": {},
   "outputs": [],
   "source": [
    "y = liste2()"
   ]
  },
  {
   "cell_type": "code",
   "execution_count": 115,
   "id": "4f27ff2f",
   "metadata": {},
   "outputs": [
    {
     "data": {
      "text/plain": [
       "[1, 2, 3, 4, 5]"
      ]
     },
     "execution_count": 115,
     "metadata": {},
     "output_type": "execute_result"
    }
   ],
   "source": [
    "y"
   ]
  },
  {
   "cell_type": "code",
   "execution_count": 116,
   "id": "c2972968",
   "metadata": {},
   "outputs": [],
   "source": [
    "#return ile çözümü\n",
    "\n",
    "def calculator(x, y, işlem) :\n",
    "    if işlem == '+':\n",
    "        return x + y\n",
    "    elif işlem == '-':\n",
    "        return x - y\n",
    "    elif işlem == '*':\n",
    "        return x * y\n",
    "    elif işlem == '/':\n",
    "        return x/y\n",
    "    else:\n",
    "        print('geçersiz bir işlem girdiniz: ')"
   ]
  },
  {
   "cell_type": "code",
   "execution_count": 117,
   "id": "b049822b",
   "metadata": {},
   "outputs": [
    {
     "data": {
      "text/plain": [
       "6"
      ]
     },
     "execution_count": 117,
     "metadata": {},
     "output_type": "execute_result"
    }
   ],
   "source": [
    "calculator(2, 3, '*') # return ettiği (yani ürettiği) değerin tipi integer dır ve  6 dır. "
   ]
  },
  {
   "cell_type": "code",
   "execution_count": 118,
   "id": "129c02a0",
   "metadata": {},
   "outputs": [],
   "source": [
    "sonuç = calculator(2, 3, '*') "
   ]
  },
  {
   "cell_type": "code",
   "execution_count": 119,
   "id": "89170fbb",
   "metadata": {},
   "outputs": [
    {
     "data": {
      "text/plain": [
       "6"
      ]
     },
     "execution_count": 119,
     "metadata": {},
     "output_type": "execute_result"
    }
   ],
   "source": [
    "sonuç"
   ]
  },
  {
   "cell_type": "raw",
   "id": "12d69f9a",
   "metadata": {},
   "source": [
    "Absolute VALUE sorusu"
   ]
  },
  {
   "cell_type": "code",
   "execution_count": 11,
   "id": "cc10a997",
   "metadata": {},
   "outputs": [
    {
     "data": {
      "text/plain": [
       "100"
      ]
     },
     "execution_count": 11,
     "metadata": {},
     "output_type": "execute_result"
    }
   ],
   "source": [
    "a = - 100\n",
    "-a"
   ]
  },
  {
   "cell_type": "code",
   "execution_count": 12,
   "id": "771a65cc",
   "metadata": {},
   "outputs": [],
   "source": [
    "def absolute_value(num):\n",
    "    \"\"\"\"This function returns the absolute \n",
    "value of the given number.\"\"\"\n",
    "    \n",
    "    if num > 0:\n",
    "        return num\n",
    "    else:\n",
    "        return -num"
   ]
  },
  {
   "cell_type": "code",
   "execution_count": 13,
   "id": "43a63969",
   "metadata": {},
   "outputs": [
    {
     "data": {
      "text/plain": [
       "22"
      ]
     },
     "execution_count": 13,
     "metadata": {},
     "output_type": "execute_result"
    }
   ],
   "source": [
    "absolute_value(-22)"
   ]
  },
  {
   "cell_type": "code",
   "execution_count": 15,
   "id": "9e4e9b0a",
   "metadata": {},
   "outputs": [
    {
     "name": "stdout",
     "output_type": "stream",
     "text": [
      "\"This function returns the absolute \n",
      "value of the given number.\n"
     ]
    }
   ],
   "source": [
    "print(absolute_value.__doc__)"
   ]
  },
  {
   "cell_type": "code",
   "execution_count": 16,
   "id": "f03663c8",
   "metadata": {},
   "outputs": [
    {
     "name": "stdout",
     "output_type": "stream",
     "text": [
      "Return the absolute value of the argument.\n"
     ]
    }
   ],
   "source": [
    "print(abs.__doc__)"
   ]
  },
  {
   "cell_type": "markdown",
   "id": "b6288f07",
   "metadata": {},
   "source": [
    "ARGUMENTS - PARAMETERS"
   ]
  },
  {
   "cell_type": "markdown",
   "id": "745403ab",
   "metadata": {},
   "source": [
    "Parameters ---> Variables\n",
    "Arguments ----> Value  (fonk.çağırdığımızda gönderilen değerlerdir)"
   ]
  },
  {
   "cell_type": "code",
   "execution_count": 21,
   "id": "db899c44",
   "metadata": {},
   "outputs": [],
   "source": [
    "def sayılar(ilk, son):  # ilk ve son burada parametredir yani variables\n",
    "    print(\"başlangıç:\", ilk)\n",
    "    print(\"bitiş\", son)"
   ]
  },
  {
   "cell_type": "code",
   "execution_count": 22,
   "id": "b7d90b81",
   "metadata": {},
   "outputs": [
    {
     "name": "stdout",
     "output_type": "stream",
     "text": [
      "başlangıç: 20\n",
      "bitiş 100\n",
      "\n"
     ]
    }
   ],
   "source": [
    "sayılar(20, 100) # burada fonk.çağırırken içine atadıklarımızda argument oluyor.\n",
    "print()  # boş bir satır verdi."
   ]
  },
  {
   "cell_type": "code",
   "execution_count": 23,
   "id": "ddfd0f29",
   "metadata": {},
   "outputs": [
    {
     "name": "stdout",
     "output_type": "stream",
     "text": [
      "başlangıç: 1500\n",
      "bitiş 2500\n"
     ]
    }
   ],
   "source": [
    "sayılar(\"1500\", \"2500\") #str girilebilir."
   ]
  },
  {
   "cell_type": "code",
   "execution_count": 24,
   "id": "0b54f8e6",
   "metadata": {},
   "outputs": [
    {
     "ename": "TypeError",
     "evalue": "sayılar() missing 1 required positional argument: 'son'",
     "output_type": "error",
     "traceback": [
      "\u001b[1;31m---------------------------------------------------------------------------\u001b[0m",
      "\u001b[1;31mTypeError\u001b[0m                                 Traceback (most recent call last)",
      "Input \u001b[1;32mIn [24]\u001b[0m, in \u001b[0;36m<cell line: 1>\u001b[1;34m()\u001b[0m\n\u001b[1;32m----> 1\u001b[0m \u001b[43msayılar\u001b[49m\u001b[43m(\u001b[49m\u001b[38;5;241;43m200\u001b[39;49m\u001b[43m)\u001b[49m\n",
      "\u001b[1;31mTypeError\u001b[0m: sayılar() missing 1 required positional argument: 'son'"
     ]
    }
   ],
   "source": [
    "sayılar(200) #tek bir argument ile çağırmaya çalışsak hata verecektir, tanımlandığı şekilde çağırmak zorundayız.\n",
    "# son diye bir argument var onu tanımladınız diye hata veriyor."
   ]
  },
  {
   "cell_type": "markdown",
   "id": "e8b7898d",
   "metadata": {},
   "source": [
    "### positinal argument; sıra önemli çünkü; fonksiyon tanımlarken kullanılan parametre sırası ile fonk. çağırırken gönderilen argument sırasının aynı olması gerekmektedir.\n",
    "\n",
    "### keyword argument; fonk.normal tanımlarız (positinial)  ama çağırırken değer atayarak çağırırız. Burada artık sıranın bir önemi olmaz."
   ]
  },
  {
   "cell_type": "code",
   "execution_count": 73,
   "id": "607614c5",
   "metadata": {},
   "outputs": [],
   "source": [
    "a = \"her şey\"\n",
    "b = \"güzel\"\n",
    "c = \"olacak\"  "
   ]
  },
  {
   "cell_type": "code",
   "execution_count": 74,
   "id": "fe982498",
   "metadata": {},
   "outputs": [],
   "source": [
    "#  text(c, a, b)  # bu duruma göre biz c = x, a = y, b = z durumundadır. yani text(x, y, z)\n",
    "# print edeceği sırayı ayarlamamız lazım."
   ]
  },
  {
   "cell_type": "code",
   "execution_count": 75,
   "id": "d2f7a367",
   "metadata": {},
   "outputs": [],
   "source": [
    "def text(x, y, z):\n",
    "    print (y , z,  x)"
   ]
  },
  {
   "cell_type": "code",
   "execution_count": 76,
   "id": "c9d64c83",
   "metadata": {},
   "outputs": [
    {
     "name": "stdout",
     "output_type": "stream",
     "text": [
      "her şey güzel olacak\n"
     ]
    }
   ],
   "source": [
    "text(c, a, b)"
   ]
  },
  {
   "cell_type": "markdown",
   "id": "6a99f69f",
   "metadata": {},
   "source": [
    "Yukardaki soruya keyword argumanlada yapabiliriz."
   ]
  },
  {
   "cell_type": "code",
   "execution_count": 78,
   "id": "99479020",
   "metadata": {},
   "outputs": [
    {
     "name": "stdout",
     "output_type": "stream",
     "text": [
      "herşey güzel olacak\n",
      "herşey güzel olacak\n"
     ]
    }
   ],
   "source": [
    "def text(x, y, z):\n",
    "    print(f\"{y} {z} {x}\")  # atama yapıdığı için buradaki sıralamayı baz alacak.\n",
    "text(y = 'herşey', z = 'güzel', x = 'olacak')  # iki farklı sıralamada da atamaların yerini farklı yazdık, sonuç aynı.\n",
    "text(z = 'güzel', x = 'olacak', y = 'herşey')"
   ]
  },
  {
   "cell_type": "code",
   "execution_count": 56,
   "id": "80816329",
   "metadata": {},
   "outputs": [
    {
     "name": "stdout",
     "output_type": "stream",
     "text": [
      "0\n"
     ]
    }
   ],
   "source": [
    "def polynamial(x):\n",
    "  return x**2+ 5*x +4\n",
    "print(polynamial (-4))\n",
    "#bu kısımda normal bir def tanımladık. bunu daha kısa yazmak için lambda fonk. kullanabiliriz."
   ]
  },
  {
   "cell_type": "code",
   "execution_count": 57,
   "id": "d1869fac",
   "metadata": {},
   "outputs": [
    {
     "name": "stdout",
     "output_type": "stream",
     "text": [
      "0\n"
     ]
    }
   ],
   "source": [
    "# lambda fonksiyonu ile; aynı satırda hem değeri (x) tanımlayıp (x:) , hemde fonk. return durumunu belirtebiliriz.\n",
    "# aynı satırda fonk. return edeceği parametreleri(x**2 + 5*x +4) ve fonk.çağırırken kullanacağımız argumenti (-4) belirtebiliriz.\n",
    "print((lambda x: x**2 + 5*x +4)(-4))"
   ]
  },
  {
   "cell_type": "code",
   "execution_count": 80,
   "id": "bb7c2ecc",
   "metadata": {},
   "outputs": [
    {
     "name": "stdout",
     "output_type": "stream",
     "text": [
      "8\n"
     ]
    }
   ],
   "source": [
    "# bir fonk. def ile yazımı \n",
    "def sum(x,y):\n",
    "  return x+y\n",
    "print(sum(5,3))"
   ]
  },
  {
   "cell_type": "code",
   "execution_count": 81,
   "id": "bc658788",
   "metadata": {},
   "outputs": [
    {
     "name": "stdout",
     "output_type": "stream",
     "text": [
      "8\n"
     ]
    }
   ],
   "source": [
    "#aynı fonk. lambda ile yazımı\n",
    "print((lambda x,y:x+y)(5,3))  # ---> yukarıdaki sum ı kullanmadan diğer parametreleri yazarız, return etmesini isteğimizi \n",
    "#  (x+y) yazarız ve son alarak da fonk. çağırırken kullanacağımız argumenti(5, 3) yazabiliriz."
   ]
  },
  {
   "cell_type": "code",
   "execution_count": 82,
   "id": "6995d809",
   "metadata": {},
   "outputs": [],
   "source": [
    "def add_five(x): #add_five fonk. tanımladık. şimdi aşama aşama map ile yazalım. map için bir fonk. yazalım.\n",
    "  return x+5"
   ]
  },
  {
   "cell_type": "code",
   "execution_count": 94,
   "id": "12441265",
   "metadata": {},
   "outputs": [],
   "source": [
    "# map(function, iterable) # ---> map fonk.hatırlayalım. içine bir fonk, bir iterable alır. \n",
    "# bir fonk; (add_five) tanımladık.\n",
    "# şimdi de bir iterable tanımlayalım."
   ]
  },
  {
   "cell_type": "code",
   "execution_count": 74,
   "id": "e87fe456",
   "metadata": {},
   "outputs": [],
   "source": [
    "nums=[1,3,5,36,8]   # map için bir iterable da tanımladık."
   ]
  },
  {
   "cell_type": "code",
   "execution_count": 75,
   "id": "638356df",
   "metadata": {},
   "outputs": [
    {
     "data": {
      "text/plain": [
       "<map at 0x1629b4f9ed0>"
      ]
     },
     "execution_count": 75,
     "metadata": {},
     "output_type": "execute_result"
    }
   ],
   "source": [
    "map(add_five,nums)  # ---> içine bir func. bir de iterable alır demiştik. burada func. add_five olsun, iterablemızda \n",
    "# nums listesi olsun.\n",
    "#fonk. bu haliyle koşturursak sadece bize bir yer gösterir. generator ve zipped gibi."
   ]
  },
  {
   "cell_type": "code",
   "execution_count": 84,
   "id": "50e8e4f6",
   "metadata": {},
   "outputs": [
    {
     "name": "stdout",
     "output_type": "stream",
     "text": [
      "<map object at 0x000001629B2CB3D0>\n"
     ]
    }
   ],
   "source": [
    "result =map(add_five,nums)   # ---> fonk. tanımladıktan sonra bir değişkene atamamız yani assign etmemiz lazım.\n",
    "# bu şekilde print edersek YİNE aynı zipped, generator gibi sadece bize bir yer gösterir. bunu görünür hale getirmek için;\n",
    "# ya bir colletion içine bu map fonk. atmalıyız, ya da * karekter ile görünür hale getirmeliyiz.\n",
    "print(result)"
   ]
  },
  {
   "cell_type": "code",
   "execution_count": 96,
   "id": "708159fe",
   "metadata": {},
   "outputs": [
    {
     "name": "stdout",
     "output_type": "stream",
     "text": [
      "(6, 8, 10, 41, 13)\n"
     ]
    }
   ],
   "source": [
    "def add_five(x): #add_five fonk. tanımladık.\n",
    "  return x+5\n",
    "nums=[1,3,5,36,8]   \n",
    "result =map(add_five,nums)\n",
    "result= tuple(map(add_five,nums)) # COLLECTİON İÇİNE ATTIK.\n",
    "print(result)"
   ]
  },
  {
   "cell_type": "code",
   "execution_count": 102,
   "id": "5d284b02",
   "metadata": {},
   "outputs": [
    {
     "name": "stdout",
     "output_type": "stream",
     "text": [
      "22 44\n"
     ]
    }
   ],
   "source": [
    "print(* result) # böylede görünür hale getirebiliriz."
   ]
  },
  {
   "cell_type": "code",
   "execution_count": 111,
   "id": "51ce778f",
   "metadata": {},
   "outputs": [
    {
     "data": {
      "text/plain": [
       "(<function __main__.<lambda>(x)>, [11, 22, 33, 44, 55])"
      ]
     },
     "execution_count": 111,
     "metadata": {},
     "output_type": "execute_result"
    }
   ],
   "source": [
    "# şimdi de lambda ile filter fonk. birlikte kullanmaya çalışalım\n",
    "# unutmayalım filter fonk. filtre eder. Sadece True dönenleri alır, map ise herşeyi iterate etmişti.\n",
    "nums=[11,22,33,44,55]     #yine bir iterable tanımlayalım.\n",
    "(lambda x:x%2==0), nums   # rastgele bir lambda fonk. yazalım ve iterable ile birlikte kullanalım.\n",
    "# bu haliyle yazdırırsak bize aşağıdaki durumu gösterir."
   ]
  },
  {
   "cell_type": "code",
   "execution_count": 112,
   "id": "2c9514f9",
   "metadata": {},
   "outputs": [
    {
     "name": "stdout",
     "output_type": "stream",
     "text": [
      "<filter object at 0x000001629C5849A0>\n"
     ]
    }
   ],
   "source": [
    "nums=[11,22,33,44,55]\n",
    "result=filter((lambda x:x%2==0),nums)\n",
    "print(result) # filter fonk. da map, zipped, generator gibi bize bir yer belirtti, yine bunu da görünür yapmak için\n",
    "# colletion veya * kullanmalıyız"
   ]
  },
  {
   "cell_type": "code",
   "execution_count": 113,
   "id": "857e52da",
   "metadata": {},
   "outputs": [
    {
     "name": "stdout",
     "output_type": "stream",
     "text": [
      "(22, 44)\n"
     ]
    }
   ],
   "source": [
    "nums=[11,22,33,44,55]\n",
    "result=tuple(filter((lambda x:x%2==0),nums)) #tuple colletion ile görünür hale getirme\n",
    "print(result)"
   ]
  },
  {
   "cell_type": "code",
   "execution_count": 114,
   "id": "7c334b0c",
   "metadata": {},
   "outputs": [
    {
     "name": "stdout",
     "output_type": "stream",
     "text": [
      "22 44\n"
     ]
    }
   ],
   "source": [
    "nums=[11,22,33,44,55]\n",
    "result=filter((lambda x:x%2==0),nums)\n",
    "print(* result) # asteriks ile görünür hale getirme."
   ]
  },
  {
   "cell_type": "code",
   "execution_count": null,
   "id": "49e00ac0",
   "metadata": {},
   "outputs": [],
   "source": []
  }
 ],
 "metadata": {
  "kernelspec": {
   "display_name": "Python 3 (ipykernel)",
   "language": "python",
   "name": "python3"
  },
  "language_info": {
   "codemirror_mode": {
    "name": "ipython",
    "version": 3
   },
   "file_extension": ".py",
   "mimetype": "text/x-python",
   "name": "python",
   "nbconvert_exporter": "python",
   "pygments_lexer": "ipython3",
   "version": "3.10.4"
  }
 },
 "nbformat": 4,
 "nbformat_minor": 5
}
