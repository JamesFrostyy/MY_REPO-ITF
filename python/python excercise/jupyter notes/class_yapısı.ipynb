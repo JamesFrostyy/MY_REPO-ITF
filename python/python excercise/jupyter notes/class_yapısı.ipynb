{
 "cells": [
  {
   "cell_type": "code",
   "execution_count": null,
   "metadata": {},
   "outputs": [],
   "source": [
    "# inheritance = kalıtım,miras demek... Öğrenci öğretmen örneği gibi bir okulda iki tip te vardır...\n",
    "# class yapısının tümü aslında kapsüllemek = Encapsültation...\n",
    "# Abstraction = özet , genel tanım\n",
    "#\n"
   ]
  },
  {
   "cell_type": "code",
   "execution_count": null,
   "metadata": {},
   "outputs": [],
   "source": [
    "# class <Class ismi> ---class isimleri genellikle büyük hafrle başlar(zorunluk değildir)\n",
    "\n",
    "    #<class attribute> ---Class attribute, oluşturulanın aksine genel değerler içerir.\n",
    "    \n",
    "    #def __init__(self, <attr>):  -- init, instantiation yani örneklendirmenin kısaltmasıdır.\n",
    "        #self. <instance attr> = attr --- instance attributelar oluştutulan örneğe özgürdür **\n",
    "        \n",
    "    #def <method>(self, <params>):  -- metodlar class'a özgü fonksiyonlardır.\n",
    "        #...\n",
    "        #return ..."
   ]
  },
  {
   "cell_type": "code",
   "execution_count": 3,
   "metadata": {},
   "outputs": [],
   "source": [
    "class Ucus(): #uçuş\n",
    "    havayolu = \"THY\""
   ]
  },
  {
   "cell_type": "code",
   "execution_count": 4,
   "metadata": {},
   "outputs": [],
   "source": [
    "ucus1 = Ucus()"
   ]
  },
  {
   "cell_type": "code",
   "execution_count": 6,
   "metadata": {},
   "outputs": [
    {
     "data": {
      "text/plain": [
       "'THY'"
      ]
     },
     "execution_count": 6,
     "metadata": {},
     "output_type": "execute_result"
    }
   ],
   "source": [
    "ucus1.havayolu"
   ]
  },
  {
   "cell_type": "code",
   "execution_count": 8,
   "metadata": {},
   "outputs": [],
   "source": [
    "class Ucus():\n",
    "    havayolu = \"THY\"\n",
    "    \n",
    "    def __init__(self, kod, kalkis, varis, süre , kapasite, yolcu): # içinde yazılan herşey methoddur.\n",
    "        self.kod = kod\n",
    "        self.kalkis = kalkis               # bu kısım object instantiates(örnekleme) kısmı self in üzerinden anlatmak gibi.... dolaylı yoldan\n",
    "        self.varis = varis\n",
    "        self.süre = süre\n",
    "        self.kapasite = kapasite\n",
    "        self.yolcu = yolcu  \n",
    "        "
   ]
  },
  {
   "cell_type": "code",
   "execution_count": 9,
   "metadata": {},
   "outputs": [],
   "source": [
    "Ucus2 = Ucus(\"TK100\", \"IST\", \"Ank\",60,200,22)"
   ]
  },
  {
   "cell_type": "code",
   "execution_count": 11,
   "metadata": {},
   "outputs": [
    {
     "data": {
      "text/plain": [
       "'IST'"
      ]
     },
     "execution_count": 11,
     "metadata": {},
     "output_type": "execute_result"
    }
   ],
   "source": [
    "Ucus2.havayolu  # hava yolur her zaman üstte tanımlandığı için THy çıkıyor\n",
    "Ucus2.kalkis  # ucus3 tanımlar isek yeni bir sefer düzenleyebiliriz...."
   ]
  },
  {
   "cell_type": "code",
   "execution_count": 16,
   "metadata": {},
   "outputs": [],
   "source": [
    "class Ucus():\n",
    "    havayolu = \"THY\"\n",
    "    \n",
    "    def __init__(self, kod, kalkis, varis, süre , kapasite, yolcu):\n",
    "        self.kod = kod\n",
    "        self.kalkis = kalkis\n",
    "        self.varis = varis\n",
    "        self.süre = süre\n",
    "        self.kapasite = kapasite\n",
    "        self.yolcu = yolcu  \n",
    "        \n",
    "        \n",
    "    def anons_yap(self):\n",
    "        return \"{} sefer sayılı {}--{} ucusumuz {} dakika sürecektir\".format(\n",
    "            self.kod,\n",
    "            self.kalkis,\n",
    "            self.varis,\n",
    "            self.süre)"
   ]
  },
  {
   "cell_type": "code",
   "execution_count": 18,
   "metadata": {},
   "outputs": [],
   "source": [
    "ucus3 = Ucus(\"Tk500\",\"Bod\",\"Ant\",39,244,12)"
   ]
  },
  {
   "cell_type": "code",
   "execution_count": 19,
   "metadata": {},
   "outputs": [
    {
     "data": {
      "text/plain": [
       "'Tk500 sefer sayılı Bod--Ant ucusumuz 39 dakika sürecektir'"
      ]
     },
     "execution_count": 19,
     "metadata": {},
     "output_type": "execute_result"
    }
   ],
   "source": [
    "ucus3.anons_yap()"
   ]
  },
  {
   "cell_type": "code",
   "execution_count": 48,
   "metadata": {},
   "outputs": [],
   "source": [
    "class Ucus():\n",
    "    havayolu = \"THY\"\n",
    "    \n",
    "    def __init__(self, kod, kalkis, varis, süre , kapasite, yolcu):\n",
    "        self.kod = kod\n",
    "        self.kalkis = kalkis\n",
    "        self.varis = varis\n",
    "        self.süre = süre\n",
    "        self.kapasite = kapasite\n",
    "        self.yolcu = yolcu  \n",
    "        \n",
    "        \n",
    "    def anons_yap(self):\n",
    "        return \"{} sefer sayılı {}--{} ucusumuz {} dakika sürecektir\".format(\n",
    "            self.kod,\n",
    "            self.kalkis,\n",
    "            self.varis,\n",
    "            self.süre)\n",
    "        \n",
    "    def koltuk_sayısı_güncelle(self):\n",
    "        return self.kapasite - self.yolcu\n",
    "    \n",
    "    def bilet_satis(self, bilet_adedi=1):\n",
    "        if self.yolcu + bilet_adedi <= self.kapasite:\n",
    "            #self.yolcu = self.yolcu + bilet_adedi\n",
    "            self.yolcu += bilet_adedi\n",
    "            self.koltuk_sayısı_güncelle()\n",
    "            return \"{} adet bilet satılmıştır, kalan koltuk sayısı {} \".format(bilet_adedi,self.koltuk_sayısı_güncelle())\n",
    "        else:\n",
    "            return \"Yetersiz koltuk sayısı\"\n",
    "        \n",
    "    def bilet_iptal(self, bilet_adedi=1):\n",
    "        if self.yolcu >= bilet_adedi:\n",
    "            self.yolcu -= bilet_adedi\n",
    "            return \"{} adet bilet iptal edilmiştir, kalan koltuk sayısı {} \".format(bilet_adedi,self.koltuk_sayısı_güncelle())\n",
    "        else:\n",
    "            return \"Islem gerçekleştirilemedi . İptal edilecek kadar yolcu yok..\"  "
   ]
  },
  {
   "cell_type": "code",
   "execution_count": 53,
   "metadata": {},
   "outputs": [
    {
     "data": {
      "text/plain": [
       "44"
      ]
     },
     "execution_count": 53,
     "metadata": {},
     "output_type": "execute_result"
    }
   ],
   "source": [
    "ucus4 = Ucus(\"Tk500\",\"Bod\",\"Ant\",39,244,200)\n",
    "ucus4.koltuk_sayısı_güncelle()"
   ]
  },
  {
   "cell_type": "code",
   "execution_count": 62,
   "metadata": {},
   "outputs": [
    {
     "data": {
      "text/plain": [
       "'50 adet bilet satılmıştır, kalan koltuk sayısı 1 '"
      ]
     },
     "execution_count": 62,
     "metadata": {},
     "output_type": "execute_result"
    }
   ],
   "source": [
    "ucus4.bilet_satis(50) # her çalıştırmada fonksiyona tanımlanan değerden düşer..."
   ]
  },
  {
   "cell_type": "code",
   "execution_count": 65,
   "metadata": {},
   "outputs": [
    {
     "data": {
      "text/plain": [
       "'1 adet bilet iptal edilmiştir, kalan koltuk sayısı 4 '"
      ]
     },
     "execution_count": 65,
     "metadata": {},
     "output_type": "execute_result"
    }
   ],
   "source": [
    "ucus4.bilet_iptal(1)"
   ]
  },
  {
   "cell_type": "code",
   "execution_count": null,
   "metadata": {},
   "outputs": [],
   "source": [
    "#dunder methodlar\n",
    "ucus4.__dir__()  # bütün default atanan methotları ve kendi yaptığımız methodları gösterir."
   ]
  },
  {
   "cell_type": "code",
   "execution_count": 68,
   "metadata": {},
   "outputs": [
    {
     "data": {
      "text/plain": [
       "<__main__.Ucus at 0x27dc77fd8d0>"
      ]
     },
     "execution_count": 68,
     "metadata": {},
     "output_type": "execute_result"
    }
   ],
   "source": [
    "ucus4  # bunu çalıştırdığımızda alttaki bilginin çıkmasının sebebi __repr__ bu default methoddur"
   ]
  },
  {
   "cell_type": "code",
   "execution_count": 73,
   "metadata": {},
   "outputs": [],
   "source": [
    "class Ucus():\n",
    "    havayolu = \"THY\"\n",
    "    \n",
    "    def __init__(self, kod, kalkis, varis, süre , kapasite, yolcu):\n",
    "        self.kod = kod\n",
    "        self.kalkis = kalkis\n",
    "        self.varis = varis\n",
    "        self.süre = süre\n",
    "        self.kapasite = kapasite\n",
    "        self.yolcu = yolcu  \n",
    "        \n",
    "    def __repr__(self):\n",
    "        return \"random fackt \"\n",
    "        \n",
    "        \n",
    "    def anons_yap(self):\n",
    "        return \"{} sefer sayılı {}--{} ucusumuz {} dakika sürecektir\".format(\n",
    "            self.kod,\n",
    "            self.kalkis,\n",
    "            self.varis,\n",
    "            self.süre)\n",
    "        \n",
    "    def koltuk_sayısı_güncelle(self):\n",
    "        return self.kapasite - self.yolcu\n",
    "    \n",
    "    def bilet_satis(self, bilet_adedi=1):\n",
    "        if self.yolcu + bilet_adedi <= self.kapasite:\n",
    "            #self.yolcu = self.yolcu + bilet_adedi\n",
    "            self.yolcu += bilet_adedi\n",
    "            self.koltuk_sayısı_güncelle()\n",
    "            return \"{} adet bilet satılmıştır, kalan koltuk sayısı {} \".format(bilet_adedi,self.koltuk_sayısı_güncelle())\n",
    "        else:\n",
    "            return \"Yetersiz koltuk sayısı\"\n",
    "        \n",
    "    def bilet_iptal(self, bilet_adedi=1):\n",
    "        if self.yolcu >= bilet_adedi:\n",
    "            self.yolcu -= bilet_adedi\n",
    "            return \"{} adet bilet iptal edilmiştir, kalan koltuk sayısı {} \".format(bilet_adedi,self.koltuk_sayısı_güncelle())\n",
    "        else:\n",
    "            return \"Islem gerçekleştirilemedi . İptal edilecek kadar yolcu yok..\"  "
   ]
  },
  {
   "cell_type": "code",
   "execution_count": 75,
   "metadata": {},
   "outputs": [],
   "source": [
    "ucus4 = Ucus(\"Tk500\",\"Bod\",\"Ant\",39,244,200)"
   ]
  },
  {
   "cell_type": "code",
   "execution_count": 76,
   "metadata": {},
   "outputs": [
    {
     "data": {
      "text/plain": [
       "random fackt "
      ]
     },
     "execution_count": 76,
     "metadata": {},
     "output_type": "execute_result"
    }
   ],
   "source": [
    "ucus4"
   ]
  },
  {
   "cell_type": "code",
   "execution_count": 99,
   "metadata": {},
   "outputs": [],
   "source": [
    "class Seyahat():  #süperclass\n",
    "    def __init__(self, kalkis, varis):\n",
    "        self.kalkis = kalkis\n",
    "        self.varis = varis   \n",
    "        \n",
    "    def anons(self):\n",
    "        return \"{}--{} yolculuğumuza hoşgeldiniz \".format(self.kalkis, self.varis)\n",
    "class Otobus(Seyahat):  #alt class\n",
    "    def __init__(self, mola_durakları, kalkis, varis):\n",
    "        Seyahat.__init__(self, kalkis, varis)\n",
    "        self.mola_durakları = mola_durakları"
   ]
  },
  {
   "cell_type": "code",
   "execution_count": 92,
   "metadata": {},
   "outputs": [
    {
     "data": {
      "text/plain": [
       "'ANT--BOD yolculuğumuza hoşgeldiniz '"
      ]
     },
     "execution_count": 92,
     "metadata": {},
     "output_type": "execute_result"
    }
   ],
   "source": [
    "seyahat1 = Seyahat(\"ANT\",\"BOD\")\n",
    "seyahat1.anons()"
   ]
  },
  {
   "cell_type": "code",
   "execution_count": 94,
   "metadata": {},
   "outputs": [
    {
     "data": {
      "text/plain": [
       "['FET', 'ALAN']"
      ]
     },
     "execution_count": 94,
     "metadata": {},
     "output_type": "execute_result"
    }
   ],
   "source": [
    "oto1.mola_durakları"
   ]
  },
  {
   "cell_type": "code",
   "execution_count": 101,
   "metadata": {},
   "outputs": [],
   "source": [
    "oto1 = Otobus([\"FET\",\"ALAN\"],\"ANT\",\"BOD\") # oto 1 için değiştirirken bu şekilde yazmak gerek...."
   ]
  },
  {
   "cell_type": "code",
   "execution_count": 102,
   "metadata": {},
   "outputs": [
    {
     "data": {
      "text/plain": [
       "'ANT'"
      ]
     },
     "execution_count": 102,
     "metadata": {},
     "output_type": "execute_result"
    }
   ],
   "source": [
    "oto1.kalkis"
   ]
  },
  {
   "cell_type": "code",
   "execution_count": 96,
   "metadata": {},
   "outputs": [
    {
     "data": {
      "text/plain": [
       "'IST--ANK yolculuğumuza hoşgeldiniz '"
      ]
     },
     "execution_count": 96,
     "metadata": {},
     "output_type": "execute_result"
    }
   ],
   "source": [
    "oto1.anons()"
   ]
  }
 ],
 "metadata": {
  "kernelspec": {
   "display_name": "Python 3.10.5 64-bit",
   "language": "python",
   "name": "python3"
  },
  "language_info": {
   "codemirror_mode": {
    "name": "ipython",
    "version": 3
   },
   "file_extension": ".py",
   "mimetype": "text/x-python",
   "name": "python",
   "nbconvert_exporter": "python",
   "pygments_lexer": "ipython3",
   "version": "3.10.5"
  },
  "orig_nbformat": 4,
  "vscode": {
   "interpreter": {
    "hash": "39344b1b46d83f8c777437ec0c18c469cc5a98931f86e6b3d5b74c23738b46c6"
   }
  }
 },
 "nbformat": 4,
 "nbformat_minor": 2
}
