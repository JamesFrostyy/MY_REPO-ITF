{
 "cells": [
  {
   "cell_type": "markdown",
   "metadata": {
    "id": "fLeIdUWiQgGQ"
   },
   "source": [
    "**Exercise - Fibonacci | ?def | ?max() | ?str() | ?int() | ?while loop | ?pop() | ?append()**\n",
    "\n",
    "En büyük elemanı 55 olan Fibonacci sayı dizisini döndüren programı yazınız."
   ]
  },
  {
   "cell_type": "code",
   "execution_count": 3,
   "metadata": {
    "colab": {
     "base_uri": "https://localhost:8080/"
    },
    "id": "AtuYeSZ5QgPw",
    "outputId": "f7700067-9d41-4ea6-dd67-4203040f799f"
   },
   "outputs": [
    {
     "name": "stdout",
     "output_type": "stream",
     "text": [
      "[1, 1, 2, 3, 5, 8, 13, 21, 34, 55]\n"
     ]
    }
   ],
   "source": [
    "fibonacci = [1, 1]\n",
    "while max(fibonacci) < 55 :\n",
    "  fibonacci.append(fibonacci[-1] + fibonacci[-2])\n",
    "\n",
    "print(fibonacci)"
   ]
  },
  {
   "cell_type": "code",
   "execution_count": null,
   "metadata": {},
   "outputs": [],
   "source": [
    "fibonacci = [1, 1]\n",
    "while max(fibonacci) < 55 :\n",
    "    fibonacci.append(fibonacci[-1] + fibonacci[-2])\n",
    "    "
   ]
  },
  {
   "cell_type": "code",
   "execution_count": 2,
   "metadata": {
    "colab": {
     "base_uri": "https://localhost:8080/"
    },
    "id": "XyYpQTDeSB3b",
    "outputId": "34d03fc8-2a2d-4655-fb9f-2aa98737beaa"
   },
   "outputs": [
    {
     "name": "stdout",
     "output_type": "stream",
     "text": [
      "['1', '1', '2', '3', '5', '8', '13', '21', '34', '55']\n"
     ]
    }
   ],
   "source": [
    "liste = [\"1\", \"1\"]\n",
    "n = 1\n",
    "while int(liste[n]) < 56 :\n",
    "  liste.append(str(int(liste[n]) + int(liste[n - 1])))\n",
    "  n += 1\n",
    "\n",
    "liste.pop()\n",
    "print(liste)"
   ]
  },
  {
   "cell_type": "code",
   "execution_count": 1,
   "metadata": {
    "colab": {
     "base_uri": "https://localhost:8080/"
    },
    "id": "LdU9nirMSxIK",
    "outputId": "1253c0ed-4d50-48bf-f15d-f7d28d7dddc3"
   },
   "outputs": [
    {
     "name": "stdout",
     "output_type": "stream",
     "text": [
      "[1, 1, 2, 3, 5, 8, 13, 21, 34, 55]\n"
     ]
    }
   ],
   "source": [
    "liste = [1, 1]\n",
    "n = 1\n",
    "while int(liste[n]) < 56 :\n",
    "  liste.append(liste[n] + liste[n - 1])\n",
    "  n += 1\n",
    "\n",
    "liste.pop()\n",
    "print(liste)"
   ]
  }
 ],
 "metadata": {
  "colab": {
   "collapsed_sections": [],
   "name": "Exercise Fibonacci",
   "provenance": []
  },
  "kernelspec": {
   "display_name": "Python 3 (ipykernel)",
   "language": "python",
   "name": "python3"
  },
  "language_info": {
   "codemirror_mode": {
    "name": "ipython",
    "version": 3
   },
   "file_extension": ".py",
   "mimetype": "text/x-python",
   "name": "python",
   "nbconvert_exporter": "python",
   "pygments_lexer": "ipython3",
   "version": "3.10.1"
  }
 },
 "nbformat": 4,
 "nbformat_minor": 1
}
