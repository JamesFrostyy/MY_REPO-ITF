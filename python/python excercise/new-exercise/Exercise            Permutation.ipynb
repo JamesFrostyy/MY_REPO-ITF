{
 "cells": [
  {
   "cell_type": "markdown",
   "metadata": {
    "id": "o6-vzcIDGnRD"
   },
   "source": [
    "**Permutation | ?for range | ?range() | ?len() | ?comprehension | ?set() | ?difference()**\n",
    "\n",
    "Given a collection of distinct integers, return all possible permutations. This example has three elements but solution should cover all possible element numbers.\n",
    "\n",
    "Example:\n",
    "\n",
    "Input:\n",
    "\n",
    "[1,2,3]\n",
    "\n",
    "Output:\n",
    "\n",
    "[\n",
    "\n",
    "  [1,2,3],\n",
    "\n",
    "  [1,3,2],\n",
    "\n",
    "  [2,1,3],\n",
    "\n",
    "  [2,3,1],\n",
    "\n",
    "  [3,1,2],\n",
    "\n",
    "  [3,2,1]\n",
    "\n",
    "]"
   ]
  },
  {
   "cell_type": "code",
   "execution_count": 1,
   "metadata": {
    "colab": {
     "base_uri": "https://localhost:8080/"
    },
    "id": "PwtjkSflGnar",
    "outputId": "5ff0ea03-1e4d-46c4-f06a-5441f5a0ab86"
   },
   "outputs": [
    {
     "name": "stdout",
     "output_type": "stream",
     "text": [
      "[[1, 2, 3], [1, 3, 2], [2, 1, 3], [2, 3, 1], [3, 1, 2], [3, 2, 1]]\n"
     ]
    }
   ],
   "source": [
    "num = [1, 2, 3]\n",
    "num_set = set(num)\n",
    "solution = [[]]\n",
    "\n",
    "for index in range(len(num)) :\n",
    "    solution = [i + [j] for i in solution for j in num_set.difference(set(i))]\n",
    "\n",
    "print(solution)"
   ]
  }
 ],
 "metadata": {
  "colab": {
   "collapsed_sections": [],
   "name": "Permutation",
   "provenance": []
  },
  "kernelspec": {
   "display_name": "Python 3 (ipykernel)",
   "language": "python",
   "name": "python3"
  },
  "language_info": {
   "codemirror_mode": {
    "name": "ipython",
    "version": 3
   },
   "file_extension": ".py",
   "mimetype": "text/x-python",
   "name": "python",
   "nbconvert_exporter": "python",
   "pygments_lexer": "ipython3",
   "version": "3.10.1"
  }
 },
 "nbformat": 4,
 "nbformat_minor": 1
}
