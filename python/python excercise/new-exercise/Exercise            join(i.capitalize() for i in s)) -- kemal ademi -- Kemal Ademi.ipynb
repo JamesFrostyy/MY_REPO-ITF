{
 "cells": [
  {
   "cell_type": "markdown",
   "metadata": {
    "id": "qTrbKeqzu1kl"
   },
   "source": [
    "**Sunday Python Exercise**\n",
    "\n",
    "You are asked to ensure that the first and last names of people begin with a capital letter in their passports. For example, **alison heck** should be capitalised correctly as **Alison Heck**.\n",
    "\n",
    "Note: in a word only the first character is capitalized. Example 12abc when capitalized remains 12abc.\n",
    "\n",
    "Kişilerin pasaportlarında ad ve soyadlarının büyük harfle başlamasını sağlamanız istenmektedir. Örneğin, **alison heck**, **Alison Heck** olarak doğru bir şekilde büyük harfle yazılmalıdır.\n",
    "\n",
    "Not: Bir kelimede yalnızca ilk karakter büyük harfle yazılır. Örnek 12abc, büyük harfle yazıldığında 12abc olarak kalır."
   ]
  },
  {
   "cell_type": "code",
   "execution_count": 1,
   "metadata": {
    "colab": {
     "base_uri": "https://localhost:8080/"
    },
    "id": "xtMjgSTWu1sN",
    "outputId": "39a5df1a-9882-4e14-8984-5c539c1bf785"
   },
   "outputs": [
    {
     "name": "stdout",
     "output_type": "stream",
     "text": [
      "Please enter your name : harrison ford\n",
      "['harrison', 'ford']\n",
      "Harrison Ford\n"
     ]
    }
   ],
   "source": [
    "s = input(\"Please enter your name : \").split()\n",
    "print(s) # ['kemal', 'ademi']\n",
    "print(\" \".join(i.capitalize() for i in s))"
   ]
  },
  {
   "cell_type": "code",
   "execution_count": 2,
   "metadata": {},
   "outputs": [
    {
     "name": "stdout",
     "output_type": "stream",
     "text": [
      "Please enter your name : oRAY kAMBEROGLU\n",
      "['oRAY', 'kAMBEROGLU']\n",
      "Oray Kamberoglu\n"
     ]
    }
   ],
   "source": [
    "s = input(\"Please enter your name : \").split()\n",
    "print(s)\n",
    "print(\" \".join(i.capitalize() for i in s))"
   ]
  },
  {
   "cell_type": "code",
   "execution_count": null,
   "metadata": {},
   "outputs": [],
   "source": []
  }
 ],
 "metadata": {
  "colab": {
   "collapsed_sections": [],
   "name": "Exercise - Spare1.ipynb",
   "provenance": []
  },
  "kernelspec": {
   "display_name": "Python 3 (ipykernel)",
   "language": "python",
   "name": "python3"
  },
  "language_info": {
   "codemirror_mode": {
    "name": "ipython",
    "version": 3
   },
   "file_extension": ".py",
   "mimetype": "text/x-python",
   "name": "python",
   "nbconvert_exporter": "python",
   "pygments_lexer": "ipython3",
   "version": "3.10.1"
  }
 },
 "nbformat": 4,
 "nbformat_minor": 1
}
