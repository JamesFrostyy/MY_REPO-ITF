{
 "cells": [
  {
   "cell_type": "markdown",
   "id": "5f699071",
   "metadata": {},
   "source": [
    "İki tamsayı değeri verildiğinde, toplamlarını döndürün. İki değer aynıysa, toplamlarının iki katını döndürün."
   ]
  },
  {
   "cell_type": "code",
   "execution_count": null,
   "id": "6ff4be15",
   "metadata": {},
   "outputs": [],
   "source": [
    "def sum_double(x, y):\n",
    "    if x == y:\n",
    "        a = (x + y)*2\n",
    "        return a\n",
    "    else:\n",
    "        a= x+y\n",
    "        return a"
   ]
  },
  {
   "cell_type": "markdown",
   "id": "ba1becc2",
   "metadata": {},
   "source": [
    "Başımız beladaysa True döndürmek için iki parametre (konuşma ve saat) alan bir işlev tanımlayın. Konuşma parametresinin argümanı, konuşuyor olsun veya olmasın yalnızca Doğru veya Yanlış olabilir. Saat parametresinin bağımsız değişkeni, 0 ila 23 aralığında geçerli saat olmalıdır.\n",
    "Yüksek sesle konuşan bir papağanımız var. Papağan konuşuyorsa ve saat 6'dan önce veya 21'den sonraysa başımız belaya girer."
   ]
  },
  {
   "cell_type": "code",
   "execution_count": null,
   "id": "256c6af7",
   "metadata": {},
   "outputs": [],
   "source": [
    "def parrot_trouble(talking, hour):\n",
    "    if talking and (hour < 6 or hour > 21):\n",
    "        return True\n",
    "    else:\n",
    "        return False"
   ]
  },
  {
   "cell_type": "markdown",
   "id": "238e8704",
   "metadata": {},
   "source": [
    "Bir kelime almak ve olumsuz anlam döndürmek için bir fonksiyon tanımlayın.\n",
    "Bir kelime verildiğinde, öne 'değil' eklenmiş yeni bir kelime döndürün. Ancak, sözcük zaten 'değil' ile başlıyorsa, dizeyi değiştirmeden döndürün."
   ]
  },
  {
   "cell_type": "code",
   "execution_count": 8,
   "id": "ca6940da",
   "metadata": {},
   "outputs": [],
   "source": [
    "def not_string(word):\n",
    "    if word.startswith(\"not\"):\n",
    "        return word\n",
    "    else:\n",
    "        return \"not \" + word"
   ]
  },
  {
   "cell_type": "code",
   "execution_count": 10,
   "id": "1fc96a88",
   "metadata": {},
   "outputs": [
    {
     "name": "stdout",
     "output_type": "stream",
     "text": [
      "not cat\n"
     ]
    }
   ],
   "source": [
    "print(not_string(\"cat\"))"
   ]
  },
  {
   "cell_type": "markdown",
   "id": "355d6cf9",
   "metadata": {},
   "source": [
    "Boş olmayan bir dize ve bir int n verildiğinde, n dizinindeki karakterin kaldırıldığı yeni bir dize döndürün. n değeri, orijinal dizedeki bir karakterin geçerli bir dizini olacaktır (yani n, 0....len(str)-1 dahil aralığında olacaktır)."
   ]
  },
  {
   "cell_type": "code",
   "execution_count": 69,
   "id": "5450a1de",
   "metadata": {},
   "outputs": [],
   "source": [
    "def missing_char(word, n):\n",
    "    list(word).pop(n)\n",
    "    return word"
   ]
  },
  {
   "cell_type": "code",
   "execution_count": 70,
   "id": "f595efe9",
   "metadata": {},
   "outputs": [
    {
     "data": {
      "text/plain": [
       "'kitchen'"
      ]
     },
     "execution_count": 70,
     "metadata": {},
     "output_type": "execute_result"
    }
   ],
   "source": [
    "(missing_char('kitchen', 4))"
   ]
  },
  {
   "cell_type": "code",
   "execution_count": 66,
   "id": "50af193a",
   "metadata": {},
   "outputs": [],
   "source": [
    "def missing_char(word, n):\n",
    "    return word.replace(word[n], \"\") "
   ]
  },
  {
   "cell_type": "code",
   "execution_count": 67,
   "id": "a66ccc9e",
   "metadata": {},
   "outputs": [
    {
     "name": "stdout",
     "output_type": "stream",
     "text": [
      "kitcen\n"
     ]
    }
   ],
   "source": [
    "print(missing_char('kitchen', 4))"
   ]
  },
  {
   "cell_type": "code",
   "execution_count": 68,
   "id": "737ac5b1",
   "metadata": {},
   "outputs": [
    {
     "data": {
      "text/plain": [
       "'clrusway'"
      ]
     },
     "execution_count": 68,
     "metadata": {},
     "output_type": "execute_result"
    }
   ],
   "source": [
    "def missing_char(word, n):\n",
    "    new_word = \"\"\n",
    "    liste = list(word)\n",
    "    eksik = liste.pop(n)\n",
    "    for i in liste:\n",
    "         new_word += i\n",
    "    return new_word\n",
    "missing_char(\"clarusway\", 2)"
   ]
  },
  {
   "cell_type": "code",
   "execution_count": 81,
   "id": "cbda5fb1",
   "metadata": {},
   "outputs": [],
   "source": [
    "def missing_char(word, n):\n",
    "    ilk_word = word[:n]\n",
    "    son_word = word[n+1:]\n",
    "    return ilk_word + son_word"
   ]
  },
  {
   "cell_type": "code",
   "execution_count": 82,
   "id": "1136ad7e",
   "metadata": {},
   "outputs": [
    {
     "data": {
      "text/plain": [
       "'clrusway'"
      ]
     },
     "execution_count": 82,
     "metadata": {},
     "output_type": "execute_result"
    }
   ],
   "source": [
    "missing_char(\"clarusway\", 2)"
   ]
  },
  {
   "cell_type": "markdown",
   "id": "f16b2026",
   "metadata": {},
   "source": [
    "## Konu dışı python notları"
   ]
  },
  {
   "cell_type": "markdown",
   "id": "eadb9358",
   "metadata": {},
   "source": [
    "filter() Fonksiyonu: Çağırılan fonksiyonun döndürdüğü değerin true olduğu durumlara göre liste döndürür. Yani fonksiyona gönderilen değerler içerisinden istediklerimizi alarak yeni liste oluşturmamızı sağlar. Yani elimizdeki liste üzerinde filtreleme yapmamızı sağlar."
   ]
  },
  {
   "cell_type": "markdown",
   "id": "a0257495",
   "metadata": {},
   "source": [
    " map() Fonksiyonu: Parametre olarak aldığı fonksiyona, parametre olarak aldığı listenin her elemanını sırasıyla parametre olarak gönderir. Tek bir liste için kullanmak zorunda değilsiniz. Birden fazla liste için uygulanabilir"
   ]
  },
  {
   "cell_type": "markdown",
   "id": "9c3cb387",
   "metadata": {},
   "source": [
    "0x... = Hexadecimal = 16'lık\n",
    "0b... = Binary = 2'lik\n",
    "0d... = Decimal = 10'luk (Bildiğimiz sayı sistemi. Default olduğundan kullanılmaz.)"
   ]
  },
  {
   "cell_type": "markdown",
   "id": "0f628054",
   "metadata": {},
   "source": [
    "0x -> Hexadecimal (16 tabanlı) sayıları ifade etmek için kullanılır.\n",
    "0xe -> hex(E) manasındadır. E -> 10'luk sayı sisteminde 14'e denk gelir.\n",
    "i % 0xE = i % 14 olarak düşünülebilir.\n",
    "(Harf küçük-büyük farketmez)"
   ]
  },
  {
   "cell_type": "code",
   "execution_count": null,
   "id": "3347dbf8",
   "metadata": {},
   "outputs": [],
   "source": [
    "1.Sorum:\n",
    "x = [{'Ad': 'Ahmet', 'Yaş': 20}, {'Ad': 'Banu', 'Yaş': 28}, {'Ad': 'Anıl', 'Yaş': 21}]\n",
    "diye liste içi bir sözlüğüm olsun.\n",
    "Ben bu listeyi içindeki sözlükleri key veya valuelerine göre sıralama yapmak istesem;\n",
    "Mesela;\n",
    "Yaş'a göre küçükten büyüğe nasıl sıralarım.\n",
    "Elde edeceğim çoktı şöyle olmalı;\n",
    "x = [{'Ad': 'Ahmet', 'Yaş': 20}, {'Ad': 'Anıl', 'Yaş': 21}, {'Ad': 'Banu', 'Yaş': 28}]\n",
    "2.Sorum:\n",
    "Derste gördüğümüz bir örnek üzerinden;\n",
    "Bu sözlüğü\n",
    "1-Yaşa göre büyükten küçüğe,\n",
    "2- Birde tom, joseph gibi isim kısmını alfabetik olarak nasıl sıralarım.\n",
    "Bunlar işlemler yapılabilir mi?\n",
    "school_records = {\n",
    "    'personal_info':\n",
    "        {'kid':{'tom':{'class':'intermediate', 'age':10},\n",
    "                'sue':{'class':'elemantary', 'age':8}\n",
    "               },\n",
    "         'teen':{'joseph': {'class':'college', 'age':19},\n",
    "                 'marry': {'class':'high school', 'age':16}\n",
    "                },\n",
    "        },\n",
    "    'grades_info':\n",
    "        {'kid':{'tom':{'math':88, 'speech':69},\n",
    "                'sue':{'math':90, 'speech':81}\n",
    "               },\n",
    "         'teen':{'joseph':{'coding':80, 'math':89},\n",
    "                 'marry':{'coding':70, 'math':96}\n",
    "                },\n",
    "        }\n",
    "}"
   ]
  },
  {
   "cell_type": "code",
   "execution_count": null,
   "id": "bf0757c1",
   "metadata": {},
   "outputs": [],
   "source": [
    "x = [{'Ad': 'Ahmet', 'Yaş': 20}, \n",
    "{'Ad': 'Banu', 'Yaş': 28}, \n",
    "{'Ad': 'Anıl', 'Yaş': 21},\n",
    "{\"Ad\": \"Eric\", \"Yaş\":33},\n",
    "{\"Ad\": \"Zübeyir\", \"Yaş\":19}]\n",
    "y =[]\n",
    "for i in x:\n",
    "    if len(y) == 0:\n",
    "        y.append(i)\n",
    "    else:\n",
    "        for ii in range(0,len(y)):\n",
    "            if i[\"Yaş\"]<y[ii][\"Yaş\"]:\n",
    "                y.insert(ii,i)\n",
    "                break\n",
    "        if i not in y: \n",
    "            y.append(i)\n",
    "print(y)"
   ]
  },
  {
   "cell_type": "code",
   "execution_count": null,
   "id": "5b5a1575",
   "metadata": {},
   "outputs": [],
   "source": [
    "Lamda ile fonksiyon tanımla. List. Sort(key=lambda..) yapısını kullan"
   ]
  },
  {
   "cell_type": "code",
   "execution_count": null,
   "id": "4d4f9167",
   "metadata": {},
   "outputs": [],
   "source": [
    "from _operator import itemgetter\n",
    "x = [{'Ad': 'Ahmet', 'Yaş': 20},\n",
    "{'Ad': 'Banu', 'Yaş': 28},\n",
    "{'Ad': 'Anıl', 'Yaş': 21},\n",
    "{\"Ad\": \"Eric\", \"Yaş\":33},\n",
    "{\"Ad\": \"Zübeyir\", \"Yaş\":19}]\n",
    "print(sorted(x, key=itemgetter('Yaş')))"
   ]
  },
  {
   "cell_type": "code",
   "execution_count": null,
   "id": "453dbb67",
   "metadata": {},
   "outputs": [],
   "source": []
  }
 ],
 "metadata": {
  "kernelspec": {
   "display_name": "Python 3 (ipykernel)",
   "language": "python",
   "name": "python3"
  },
  "language_info": {
   "codemirror_mode": {
    "name": "ipython",
    "version": 3
   },
   "file_extension": ".py",
   "mimetype": "text/x-python",
   "name": "python",
   "nbconvert_exporter": "python",
   "pygments_lexer": "ipython3",
   "version": "3.10.4"
  }
 },
 "nbformat": 4,
 "nbformat_minor": 5
}
