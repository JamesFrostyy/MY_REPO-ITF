{
 "cells": [
  {
   "cell_type": "code",
   "execution_count": 2,
   "id": "6fd7ec0d",
   "metadata": {},
   "outputs": [
    {
     "name": "stdout",
     "output_type": "stream",
     "text": [
      "Enter a number : 123\n",
      "123 is not an Armstrong number\n"
     ]
    }
   ],
   "source": [
    "number = input(\"Enter a number : \")\n",
    "\n",
    "while not number.isdigit():\n",
    "    print(\"It is an invalid entry. Don't use non-numeric, float, or negative values!\")\n",
    "    number = input(\"Enter a number : \")\n",
    "    \n",
    "list_number = list(number)\n",
    "arm_num = 0    \n",
    "for i in list_number:\n",
    "    arm_num += pow(int(i), len(number))\n",
    "if arm_num == int(number):\n",
    "    print(f\"{number} is an Armstrong number\")\n",
    "else:\n",
    "    print(f\"{number} is not an Armstrong number\")"
   ]
  },
  {
   "cell_type": "code",
   "execution_count": 12,
   "id": "0a366f9a",
   "metadata": {},
   "outputs": [
    {
     "name": "stdout",
     "output_type": "stream",
     "text": [
      "Please, enter a number: mlkmll\n",
      "Enter just integer number: ttmt\n",
      "Enter just integer number: 371\n",
      "Your number is armstrong number\n"
     ]
    }
   ],
   "source": [
    "number = input(\"Please, enter a number: \")\n",
    "liste=[]\n",
    "count = 0\n",
    "a = 0\n",
    "while not number.isdigit():\n",
    "    number = input(\"Enter just integer number: \")\n",
    "    number_2 = number\n",
    "    \n",
    "else:\n",
    "    while int(number_2)>0:\n",
    "        number_1 = int(number_2)%10\n",
    "        liste.insert(0,number_1)\n",
    "        number_2 = int(number_2)//10\n",
    "for i in liste:\n",
    "    while a<len(liste):\n",
    "        count+=liste[a]**len(liste)\n",
    "        a+=1\n",
    "if int(number) == count:\n",
    "    print(\"Your number is armstrong number\")\n",
    "else:\n",
    "    print(\"Your number is not armstrong number\") "
   ]
  },
  {
   "cell_type": "markdown",
   "id": "a36bd2b9",
   "metadata": {},
   "source": [
    "Task : Print the prime numbers which are between 1 to entered limit number (n).\n",
    "\n",
    "You can use a nested for loop. Collect all these numbers into a list The desired output for n=100 :\n",
    "\n",
    "[2, 3, 5, 7, 11, 13, 17, 19, 23, 29, 31, 37, 41, 43, 47, 53, 59, 61, 67, 71, 73, 79, 83, 89, 97]"
   ]
  },
  {
   "cell_type": "code",
   "execution_count": 14,
   "id": "be2aff96",
   "metadata": {},
   "outputs": [
    {
     "name": "stdout",
     "output_type": "stream",
     "text": [
      "[2, 3, 5, 7, 11, 13, 17, 19, 23, 29, 31, 37, 41, 43, 47, 53, 59, 61, 67, 71, 73, 79, 83, 89, 97]\n"
     ]
    }
   ],
   "source": [
    "liste = []\n",
    "for sayi in range(100) :\n",
    "  if sayi > 1 :\n",
    "    for i in range(2,sayi) :\n",
    "      if (sayi % i) == 0 :\n",
    "        break  \n",
    "    else :\n",
    "      liste.append(sayi)\n",
    "print(liste)"
   ]
  },
  {
   "cell_type": "markdown",
   "id": "8eb4754b",
   "metadata": {},
   "source": [
    "Task : Write a program that takes a number from the user and prints the result to check if it is a prime number.\n",
    "\n",
    "The examples of the desired output are as follows :\n",
    "\n",
    "input → 19 ⇉ output : 19 is a prime number input → 10 ⇉ output : 10 is not a prime number"
   ]
  },
  {
   "cell_type": "code",
   "execution_count": 18,
   "id": "3af28512",
   "metadata": {},
   "outputs": [
    {
     "name": "stdout",
     "output_type": "stream",
     "text": [
      "Enter a positive number to check if it is a Prime Number: 9\n",
      "9 is a not prime number\n"
     ]
    }
   ],
   "source": [
    "n = int(input(\"Enter a positive number to check if it is a Prime Number: \"))\n",
    "counter = 0\n",
    "\n",
    "for i in range(1, n+1) :\n",
    "    if n % i == 0 :\n",
    "        counter += 1\n",
    "        \n",
    "if (n == 0) or (n == 1) or (counter >= 3) :\n",
    "    print(n, \"is a not prime number\")\n",
    "    \n",
    "else :\n",
    "    print(n, \"is a prime number\")"
   ]
  },
  {
   "cell_type": "markdown",
   "id": "b59ba358",
   "metadata": {},
   "source": [
    "Task : Create a list consisting of Fibonacci numbers from 1 to 55 using control flow statements and range() function."
   ]
  },
  {
   "cell_type": "code",
   "execution_count": 13,
   "id": "e15dcd23",
   "metadata": {},
   "outputs": [
    {
     "name": "stdout",
     "output_type": "stream",
     "text": [
      "[1, 1, 2, 3, 5, 8, 13, 21, 34, 55]\n"
     ]
    }
   ],
   "source": [
    "fibonacci = [1, 1]\n",
    "while max(fibonacci) < 55 :\n",
    "  fibonacci.append(fibonacci[-1] + fibonacci[-2])\n",
    "\n",
    "print(fibonacci)"
   ]
  },
  {
   "cell_type": "code",
   "execution_count": null,
   "id": "85214371",
   "metadata": {},
   "outputs": [],
   "source": [
    "liste = [\"1\", \"1\"]\n",
    "n = 1\n",
    "while int(liste[n]) < 56 :\n",
    "  liste.append(str(int(liste[n]) + int(liste[n - 1])))\n",
    "  n += 1\n",
    "\n",
    "liste.pop()\n",
    "print(liste)"
   ]
  },
  {
   "cell_type": "code",
   "execution_count": null,
   "id": "0ba7a859",
   "metadata": {},
   "outputs": [],
   "source": [
    "liste = [1, 1]\n",
    "n = 1\n",
    "while int(liste[n]) < 56 :\n",
    "  liste.append(liste[n] + liste[n - 1])\n",
    "  n += 1\n",
    "\n",
    "liste.pop()\n",
    "print(liste)"
   ]
  },
  {
   "cell_type": "code",
   "execution_count": null,
   "id": "ec48e358",
   "metadata": {},
   "outputs": [],
   "source": [
    "a, b = 0, 1\n",
    "fibonacci = [a, b]\n",
    "for i in range(100 - len(fibonacci)) :\n",
    "  a, b = b, a + b\n",
    "  fibonacci += [b]\n",
    "print(fibonacci)\n",
    "print(len(fibonacci))"
   ]
  },
  {
   "cell_type": "code",
   "execution_count": null,
   "id": "481b082a",
   "metadata": {},
   "outputs": [],
   "source": [
    "a, b = 0, 1\n",
    "fibonacci = [a, b]\n",
    "while len(str(b)) != 100 :\n",
    "  a, b = b, a + b\n",
    "  fibonacci += [b]\n",
    "  if len(str(b)) == 100 :\n",
    "    fibonacci += [b]\n",
    "    break\n",
    "print(len(str(fibonacci[-1])))\n",
    "print(fibonacci[-1])\n",
    "print(fibonacci.index(fibonacci[-1]))"
   ]
  },
  {
   "cell_type": "code",
   "execution_count": 30,
   "id": "a2703042",
   "metadata": {},
   "outputs": [
    {
     "name": "stdout",
     "output_type": "stream",
     "text": [
      "0-1-1-2-3-5-8-13-21-34-55-89-144-233-377-610-987-1597-2584-4181-6765-10946-17711-28657-46368-75025-121393-196418-317811-514229-832040-1346269-2178309-3524578-5702887-9227465-14930352-24157817-39088169-63245986-102334155-165580141-267914296-433494437-701408733-1134903170-1836311903-2971215073-4807526976-7778742049-12586269025-20365011074-32951280099-53316291173-86267571272-139583862445-225851433717-365435296162-591286729879-956722026041-1548008755920-2504730781961-4052739537881-6557470319842-10610209857723-17167680177565-27777890035288-44945570212853-72723460248141-117669030460994-190392490709135-308061521170129-498454011879264-806515533049393-1304969544928657-2111485077978050-3416454622906707-5527939700884757-8944394323791464-14472334024676221-23416728348467685-37889062373143906-61305790721611591-99194853094755497-160500643816367088-259695496911122585-420196140727489673-679891637638612258-1100087778366101931-1779979416004714189-2880067194370816120-4660046610375530309-7540113804746346429-12200160415121876738-19740274219868223167-31940434634990099905-51680708854858323072-83621143489848422977-135301852344706746049-218922995834555169026-"
     ]
    }
   ],
   "source": [
    "num1 = 0\n",
    "num2 = 1\n",
    "count = 0\n",
    "\n",
    "print(num1, end=\"-\")\n",
    "print(num2, end=\"-\")\n",
    "\n",
    "for i in range(100 - 2): # ilk iki elemanı çıkarıyoruz\n",
    "  num3 = num1 + num2\n",
    "  num1 = num2\n",
    "  num2 = num3\n",
    "  print(num3, end=\"-\")\n",
    "count += 1"
   ]
  },
  {
   "cell_type": "code",
   "execution_count": 31,
   "id": "010a668b",
   "metadata": {},
   "outputs": [
    {
     "name": "stdout",
     "output_type": "stream",
     "text": [
      "[2, 3, 5, 8, 13, 21, 34, 55, 89, 144, 233, 377, 610, 987, 1597]\n"
     ]
    }
   ],
   "source": [
    "dizi = [] #dizi tanımladık\n",
    "a = 1\n",
    "b = 1\n",
    "c = 1\n",
    "while c < 1000 : #1000 e kadar devam etmesi için while döngüsüne aldık\n",
    "    c = a+b\n",
    "    a = b\n",
    "    b = c\n",
    "    dizi.append(b) #diziye aktardık\n",
    "print(dizi)"
   ]
  },
  {
   "cell_type": "code",
   "execution_count": 32,
   "id": "a82979f6",
   "metadata": {},
   "outputs": [
    {
     "name": "stdout",
     "output_type": "stream",
     "text": [
      "[1, 1, 2, 3, 5, 8, 13, 21, 34, 55]\n"
     ]
    }
   ],
   "source": [
    "dizi = [] #dizi tanımladık\n",
    "a = 1\n",
    "b = 0\n",
    "c = 0\n",
    "while c < 55 : #55 e kadar devam etmesi için while döngüsüne aldık\n",
    "    c = a+b\n",
    "    a = b\n",
    "    b = c\n",
    "    dizi.append(b) #diziye aktardık\n",
    "print(dizi)"
   ]
  },
  {
   "cell_type": "markdown",
   "id": "b25bfd8c",
   "metadata": {},
   "source": [
    "kullanıcıdan bir sayı alalım bu sayının bölenlerinin toplamı bölenlerinin sayısına bölündüğünde sonuç bir integer çıkarsa bu sayımız aritmatik bir sayıdır"
   ]
  },
  {
   "cell_type": "code",
   "execution_count": 39,
   "id": "782d0bdf",
   "metadata": {},
   "outputs": [
    {
     "name": "stdout",
     "output_type": "stream",
     "text": [
      "enter a number: 120\n",
      "Aritmetik değil\n"
     ]
    }
   ],
   "source": [
    "n = int(input(\"enter a number: \"))\n",
    "bölen = 0\n",
    "list = []\n",
    "for i in range(1, n+1):\n",
    "    if n % i == 0:\n",
    "        list.append(i)\n",
    "        bölen += i\n",
    "    \n",
    "if bölen%len(list) == 0:\n",
    "    print(\"Aritmetik\")\n",
    "else:\n",
    "    print(\"Aritmetik değil\")\n",
    "        "
   ]
  },
  {
   "cell_type": "markdown",
   "id": "e4b7190c",
   "metadata": {},
   "source": [
    "Bir palindromik sayı sağdan ve soldan her iki şekilde de aynı okunur. İki basamaklı iki sayının çarpımından yapılan en büyük palindrom 9009 = 91 × 99'dur. İki 3 basamaklı sayının çarpımından yapılmış en büyük palindromu bulun."
   ]
  },
  {
   "cell_type": "code",
   "execution_count": 40,
   "id": "1504d00c",
   "metadata": {},
   "outputs": [
    {
     "name": "stdout",
     "output_type": "stream",
     "text": [
      "Please enter a number==>>> 9009\n",
      "9009  is an integer\n",
      "sum of divisor is ====>>>17472\n",
      "number of divisor =====>>>>24\n"
     ]
    }
   ],
   "source": [
    "counter =0\n",
    "input_check = True\n",
    "mistake_counter=0\n",
    "divisor_list = []\n",
    "divisor = 1\n",
    "sum_divisor= 0\n",
    "while input_check == True:\n",
    "    number = input(\"Please enter a number==>>> \")\n",
    "    if number.isdigit() == True:\n",
    "        input_check = False\n",
    "        while divisor <= int(number):\n",
    "            if int(number) % divisor ==0:\n",
    "                divisor_list.append(divisor)\n",
    "                divisor +=1\n",
    "                counter +=1\n",
    "            else:\n",
    "                divisor +=1\n",
    "        sum_divisor = sum(divisor_list)\n",
    "        if (sum_divisor/counter).is_integer:\n",
    "            print(f\"{number}  is an integer\")\n",
    "            print(f\"sum of divisor is ====>>>{sum_divisor}\")\n",
    "            print(f\"number of divisor =====>>>>{counter}\")\n",
    "    else:\n",
    "        mistake_counter +=1\n",
    "        if mistake_counter ==1:\n",
    "            print(f\"You made a {mistake_counter} mistake! Please enter a number ==>> \")\n",
    "        else:\n",
    "            print(f\"You made {mistake_counter} mistakes!!! Please enter a number ==>> \")"
   ]
  },
  {
   "cell_type": "code",
   "execution_count": 41,
   "id": "22fa17cc",
   "metadata": {},
   "outputs": [
    {
     "name": "stdout",
     "output_type": "stream",
     "text": [
      "how many digit do you want to product to find the largest palindrome in your entered digit?: 9009\n"
     ]
    }
   ],
   "source": [
    "def palindromic_number(number):         #sayının palindromic olup olmadığını kontrol eden bir fonksiyon tanımladım.\n",
    "        if len(number) %2 == 0:\n",
    "            first_half = number[0:len(number)//2]\n",
    "            second_half = number[-1:-(len(number)//2)-1:-1]\n",
    "            if first_half == second_half:\n",
    "                return  True\n",
    "            else:\n",
    "                return  False\n",
    "        else:\n",
    "            first_half = number[0:len(number)//2]\n",
    "            second_half = number[-1:-len(number)//2:-1]\n",
    "            if first_half == second_half:\n",
    "                return  True\n",
    "            else:\n",
    "                return  False\n",
    "control = True\n",
    "check = True\n",
    "number_list = []\n",
    "counter1 = 200              #en büyük çarpanlarını hızlı taraması için sayaç kullandım.\n",
    "counter2 = 200              #4 ten büyük basamaklı sayılar için sayaçların aynı oranda artırılması gerekiyor. (counter1 ve counter 2 değerleri)\n",
    "while check == True:\n",
    "    number = input(\"how many digit do you want to product to find the largest palindrome in your entered digit?: \")\n",
    "    if number.isdigit():                #sayı haricinde tüm veri girişleri kapalı\n",
    "        check = False\n",
    "        z = 10**(int(number))-1\n",
    "        y= z\n",
    "        while counter1 >0 and control == True:\n",
    "            counter2 = 200\n",
    "            y = 10**(int(number))-1\n",
    "            while counter2 > 0 and control == True:\n",
    "                check_number = z * y\n",
    "                char_product_number = str(check_number)\n",
    "                if palindromic_number(char_product_number) == True :\n",
    "                    print(f\"Largest palindrome made from the product of {number} digit numbers is \",char_product_number)\n",
    "                    print(f\"products of {number} digit numbers are {y} and {z}\")\n",
    "                    control = False\n",
    "                    break\n",
    "                counter2 = counter2 - 1\n",
    "                y= y-1\n",
    "            counter1 = counter1 - 1\n",
    "            z= z-1\n",
    "    else:\n",
    "        print(\"please enter proper number\")"
   ]
  },
  {
   "cell_type": "code",
   "execution_count": null,
   "id": "75f7b23e",
   "metadata": {},
   "outputs": [],
   "source": [
    "p=int(input(\"Kaç basamaklı sayı girmek istiyorsunuz\"))\n",
    "x=[]\n",
    "for a in range(10**(p-1),10**p):\n",
    "  for b in range(10**(p-1),10**p):\n",
    "    if str(a*b)==str(a*b)[::-1]:\n",
    "      x.append((a*b,f\"{a}x{b}\"))\n",
    "x.sort()\n",
    "print(x[-1])"
   ]
  },
  {
   "cell_type": "markdown",
   "id": "febd9ac8",
   "metadata": {},
   "source": [
    "Örneğin n=3 sayısı için W(103)=2(10-1)+9(10)=108’dir. Yani 1 ile 1000 arasında (1 dâhil olmak üzere) 108 adet palindrom sayı vardır.palindrom 9009 = 91 × 99'dur. İki 3 basamaklı sayının çarpımından yapılmış en büyük palindromu bulun."
   ]
  },
  {
   "cell_type": "code",
   "execution_count": 42,
   "id": "09f89a06",
   "metadata": {},
   "outputs": [
    {
     "name": "stdout",
     "output_type": "stream",
     "text": [
      "906609\n"
     ]
    }
   ],
   "source": [
    "print(\n",
    "    max(\n",
    "    [i * j for i in range(100, 1000) for j in range(100, 1000) if str(i*j) == str(i*j)[::-1] ]\n",
    "    )\n",
    ")"
   ]
  },
  {
   "cell_type": "code",
   "execution_count": null,
   "id": "452c296f",
   "metadata": {},
   "outputs": [],
   "source": []
  }
 ],
 "metadata": {
  "kernelspec": {
   "display_name": "Python 3 (ipykernel)",
   "language": "python",
   "name": "python3"
  },
  "language_info": {
   "codemirror_mode": {
    "name": "ipython",
    "version": 3
   },
   "file_extension": ".py",
   "mimetype": "text/x-python",
   "name": "python",
   "nbconvert_exporter": "python",
   "pygments_lexer": "ipython3",
   "version": "3.10.4"
  }
 },
 "nbformat": 4,
 "nbformat_minor": 5
}
