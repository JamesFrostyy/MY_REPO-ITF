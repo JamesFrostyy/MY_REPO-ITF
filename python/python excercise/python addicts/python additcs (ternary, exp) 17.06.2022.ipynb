{
 "cells": [
  {
   "cell_type": "markdown",
   "id": "b65ed8f4",
   "metadata": {},
   "source": [
    "Birbirinden farklı iki pozitif integer sayıyı oluşturacağınız fonksiyona yollayın. O da onlardan büyük olanı küçük olandan çıkartsın. Sayılar eşit veya negatif ise tekrar input istesin."
   ]
  },
  {
   "cell_type": "code",
   "execution_count": 1,
   "id": "c77d955c",
   "metadata": {},
   "outputs": [
    {
     "name": "stdout",
     "output_type": "stream",
     "text": [
      "2\n",
      "3\n",
      "1\n"
     ]
    }
   ],
   "source": [
    "def rabia(x, y):\n",
    "    if x == y:\n",
    "        x = int(input(\"\"))\n",
    "        y = int(input(\"\"))\n",
    "    elif x<0 or y<0: #and yazarsak hem x hem y nin negatif olmasını bekleyecek.\n",
    "        x = int(input(\"\"))\n",
    "        y = int(input(\"\"))\n",
    "    return abs(x-y)\n",
    "\n",
    "print(rabia(int(input(\"\")), int(input(\"\"))))    "
   ]
  },
  {
   "cell_type": "code",
   "execution_count": 2,
   "id": "aec88595",
   "metadata": {},
   "outputs": [
    {
     "name": "stdout",
     "output_type": "stream",
     "text": [
      "2\n",
      "2\n",
      "3\n",
      "2\n",
      "1\n"
     ]
    }
   ],
   "source": [
    "def rabia(x,y):\n",
    "    while x<0 or y<0 or x==y:\n",
    "        x=int(input())\n",
    "        y=int(input())\n",
    "    return sorted([x,y])[1]-sorted([x,y])[0]\n",
    "print(rabia(int(input()),int(input())))"
   ]
  },
  {
   "cell_type": "code",
   "execution_count": 4,
   "id": "c13c0e48",
   "metadata": {},
   "outputs": [
    {
     "name": "stdout",
     "output_type": "stream",
     "text": [
      "5\n",
      "3\n",
      "2\n"
     ]
    }
   ],
   "source": [
    "def rabia(x,y):\n",
    "    while x<0 or y<0 or x==y:\n",
    "        x=int(input())\n",
    "        y=int(input())\n",
    "    return abs(x-y)\n",
    "print(rabia(int(input()),int(input())))"
   ]
  },
  {
   "cell_type": "code",
   "execution_count": null,
   "id": "2a330231",
   "metadata": {},
   "outputs": [],
   "source": [
    "def cooper():\n",
    "    while True:\n",
    "        x = int(input('First number : '))\n",
    "        y = int(input('Second number : '))\n",
    "        \n",
    "        if x < 0 or y < 0 or x == y :\n",
    "            print(\"Try again\")\n",
    "            continue\n",
    "        elif x > y:\n",
    "            return x-y\n",
    "        elif y > x:\n",
    "            return y-x"
   ]
  },
  {
   "cell_type": "code",
   "execution_count": null,
   "id": "04642fef",
   "metadata": {},
   "outputs": [],
   "source": [
    "isimler = [\"ali\", \"veli\", \"deli\", 'ali', 'deli','deli','ali', 'veli', 'deli','deli']\n",
    "liste = []\n",
    "for isim in isimler :\n",
    "    if (isim,isimler.count(isim)) in liste:\n",
    "        continue\n",
    "    else:\n",
    "        liste.append((isim,isimler.count(isim)))   \n",
    "print(liste)\n",
    "\n",
    "[('ali', 3), ('veli', 2), ('deli', 5)]"
   ]
  },
  {
   "cell_type": "code",
   "execution_count": null,
   "id": "75d6c802",
   "metadata": {},
   "outputs": [],
   "source": [
    "...\n",
    "for isim in set(isimler):\n",
    "    liste.append((isim,isimler.count(isim)))\n",
    "..."
   ]
  },
  {
   "cell_type": "code",
   "execution_count": 5,
   "id": "487b3e82",
   "metadata": {},
   "outputs": [
    {
     "name": "stdout",
     "output_type": "stream",
     "text": [
      "{'h': 1, 'i': 1, 'p': 2, 'o': 2, ' ': 3, 'r': 1, 'u': 2, 'n': 1, 's': 2, 't': 1, '!': 1}\n"
     ]
    }
   ],
   "source": [
    "metin = \"hippo runs to us!\"\n",
    "my_dict = {}\n",
    "for i in metin :\n",
    "  if i in my_dict :\n",
    "    my_dict[i] += 1\n",
    "  else :\n",
    "    my_dict[i] = 1\n",
    "\n",
    "print(my_dict)"
   ]
  },
  {
   "cell_type": "code",
   "execution_count": 52,
   "id": "50df3d73",
   "metadata": {},
   "outputs": [
    {
     "ename": "SyntaxError",
     "evalue": "invalid syntax (3350175660.py, line 5)",
     "output_type": "error",
     "traceback": [
      "\u001b[1;36m  Input \u001b[1;32mIn [52]\u001b[1;36m\u001b[0m\n\u001b[1;33m    return [(i+=1) for i in liste if i in my_dict[i]]\u001b[0m\n\u001b[1;37m              ^\u001b[0m\n\u001b[1;31mSyntaxError\u001b[0m\u001b[1;31m:\u001b[0m invalid syntax\n"
     ]
    }
   ],
   "source": [
    "#metin = \"hippo runs to us!\"\n",
    "def my_dicts(metin):\n",
    "    my_dict = {}\n",
    "    liste = list(metin)\n",
    "    return [(i+=1) for i in liste if i in my_dict[i]]"
   ]
  },
  {
   "cell_type": "code",
   "execution_count": 58,
   "id": "b0e67637",
   "metadata": {},
   "outputs": [],
   "source": [
    "def collects(word):\n",
    "  collect={}\n",
    "  spell=list(word)\n",
    "  for i in set(spell):\n",
    "    collect.update({i:spell.count(i)})\n",
    "  return collect"
   ]
  },
  {
   "cell_type": "code",
   "execution_count": 59,
   "id": "374505ba",
   "metadata": {},
   "outputs": [
    {
     "data": {
      "text/plain": [
       "{'s': 1, 'm': 1, 'u': 1, 'a': 2, 'n': 1}"
      ]
     },
     "execution_count": 59,
     "metadata": {},
     "output_type": "execute_result"
    }
   ],
   "source": [
    "collects(\"asuman\")"
   ]
  },
  {
   "cell_type": "code",
   "execution_count": 5,
   "id": "430ed4d9",
   "metadata": {},
   "outputs": [],
   "source": [
    "def hippo(word):\n",
    "    my_dict={}\n",
    "    for i in word:\n",
    "        my_dict.update({i:word.count(i)})\n",
    "    return list(my_dict)"
   ]
  },
  {
   "cell_type": "code",
   "execution_count": 6,
   "id": "34366ef7",
   "metadata": {},
   "outputs": [
    {
     "data": {
      "text/plain": [
       "['h', 'i', 'p', 'o', ' ', 'r', 'u', 'n', 's', 't', '!']"
      ]
     },
     "execution_count": 6,
     "metadata": {},
     "output_type": "execute_result"
    }
   ],
   "source": [
    "hippo(\"hippo runs to us!\")"
   ]
  },
  {
   "cell_type": "code",
   "execution_count": 2,
   "id": "afb6d095",
   "metadata": {},
   "outputs": [
    {
     "name": "stdout",
     "output_type": "stream",
     "text": [
      "[-5, 10, 15, -20]\n"
     ]
    }
   ],
   "source": [
    "items = [-20, -5, 10, 15]\n",
    "a = sorted(items, key = abs)\n",
    "print(a)"
   ]
  },
  {
   "cell_type": "code",
   "execution_count": 3,
   "id": "4e70f1b1",
   "metadata": {},
   "outputs": [
    {
     "name": "stdout",
     "output_type": "stream",
     "text": [
      "enter a sentence: aassummannn\n",
      "{'m': 2, 'u': 1, 's': 2, 'a': 3, 'n': 3}\n"
     ]
    }
   ],
   "source": [
    " w = input(\"enter a sentence: \")\n",
    "x =set(w)\n",
    "dicti = {}\n",
    "count = 0\n",
    "for i in x:\n",
    "  dicti[i] = list(w).count(i)\n",
    "  count += 1\n",
    "print(dicti)"
   ]
  },
  {
   "cell_type": "markdown",
   "id": "7d49f859",
   "metadata": {},
   "source": [
    "Kullanıcıdan a ve b sayılarını girmesini isteyin. eğer sayılar birbirine eşit ise veya a negatif ise veya b negatif ise tekrar giriş isteyin. Sonra da büyük sayıyı küçük sayıdan çıkartıp sonucu veren bir ternary yapı kurun.  (eğer a, b'den büyükse a-b işlemini yapcak; b, a'dan büyükse b-a işlemini yapacak.)"
   ]
  },
  {
   "cell_type": "code",
   "execution_count": 98,
   "id": "1df57ec7",
   "metadata": {},
   "outputs": [
    {
     "name": "stdout",
     "output_type": "stream",
     "text": [
      "bir sayı giriniz 2\n",
      "bir sayı giriniz 3\n",
      "1\n"
     ]
    }
   ],
   "source": [
    "a = int(input(\"bir sayı giriniz \"))\n",
    "b = int(input(\"bir sayı giriniz \"))\n",
    "while True:\n",
    "    if a<0 or b<0 or a == b:\n",
    "        a = int(input(\"bir sayı giriniz\"))\n",
    "        b = int(input(\"bir sayı giriniz\"))\n",
    "    else:\n",
    "        if a>b:\n",
    "            print(a-b)\n",
    "            break\n",
    "        else:\n",
    "            print(b-a)\n",
    "            break"
   ]
  },
  {
   "cell_type": "markdown",
   "id": "790d39c4",
   "metadata": {},
   "source": [
    "Kullanıcıdan a ve b sayılarını girmesini isteyin. Eğer sayılar eşit ise \"bu sayılar eşit\" yazdırın. Sayılardan biri negatif ise \"negatif giriş yaptınız\" yazdırın. Aksi halde; eğer a, b'den büyükse a-b sonucunu; b, a'dan büyükse b-a sonucunu döndürün."
   ]
  },
  {
   "cell_type": "code",
   "execution_count": 45,
   "id": "af50f9d1",
   "metadata": {},
   "outputs": [
    {
     "name": "stdout",
     "output_type": "stream",
     "text": [
      "bir sayı giriniz -1\n",
      "bir sayı giriniz -1\n",
      "Sayılar eşit veya 0 dan küçük\n"
     ]
    }
   ],
   "source": [
    "a = int(input(\"bir sayı giriniz \"))\n",
    "b = int(input(\"bir sayı giriniz \"))\n",
    "\n",
    "print (\"Sayılar eşit veya 0 dan küçük\" if a == b or a<0 or b<0 else a-b\n",
    "        if a > b else b-a)"
   ]
  },
  {
   "cell_type": "code",
   "execution_count": 44,
   "id": "179bfeff",
   "metadata": {},
   "outputs": [
    {
     "name": "stdout",
     "output_type": "stream",
     "text": [
      "bir sayı giriniz -1\n",
      "bir sayı giriniz -1\n",
      "(-1, -1, 'sayılar eşit')\n"
     ]
    }
   ],
   "source": [
    "a=int(input(\"bir sayı giriniz \"))\n",
    "b=int(input(\"bir sayı giriniz \"))\n",
    "  \n",
    "print((a, b, \"sayılar eşit\") if (a==b) else a-b if a>b else b-a)"
   ]
  },
  {
   "cell_type": "code",
   "execution_count": 107,
   "id": "44fbfba4",
   "metadata": {},
   "outputs": [
    {
     "name": "stdout",
     "output_type": "stream",
     "text": [
      "bir sayı giriniz 10\n",
      "bir sayı giriniz 10\n",
      "(10, 10, 'sayılar eşit')\n"
     ]
    }
   ],
   "source": [
    "a=int(input(\"bir sayı giriniz \"))\n",
    "b=int(input(\"bir sayı giriniz \"))\n",
    "  \n",
    "print((a, b, \"sayılar eşit\") if (a==b) else \"negatif giriş yaptınız\" if a<0 or b<0 else b-a if b>a else a-b)"
   ]
  },
  {
   "cell_type": "code",
   "execution_count": 127,
   "id": "6ab1cc8e",
   "metadata": {},
   "outputs": [
    {
     "name": "stdout",
     "output_type": "stream",
     "text": [
      "bir sayı giriniz10\n",
      "bir sayı giriniz10\n",
      "bir sayı giriniz-1\n",
      "bir sayı giriniz30\n",
      "bir sayı giriniz30\n",
      "bir sayı giriniz10\n",
      "20\n"
     ]
    }
   ],
   "source": [
    "a = int(input(\"bir sayı giriniz\"))\n",
    "b = int(input(\"bir sayı giriniz\"))\n",
    "while True:\n",
    "    if a<0 or b<0 or a == b:\n",
    "        a = int(input(\"bir sayı giriniz\"))\n",
    "        b = int(input(\"bir sayı giriniz\"))\n",
    "    else:\n",
    "        print((a, b, \"sayılar eşit\") if (a==b) else \"negatif giriş yaptınız\" if a<0 or b<0 else b-a if b>a else a-b)\n",
    "        break"
   ]
  },
  {
   "cell_type": "code",
   "execution_count": 128,
   "id": "8d1c61f8",
   "metadata": {},
   "outputs": [
    {
     "name": "stdout",
     "output_type": "stream",
     "text": [
      "bir sayı giriniz10\n",
      "bir sayı giriniz10\n",
      "sayılar eşit yeniden deneyiniz \n",
      "bir sayı giriniz-1\n",
      "bir sayı giriniz30\n",
      "negatif bir sayı girdiniz, yeniden deneyiniz \n",
      "bir sayı giriniz30\n",
      "bir sayı giriniz10\n",
      "20\n"
     ]
    }
   ],
   "source": [
    "a = int(input(\"bir sayı giriniz\"))\n",
    "b = int(input(\"bir sayı giriniz\"))\n",
    "while True:\n",
    "    if a<0 or b<0:\n",
    "        print(\"negatif bir sayı girdiniz, yeniden deneyiniz \")\n",
    "        a = int(input(\"bir sayı giriniz\"))\n",
    "        b = int(input(\"bir sayı giriniz\"))\n",
    "    elif a==b:\n",
    "        print(\"sayılar eşit yeniden deneyiniz \")\n",
    "        a = int(input(\"bir sayı giriniz\"))\n",
    "        b = int(input(\"bir sayı giriniz\"))\n",
    "    else:\n",
    "        print((a, b, \"sayılar eşit\") if (a==b) else \"negatif giriş yaptınız\" if a<0 or b<0 else b-a if b>a else a-b)\n",
    "        break"
   ]
  },
  {
   "cell_type": "code",
   "execution_count": 132,
   "id": "17b5868f",
   "metadata": {},
   "outputs": [
    {
     "name": "stdout",
     "output_type": "stream",
     "text": [
      "bir sayı giriniz10\n",
      "bir sayı giriniz10\n",
      "sayılar eşit yeniden deneyiniz \n",
      "bir sayı giriniz-1\n",
      "bir sayı giriniz20\n",
      "negatif bir sayı girdiniz, yeniden deneyiniz \n",
      "bir sayı giriniz30\n",
      "bir sayı giriniz10\n",
      "20\n"
     ]
    }
   ],
   "source": [
    "a = int(input(\"bir sayı giriniz\"))\n",
    "b = int(input(\"bir sayı giriniz\"))\n",
    "while True:\n",
    "    if a<0 or b<0:\n",
    "        print(\"negatif bir sayı girdiniz, yeniden deneyiniz \")\n",
    "        a = int(input(\"bir sayı giriniz\"))\n",
    "        b = int(input(\"bir sayı giriniz\"))\n",
    "    elif a==b:\n",
    "        print(\"sayılar eşit yeniden deneyiniz \")\n",
    "        a = int(input(\"bir sayı giriniz\"))\n",
    "        b = int(input(\"bir sayı giriniz\"))\n",
    "    else:\n",
    "        print(b-a if b>a else a-b)\n",
    "        break"
   ]
  },
  {
   "cell_type": "code",
   "execution_count": 134,
   "id": "2d9b589c",
   "metadata": {},
   "outputs": [
    {
     "name": "stdout",
     "output_type": "stream",
     "text": [
      "Type number a:-1\n",
      "Type number b:10\n"
     ]
    },
    {
     "data": {
      "text/plain": [
       "'Number A or Number B is negative'"
      ]
     },
     "execution_count": 134,
     "metadata": {},
     "output_type": "execute_result"
    }
   ],
   "source": [
    "while True:\n",
    "  a=input(\"Type number a:\")\n",
    "  b=input(\"Type number b:\")\n",
    "  if not a.lstrip(\"-\").isdigit() or not b.lstrip(\"-\").isdigit():\n",
    "    print(\"Invalid input. Numbers must be integers. Try again.\\n\")\n",
    "    continue\n",
    "  else:\n",
    "    break\n",
    "a,b=int(a),int(b)\n",
    "\"Numbers are equal\" if a==b else \"Number A or Number B is negative\" if a<0 or b<0 else \"Number A is bigger than Number B\" if a>b else \"Number B is bigger than Number A\" if a<b else None\n",
    "# Eşit olması durumunu değerlendir, \n",
    "# değilse negatiflik durumunu değerlendir, \n",
    "# değilse a sayısı b sayısından büyük olma durumunu değerlendir, \n",
    "# değilse b sayısının a sayısından büyük olma durumunu değerlendir, \n",
    "# değilse None döndür(son Else syntax gereği)"
   ]
  },
  {
   "cell_type": "code",
   "execution_count": 135,
   "id": "2afb4920",
   "metadata": {},
   "outputs": [
    {
     "name": "stdout",
     "output_type": "stream",
     "text": [
      "Enter first number: 10\n",
      "Enter second number: 10\n",
      "Numbers must be different !!!\n",
      "Enter first number: -1\n",
      "First number must be positive !!!\n",
      "Enter first number: -2\n",
      "First number must be positive !!!\n",
      "Enter first number: 30\n",
      "Enter second number: 10\n",
      "20\n"
     ]
    }
   ],
   "source": [
    "def select_numbers():\n",
    "    while True:\n",
    "        while True:\n",
    "            a = int(input(\"Enter first number: \"))\n",
    "            if a < 0:\n",
    "                print(\"First number must be positive !!!\")\n",
    "                continue\n",
    "            break\n",
    "        while True:\n",
    "            b = int(input(\"Enter second number: \"))\n",
    "            if b < 0:\n",
    "                print(\"Second number must be positive !!!\")\n",
    "                continue\n",
    "            break\n",
    "        if a == b:\n",
    "            print(\"Numbers must be different !!!\")\n",
    "            continue\n",
    "        break\n",
    "    return a - b if a > b else b - a\n",
    "\n",
    "print(select_numbers())"
   ]
  },
  {
   "cell_type": "markdown",
   "id": "d0e680df",
   "metadata": {},
   "source": [
    "Kullanıcıdan a ve b sayılarını girmesini isteyin. eğer sayılar birbirine eşit ise veya a negatif ise veya b negatif ise tekrar giriş isteyin. Sonra da büyük sayıyı küçük sayıdan çıkartıp sonucu veren bir ternary yapı kurun.  (eğer a, b'den büyükse a-b işlemini yapcak; b, a'dan büyükse b-a işlemini yapacak.) sorsunda istenilen tüm koşullar haricindeki veri girişlerinin kapalı olduğu ve sonucun ternary expressionla verildiği cevap"
   ]
  },
  {
   "cell_type": "code",
   "execution_count": null,
   "id": "7699b205",
   "metadata": {},
   "outputs": [],
   "source": [
    "control = True\n",
    "while control==True:\n",
    "    number1 = input(\"please enter a number which is not negative==>\")\n",
    "    number2 = input (\"please enter another number which is not equal to first number and is not negative==>\")\n",
    "    if number1.isdigit() and number2.isdigit() and int(number1) != int(number2) and int(number1) >= 0 and int(number2) >= 0 : \n",
    "        control = False        \n",
    "        print(int(number1)-int(number2) if int(number1) > int(number2) else int(number2)-int(number1))\n",
    "    else:\n",
    "        print(\"You made a mistaka. Please enter proper number\")"
   ]
  },
  {
   "cell_type": "markdown",
   "id": "5030b5e1",
   "metadata": {},
   "source": [
    "Kullanıcıdan a ve b sayılarını girmesini isteyin. Eğer sayılar eşit ise \"bu sayılar eşit\" yazdırın. Sayılardan biri negatif ise \"negatif giriş yaptınız\" yazdırın. Aksi halde; eğer a, b'den büyükse a-b sonucunu; b, a'dan büyükse b-a sonucunu döndürün.  sorusunun nested ternary metodu kullanarak TEK PRİNT içerisinde çözümü"
   ]
  },
  {
   "cell_type": "code",
   "execution_count": null,
   "id": "1d227284",
   "metadata": {},
   "outputs": [],
   "source": [
    "number1 = input(\"please enter a number ==>\")\n",
    "number2 = input (\"please enter another number==>\")\n",
    "print( \"Two entered numbers are equal\" if int(number1) == int(number2) else \"one of the numbers is smaller than zero\" if int(number1) < 0 or int(number2) < 0 else int(number1)-int(number2) if int(number1) > int(number2) else int(number2)-int(number1))"
   ]
  },
  {
   "cell_type": "code",
   "execution_count": null,
   "id": "f4d63cb7",
   "metadata": {},
   "outputs": [],
   "source": [
    "# Soru-1\n",
    "def cikartma(x,y):\n",
    "    return max(int(x),int(y)) - min(int(x),int(y))\n",
    "def giris():\n",
    "    a = input(\"1. Sayıyı giriniz: \") \n",
    "    b = input(\"2. Sayıyı giriniz: \")\n",
    "    return cikartma(a,b) if a != b and a.isdigit() and b.isdigit() else giris()\n",
    "print(giris())\n",
    "# İlk olarak (\"True\" if condition else \"False\") yapısını kurmaya çalıştım.\n",
    "# Bize soruda a ve b eşit olmadığında veya a ve b pozitif ise işlemi yapmamız söylenmekte.\n",
    "# Bundan dolayı koşulu and ile kurdum ve her biri sağlandığında çıkartma işlemi gerçekleşecekti.\n",
    "# Koşullar gerçekleşmediğinde While ile tekrardan değer isteyemedim ve aklıma fonksiyonlar geldi.\n",
    "# Bundan dolayı fonksiyon tanımlayarak condition gerçekleşmediğinde else den sonra tekrardan fonksiyonu istedim.\n",
    "# Kodun uzun olmaması ve okunaklı olması için de çikartma için farklı fonksiyon tanımlayarak işlemi orada yazdırdım.\n",
    "# Doğru değerler girildiğinde istenen işlemi cikartma() fonksiyonu ile gerçekleştirdim.\n",
    "# Son olarak ise fonksiyonu çağırdım ve sonucu yazdırdım."
   ]
  },
  {
   "cell_type": "code",
   "execution_count": 204,
   "id": "6c729f73",
   "metadata": {},
   "outputs": [],
   "source": [
    "def slicer(*n):\n",
    "    even = [i for i in n if i%2==0]\n",
    "    odds = [i for i in  n if i%2!=0]\n",
    "    print('even numbers: ',even)\n",
    "    print('odd numbers: ', odds)"
   ]
  },
  {
   "cell_type": "code",
   "execution_count": 205,
   "id": "c6f71906",
   "metadata": {},
   "outputs": [
    {
     "name": "stdout",
     "output_type": "stream",
     "text": [
      "even numbers:  [2, 4]\n",
      "odd numbers:  [1, 3]\n"
     ]
    }
   ],
   "source": [
    "slicer(1, 2, 3, 4)"
   ]
  },
  {
   "cell_type": "code",
   "execution_count": 206,
   "id": "4e1e2c90",
   "metadata": {},
   "outputs": [
    {
     "name": "stdout",
     "output_type": "stream",
     "text": [
      "even numbers:  [0, 2, 4, 6, 8, 10, 12, 14, 16, 18]\n",
      "odd numbers:  [1, 3, 5, 7, 9, 11, 13, 15, 17, 19]\n"
     ]
    }
   ],
   "source": [
    "def slicer(n):\n",
    "    even = [i for i in range(0,n) if i%2==0]\n",
    "    odds = [i for i in range(0,n) if i%2!=0]\n",
    "    print('even numbers: ',even)\n",
    "    print('odd numbers: ', odds)\n",
    "slicer(20)"
   ]
  },
  {
   "cell_type": "code",
   "execution_count": 208,
   "id": "12ad1eb4",
   "metadata": {},
   "outputs": [
    {
     "name": "stdout",
     "output_type": "stream",
     "text": [
      "even numbers:  [20]\n",
      "odd numbers:  []\n"
     ]
    }
   ],
   "source": [
    "def slicer(* n):\n",
    "    even = [i for i in (n) if i%2==0]\n",
    "    odds = [i for i in (n) if i%2!=0]\n",
    "    print('even numbers: ',even)\n",
    "    print('odd numbers: ', odds)\n",
    "slicer(20)"
   ]
  },
  {
   "cell_type": "code",
   "execution_count": null,
   "id": "aa9cfeab",
   "metadata": {},
   "outputs": [],
   "source": []
  }
 ],
 "metadata": {
  "kernelspec": {
   "display_name": "Python 3 (ipykernel)",
   "language": "python",
   "name": "python3"
  },
  "language_info": {
   "codemirror_mode": {
    "name": "ipython",
    "version": 3
   },
   "file_extension": ".py",
   "mimetype": "text/x-python",
   "name": "python",
   "nbconvert_exporter": "python",
   "pygments_lexer": "ipython3",
   "version": "3.10.4"
  }
 },
 "nbformat": 4,
 "nbformat_minor": 5
}
