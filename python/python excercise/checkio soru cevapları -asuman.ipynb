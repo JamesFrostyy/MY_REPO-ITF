{
 "cells": [
  {
   "cell_type": "code",
   "execution_count": 1,
   "id": "e353d35c",
   "metadata": {},
   "outputs": [],
   "source": [
    "# 1 ) iki tane sayı yazdırma sorusu\n",
    "def mult_two(a, b):\n",
    "    return multiply_of_a_and_b"
   ]
  },
  {
   "cell_type": "code",
   "execution_count": 2,
   "id": "e4b81653",
   "metadata": {},
   "outputs": [
    {
     "data": {
      "text/plain": [
       "(2, 3)"
      ]
     },
     "execution_count": 2,
     "metadata": {},
     "output_type": "execute_result"
    }
   ],
   "source": [
    "(2, 3)"
   ]
  },
  {
   "cell_type": "code",
   "execution_count": 3,
   "id": "33e26013",
   "metadata": {},
   "outputs": [],
   "source": [
    "from operator import mul as mult_two"
   ]
  },
  {
   "cell_type": "code",
   "execution_count": 4,
   "id": "396ccbd9",
   "metadata": {},
   "outputs": [
    {
     "data": {
      "text/plain": [
       "(2, 3)"
      ]
     },
     "execution_count": 4,
     "metadata": {},
     "output_type": "execute_result"
    }
   ],
   "source": [
    "(2, 3)"
   ]
  },
  {
   "cell_type": "code",
   "execution_count": 5,
   "id": "a97a7ad9",
   "metadata": {},
   "outputs": [
    {
     "ename": "ModuleNotFoundError",
     "evalue": "No module named 'numpy'",
     "output_type": "error",
     "traceback": [
      "\u001b[1;31m---------------------------------------------------------------------------\u001b[0m",
      "\u001b[1;31mModuleNotFoundError\u001b[0m                       Traceback (most recent call last)",
      "Input \u001b[1;32mIn [5]\u001b[0m, in \u001b[0;36m<cell line: 1>\u001b[1;34m()\u001b[0m\n\u001b[1;32m----> 1\u001b[0m \u001b[38;5;28;01mimport\u001b[39;00m \u001b[38;5;21;01mnumpy\u001b[39;00m \u001b[38;5;28;01mas\u001b[39;00m \u001b[38;5;21;01mnp\u001b[39;00m\n\u001b[0;32m      3\u001b[0m \u001b[38;5;28;01mdef\u001b[39;00m \u001b[38;5;21mmult_two\u001b[39m(a, b):\n\u001b[0;32m      4\u001b[0m     \u001b[38;5;28;01mreturn\u001b[39;00m np\u001b[38;5;241m.\u001b[39mproduct([a, b])\n",
      "\u001b[1;31mModuleNotFoundError\u001b[0m: No module named 'numpy'"
     ]
    }
   ],
   "source": [
    "import numpy as np\n",
    "\n",
    "def mult_two(a, b):\n",
    "    return np.product([a, b])"
   ]
  },
  {
   "cell_type": "code",
   "execution_count": 38,
   "id": "a457e686",
   "metadata": {},
   "outputs": [],
   "source": [
    "#benim çözümüm\n",
    "def mult_two(a, b) :\n",
    "    return (a, b)"
   ]
  },
  {
   "cell_type": "code",
   "execution_count": 39,
   "id": "14738b70",
   "metadata": {},
   "outputs": [
    {
     "data": {
      "text/plain": [
       "(1, 0)"
      ]
     },
     "execution_count": 39,
     "metadata": {},
     "output_type": "execute_result"
    }
   ],
   "source": [
    "1,0"
   ]
  },
  {
   "cell_type": "code",
   "execution_count": 83,
   "id": "074c473d",
   "metadata": {},
   "outputs": [],
   "source": [
    "# 2) bir string in ilk kelimesini yazdırma\n",
    "def first_word(text) :\n",
    "    return text.split()[0]"
   ]
  },
  {
   "cell_type": "code",
   "execution_count": 84,
   "id": "4679501c",
   "metadata": {},
   "outputs": [
    {
     "name": "stdout",
     "output_type": "stream",
     "text": [
      "Hello\n"
     ]
    }
   ],
   "source": [
    "print(first_word(\"Hello Word\"))"
   ]
  },
  {
   "cell_type": "code",
   "execution_count": 87,
   "id": "9ca210f0",
   "metadata": {},
   "outputs": [
    {
     "data": {
      "text/plain": [
       "'asuman'"
      ]
     },
     "execution_count": 87,
     "metadata": {},
     "output_type": "execute_result"
    }
   ],
   "source": [
    "first_word(\"asuman oray\")"
   ]
  },
  {
   "cell_type": "code",
   "execution_count": 88,
   "id": "a4831680",
   "metadata": {},
   "outputs": [],
   "source": [
    "def first_word(text):\n",
    "    index = text.find(\" \")\n",
    "    return text[:index] if index != -1 else text"
   ]
  },
  {
   "cell_type": "code",
   "execution_count": 43,
   "id": "cf51cbf0",
   "metadata": {},
   "outputs": [],
   "source": [
    "def first_word_1(text):\n",
    "    return text.split(\" \")[0]"
   ]
  },
  {
   "cell_type": "code",
   "execution_count": 45,
   "id": "a2aac2e6",
   "metadata": {},
   "outputs": [],
   "source": [
    "def first_word_3(text):\n",
    "    try:\n",
    "        index = text.index(\" \")\n",
    "        return text[:index]\n",
    "    except ValueError:\n",
    "        return text"
   ]
  },
  {
   "cell_type": "code",
   "execution_count": 46,
   "id": "b3cd8667",
   "metadata": {},
   "outputs": [],
   "source": [
    "def first_word_4(text):\n",
    "    index = -1\n",
    "    for pos, letter in enumerate(text):\n",
    "        if letter == \" \":\n",
    "            index = pos\n",
    "            break\n",
    "    return text[:index] if index != -1 else text"
   ]
  },
  {
   "cell_type": "code",
   "execution_count": null,
   "id": "a9b589fe",
   "metadata": {},
   "outputs": [],
   "source": [
    "# 3)     6 dan fazla karakter girilmesi durumunda bool False döndür aksi halde True döndür.\n",
    "is_acceptable_password('short') == False\n",
    "is_acceptable_password('muchlonger') == True"
   ]
  },
  {
   "cell_type": "code",
   "execution_count": 47,
   "id": "095bb26e",
   "metadata": {},
   "outputs": [],
   "source": [
    "def is_acceptable_password(password: str) -> bool:\n",
    "    # your code here\n",
    "    return len(password) > 6"
   ]
  },
  {
   "cell_type": "code",
   "execution_count": 48,
   "id": "16543a7b",
   "metadata": {},
   "outputs": [],
   "source": [
    "def is_acceptable_password(password: str) -> bool:\n",
    "    return bool(password[7::])"
   ]
  },
  {
   "cell_type": "markdown",
   "id": "ffb8ddbd",
   "metadata": {},
   "source": [
    "https://py.checkio.org/user/asu_2022/badges/productive-day/"
   ]
  },
  {
   "cell_type": "code",
   "execution_count": 75,
   "id": "4100b93f",
   "metadata": {},
   "outputs": [
    {
     "name": "stdout",
     "output_type": "stream",
     "text": [
      "Lütfen bir sayı giriniz... : 123\n",
      "3\n"
     ]
    }
   ],
   "source": [
    "sayi = str(input(\"Lütfen bir sayı giriniz... : \"))\n",
    "basamak = len(sayi)\n",
    "print(basamak)"
   ]
  },
  {
   "cell_type": "code",
   "execution_count": 76,
   "id": "883b7923",
   "metadata": {},
   "outputs": [],
   "source": [
    "def number_length(number: int) -> int:\n",
    "    return len(str(number))"
   ]
  },
  {
   "cell_type": "code",
   "execution_count": 77,
   "id": "009f597c",
   "metadata": {},
   "outputs": [],
   "source": [
    "import math\n",
    "\n",
    "\n",
    "def number_length(a: int) -> int:\n",
    "    return int(math.log10(a)) + 1 if a else 1"
   ]
  },
  {
   "cell_type": "code",
   "execution_count": null,
   "id": "656b9e5b",
   "metadata": {},
   "outputs": [],
   "source": []
  },
  {
   "cell_type": "code",
   "execution_count": null,
   "id": "395e334f",
   "metadata": {},
   "outputs": [],
   "source": []
  }
 ],
 "metadata": {
  "kernelspec": {
   "display_name": "Python 3 (ipykernel)",
   "language": "python",
   "name": "python3"
  },
  "language_info": {
   "codemirror_mode": {
    "name": "ipython",
    "version": 3
   },
   "file_extension": ".py",
   "mimetype": "text/x-python",
   "name": "python",
   "nbconvert_exporter": "python",
   "pygments_lexer": "ipython3",
   "version": "3.10.4"
  }
 },
 "nbformat": 4,
 "nbformat_minor": 5
}
