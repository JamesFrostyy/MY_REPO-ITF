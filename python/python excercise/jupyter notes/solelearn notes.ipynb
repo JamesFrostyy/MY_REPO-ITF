{
 "cells": [
  {
   "cell_type": "markdown",
   "id": "b2c0d7cc",
   "metadata": {},
   "source": [
    "Bir listeye .clear() uygularsan; içindeki elemanları remove eder. Listeyi yerinde değiştirmiş olursun ve elinde boş liste kalır.\n",
    "o listeye [] ataması yaparsan; sadece o değişkeni başka bir boş liste ile değiştirmiş olursun. Artık eski listenin yerine aynı adlı yeni bir (boş) liste vardır.\n",
    "Sonuç olarak ikisi de boş liste döndürmesine rağmen bunlar birbirine eşit değildir "
   ]
  },
  {
   "cell_type": "code",
   "execution_count": 3,
   "id": "a32f3745",
   "metadata": {},
   "outputs": [
    {
     "name": "stdout",
     "output_type": "stream",
     "text": [
      "[]\n",
      "[]\n"
     ]
    }
   ],
   "source": [
    "liste1 = [1, 2, 3]\n",
    "liste2 = liste1 # liste1 den liste2 yi oluşturduk.\n",
    "liste1.clear() #clear ile sadece liste1 i sildik\n",
    "print(liste1)\n",
    "print(liste2) #aynı object olduğundan liste 2 de boş kaldı."
   ]
  },
  {
   "cell_type": "code",
   "execution_count": 4,
   "id": "f14af247",
   "metadata": {},
   "outputs": [
    {
     "name": "stdout",
     "output_type": "stream",
     "text": [
      "[]\n",
      "[1, 2, 3]\n"
     ]
    }
   ],
   "source": [
    "liste1 = [1, 2, 3]\n",
    "liste2 = liste1 # liste1 den liste2 yi oluşturduk.\n",
    "liste1 = []  # liste1 i boş bir listeye update ettik\n",
    "print(liste1)\n",
    "print(liste2) #aynı object olduğundan liste 2 de boş kaldı."
   ]
  },
  {
   "cell_type": "code",
   "execution_count": 5,
   "id": "bec5b3e2",
   "metadata": {},
   "outputs": [
    {
     "name": "stdout",
     "output_type": "stream",
     "text": [
      "eşit değil\n"
     ]
    }
   ],
   "source": [
    "sin = [1, 2, 3, 4]\n",
    "if sin.clear() == []: #sin.clear() bir liste boşaltma fonksiyonudur.\n",
    "                      # value döndürmez dolayısıyla boş listeye eşit değildir.\n",
    "    print(\"eşit\")\n",
    "else:\n",
    "    print(\"eşit değil\")"
   ]
  },
  {
   "cell_type": "code",
   "execution_count": 8,
   "id": "de56221b",
   "metadata": {},
   "outputs": [
    {
     "name": "stdout",
     "output_type": "stream",
     "text": [
      "{1: [1, 2, 3], 2: [1, 2, 3], 3: [1, 2, 3]}\n",
      "{1: [2, 3], 2: [2, 3], 3: [1, 2, 3]}\n"
     ]
    }
   ],
   "source": [
    "# eğer dictionary içerisinde aynı \n",
    "# listelerle value tutacak ve daha sonra değişikliğe gidecekseniz,\n",
    "# yaptığınız değişiklik diğer tüm valuelara uygulanır.\n",
    "# Bu nedenle copy() ile kopyasını kaydetmek bu durumun önüne geçer.\n",
    "\n",
    "liste1 = [1, 2, 3]\n",
    "liste2 = liste1\n",
    "dictionary = {1:liste1,\n",
    "              2:liste2,\n",
    "              3:liste1.copy()}\n",
    "print(dictionary)\n",
    "dictionary[1].remove(1)\n",
    "print(dictionary)"
   ]
  },
  {
   "cell_type": "code",
   "execution_count": 15,
   "id": "afb63964",
   "metadata": {},
   "outputs": [],
   "source": [
    "def organizer(**people):\n",
    "    name=[]\n",
    "    ages=[]\n",
    "    for key,value in people.items():\n",
    "        name.append(key)\n",
    "        ages.append(value)\n",
    "    print(name)\n",
    "    print(ages)"
   ]
  },
  {
   "cell_type": "code",
   "execution_count": 16,
   "id": "2f066294",
   "metadata": {},
   "outputs": [
    {
     "name": "stdout",
     "output_type": "stream",
     "text": [
      "['Beth', 'Buğra', 'Yunus', 'Asuman']\n",
      "[26, 41, 33, 24]\n"
     ]
    }
   ],
   "source": [
    "organizer(Beth=26,Buğra=41,Yunus=33,Asuman=24)"
   ]
  },
  {
   "cell_type": "code",
   "execution_count": null,
   "id": "04a858f8",
   "metadata": {},
   "outputs": [],
   "source": [
    "def missing_char(word, n):\n",
    "    new = word.split(word[n])\n",
    "    return new[0]+new[1]\n",
    "missing_char(\"kitchen\", 2)"
   ]
  },
  {
   "cell_type": "code",
   "execution_count": null,
   "id": "751b657b",
   "metadata": {},
   "outputs": [],
   "source": [
    "return max(data, key = data.count)"
   ]
  },
  {
   "cell_type": "code",
   "execution_count": 87,
   "id": "65535de1",
   "metadata": {},
   "outputs": [
    {
     "name": "stdout",
     "output_type": "stream",
     "text": [
      "1\n",
      "3\n",
      "4\n"
     ]
    },
    {
     "data": {
      "text/plain": [
       "5"
      ]
     },
     "execution_count": 87,
     "metadata": {},
     "output_type": "execute_result"
    }
   ],
   "source": [
    "i=0\n",
    "while True:\n",
    "    i+=1\n",
    "    if(i == 2):\n",
    "        continue\n",
    "    if(i == 5):\n",
    "        break\n",
    "    \n",
    "    print(i)\n",
    "5"
   ]
  },
  {
   "cell_type": "code",
   "execution_count": 170,
   "id": "b03073fe",
   "metadata": {},
   "outputs": [
    {
     "name": "stdout",
     "output_type": "stream",
     "text": [
      "7\n",
      "38\n",
      "200\n"
     ]
    }
   ],
   "source": [
    "total = 0\n",
    "#your code goes here\n",
    "x = 0\n",
    "while x < 2:\n",
    "    age = int(input())\n",
    "    if age > 3:\n",
    "        total += 100\n",
    "    x+=1\n",
    "print(total)"
   ]
  },
  {
   "cell_type": "code",
   "execution_count": 103,
   "id": "c45325d1",
   "metadata": {},
   "outputs": [],
   "source": [
    "while False:\n",
    "    print(\"Looping...\")"
   ]
  },
  {
   "cell_type": "code",
   "execution_count": 104,
   "id": "bb79a092",
   "metadata": {},
   "outputs": [
    {
     "name": "stdout",
     "output_type": "stream",
     "text": [
      "6\n"
     ]
    }
   ],
   "source": [
    "i = 3\n",
    "x = 3\n",
    "while i < 4:\n",
    "    x+=i\n",
    "    i+=1\n",
    "\n",
    "print(x)"
   ]
  },
  {
   "cell_type": "code",
   "execution_count": 105,
   "id": "e9615de9",
   "metadata": {},
   "outputs": [
    {
     "name": "stdout",
     "output_type": "stream",
     "text": [
      "8\n",
      "14\n",
      "6\n",
      "2\n"
     ]
    }
   ],
   "source": [
    "nums = [4, 7, 3, 1]\n",
    "for x in nums:\n",
    "    print(x*2)"
   ]
  },
  {
   "cell_type": "code",
   "execution_count": 106,
   "id": "ae1f145e",
   "metadata": {},
   "outputs": [
    {
     "name": "stdout",
     "output_type": "stream",
     "text": [
      "4\n"
     ]
    }
   ],
   "source": [
    "nums = [1, 2, 3, 4]\n",
    "res = 0\n",
    "\n",
    "for x in nums:\n",
    "    if(x%2==0):\n",
    "        continue\n",
    "    else:\n",
    "        res += x\n",
    "        \n",
    "print(res)"
   ]
  },
  {
   "cell_type": "code",
   "execution_count": 110,
   "id": "14ed208e",
   "metadata": {},
   "outputs": [
    {
     "name": "stdout",
     "output_type": "stream",
     "text": [
      "['a', 'b', 'c', 'd']\n"
     ]
    }
   ],
   "source": [
    "letters = [\"a\", \"b\", \"c\"]\n",
    "letters += [\"d\"]\n",
    "print([\"a\", \"b\", \"c\"]+ [\"d\"])"
   ]
  },
  {
   "cell_type": "code",
   "execution_count": 111,
   "id": "10e79053",
   "metadata": {},
   "outputs": [
    {
     "name": "stdout",
     "output_type": "stream",
     "text": [
      "4\n"
     ]
    }
   ],
   "source": [
    "letters = [\"a\", \"b\", \"c\"]\n",
    "letters += [\"d\"]\n",
    "print(len(letters))"
   ]
  },
  {
   "cell_type": "code",
   "execution_count": 112,
   "id": "66f5f81d",
   "metadata": {},
   "outputs": [
    {
     "name": "stdout",
     "output_type": "stream",
     "text": [
      "['a', 'b', 'c', 'd']\n"
     ]
    }
   ],
   "source": [
    "letters = [\"a\", \"b\", \"c\"]\n",
    "letters += [\"d\"]\n",
    "print(letters)"
   ]
  },
  {
   "cell_type": "code",
   "execution_count": 114,
   "id": "67b0e604",
   "metadata": {},
   "outputs": [
    {
     "name": "stdout",
     "output_type": "stream",
     "text": [
      "abcabc\n"
     ]
    }
   ],
   "source": [
    "x =\"abc\"\n",
    "x *= 2\n",
    "print(x)"
   ]
  },
  {
   "cell_type": "code",
   "execution_count": 115,
   "id": "a73bed4f",
   "metadata": {},
   "outputs": [
    {
     "name": "stdout",
     "output_type": "stream",
     "text": [
      "6\n"
     ]
    }
   ],
   "source": [
    "x =\"abc\"\n",
    "x *= 2\n",
    "print(len(x))"
   ]
  },
  {
   "cell_type": "code",
   "execution_count": 116,
   "id": "b49e3b49",
   "metadata": {},
   "outputs": [
    {
     "name": "stdout",
     "output_type": "stream",
     "text": [
      "['Python', 'is', 'fun']\n"
     ]
    }
   ],
   "source": [
    "words = [\"Python\", \"fun\"]\n",
    "words.insert(1, \"is\")\n",
    "print(words) "
   ]
  },
  {
   "cell_type": "code",
   "execution_count": 199,
   "id": "7092cccd",
   "metadata": {},
   "outputs": [
    {
     "name": "stdout",
     "output_type": "stream",
     "text": [
      "[1]\n"
     ]
    }
   ],
   "source": [
    "liste = [1]\n",
    "liste.append(liste[0])\n",
    "liste.pop(0)\n",
    "print(liste)"
   ]
  },
  {
   "cell_type": "code",
   "execution_count": 117,
   "id": "13e56270",
   "metadata": {},
   "outputs": [
    {
     "name": "stdout",
     "output_type": "stream",
     "text": [
      "2\n",
      "0\n",
      "1\n"
     ]
    }
   ],
   "source": [
    "letters = ['p', 'q', 'r', 's', 'p', 'u']\n",
    "print(letters.index('r'))\n",
    "print(letters.index('p'))\n",
    "print(letters.index('q')) "
   ]
  },
  {
   "cell_type": "code",
   "execution_count": 120,
   "id": "5210cdea",
   "metadata": {},
   "outputs": [
    {
     "name": "stdout",
     "output_type": "stream",
     "text": [
      "1\n"
     ]
    }
   ],
   "source": [
    "x = [2, 4, 5, 7, 4]\n",
    "y = x.index(4) #kaçıncı indexte\n",
    "print(y)"
   ]
  },
  {
   "cell_type": "code",
   "execution_count": 123,
   "id": "01da46dc",
   "metadata": {},
   "outputs": [
    {
     "name": "stdout",
     "output_type": "stream",
     "text": [
      "3\n",
      "[2, 6, 2, 7, 2, 9]\n",
      "[9, 2, 7, 2, 6, 2]\n"
     ]
    }
   ],
   "source": [
    "x = [2, 4, 6, 2, 7, 2, 9]\n",
    "print(x.count(2))\n",
    "\n",
    "x.remove(4) #elemanı sil\n",
    "print(x)\n",
    "\n",
    "x.reverse() # tersten sıraladı\n",
    "print(x)\n",
    "\n",
    "#list.count(item): Bir öğenin bir listede kaç kez geçtiğinin bir sayısını verir.\n",
    "#list.remove(item): Listeden bir öğeyi kaldırır.\n",
    "#list.reverse(): Bir listedeki öğeleri tersine çevirir."
   ]
  },
  {
   "cell_type": "code",
   "execution_count": 124,
   "id": "c2ebd4a5",
   "metadata": {},
   "outputs": [
    {
     "name": "stdout",
     "output_type": "stream",
     "text": [
      "4\n"
     ]
    }
   ],
   "source": [
    "nums = [2,4,8,9,5]\n",
    "\n",
    "nums.insert(1, 3)\n",
    "nums.remove(9)\n",
    "nums.insert(0, nums.count(8))\n",
    "print(nums[3])"
   ]
  },
  {
   "cell_type": "code",
   "execution_count": 125,
   "id": "1e46bb55",
   "metadata": {},
   "outputs": [
    {
     "name": "stdout",
     "output_type": "stream",
     "text": [
      "Numbers: 4 5 6\n"
     ]
    }
   ],
   "source": [
    "nums = [4, 5, 6]\n",
    "msg = \"Numbers: {0} {1} {2}\". format(nums[0], nums[1], nums[2])\n",
    "print(msg)"
   ]
  },
  {
   "cell_type": "code",
   "execution_count": 128,
   "id": "9f9c328e",
   "metadata": {},
   "outputs": [
    {
     "name": "stdout",
     "output_type": "stream",
     "text": [
      "abracadabra\n"
     ]
    }
   ],
   "source": [
    "print(\"{0}{1}{0}\".format(\"abra\", \"cad\"))"
   ]
  },
  {
   "cell_type": "code",
   "execution_count": 129,
   "id": "b1b0eaca",
   "metadata": {},
   "outputs": [
    {
     "name": "stdout",
     "output_type": "stream",
     "text": [
      "5, 12\n"
     ]
    }
   ],
   "source": [
    "a = \"{x}, {y}\".format(x=5, y=12)\n",
    "print(a)"
   ]
  },
  {
   "cell_type": "code",
   "execution_count": 130,
   "id": "6f69032a",
   "metadata": {},
   "outputs": [
    {
     "name": "stdout",
     "output_type": "stream",
     "text": [
      "7, 9, 5\n"
     ]
    }
   ],
   "source": [
    "str=\"{c}, {b}, {a}\".format(a=5, b=9, c=7)\n",
    "print(str)"
   ]
  },
  {
   "cell_type": "code",
   "execution_count": 131,
   "id": "19b2f643",
   "metadata": {},
   "outputs": [
    {
     "name": "stdout",
     "output_type": "stream",
     "text": [
      "spam, eggs, ham\n"
     ]
    }
   ],
   "source": [
    "# join(), ayırıcı olarak bir dize listesini başka bir dizeyle birleştirir.\n",
    "x = \", \".join([\"spam\", \"eggs\", \"ham\"])\n",
    "print(x)\n",
    "#prints \"spam, eggs, ham\""
   ]
  },
  {
   "cell_type": "code",
   "execution_count": 132,
   "id": "f2816d20",
   "metadata": {},
   "outputs": [
    {
     "name": "stdout",
     "output_type": "stream",
     "text": [
      "spameggsham\n"
     ]
    }
   ],
   "source": [
    "x = \"\".join([\"spam\", \"eggs\", \"ham\"])\n",
    "print(x)\n",
    "#prints \"spam, eggs, ham\""
   ]
  },
  {
   "cell_type": "code",
   "execution_count": 136,
   "id": "79165020",
   "metadata": {},
   "outputs": [
    {
     "name": "stdout",
     "output_type": "stream",
     "text": [
      "['some', 'text', 'goes', 'here']\n"
     ]
    }
   ],
   "source": [
    "# split(), join()'in tersidir. Belirli bir ayırıcıya sahip bir dizeyi listeye dönüştürür.\n",
    "# Dizenin tüm sözcüklerini liste olarak almak için ayırma ayırıcısı olarak bir boşluk ' ' kullandık.\n",
    "str = \"some text goes here\"\n",
    "x = str.split(' ') # str halinde aralarda boşluk old. için split(' ') yaptık. Yani boşluklardan ayır dedik.\n",
    "# boşlukların her birini virgüle çevirip 4 ayrı eleman yaptı.\n",
    "print(x)"
   ]
  },
  {
   "cell_type": "code",
   "execution_count": 137,
   "id": "c0716ba0",
   "metadata": {},
   "outputs": [
    {
     "name": "stdout",
     "output_type": "stream",
     "text": [
      "['some text goes here']\n"
     ]
    }
   ],
   "source": [
    "str = \"some text goes here\"\n",
    "x = str.split('*') #str içinde olmayan bir şey ile çağıramayız. str nin aynısını tek bir eleman olarak listenin içine atar.\n",
    "print(x)"
   ]
  },
  {
   "cell_type": "code",
   "execution_count": 138,
   "id": "52445fe1",
   "metadata": {},
   "outputs": [
    {
     "name": "stdout",
     "output_type": "stream",
     "text": [
      "Hello world\n"
     ]
    }
   ],
   "source": [
    "x = \"Hello ME\"\n",
    "print(x.replace(\"ME\", \"world\")) "
   ]
  },
  {
   "cell_type": "code",
   "execution_count": 139,
   "id": "aaccf904",
   "metadata": {},
   "outputs": [
    {
     "name": "stdout",
     "output_type": "stream",
     "text": [
      "THIS IS A SENTENCE.\n",
      "an all caps sentence\n"
     ]
    }
   ],
   "source": [
    "print(\"This is a sentence.\".upper())\n",
    "\n",
    "print(\"AN ALL CAPS SENTENCE\".lower())"
   ]
  },
  {
   "cell_type": "code",
   "execution_count": 140,
   "id": "98078376",
   "metadata": {},
   "outputs": [
    {
     "name": "stdout",
     "output_type": "stream",
     "text": [
      "o\n"
     ]
    }
   ],
   "source": [
    "txt = \"hello\"\n",
    "print(max(txt))"
   ]
  },
  {
   "cell_type": "code",
   "execution_count": 144,
   "id": "6a964e3e",
   "metadata": {},
   "outputs": [
    {
     "data": {
      "text/plain": [
       "'a'"
      ]
     },
     "execution_count": 144,
     "metadata": {},
     "output_type": "execute_result"
    }
   ],
   "source": [
    "chr(97)"
   ]
  },
  {
   "cell_type": "code",
   "execution_count": 146,
   "id": "6959f2a4",
   "metadata": {},
   "outputs": [
    {
     "data": {
      "text/plain": [
       "111"
      ]
     },
     "execution_count": 146,
     "metadata": {},
     "output_type": "execute_result"
    }
   ],
   "source": [
    "ord(\"o\")"
   ]
  },
  {
   "cell_type": "code",
   "execution_count": 149,
   "id": "8a9ea260",
   "metadata": {},
   "outputs": [],
   "source": [
    "#You can create your own functions by using the def statement.\n",
    "#Here’s an example of a function named my_func. It takes no arguments, and prints \"spam\" three times.\n",
    "#Def deyimini kullanarak kendi fonksiyonlarınızı oluşturabilirsiniz.\n",
    "#İşte my_func adlı bir fonksiyon örneği. Argüman almaz ve üç kez 'spam' yazdırır.\n",
    "def my_func():\n",
    "    print(\"spam\")\n",
    "    print(\"spam\")\n",
    "    print(\"spam\")"
   ]
  },
  {
   "cell_type": "code",
   "execution_count": 150,
   "id": "2ad2cf98",
   "metadata": {},
   "outputs": [
    {
     "name": "stdout",
     "output_type": "stream",
     "text": [
      "spam\n",
      "spam\n",
      "spam\n"
     ]
    }
   ],
   "source": [
    "my_func()"
   ]
  },
  {
   "cell_type": "code",
   "execution_count": 177,
   "id": "06b0c824",
   "metadata": {},
   "outputs": [
    {
     "data": {
      "text/plain": [
       "'Hello world!'"
      ]
     },
     "execution_count": 177,
     "metadata": {},
     "output_type": "execute_result"
    }
   ],
   "source": [
    "def hello():\n",
    "    return \"Hello world!\"\n",
    "hello()\n",
    "hello()\n",
    "hello()"
   ]
  },
  {
   "cell_type": "code",
   "execution_count": 180,
   "id": "92050122",
   "metadata": {},
   "outputs": [
    {
     "name": "stdout",
     "output_type": "stream",
     "text": [
      "Hello world!\n",
      "Hello world!\n",
      "Hello world!\n"
     ]
    }
   ],
   "source": [
    "def hello():\n",
    "    print(\"Hello world!\")\n",
    "hello()\n",
    "hello()\n",
    "hello()"
   ]
  },
  {
   "cell_type": "code",
   "execution_count": 194,
   "id": "1d482abd",
   "metadata": {},
   "outputs": [
    {
     "name": "stdout",
     "output_type": "stream",
     "text": [
      "1\n",
      "2\n",
      "1\n",
      "2\n"
     ]
    }
   ],
   "source": [
    "def foo():\n",
    "    print(1)\n",
    "    print(2)\n",
    "foo()\n",
    "foo()"
   ]
  },
  {
   "cell_type": "code",
   "execution_count": 189,
   "id": "d6358631",
   "metadata": {},
   "outputs": [
    {
     "name": "stdout",
     "output_type": "stream",
     "text": [
      "bu\n"
     ]
    },
    {
     "data": {
      "text/plain": [
       "'asuman'"
      ]
     },
     "execution_count": 189,
     "metadata": {},
     "output_type": "execute_result"
    }
   ],
   "source": [
    "def foo():\n",
    "    print(\"bu\")\n",
    "    return \"asuman\"\n",
    "foo()"
   ]
  },
  {
   "cell_type": "code",
   "execution_count": 191,
   "id": "f2a749b2",
   "metadata": {},
   "outputs": [
    {
     "name": "stdout",
     "output_type": "stream",
     "text": [
      "asuman\n"
     ]
    },
    {
     "data": {
      "text/plain": [
       "'bu'"
      ]
     },
     "execution_count": 191,
     "metadata": {},
     "output_type": "execute_result"
    }
   ],
   "source": [
    "def foo():\n",
    "    return(\"bu\")\n",
    "print(\"asuman\")\n",
    "foo()"
   ]
  },
  {
   "cell_type": "code",
   "execution_count": 192,
   "id": "918ecd8f",
   "metadata": {},
   "outputs": [
    {
     "data": {
      "text/plain": [
       "'bu'"
      ]
     },
     "execution_count": 192,
     "metadata": {},
     "output_type": "execute_result"
    }
   ],
   "source": [
    "def foo():\n",
    "    return(\"bu\")\n",
    "    print(\"asuman\")\n",
    "foo()"
   ]
  },
  {
   "cell_type": "code",
   "execution_count": 164,
   "id": "f4f5c3c8",
   "metadata": {},
   "outputs": [
    {
     "name": "stdout",
     "output_type": "stream",
     "text": [
      "asu\n",
      "Welcome, asu\n"
     ]
    }
   ],
   "source": [
    "def welcome():\n",
    "   print(\"Welcome, \"+ input() )\n",
    "\n",
    "welcome()"
   ]
  },
  {
   "cell_type": "code",
   "execution_count": 165,
   "id": "4d0c0828",
   "metadata": {},
   "outputs": [
    {
     "name": "stdout",
     "output_type": "stream",
     "text": [
      "spam!\n"
     ]
    }
   ],
   "source": [
    "def exclamation(word):\n",
    "    print(word + \"!\")\n",
    "    \n",
    "exclamation(\"spam\")\n",
    "\n",
    "#Fonksiyonlar, fonksiyon çıktısını oluşturmak için kullanılabilecek argümanlar alabilir.\n",
    "#Örnekten de görebileceğiniz gibi, argüman parantez içinde tanımlanmış ve word olarak adlandırılmıştır."
   ]
  },
  {
   "cell_type": "code",
   "execution_count": 167,
   "id": "f1f1c546",
   "metadata": {},
   "outputs": [
    {
     "name": "stdout",
     "output_type": "stream",
     "text": [
      "spam!\n",
      "eggs!\n",
      "python!\n"
     ]
    }
   ],
   "source": [
    "def exclamation(word):\n",
    "    print(word + \"!\")\n",
    "    \n",
    "exclamation(\"spam\")\n",
    "exclamation(\"eggs\")\n",
    "exclamation(\"python\")\n",
    "\n",
    "#Aynı işlevi farklı argumanlarla çağırabiliriz \n",
    "#Fonksiyona bilgi aktarmak için argümanlar kullanılır.\n",
    "# Bu, fonksiyon mantığını farklı değerler için yeniden kullanmamızı sağlar."
   ]
  },
  {
   "cell_type": "code",
   "execution_count": 168,
   "id": "8a48ce7c",
   "metadata": {},
   "outputs": [
    {
     "name": "stdout",
     "output_type": "stream",
     "text": [
      "13\n",
      "13\n"
     ]
    }
   ],
   "source": [
    "def print_sum_twice(x, y):\n",
    "   print(x + y)\n",
    "   print(x + y)\n",
    "\n",
    "print_sum_twice(5, 8)"
   ]
  },
  {
   "cell_type": "code",
   "execution_count": null,
   "id": "2df19035",
   "metadata": {},
   "outputs": [],
   "source": [
    "# argümanlar fonksiyon içinde değişken olarak kullanılabilir."
   ]
  },
  {
   "cell_type": "code",
   "execution_count": 212,
   "id": "894731d6",
   "metadata": {},
   "outputs": [
    {
     "ename": "SyntaxError",
     "evalue": "Missing parentheses in call to 'print'. Did you mean print(...)? (3165206273.py, line 2)",
     "output_type": "error",
     "traceback": [
      "\u001b[1;36m  Input \u001b[1;32mIn [212]\u001b[1;36m\u001b[0m\n\u001b[1;33m    print \"I printed\"\u001b[0m\n\u001b[1;37m    ^\u001b[0m\n\u001b[1;31mSyntaxError\u001b[0m\u001b[1;31m:\u001b[0m Missing parentheses in call to 'print'. Did you mean print(...)?\n"
     ]
    }
   ],
   "source": [
    "def function_that_prints():\n",
    "    print \"I printed\"\n",
    "    \n",
    "def function_that_returns():\n",
    "    return \"I returned\" \n",
    "    "
   ]
  },
  {
   "cell_type": "code",
   "execution_count": 213,
   "id": "48de47b3",
   "metadata": {},
   "outputs": [
    {
     "name": "stdout",
     "output_type": "stream",
     "text": [
      "I printed\n",
      "Now let us see what the values of f1 and f2 are\n",
      "None\n",
      "I returned\n"
     ]
    }
   ],
   "source": [
    "f1 = function_that_prints()\n",
    "f2 = function_that_returns()\n",
    "print (\"Now let us see what the values of f1 and f2 are\")\n",
    "print (f1)\n",
    "print (f2)"
   ]
  },
  {
   "cell_type": "code",
   "execution_count": null,
   "id": "4dd6e3bf",
   "metadata": {},
   "outputs": [],
   "source": [
    "filter"
   ]
  },
  {
   "cell_type": "code",
   "execution_count": 236,
   "id": "1945de04",
   "metadata": {},
   "outputs": [
    {
     "name": "stdout",
     "output_type": "stream",
     "text": [
      "['swim', 'me', 'kiwi']\n"
     ]
    }
   ],
   "source": [
    "words = [\"apple\", \"swim\", \"clock\", \"me\", \"kiwi\", \"banana\"]\n",
    "print(list(filter(lambda i: True if len(i) < 5 else False, words)))"
   ]
  },
  {
   "cell_type": "code",
   "execution_count": 232,
   "id": "3926824b",
   "metadata": {},
   "outputs": [
    {
     "name": "stdout",
     "output_type": "stream",
     "text": [
      "Vowels are : ['a', 'e', 'i']\n"
     ]
    }
   ],
   "source": [
    "vowel_list = ['a', 'e', 'i', 'o', 'u']\n",
    "first_ten = ['a', 'b', 'c', 'd', 'e', 'f', 'g', 'h', 'i', 'j']\n",
    "  \n",
    "vowels = filter(lambda x: True if x in vowel_list else False, first_ten) \n",
    "\n",
    "print('Vowels are :', list(vowels))"
   ]
  },
  {
   "cell_type": "code",
   "execution_count": 218,
   "id": "8e34350f",
   "metadata": {},
   "outputs": [
    {
     "data": {
      "text/plain": [
       "[('a', 'x'), ('b', 'y'), ('c', 'z')]"
      ]
     },
     "execution_count": 218,
     "metadata": {},
     "output_type": "execute_result"
    }
   ],
   "source": [
    "letter1 = \"a b c\".split()\n",
    "letter2 = \"x y z\".split()\n",
    "list(map(lambda a,b:(a,b), letter1, letter2))"
   ]
  },
  {
   "cell_type": "code",
   "execution_count": 233,
   "id": "121ff631",
   "metadata": {},
   "outputs": [
    {
     "name": "stdout",
     "output_type": "stream",
     "text": [
      "['a', 'e', 'i']\n"
     ]
    }
   ],
   "source": [
    "vowels = \"a e ı i o ö u ü\".split()\n",
    "first_ten = [\"a\",\"b\",\"c\",\"d\",\"e\",\"f\",\"g\",\"h\",\"i\",\"j\"]\n",
    "print(list(filter(lambda a: a in vowels,first_ten)))"
   ]
  },
  {
   "cell_type": "code",
   "execution_count": 253,
   "id": "9d07823e",
   "metadata": {},
   "outputs": [
    {
     "name": "stdout",
     "output_type": "stream",
     "text": [
      "1\n",
      "2\n",
      "fizz\n",
      "4\n",
      "buzz\n",
      "fizz\n",
      "7\n",
      "8\n",
      "fizz\n",
      "buzz\n",
      "11\n",
      "fizz\n",
      "13\n",
      "14\n",
      "fizzbuzz\n"
     ]
    }
   ],
   "source": [
    "for number in range(1,16):\n",
    "    print(\"fizzbuzz\" if (not number%3 and not number %5) else \"buzz\" if not number %5 else \"fizz\" if not number %3 else number)"
   ]
  },
  {
   "cell_type": "code",
   "execution_count": 242,
   "id": "e174c263",
   "metadata": {},
   "outputs": [
    {
     "name": "stdout",
     "output_type": "stream",
     "text": [
      "4\n",
      "8\n",
      "16\n"
     ]
    }
   ],
   "source": [
    "def modular_function(n):\n",
    "    return lambda x: x ** n\n",
    "    \n",
    "power_of_2 = modular_function(2)  # first sub-function derived from def\n",
    "power_of_3 = modular_function(3)  # second sub-function derived from def\n",
    "power_of_4 = modular_function(4)  # third sub-function derived from def\n",
    "\n",
    "print(power_of_2(2))  # 2 to the power of 2\n",
    "print(power_of_3(2))  # 2 to the power of 3\n",
    "print(power_of_4(2))  # 2 to the power of 4"
   ]
  },
  {
   "cell_type": "code",
   "execution_count": 244,
   "id": "50700fea",
   "metadata": {},
   "outputs": [],
   "source": [
    "def repeater(n):\n",
    "    return lambda x : x * str(n)"
   ]
  },
  {
   "cell_type": "code",
   "execution_count": 251,
   "id": "90dc6503",
   "metadata": {},
   "outputs": [
    {
     "name": "stdout",
     "output_type": "stream",
     "text": [
      "asumanasumanasuman\n"
     ]
    }
   ],
   "source": [
    "print(repeater(2)(\"asuman\"))"
   ]
  },
  {
   "cell_type": "code",
   "execution_count": 252,
   "id": "3470392f",
   "metadata": {},
   "outputs": [
    {
     "name": "stdout",
     "output_type": "stream",
     "text": [
      "merhaba:)))))\n",
      "merhaba:((((\n",
      "merhaba:|\n"
     ]
    }
   ],
   "source": [
    "def emoji(n):\n",
    "    return lambda x : x + n\n",
    "gül = emoji(\":)))))\")\n",
    "ağla = emoji(\":((((\")\n",
    "stabil = emoji(\":|\")\n",
    "print(gül(\"merhaba\"))\n",
    "print(ağla(\"merhaba\"))\n",
    "print(stabil(\"merhaba\"))"
   ]
  },
  {
   "cell_type": "code",
   "execution_count": 264,
   "id": "2b4e845d",
   "metadata": {},
   "outputs": [
    {
     "ename": "SyntaxError",
     "evalue": "invalid syntax (1190056668.py, line 2)",
     "output_type": "error",
     "traceback": [
      "\u001b[1;36m  Input \u001b[1;32mIn [264]\u001b[1;36m\u001b[0m\n\u001b[1;33m    return lambda x: a if x is 'hello' else is not ''\u001b[0m\n\u001b[1;37m                                            ^\u001b[0m\n\u001b[1;31mSyntaxError\u001b[0m\u001b[1;31m:\u001b[0m invalid syntax\n"
     ]
    }
   ],
   "source": [
    "def functioner(a):\n",
    "    return lambda x: a if x is 'hello' else is not ''\n",
    "smile = functioner(':')\n",
    "print(smile('hello'))"
   ]
  },
  {
   "cell_type": "markdown",
   "id": "512135f3",
   "metadata": {},
   "source": [
    "Certain functions, such as int or str, return a value instead of outputting it.\n",
    "\n",
    "The returned value can be used later in the code, for example, by getting assigned to a variable.\n",
    "\n",
    "To do this for your defined functions, you can use the return statement. Like this:"
   ]
  },
  {
   "cell_type": "code",
   "execution_count": 265,
   "id": "4579a34d",
   "metadata": {},
   "outputs": [
    {
     "name": "stdout",
     "output_type": "stream",
     "text": [
      "49\n"
     ]
    }
   ],
   "source": [
    "def sum(x, y):\n",
    "    return x+y\n",
    "res = sum(42, 7)\n",
    "print(res) "
   ]
  },
  {
   "cell_type": "markdown",
   "id": "d81d0d9e",
   "metadata": {},
   "source": [
    "Döndürmek, işlevin sonucunu yazdırmanız gerekmediğinde, ancak kodunuzda kullanmanız gerektiğinde kullanışlıdır.\n",
    "Örneğin, bir banka hesabının çekme() işlevi, hesabın kalan bakiyesini iade edebilir."
   ]
  },
  {
   "cell_type": "code",
   "execution_count": 269,
   "id": "e1d1d797",
   "metadata": {},
   "outputs": [
    {
     "data": {
      "text/plain": [
       "7"
      ]
     },
     "execution_count": 269,
     "metadata": {},
     "output_type": "execute_result"
    }
   ],
   "source": [
    "def foo(x, y):\n",
    "  if x >= y:\n",
    "    return x\n",
    "  else:\n",
    "    return y\n",
    "\n",
    "foo(4, 7) #fonk.çağırdık"
   ]
  },
  {
   "cell_type": "code",
   "execution_count": 270,
   "id": "be6a4a93",
   "metadata": {},
   "outputs": [
    {
     "name": "stdout",
     "output_type": "stream",
     "text": [
      "7\n"
     ]
    }
   ],
   "source": [
    "def foo(x, y):\n",
    "  if x >= y:\n",
    "    return x\n",
    "  else:\n",
    "    return y\n",
    "\n",
    "x = foo(4, 7) #fonk.çağırdık x değişkenine atadık ve x değişkenini print ettik\n",
    "print(x) #buna dikkat"
   ]
  },
  {
   "cell_type": "code",
   "execution_count": 271,
   "id": "8e37a9ad",
   "metadata": {},
   "outputs": [
    {
     "name": "stdout",
     "output_type": "stream",
     "text": [
      "Nope\n"
     ]
    }
   ],
   "source": [
    "def max(x, y):\n",
    "  if x >=y:\n",
    "    return x\n",
    "  else:\n",
    "    return y\n",
    "        \n",
    "if(max(6, 4) > 10):\n",
    "  print(\"Yes\")\n",
    "else:\n",
    "  print(\"Nope\")"
   ]
  },
  {
   "cell_type": "code",
   "execution_count": 275,
   "id": "b5234dfd",
   "metadata": {},
   "outputs": [
    {
     "data": {
      "text/plain": [
       "'ankara'"
      ]
     },
     "execution_count": 275,
     "metadata": {},
     "output_type": "execute_result"
    }
   ],
   "source": [
    "# Fill in the blanks to define a function that compares the lengths of its arguments and returns the shortest one.\n",
    "\n",
    "def shortest_string(x, y):\n",
    "    if len(x) <= len(y):\n",
    "        return x\n",
    "    else:\n",
    "        return y\n",
    "shortest_string(\"ankara\", \"istanbul\")"
   ]
  },
  {
   "cell_type": "markdown",
   "id": "affa4621",
   "metadata": {},
   "source": [
    "Bir işlevden bir değer döndürdüğünüzde, yürütülmeyi hemen durdurur.\n",
    "\n",
    "return ifadesinden sonra yerleştirilen herhangi bir kod yürütülmez"
   ]
  },
  {
   "cell_type": "code",
   "execution_count": 277,
   "id": "9fda239a",
   "metadata": {},
   "outputs": [
    {
     "data": {
      "text/plain": [
       "9"
      ]
     },
     "execution_count": 277,
     "metadata": {},
     "output_type": "execute_result"
    }
   ],
   "source": [
    "def add_numbers(x, y):\n",
    "  total = x + y\n",
    "  return total\n",
    "  print(\"This won't be printed\")\n",
    "\n",
    "add_numbers(4, 5)"
   ]
  },
  {
   "cell_type": "code",
   "execution_count": 279,
   "id": "7e8852e1",
   "metadata": {},
   "outputs": [
    {
     "name": "stdout",
     "output_type": "stream",
     "text": [
      "This won't be printed\n"
     ]
    },
    {
     "data": {
      "text/plain": [
       "9"
      ]
     },
     "execution_count": 279,
     "metadata": {},
     "output_type": "execute_result"
    }
   ],
   "source": [
    "def add_numbers(x, y):\n",
    "    total = x + y\n",
    "    print(\"This won't be printed\")\n",
    "    return total\n",
    "\n",
    "add_numbers(4, 5)"
   ]
  },
  {
   "cell_type": "code",
   "execution_count": 280,
   "id": "1e277fae",
   "metadata": {},
   "outputs": [
    {
     "name": "stdout",
     "output_type": "stream",
     "text": [
      "This won't be printed\n",
      "9\n"
     ]
    }
   ],
   "source": [
    "def add_numbers(x, y):\n",
    "    total = x + y\n",
    "    print(\"This won't be printed\")\n",
    "    return total\n",
    "print(add_numbers(4,5))"
   ]
  },
  {
   "cell_type": "markdown",
   "id": "31f44db0",
   "metadata": {},
   "source": [
    "Bir fonksiyon yalnızca bir kez dönebilir, bu nedenle <b>birden fazla değer döndürmeniz</b> gerekiyorsa bir liste kullanabilirsiniz."
   ]
  },
  {
   "cell_type": "code",
   "execution_count": 282,
   "id": "570faeff",
   "metadata": {},
   "outputs": [
    {
     "name": "stdout",
     "output_type": "stream",
     "text": [
      "[12, 18]\n"
     ]
    }
   ],
   "source": [
    "def double(a, b):\n",
    "   return [a*2, b*2]\n",
    "\n",
    "x = double(6, 9)\n",
    "print(x)"
   ]
  },
  {
   "cell_type": "markdown",
   "id": "1642773c",
   "metadata": {},
   "source": [
    "Verilen bir dikdörtgenin alanını hesaplamamız gerekiyor.\n",
    "Programınızın girdi olarak genişlik ve uzunluğu alması ve dikdörtgenin alanını çıktı olarak alması gerekir.\n",
    "\n",
    "Alanı hesaplamak ve döndürmek için uzunluk ve genişliği argüman olarak alan alan işlevini tamamlayın.\n",
    "Ardından verilen girişler için işlevi çağırın.\n",
    "\n",
    "Örnek Giriş 1\n",
    "7\n",
    "4\n",
    "\n",
    "Örnek Çıktı 1\n",
    "28\n",
    "\n",
    "Dikdörtgenin alanını bulmak için uzunluğu genişlikle çarparız."
   ]
  },
  {
   "cell_type": "code",
   "execution_count": null,
   "id": "bbfea799",
   "metadata": {},
   "outputs": [],
   "source": [
    "def area(x, y):\n",
    "   #your code goes here\n",
    "   \n",
    "\n",
    "w = int(input())\n",
    "h = int(input())\n",
    "\n",
    "#call the function\n"
   ]
  },
  {
   "cell_type": "code",
   "execution_count": 283,
   "id": "1e42f1ae",
   "metadata": {},
   "outputs": [
    {
     "name": "stdout",
     "output_type": "stream",
     "text": [
      "10\n",
      "20\n"
     ]
    },
    {
     "data": {
      "text/plain": [
       "200"
      ]
     },
     "execution_count": 283,
     "metadata": {},
     "output_type": "execute_result"
    }
   ],
   "source": [
    "def area(x, y):\n",
    "    return x*y\n",
    "   \n",
    "\n",
    "w = int(input())\n",
    "h = int(input())\n",
    "\n",
    "area(w, h)"
   ]
  },
  {
   "cell_type": "code",
   "execution_count": 284,
   "id": "ddd8b1df",
   "metadata": {},
   "outputs": [
    {
     "name": "stdout",
     "output_type": "stream",
     "text": [
      "10\n",
      "20\n",
      "200\n"
     ]
    }
   ],
   "source": [
    "def area(x, y):\n",
    "    return x*y\n",
    "   \n",
    "\n",
    "w = int(input())\n",
    "h = int(input())\n",
    "\n",
    "print(area(w, h))"
   ]
  },
  {
   "cell_type": "code",
   "execution_count": null,
   "id": "3c062f62",
   "metadata": {},
   "outputs": [],
   "source": [
    "print(x % y) # find the remainder\n",
    "print (x // y) #böleni bul;basamak sayısı azaltmak içi bunu kullanmak çok pratik. ama sonu sıfır olanlar için"
   ]
  },
  {
   "cell_type": "markdown",
   "id": "b0584c3d",
   "metadata": {},
   "source": [
    "Docstrings\n",
    "Docstrings (documentation strings) are similar to comments, in that they’re designed to explain code. But, they’re more specific and have a different syntax.\n",
    "Docstrings act as documentation for other developers who use your function.\n",
    "\n",
    "They’re created by putting a multiline string containing an explanation of the function below the function's first line. Like this:"
   ]
  },
  {
   "cell_type": "code",
   "execution_count": 285,
   "id": "8fec2a3c",
   "metadata": {},
   "outputs": [
    {
     "name": "stdout",
     "output_type": "stream",
     "text": [
      "spam!\n"
     ]
    }
   ],
   "source": [
    "def shout(word):\n",
    "  \"\"\"\n",
    "  Print a word with an\n",
    "  exclamation mark following it.\n",
    "  \"\"\"\n",
    "  print(word + \"!\")\n",
    "    \n",
    "shout(\"spam\")"
   ]
  },
  {
   "cell_type": "code",
   "execution_count": 294,
   "id": "f601810c",
   "metadata": {},
   "outputs": [
    {
     "data": {
      "text/plain": [
       "10"
      ]
     },
     "execution_count": 294,
     "metadata": {},
     "output_type": "execute_result"
    }
   ],
   "source": [
    "#Rearrange the code to define a function that calculates the sum of all numbers from 0 to its argument.\n",
    "def sum(x):\n",
    "    res = 0\n",
    "    for i in range(x):\n",
    "        res+=i\n",
    "    return res  #return old.yere dikkat for hizasında aksi halde sonucu sıfır döndürür.\n",
    "sum(5)"
   ]
  },
  {
   "cell_type": "code",
   "execution_count": 308,
   "id": "b2cd4de2",
   "metadata": {},
   "outputs": [
    {
     "name": "stdout",
     "output_type": "stream",
     "text": [
      "0\n"
     ]
    }
   ],
   "source": [
    "#What's the highest number output by this code?\n",
    "\n",
    "def print_nums(x):\n",
    "  for i in range(x):\n",
    "    print(i)\n",
    "    return                 #return old.yere dikkat for hizasında değil\n",
    "print_nums(10)"
   ]
  },
  {
   "cell_type": "code",
   "execution_count": 309,
   "id": "5b4f0065",
   "metadata": {},
   "outputs": [
    {
     "name": "stdout",
     "output_type": "stream",
     "text": [
      "3\n"
     ]
    }
   ],
   "source": [
    "#What's the output of this code?\n",
    "\n",
    "def func(x):\n",
    "  res = 0\n",
    "  for i in range(x):\n",
    "     res += i\n",
    "  return res\n",
    "\n",
    "print(func(3))"
   ]
  },
  {
   "cell_type": "code",
   "execution_count": 310,
   "id": "dc75d5a0",
   "metadata": {},
   "outputs": [
    {
     "name": "stdout",
     "output_type": "stream",
     "text": [
      "3\n"
     ]
    }
   ],
   "source": [
    "# What's the output of this code?\n",
    "\n",
    "def func(x):\n",
    "  res = 0\n",
    "  for i in range(x):\n",
    "     res += i\n",
    "  return res\n",
    "\n",
    "func(5)                #önce bu çalışır ama altında print old. için ekrana yazdırmaz normalde 10 döner\n",
    "print(func(3))         #ardından bu çalışır"
   ]
  },
  {
   "cell_type": "code",
   "execution_count": 311,
   "id": "660f8e2f",
   "metadata": {},
   "outputs": [
    {
     "data": {
      "text/plain": [
       "3"
      ]
     },
     "execution_count": 311,
     "metadata": {},
     "output_type": "execute_result"
    }
   ],
   "source": [
    "def func(x):\n",
    "  res = 0\n",
    "  for i in range(x):\n",
    "     res += i\n",
    "  return res\n",
    "func(3)"
   ]
  },
  {
   "cell_type": "code",
   "execution_count": 312,
   "id": "8d44e3da",
   "metadata": {},
   "outputs": [
    {
     "name": "stdout",
     "output_type": "stream",
     "text": [
      "3\n"
     ]
    },
    {
     "data": {
      "text/plain": [
       "10"
      ]
     },
     "execution_count": 312,
     "metadata": {},
     "output_type": "execute_result"
    }
   ],
   "source": [
    "def func(x):\n",
    "  res = 0\n",
    "  for i in range(x):\n",
    "     res += i\n",
    "  return res\n",
    "\n",
    "print(func(3))\n",
    "func(5)                    #printten sonra geldiği için ekrana bastırdı return ettiği değeri."
   ]
  },
  {
   "cell_type": "markdown",
   "id": "a3a18b37",
   "metadata": {},
   "source": [
    "You’re working on a search engine. Watch your back Google!\n",
    "\n",
    "The given code takes a text and a word as input and passes them to a function called search().\n",
    "\n",
    "The search() function should return \"Word found\" if the word is present in the text, or \"Word not found\", if it’s not.\n",
    "\n",
    "Sample Input\n",
    "\"This is awesome\"\n",
    "\"awesome\"\n",
    "\n",
    "Sample Output\n",
    "Word found\n",
    "Define the search() function, so that the given code works as expected."
   ]
  },
  {
   "cell_type": "markdown",
   "id": "f42eb877",
   "metadata": {},
   "source": [
    "Bir arama motoru üzerinde çalışıyorsunuz. Arkanı kolla Google!\n",
    "\n",
    "Verilen kod, girdi olarak bir metin ve bir sözcük alır ve bunları search() adlı bir işleve iletir.\n",
    "\n",
    "search() işlevi, kelime metinde varsa 'Kelime bulundu' veya yoksa 'Kelime bulunamadı' döndürmelidir.\n",
    "\n",
    "Örnek Giriş\n",
    "'Bu harika'\n",
    "'süper'\n",
    "\n",
    "Örnek Çıktı\n",
    "kelime bulundu\n",
    "Verilen kodun beklendiği gibi çalışması için search() işlevini tanımlayın."
   ]
  },
  {
   "cell_type": "code",
   "execution_count": 314,
   "id": "ab0f89ad",
   "metadata": {},
   "outputs": [
    {
     "name": "stdout",
     "output_type": "stream",
     "text": [
      "bu kelime bunun içind\n",
      "asuman\n",
      "word not found\n"
     ]
    }
   ],
   "source": [
    "text = input()\n",
    "word = input()\n",
    "def search(text, word):\n",
    "    if word in text:\n",
    "        return \"word found\"\n",
    "    else:\n",
    "        return \"word not found\"\n",
    "print(search(text, word))\n"
   ]
  },
  {
   "cell_type": "code",
   "execution_count": null,
   "id": "25cdba99",
   "metadata": {},
   "outputs": [],
   "source": []
  }
 ],
 "metadata": {
  "kernelspec": {
   "display_name": "Python 3 (ipykernel)",
   "language": "python",
   "name": "python3"
  },
  "language_info": {
   "codemirror_mode": {
    "name": "ipython",
    "version": 3
   },
   "file_extension": ".py",
   "mimetype": "text/x-python",
   "name": "python",
   "nbconvert_exporter": "python",
   "pygments_lexer": "ipython3",
   "version": "3.10.4"
  }
 },
 "nbformat": 4,
 "nbformat_minor": 5
}
