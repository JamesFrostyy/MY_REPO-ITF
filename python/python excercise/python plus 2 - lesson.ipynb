{
 "cells": [
  {
   "cell_type": "markdown",
   "id": "b4b24a2f",
   "metadata": {},
   "source": [
    "# PYTHON PLUS - 2\n",
    "BUİLT - İN FUNCTİONS\n",
    " * So far we have learned\n",
    "   print()\n",
    "   in()\n",
    "   list()\n",
    "   input()\n",
    "   range()\n",
    " \n",
    " * Some of them return bool type (bool sonuç döndürür)\n",
    "   all(iterable)\n",
    "   any(iterable)\n",
    "   callable(object)\n",
    "   \n",
    " * Some of them help you convert data types (dataların tipini değiştiren fonk.; içine girilen datanın tipini kendine çevirir.)\n",
    "   bool()\n",
    "   float()\n",
    "   int()\n",
    "   str()\n",
    "   \n",
    " * For creating and processing the colletion types.(iterable lar ile çalışan fonksiyonlar)\n",
    "   dict()\n",
    "   list()\n",
    "   tuple()\n",
    "   ste()\n",
    "   len()\n",
    "   zip()\n",
    "   filter(function, iterable)\n",
    "   enumerate(iterable)x\n",
    " \n",
    " * Some others tackle numbers (sayılarla uğraşan)\n",
    "   max()\n",
    "   min()\n",
    "   sum()\n",
    "   round()\n",
    "   \n",
    " * The others are built for special purposes (özel amaçlara hizmet eden fonksiyonlar)\n",
    "   map(function, iterable, ...)\n",
    "   eval(expression[, globals[, locals]]\n",
    "   sorted(iterable)\n",
    "   open()\n",
    "   dir([object])\n",
    "   help([object])"
   ]
  },
  {
   "cell_type": "markdown",
   "id": "2b01ae57",
   "metadata": {},
   "source": [
    "# all() function.\n",
    "collection içeresine gönderilen;\n",
    "tüm elemanlar true ise true, \n",
    "tüm elemanlar false ise false, \n",
    "bir eleman false ise false,\n",
    "boş bir colletion gönderilirse true döndürür.\n",
    "Aynı and gibi çalışır."
   ]
  },
  {
   "cell_type": "code",
   "execution_count": 1,
   "id": "267d1003",
   "metadata": {},
   "outputs": [
    {
     "name": "stdout",
     "output_type": "stream",
     "text": [
      "True\n",
      "False\n",
      "True\n"
     ]
    }
   ],
   "source": [
    "names = [\"susan\", \"tom\", \"False\"]  # hepsi true döner.\n",
    "mood = [\"happy\", \"sad\", 0]  # 0 false döndürür.\n",
    "empty = {}  # boş dict.\n",
    "print(all(names), all(mood), all(empty), sep = \"\\n\")"
   ]
  },
  {
   "cell_type": "markdown",
   "id": "723aae5d",
   "metadata": {},
   "source": [
    "# any() function.\n",
    "or gibi çalışır.\n",
    "tüm elemanlar true ise True,\n",
    "tüm elemanlar false ise False, \n",
    "bir eleman bile true ise true,\n",
    "boş bir colletion gönderilirse false,"
   ]
  },
  {
   "cell_type": "code",
   "execution_count": 2,
   "id": "2d394cb8",
   "metadata": {},
   "outputs": [
    {
     "name": "stdout",
     "output_type": "stream",
     "text": [
      "True\n",
      "False\n",
      "False\n"
     ]
    }
   ],
   "source": [
    "listA = ['susan', 'tom', False]\n",
    "listB = [None, (), 0]\n",
    "empty = {}\n",
    "print(any(listA), any(listB), any(empty), sep = \"\\n\")"
   ]
  },
  {
   "cell_type": "markdown",
   "id": "873de4e5",
   "metadata": {},
   "source": [
    "# filter (function, iterable)\n",
    "filtrelemek için kullanılır.\n",
    "içine argüman olarak bir fonk, bir iterable alır.\n",
    "True ya da false döndürür.\n",
    "Mesela filter içinde bool sonuç döndüren any ve all fonk. kullanılabilir.\n",
    "  * function;kullanılırken parantezi kullanılmaz.\n",
    "  * iterable; sets, lists, tuples."
   ]
  },
  {
   "cell_type": "code",
   "execution_count": 3,
   "id": "186956bd",
   "metadata": {},
   "outputs": [
    {
     "name": "stdout",
     "output_type": "stream",
     "text": [
      "The filtered elements are:\n",
      "susan\n",
      "tom\n",
      "22\n",
      "0\n"
     ]
    }
   ],
   "source": [
    "listA = [\"susan\", \"tom\", False, 22, 0, \"0\"]\n",
    "filtered_list = filter(None, listA)  # None seçtik True olanları alır, False den filtenin üstünde kalır.\n",
    "# eğer bir iterable yazsaydık bu kez de o iterable ın True veren elemanlarını seçerdi.\n",
    "filtered_list # şeklinde de çıktı vermez, ancak for döngüsüne sokarak iterate edebiliriz.\n",
    "\n",
    "print(\"The filtered elements are:\")\n",
    "for i in filtered_list :\n",
    "    print(i)"
   ]
  },
  {
   "cell_type": "code",
   "execution_count": 4,
   "id": "e95d2704",
   "metadata": {},
   "outputs": [
    {
     "ename": "SyntaxError",
     "evalue": "invalid syntax (365081161.py, line 1)",
     "output_type": "error",
     "traceback": [
      "\u001b[1;36m  Input \u001b[1;32mIn [4]\u001b[1;36m\u001b[0m\n\u001b[1;33m    filter() fonk. ya None ya da iterable kullanmamız gerekiyor.\u001b[0m\n\u001b[1;37m             ^\u001b[0m\n\u001b[1;31mSyntaxError\u001b[0m\u001b[1;31m:\u001b[0m invalid syntax\n"
     ]
    }
   ],
   "source": [
    "filter() fonk. ya None ya da iterable kullanmamız gerekiyor. \n",
    "None kullanırsak yalnızca sonucu True verenleri filtreler. \n",
    "Filterinin altına geçer amaç zaten onları süzmek.\n",
    "Üstte kalanlar filtreden geçmeyenler olacaktır.\n",
    "\n",
    "Init signature: filter(self, /, *args, **kwargs)\n",
    "Docstring:     \n",
    "filter(function or None, iterable) --> filter object"
   ]
  },
  {
   "cell_type": "markdown",
   "id": "452e4ded",
   "metadata": {},
   "source": [
    "# enumerate(iterable, start = 0)\n",
    "***elemanların index numaralarını elemanlara yapıştırır ve tuple şeklinde çıktı verir.\n",
    "* istediğimiz indexten başlayabiliriz, herhangi bir şey yazmazsak eğer baştan başlar.\n",
    "*** range de olduğu gibi havada bir object oluşturur, iterable bir object oluşturur.\n",
    "* görünür hale getirmek için list fonk. gibi fonk.kullanmak gerekiyor.\n",
    "* zipped gibi, generator gibi bununda içi boşalınca yeniden tanımlamak gerekiyor.\n"
   ]
  },
  {
   "cell_type": "code",
   "execution_count": null,
   "id": "bbc9ce37",
   "metadata": {},
   "outputs": [],
   "source": [
    "# ** diyelim ki bir listemiz var.\n",
    "list = ['a', 'b', 'C']\n",
    "enum_list = enumerate(list)\n",
    "print(type(enum_list))\n",
    "print(enum_list)"
   ]
  },
  {
   "cell_type": "code",
   "execution_count": null,
   "id": "0c4538da",
   "metadata": {},
   "outputs": [],
   "source": [
    "grocery = ['bread', 'water', 'olive']\n",
    "enum_grocery = enumerate(grocery)\n",
    "print(type(enum_grocery))\n",
    "print(list(enum_grocery))\n",
    "enum_grocery = enumerate(grocery, 10)\n",
    "print(list(enum_grocery))"
   ]
  },
  {
   "cell_type": "code",
   "execution_count": null,
   "id": "fa070c3d",
   "metadata": {},
   "outputs": [],
   "source": [
    "enum_grocery = enumerate(grocery)  # içi boşalınca yeniden atama yapmak gerekiyor.\n",
    "#burada tuple lerin key ve value lara çevirelim.\n",
    "dict(enumerate(grocery))"
   ]
  },
  {
   "cell_type": "markdown",
   "id": "4db41dbf",
   "metadata": {},
   "source": [
    "# max(iterable), min(iterable)\n",
    "*** sayısal olarak en büyük ve en küçük değerleri verir.\n",
    "***içine girilen değer eğer string olursa ascıı koda göre sıralama yapar.\n",
    "* string içinde olan şeylerde itarebla dır. ord fonk.ile harflerin ascıı kod değerlerine bakabiliriz."
   ]
  },
  {
   "cell_type": "code",
   "execution_count": null,
   "id": "97696d49",
   "metadata": {},
   "outputs": [],
   "source": [
    "number = [-222, 0, 16, 5, 10, 6]\n",
    "largest_number = max(number)\n",
    "smallest_number = min(number)\n",
    "\n",
    "print('The largest number is:', largest_number)\n",
    "print('The smallest number is:', smallest_number)"
   ]
  },
  {
   "cell_type": "code",
   "execution_count": null,
   "id": "0d6b5de8",
   "metadata": {},
   "outputs": [],
   "source": [
    "min('clarusway')"
   ]
  },
  {
   "cell_type": "code",
   "execution_count": null,
   "id": "8a1a2ede",
   "metadata": {},
   "outputs": [],
   "source": [
    "max('clarusway')"
   ]
  },
  {
   "cell_type": "code",
   "execution_count": null,
   "id": "61b8ece5",
   "metadata": {},
   "outputs": [],
   "source": [
    "ord('a')  #str karakter girilir."
   ]
  },
  {
   "cell_type": "code",
   "execution_count": null,
   "id": "74b72750",
   "metadata": {},
   "outputs": [],
   "source": [
    "ord('y')"
   ]
  },
  {
   "cell_type": "code",
   "execution_count": null,
   "id": "2b122efe",
   "metadata": {},
   "outputs": [],
   "source": [
    "max(1, 2, 3, 4, 5, 6, 7,)"
   ]
  },
  {
   "cell_type": "code",
   "execution_count": null,
   "id": "67f18f7e",
   "metadata": {},
   "outputs": [],
   "source": [
    "min(1, 2, 3)"
   ]
  },
  {
   "cell_type": "markdown",
   "id": "094e52af",
   "metadata": {},
   "source": [
    "# sum(iterable, start)\n",
    "* iterable ın elemanları numeric olmalıdır.\n",
    "*** start boş olursa normal toplam alır ama start dolu olursa mevcut sayıya yazılan değeri de ekler ve birlikte çıktı verir.\n",
    "**virgüllerle ayrılmış her value ya burada arguman diyoruz. max ve min birden çok daha fazla argüman alabilirken\n",
    "sum fonk. sadece 2 tane argüman alabilir buna dikkat edelim.\n",
    "2 eleman dediği ise İTERABLE VE START.\n",
    "***string almıyor."
   ]
  },
  {
   "cell_type": "code",
   "execution_count": null,
   "id": "ccc52f75",
   "metadata": {},
   "outputs": [],
   "source": [
    "numbers = [2.5, 30, 4, -15]\n",
    "\n",
    "numbers_sum = sum(numbers)  # buradan gelecek olan değer 21,5 \n",
    "print(numbers_sum)\n",
    "\n",
    "numbers_sum = sum(numbers, 20)  # burada start dolu old. için 21,5 + 20 = 41,5 olarak sonuç verecek. \n",
    "print(numbers_sum)"
   ]
  },
  {
   "cell_type": "markdown",
   "id": "a668461e",
   "metadata": {},
   "source": [
    "# round(numbers, ndigits) yuvarlama\n",
    "* start a ne yazılırsa; toplamın üzerine onu ilave eder. \n",
    "***numbers ve virgülden sonra kaç basamak olması isteniyorsa o yazılır."
   ]
  },
  {
   "cell_type": "code",
   "execution_count": null,
   "id": "ea20f7b5",
   "metadata": {},
   "outputs": [],
   "source": [
    "print(round(12))\n",
    "print(round(10.8))\n",
    "print(round(3.665, 2))\n",
    "print(round(3.675, 2))  # aslında bu 3,6749999 diye gidiyor, bu yüzden bunu 3,67 olarak bıraktı, 3,68 yapmadı.\n",
    "# float rakamlar binary olarak ifadesi zor olan rakamlardır."
   ]
  },
  {
   "cell_type": "markdown",
   "id": "fe6d6a98",
   "metadata": {},
   "source": [
    "# DEFİNİNG (CREATİNG) A FUNCTİON\n",
    "MAİN PRİNCİPLES OF 'DEFİNİNG'\n",
    "EXECUTİON OF A FUNCTİON"
   ]
  },
  {
   "cell_type": "markdown",
   "id": "00df4845",
   "metadata": {},
   "source": [
    "### MAİN PRİNCİPLES OF DEFİNİNG \n",
    "\n",
    "TEMEL YAPISI\n",
    "\n",
    "                          parenthesis\n",
    "def  FUNCTİON NAME     (  PARAMETER(S) ) : ---> COLON\n",
    "\n",
    "     EXECETİON BADY (fonk. body)\n",
    "\n",
    "İNDENTATİON(girinti) \n",
    "\n",
    "*parantez içinde kod bloğu içinde kullanılan değişkenlere parametre olarak tanımlanır.\n",
    "*fonk. çağırırken kullanırken parantez içine yazılan değişken ya da değerlere argüman diyoruz.\n",
    "***ARGÜMAN VE PARAMETRE BİRBİRLERİNİN YERİNE KULLANILABİLİR."
   ]
  },
  {
   "cell_type": "code",
   "execution_count": null,
   "id": "d63a955b",
   "metadata": {},
   "outputs": [],
   "source": [
    "def first_function(argument_1, argument_2) :\n",
    "    print(argument_1**2 + argument_2**2)\n",
    "fonksiyonlar önce return ile sonuç döndürür sonra print edilir."
   ]
  },
  {
   "cell_type": "code",
   "execution_count": null,
   "id": "6d6233f6",
   "metadata": {},
   "outputs": [],
   "source": [
    "def ilk_fonk(x, y) :\n",
    "    print(x**2 + y**2)\n",
    "ilk_fonk(3, 4)  # ilk fonk. çağırdık 3 ve 4 argümanlarını yolladık.\n",
    "*** x, y parametre 3, 4 ise argüman(arg)\n",
    "şuan print etti yani sonucu ekrana yazdırdı ama bu her zaman böyle olmuyor."
   ]
  },
  {
   "cell_type": "code",
   "execution_count": null,
   "id": "d3747b88",
   "metadata": {},
   "outputs": [],
   "source": [
    "def multiply(a, b) :\n",
    "    print(a * b)\n",
    "\n",
    "multiply(3, 5)\n",
    "multiply(-1, 2.5)\n",
    "multiply('amazing', 3)  # it's really amazing, right?\n",
    "# a = amazing e asigment oldu, b = 3 asigment oldu. 3*amazing yapmış olduk.\n",
    "\n",
    "# string de yazılabilir."
   ]
  },
  {
   "cell_type": "code",
   "execution_count": null,
   "id": "4ac69026",
   "metadata": {},
   "outputs": [],
   "source": [
    "def hipotenus(a, b) :    \n",
    "    print((a ** 2 + b ** 2) ** 0.5)\n",
    "hipotenus (3, 4)\n",
    "\n",
    "# bu fonksiyon ekrana print eden bir fonksiyondur."
   ]
  },
  {
   "cell_type": "code",
   "execution_count": null,
   "id": "b81ef0ea",
   "metadata": {},
   "outputs": [],
   "source": [
    "# bazı fonk. vardır. içine arguman almasına gerek yoktur.\n",
    "def motto() :\n",
    "    print(\"Don't hesitate to reinvent yourself!\")\n",
    "motto() # it takes no argument (motto fonk. her çağırıldığında bu çıktıyı verecektir.)"
   ]
  },
  {
   "cell_type": "code",
   "execution_count": null,
   "id": "d4b8b3cb",
   "metadata": {},
   "outputs": [],
   "source": [
    "def rumi() :\n",
    "    print(\"\"\" Ay vurmuyorsa yüzüne, güneş vurmuyorsa pencerene kabahati ne Ay'da ne Güneş'te ara.Gözlerinde ki perdeyi arala.\"\"\")"
   ]
  },
  {
   "cell_type": "code",
   "execution_count": null,
   "id": "84adb151",
   "metadata": {},
   "outputs": [],
   "source": [
    "rumi()"
   ]
  },
  {
   "cell_type": "code",
   "execution_count": null,
   "id": "772f21da",
   "metadata": {},
   "outputs": [],
   "source": [
    "# iki tane sayı alalım ve ekrana print edelim.\n",
    "def add(a, b) :\n",
    "    print(a + b)\n",
    "add (-3, 5)"
   ]
  },
  {
   "cell_type": "code",
   "execution_count": null,
   "id": "f61444e3",
   "metadata": {},
   "outputs": [],
   "source": [
    "# # basit bir hesap makinesi yapalım.\n",
    "# kullanıcıdan 3 tane değişken isteyeceğiz, bunlardan ilk ikisi integer bir tanesi string olacak şekilde.\n",
    "# işlemem girecek olanlar integer olacak. yapılacak olan işlemi ise string olacak. eğer belirlenen (+ , -, /, *)\n",
    "# dışında bir işlem talep edilirse \"Enter valid arguments\" yazdırsın.\n",
    "\n",
    "def calculator(x, y, opr) :\n",
    "    if opr == \"+\" :\n",
    "        print(x + y)\n",
    "    \n",
    "    elif opr == \"-\" :\n",
    "        print(x - y)\n",
    "    \n",
    "    elif opr == \"*\" :\n",
    "        print(x * y)\n",
    "    \n",
    "    elif opr == \"/\" :\n",
    "        print(x / y)\n",
    "    else:\n",
    "        print(\"Enter a valid operator\")"
   ]
  },
  {
   "cell_type": "code",
   "execution_count": null,
   "id": "a9e7160e",
   "metadata": {},
   "outputs": [],
   "source": [
    "calculator(22, 11, \"/\")"
   ]
  },
  {
   "cell_type": "markdown",
   "id": "43f908ac",
   "metadata": {},
   "source": [
    "EXECUTİON OF A FUNCTİON\n",
    "the result of a function\n",
    "print\n",
    "return (fonksiyonun döndürdüğü sonuca return denir)bir fonk. bool true döndürüyorsa orada fonk. yanına yazılan şey fonk. sonucudur.\n",
    "\n",
    "def multiply_1(a, b) :\n",
    "    print(a * b) # it prints something\n",
    "\n",
    "multiply_1(10, 5)"
   ]
  },
  {
   "cell_type": "code",
   "execution_count": null,
   "id": "bcddb4d5",
   "metadata": {},
   "outputs": [],
   "source": [
    "def multiply_1(a, b) :\n",
    "    print(a * b) # it prints something bu fonk. print eder ekrana yazdırır.\n",
    "multiply_1(10, 5)"
   ]
  },
  {
   "cell_type": "code",
   "execution_count": 1,
   "id": "52a1956e",
   "metadata": {},
   "outputs": [
    {
     "name": "stdout",
     "output_type": "stream",
     "text": [
      "50\n"
     ]
    }
   ],
   "source": [
    "def multiply_2(a, b) :\n",
    "    return(a * b) # returns any numeric data type value\n",
    "# yani return bir değer döndürüyor. liste yazarsak liste döndürür. dict yazarsak dict. str yazarsak str döndürür.\n",
    "# return bir keyword bir kelime. return un sağ tarafındaki satırındaki paranteze ne yazarsak onu döndürür. \n",
    "# type ne ise onu döndürür.\n",
    "# return değer döndürür, print ekrana yazdırır. \n",
    "\n",
    "print(multiply_2(10, 5))"
   ]
  },
  {
   "cell_type": "code",
   "execution_count": null,
   "id": "b081cca7",
   "metadata": {},
   "outputs": [],
   "source": [
    "print(type(multiply_1(10, 5)))  # print bir fonksiyondur ve fonk. bir tipi yoktur bu nedenle NoneType yazdırır. çıktı olarak 50 yi verir ama \n",
    "# bir type yoktur.\n",
    "\n",
    "print(type(multiply_2(10, 5)))"
   ]
  },
  {
   "cell_type": "code",
   "execution_count": null,
   "id": "b143742a",
   "metadata": {},
   "outputs": [],
   "source": [
    "a = print('hello')\n",
    "#print i bir şeye atayamayız. print in tipi yoktur.\n",
    "type(a)"
   ]
  },
  {
   "cell_type": "markdown",
   "id": "0acfecd0",
   "metadata": {},
   "source": [
    "normalde print yazmayınca çıktı alınmaz ama jupyter in bir özelliği son satıra yazılanı çıktı almaktır.\n",
    "Bu nedenle de return normalde bir değer döndürmezsek jupyter de son satıra return le ilgili bir fonk. yazınca çıktı verir. \n",
    "Buna dikkat etmek lazım."
   ]
  },
  {
   "cell_type": "code",
   "execution_count": null,
   "id": "922aa10e",
   "metadata": {},
   "outputs": [],
   "source": [
    "def topla(x, y) :\n",
    "    return x + y\n",
    "type(topla(3, 5))"
   ]
  },
  {
   "cell_type": "code",
   "execution_count": null,
   "id": "559f266b",
   "metadata": {},
   "outputs": [],
   "source": [
    "print(type(3 + 5))  # print yazınca da class şeklinde verir."
   ]
  },
  {
   "cell_type": "code",
   "execution_count": null,
   "id": "00914398",
   "metadata": {},
   "outputs": [],
   "source": [
    "type (3 + 5)  # burada type içerdeki değerin tipini döndürdü, yukarıda da aynı şekilde."
   ]
  },
  {
   "cell_type": "code",
   "execution_count": null,
   "id": "35d668d9",
   "metadata": {},
   "outputs": [],
   "source": [
    "topla(4 ,7)  # burada print kullanmadan fonk. döndürüp çıktı vermesi jupyter in bir özelliği.(fonk. çağırmak)"
   ]
  },
  {
   "cell_type": "code",
   "execution_count": null,
   "id": "f7ab6065",
   "metadata": {},
   "outputs": [],
   "source": [
    "def string() :\n",
    "    return \"alideliveli\""
   ]
  },
  {
   "cell_type": "code",
   "execution_count": 5,
   "id": "bf52fd97",
   "metadata": {},
   "outputs": [
    {
     "ename": "NameError",
     "evalue": "name 'string' is not defined",
     "output_type": "error",
     "traceback": [
      "\u001b[1;31m---------------------------------------------------------------------------\u001b[0m",
      "\u001b[1;31mNameError\u001b[0m                                 Traceback (most recent call last)",
      "Input \u001b[1;32mIn [5]\u001b[0m, in \u001b[0;36m<cell line: 1>\u001b[1;34m()\u001b[0m\n\u001b[1;32m----> 1\u001b[0m \u001b[43mstring\u001b[49m()\n",
      "\u001b[1;31mNameError\u001b[0m: name 'string' is not defined"
     ]
    }
   ],
   "source": [
    "string()  # bu şekilde fonk. olarak çağırmakla bir alttaki gibi yazmak aynı sonucu veriyor.\n",
    "# burada sanki direkt 'alivelideli' yazmış gibi muamale yapıyor. Alttaki örneğe bakınız."
   ]
  },
  {
   "cell_type": "code",
   "execution_count": null,
   "id": "992664c3",
   "metadata": {},
   "outputs": [],
   "source": [
    "'alideliveli' # bu şekilde str olarak yazıp çağırmak aynı sonucu veriyor. \n",
    "# yani string() fonksiyonu aynı zamana 'alivelideli' ye eşittir."
   ]
  },
  {
   "cell_type": "code",
   "execution_count": null,
   "id": "bd8f0aa0",
   "metadata": {},
   "outputs": [],
   "source": [
    "type(string())"
   ]
  },
  {
   "cell_type": "code",
   "execution_count": null,
   "id": "e0ca9f73",
   "metadata": {},
   "outputs": [],
   "source": [
    "for i in string():\n",
    "    print(i, end = '*')"
   ]
  },
  {
   "cell_type": "code",
   "execution_count": null,
   "id": "e8210959",
   "metadata": {},
   "outputs": [],
   "source": [
    "print(* string())  # bunu yazmakla print(* 'alivelideli') yazmak arasında bir fark yok."
   ]
  },
  {
   "cell_type": "code",
   "execution_count": null,
   "id": "8aa0a422",
   "metadata": {},
   "outputs": [],
   "source": [
    "print(* 'alivelideli')"
   ]
  },
  {
   "cell_type": "code",
   "execution_count": null,
   "id": "0f3e8ff9",
   "metadata": {},
   "outputs": [],
   "source": [
    "def integer() :  # burada return e ne tanımlanırsa sonrasında return her çağırmada tanımlanan değer gelir.\n",
    "    return 22"
   ]
  },
  {
   "cell_type": "code",
   "execution_count": null,
   "id": "154b62e9",
   "metadata": {},
   "outputs": [],
   "source": [
    "integer()"
   ]
  },
  {
   "cell_type": "code",
   "execution_count": null,
   "id": "acf129fa",
   "metadata": {},
   "outputs": [],
   "source": [
    "22"
   ]
  },
  {
   "cell_type": "code",
   "execution_count": null,
   "id": "7951da79",
   "metadata": {},
   "outputs": [],
   "source": [
    "del integer()  # def ile tanımladığımz fonk. bu şekilde silebiliriz."
   ]
  },
  {
   "cell_type": "code",
   "execution_count": null,
   "id": "dfde7733",
   "metadata": {},
   "outputs": [],
   "source": [
    "def boolean() :\n",
    "    return True"
   ]
  },
  {
   "cell_type": "code",
   "execution_count": null,
   "id": "19f3ca3f",
   "metadata": {},
   "outputs": [],
   "source": [
    "boolean()"
   ]
  },
  {
   "cell_type": "code",
   "execution_count": null,
   "id": "64b51946",
   "metadata": {},
   "outputs": [],
   "source": [
    "if boolean():  # if true kod bloğu çalışır. yani boolean silip buraya true yazmak gibi bir şey\n",
    "    print('clarusway')"
   ]
  },
  {
   "cell_type": "code",
   "execution_count": null,
   "id": "02160eec",
   "metadata": {},
   "outputs": [],
   "source": [
    "def liste() :\n",
    "    return [1, 2, 3, 4]"
   ]
  },
  {
   "cell_type": "code",
   "execution_count": null,
   "id": "b316bb0d",
   "metadata": {},
   "outputs": [],
   "source": [
    "liste()"
   ]
  },
  {
   "cell_type": "code",
   "execution_count": null,
   "id": "d1274f09",
   "metadata": {},
   "outputs": [],
   "source": [
    "for i in liste() :\n",
    "    print(i)"
   ]
  },
  {
   "cell_type": "code",
   "execution_count": null,
   "id": "6435191f",
   "metadata": {},
   "outputs": [],
   "source": [
    "tuple(liste())"
   ]
  },
  {
   "cell_type": "code",
   "execution_count": null,
   "id": "6ab400a7",
   "metadata": {},
   "outputs": [],
   "source": [
    "liste()[2]  # liste() aslında şuna eşit [1, 2, 3, 4] indexleme yapınca da çıkan sonuç bu."
   ]
  },
  {
   "cell_type": "code",
   "execution_count": null,
   "id": "6f7391cb",
   "metadata": {},
   "outputs": [],
   "source": [
    "count = 0\n",
    "while count <= 8 :  # 8 eşit old. için 9 kez çıktı alır. count 0,1,2,3,4,5,6,7,8 olarak çıktı verir. 9<=0 olunca döngü biter.\n",
    "    print(count)\n",
    "    count += 1"
   ]
  },
  {
   "cell_type": "code",
   "execution_count": null,
   "id": "c022ff8e",
   "metadata": {},
   "outputs": [],
   "source": [
    "for i in 'bus' :\n",
    "    print(i, end = '')"
   ]
  },
  {
   "cell_type": "code",
   "execution_count": null,
   "id": "c3ee1e6a",
   "metadata": {},
   "outputs": [],
   "source": [
    "count = 0\n",
    "for i in ['bus'] :  # for döngüsü bir iterable ın elemanları iterate ediyor. bu listenin elemanı 1 tane string old.\n",
    "                    # için bir kez iterate eder ve count 1 değerini alır.\n",
    "    count += 1\n",
    "    print(i, count, end = '')"
   ]
  },
  {
   "cell_type": "code",
   "execution_count": null,
   "id": "f5817214",
   "metadata": {},
   "outputs": [],
   "source": [
    "# değişkene atama işlemi\n",
    "x = boolean()\n",
    "print(x)"
   ]
  },
  {
   "cell_type": "code",
   "execution_count": null,
   "id": "ee93b6c8",
   "metadata": {},
   "outputs": [],
   "source": [
    "def liste() :\n",
    "    return [1, 2, 3, 4]\n",
    "y = liste()\n",
    "y"
   ]
  },
  {
   "cell_type": "markdown",
   "id": "1ae432fa",
   "metadata": {},
   "source": [
    "* Fonksiyon/metodlar bizim için birer faydalı iş yapan kod parçacıklarıdır. Metodlar da aslında fonksiyondan başka bir şey değildir. Tek farkı, metodlar belirli objelere has fonksiyonlardır. Mesela string objeleri için oluşturulmuş olan fonksiyonlara stringin metodları, listeler içine oluşturulmuş fonksiyonlara listelerin metodları denir. Bazı fonksiyonlar/metodlar bir şey return ederken, bazıları ise hiç bir şey return etmezler ama farklı bir iş yaparlar.\n",
    "Mesela sort() metodu bir listenin elemanlarını sıralayarak o listeyi değiştirir ama bir şey return etmez! Sadece bir eylemde bulunur ve bırakır. Bu durumda;\n",
    "* print(my_list.sort()) derseniz, my_list listesini sırala eyleminin çıktısını al demiş olursunuz ve karşılığında tabi ki de \"None\" alırsınız."
   ]
  },
  {
   "cell_type": "code",
   "execution_count": null,
   "id": "7043d321",
   "metadata": {},
   "outputs": [],
   "source": [
    "def calculator(x, y, opr) :\n",
    "    if opr == \"+\" :\n",
    "        return x + y\n",
    "    \n",
    "    elif opr == \"-\" :\n",
    "        return x - y\n",
    "    \n",
    "    elif opr == \"*\" :\n",
    "        return x * y\n",
    "    \n",
    "    elif opr == \"/\" :\n",
    "        return x / y\n",
    "    else:\n",
    "        print(\"Enter a valid operator\")"
   ]
  },
  {
   "cell_type": "code",
   "execution_count": null,
   "id": "cf5af900",
   "metadata": {},
   "outputs": [],
   "source": [
    "sonuç = calculator ( 3, 5, '+')  # burda bir değişken tanımlayıp aslında 8 i sonuç a atadık.\n",
    "sonuç"
   ]
  },
  {
   "cell_type": "markdown",
   "id": "63ed34aa",
   "metadata": {},
   "source": [
    "# MUTLAK DEĞER\n",
    "Main Principles of 'Defining' "
   ]
  },
  {
   "cell_type": "code",
   "execution_count": null,
   "id": "feedfdee",
   "metadata": {},
   "outputs": [],
   "source": [
    "# TASK: absolute_value to calculate and return absolute value of the entered number.\n",
    "# you can add docstring for an explanation.(Bir absolute_value fonk. tanımla ve fonk. bir açıklama (docstring ekle))"
   ]
  },
  {
   "cell_type": "code",
   "execution_count": null,
   "id": "61f964b3",
   "metadata": {},
   "outputs": [],
   "source": [
    "a = -22\n",
    "-a"
   ]
  },
  {
   "cell_type": "code",
   "execution_count": null,
   "id": "341503be",
   "metadata": {},
   "outputs": [],
   "source": [
    "def absolute_value(num) :       # bizde burada kendimize bir built fonk. tanımlamış olduk.num isimli parametresi olan bir fonk.\n",
    "    \"\"\"This function return the absolute\n",
    "value of the given number.\"\"\"            # docstring fonk. hemen bir alt satırına yazılır ve bir tab boşluk bırakılır.\n",
    "\n",
    "    if num >= 0 :\n",
    "        return num\n",
    "    else:\n",
    "        return -num"
   ]
  },
  {
   "cell_type": "code",
   "execution_count": null,
   "id": "ab9f7d65",
   "metadata": {},
   "outputs": [],
   "source": [
    "absolute_value(-22)"
   ]
  },
  {
   "cell_type": "code",
   "execution_count": null,
   "id": "d8c0e6c2",
   "metadata": {},
   "outputs": [],
   "source": [
    "# docstring görüntüleme\n",
    "print(absolute_value.__doc__)"
   ]
  },
  {
   "cell_type": "code",
   "execution_count": null,
   "id": "85c48d6a",
   "metadata": {},
   "outputs": [],
   "source": [
    "print(abs.__doc__)  # bu python kendi fonk."
   ]
  },
  {
   "cell_type": "markdown",
   "id": "7df3b176",
   "metadata": {},
   "source": [
    "parametre = variables\n",
    "arguments = values"
   ]
  },
  {
   "cell_type": "code",
   "execution_count": null,
   "id": "6ed9f8e9",
   "metadata": {},
   "outputs": [],
   "source": [
    "def who(first, last) :  # 'first' and 'last' are the parameters(or variables)\n",
    "    print('Your first name is:', first)\n",
    "    print('Your last name is:', last )\n",
    "who('Guido', 'Van Rossum')  # 'Guido' and 'Van Rossum' are the arguments\n",
    "print()\n",
    "who('Marry', 'Bold')  # 'Marry' and 'Bold' are also the arguments"
   ]
  },
  {
   "cell_type": "code",
   "execution_count": null,
   "id": "674f3935",
   "metadata": {},
   "outputs": [],
   "source": [
    "who('joseph')  # tek argumanla çağırmak hata verir. first, last olduğu için burada sadece first tanımlanmış oldu. last yok.\n",
    "# bu nedenle de hata verdi."
   ]
  },
  {
   "cell_type": "markdown",
   "id": "be85becb",
   "metadata": {},
   "source": [
    "### POSİTİONAL ARGUMENTS\n",
    "### KEYWORD ARGUMENTS\n",
    "positional arguments de; yer önemli hangisi önce hangisi sonra geliyor. Alttaki örnekteki gibi."
   ]
  },
  {
   "cell_type": "code",
   "execution_count": null,
   "id": "52fdabd4",
   "metadata": {},
   "outputs": [],
   "source": [
    "def pos_args(a, b) :  # str de girilse integer da girilse ilk yazılan a ya diğer yazılan ise b ye gidecektir.\n",
    "    print(a, 'is the first argument')\n",
    "    print(b, 'is the second argument')\n",
    "pos_args(3, 4)\n",
    "print()\n",
    "pos_args(4, 3)"
   ]
  },
  {
   "cell_type": "code",
   "execution_count": null,
   "id": "679fc25d",
   "metadata": {},
   "outputs": [],
   "source": [
    "pos_args('first', 'second')\n",
    "print()\n",
    "pos_args('second', 'first')"
   ]
  },
  {
   "cell_type": "code",
   "execution_count": null,
   "id": "302dd94e",
   "metadata": {},
   "outputs": [],
   "source": [
    "# benim cevabım\n",
    "def texter (first, third, second) :\n",
    "    print(a, b, c)\n",
    "a = 'i'\n",
    "b = 'love'\n",
    "c = 'you'"
   ]
  },
  {
   "cell_type": "code",
   "execution_count": null,
   "id": "be0fdcc3",
   "metadata": {},
   "outputs": [],
   "source": [
    "texter(c, a, b)"
   ]
  },
  {
   "cell_type": "code",
   "execution_count": null,
   "id": "7a3b6699",
   "metadata": {},
   "outputs": [],
   "source": [
    "#hocanın cevabı\n",
    "def texter(text1, text2, text3) :\n",
    "    print(text2, text3, text1)"
   ]
  },
  {
   "cell_type": "code",
   "execution_count": null,
   "id": "3bc26d6b",
   "metadata": {},
   "outputs": [],
   "source": [
    "texter(c, a, b)"
   ]
  },
  {
   "cell_type": "markdown",
   "id": "7f6d314f",
   "metadata": {},
   "source": [
    "# keyword arguments\n",
    "The formula syntax is : kwargs = values.\n",
    "keyword argumanlarda önceden bir değer ataması var. yani önceden tanımlama yapılmıştır.\n",
    "fonksiyonu çağırırken sıra önemli değil çünkü argumanlara değer ataması yapılmış."
   ]
  },
  {
   "cell_type": "code",
   "execution_count": 18,
   "id": "5df23a19",
   "metadata": {},
   "outputs": [
    {
     "name": "stdout",
     "output_type": "stream",
     "text": [
      "your first name is: Guido\n",
      "Your last name is: Van Rossum\n"
     ]
    }
   ],
   "source": [
    "def who(first, last) : # same structure as the previous one\n",
    "    print('your first name is:', first)\n",
    "    print('Your last name is:', last)\n",
    "\n",
    "who (first = 'Guido', last = 'Van Rossum')   # burada first 1. sırada last 2. sırada OLMAK ZORUNDA DEĞİL. ATAMA YAPILMIŞ ZATEN.\n",
    "# calling the function is different. # we used kwargs to pass values into the function"
   ]
  },
  {
   "cell_type": "code",
   "execution_count": 32,
   "id": "cb49c611",
   "metadata": {},
   "outputs": [],
   "source": [
    "def texter (first, third, second) :   # burada sıralama önemli çünkü değer ataması yapmadık.\n",
    "    print(a, b, c)\n",
    "a = 'i'\n",
    "b = 'love'\n",
    "c = 'you'"
   ]
  },
  {
   "cell_type": "code",
   "execution_count": 34,
   "id": "d82a8ee4",
   "metadata": {},
   "outputs": [
    {
     "name": "stdout",
     "output_type": "stream",
     "text": [
      "i love you\n"
     ]
    }
   ],
   "source": [
    "texter(a, b, c)  # burada texter içi boş olursa hata verir çünkü sıralamanın bir önemi var."
   ]
  },
  {
   "cell_type": "code",
   "execution_count": 35,
   "id": "2a7c0cc0",
   "metadata": {},
   "outputs": [
    {
     "ename": "TypeError",
     "evalue": "texter() missing 3 required positional arguments: 'first', 'third', and 'second'",
     "output_type": "error",
     "traceback": [
      "\u001b[1;31m---------------------------------------------------------------------------\u001b[0m",
      "\u001b[1;31mTypeError\u001b[0m                                 Traceback (most recent call last)",
      "Input \u001b[1;32mIn [35]\u001b[0m, in \u001b[0;36m<cell line: 1>\u001b[1;34m()\u001b[0m\n\u001b[1;32m----> 1\u001b[0m \u001b[43mtexter\u001b[49m\u001b[43m(\u001b[49m\u001b[43m)\u001b[49m\n",
      "\u001b[1;31mTypeError\u001b[0m: texter() missing 3 required positional arguments: 'first', 'third', and 'second'"
     ]
    }
   ],
   "source": [
    "texter()  # çalışmaz."
   ]
  },
  {
   "cell_type": "code",
   "execution_count": 36,
   "id": "4ca80c87",
   "metadata": {},
   "outputs": [],
   "source": [
    "def texter (text1 = 'you', text3 = 'love', text2 = 'i') :  # burada sıralamanın bir önemi yok çünkü değerleri atamış olduk.\n",
    "    print(text2, text3, text1)\n",
    "# değer atarız ve yerinin bir önemi yok artık"
   ]
  },
  {
   "cell_type": "code",
   "execution_count": 38,
   "id": "93cad947",
   "metadata": {},
   "outputs": [
    {
     "name": "stdout",
     "output_type": "stream",
     "text": [
      "i love you\n"
     ]
    }
   ],
   "source": [
    "texter()  # çalışır çünkü değer ataması yapıldı, print te sırayı takip eder."
   ]
  },
  {
   "cell_type": "markdown",
   "id": "939c8f69",
   "metadata": {},
   "source": [
    "## nasıl yaparız\n",
    "def texter(text1, text2, text3) :\n",
    "    print(f\"{text2}{text3}{text1}\")"
   ]
  },
  {
   "cell_type": "code",
   "execution_count": 20,
   "id": "531b9f5d",
   "metadata": {},
   "outputs": [
    {
     "name": "stdout",
     "output_type": "stream",
     "text": [
      "i love you\n",
      "i love you\n"
     ]
    }
   ],
   "source": [
    "def texter(text1, text2, text3):\n",
    "    print(f\"{text2} {text3} {text1}\")  # atama yapıdığı için buradaki sıralamayı baz alacak.\n",
    "texter(text1 = 'you', text2 = 'i', text3 = 'love')  # iki farklı sıralamada da atamaların yerini farklı yazdık, sonuç aynı.\n",
    "texter(text2 = 'i', text3 = 'love', text1 = 'you')"
   ]
  },
  {
   "cell_type": "code",
   "execution_count": 12,
   "id": "2a4a66cf",
   "metadata": {},
   "outputs": [],
   "source": [
    "def yazdır(**kwargs) :\n",
    "    print(kwargs)"
   ]
  },
  {
   "cell_type": "code",
   "execution_count": 13,
   "id": "3537ab13",
   "metadata": {},
   "outputs": [
    {
     "name": "stdout",
     "output_type": "stream",
     "text": [
      "{'sayı1': 5, 'sayı2': 6, 'sayı3': 7}\n"
     ]
    }
   ],
   "source": [
    "yazdır (sayı1 = 5, sayı2 = 6, sayı3 = 7)"
   ]
  },
  {
   "cell_type": "code",
   "execution_count": 14,
   "id": "d88e61d3",
   "metadata": {},
   "outputs": [],
   "source": [
    "def yazdir(*args,**kwargs):  # önce args kullandık sonra kwargs kullandık.tam tersi olsa çalışmazdı.\n",
    "    print(kwargs)\n",
    "    print(args)"
   ]
  },
  {
   "cell_type": "code",
   "execution_count": 15,
   "id": "99fa0c88",
   "metadata": {},
   "outputs": [
    {
     "name": "stdout",
     "output_type": "stream",
     "text": [
      "{'sayı1': 5, 'sayı2': 6, 'sayı3': 7}\n",
      "()\n"
     ]
    }
   ],
   "source": [
    "yazdir(sayı1 = 5, sayı2 = 6, sayı3 = 7)"
   ]
  },
  {
   "cell_type": "code",
   "execution_count": 16,
   "id": "d5d21838",
   "metadata": {},
   "outputs": [
    {
     "name": "stdout",
     "output_type": "stream",
     "text": [
      "{'sayı1': 5}\n",
      "(5, 6, 7)\n"
     ]
    }
   ],
   "source": [
    "yazdir(5, 6, 7, sayı1 = 5)"
   ]
  },
  {
   "cell_type": "code",
   "execution_count": 17,
   "id": "988215c3",
   "metadata": {},
   "outputs": [
    {
     "ename": "SyntaxError",
     "evalue": "invalid syntax (3586026936.py, line 1)",
     "output_type": "error",
     "traceback": [
      "\u001b[1;36m  Input \u001b[1;32mIn [17]\u001b[1;36m\u001b[0m\n\u001b[1;33m    def yazdir(**kwargs, *args):  # syntax hatası verirdi.\u001b[0m\n\u001b[1;37m                         ^\u001b[0m\n\u001b[1;31mSyntaxError\u001b[0m\u001b[1;31m:\u001b[0m invalid syntax\n"
     ]
    }
   ],
   "source": [
    "def yazdir(**kwargs, *args):  # syntax hatası verirdi.\n",
    "    print(kwargs)\n",
    "    print(args)"
   ]
  }
 ],
 "metadata": {
  "celltoolbar": "Raw Cell Format",
  "kernelspec": {
   "display_name": "Python 3 (ipykernel)",
   "language": "python",
   "name": "python3"
  },
  "language_info": {
   "codemirror_mode": {
    "name": "ipython",
    "version": 3
   },
   "file_extension": ".py",
   "mimetype": "text/x-python",
   "name": "python",
   "nbconvert_exporter": "python",
   "pygments_lexer": "ipython3",
   "version": "3.10.4"
  }
 },
 "nbformat": 4,
 "nbformat_minor": 5
}
