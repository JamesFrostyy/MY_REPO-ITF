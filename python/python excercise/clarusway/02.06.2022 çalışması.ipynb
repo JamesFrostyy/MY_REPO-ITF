{
 "cells": [
  {
   "cell_type": "markdown",
   "id": "dc1bba86",
   "metadata": {},
   "source": [
    "02.06.20222\n",
    "GRUP ÇALIŞMA SORULARI\n",
    "LOOP "
   ]
  },
  {
   "cell_type": "markdown",
   "id": "baf0019a",
   "metadata": {},
   "source": [
    "Aşağıdakileri while döngüsünü kullanarak yazdıran bir program yazın\n",
    "a. İlk 10 Çift Sayı\n",
    "b. İlk 10 Tek Sayı\n",
    "c. İlk 10 Doğal Sayılar\n",
    "d. İlk 10 Tam Sayılar"
   ]
  },
  {
   "cell_type": "code",
   "execution_count": 1,
   "id": "903a5684",
   "metadata": {},
   "outputs": [
    {
     "name": "stdout",
     "output_type": "stream",
     "text": [
      "2 4 6 8 10 12 14 16 18 20 "
     ]
    }
   ],
   "source": [
    "sayi = 2\n",
    "while(sayi<21):\n",
    "    print(sayi, end=\" \")\n",
    "    sayi += 2"
   ]
  },
  {
   "cell_type": "code",
   "execution_count": 2,
   "id": "9fe0913f",
   "metadata": {},
   "outputs": [
    {
     "name": "stdout",
     "output_type": "stream",
     "text": [
      "1 3 5 7 9 11 13 15 17 19 "
     ]
    }
   ],
   "source": [
    "sayi = 1\n",
    "while(sayi<21):\n",
    "    print(sayi, end =\" \")\n",
    "    sayi += 2"
   ]
  },
  {
   "cell_type": "code",
   "execution_count": 3,
   "id": "130da3ab",
   "metadata": {},
   "outputs": [
    {
     "name": "stdout",
     "output_type": "stream",
     "text": [
      "1 2 3 4 5 6 7 8 9 10 "
     ]
    }
   ],
   "source": [
    "sayi = 1\n",
    "while(sayi<=10):\n",
    "    print(sayi, end=\" \")\n",
    "    sayi +=1"
   ]
  },
  {
   "cell_type": "code",
   "execution_count": 4,
   "id": "d399c61b",
   "metadata": {},
   "outputs": [
    {
     "name": "stdout",
     "output_type": "stream",
     "text": [
      "0 1 2 3 4 5 6 7 8 9 "
     ]
    }
   ],
   "source": [
    "sayi = 0\n",
    "while(sayi<10):\n",
    "    print(sayi, end=\" \")\n",
    "    sayi +=1"
   ]
  },
  {
   "cell_type": "markdown",
   "id": "948875e7",
   "metadata": {},
   "source": [
    "Kullanıcı tarafından while döngüsü kullanılarak girilen iki sayı (iki sayı hariç) arasındaki tüm çift sayıların toplamını bulan bir program yazınız."
   ]
  },
  {
   "cell_type": "code",
   "execution_count": 5,
   "id": "a39f5801",
   "metadata": {},
   "outputs": [
    {
     "name": "stdout",
     "output_type": "stream",
     "text": [
      "Enter first number  : 10\n",
      "Enter second number  : 20\n",
      "10\n",
      "12\n",
      "14\n",
      "16\n",
      "18\n"
     ]
    }
   ],
   "source": [
    "num1 = int(input(\"Enter first number  : \"))\n",
    "num2 = int(input(\"Enter second number  : \"))\n",
    "if num1 > num2:\n",
    "   while(num1>num2):\n",
    "     if num2 % 2 == 0:\n",
    "       print(num2)\n",
    "     num2 = num2 + 1\n",
    "else:\n",
    "   while(num1<num2):\n",
    "     if num1 % 2 == 0:\n",
    "       print(num1)\n",
    "     num1 = num1 + 1"
   ]
  },
  {
   "cell_type": "markdown",
   "id": "f5113e01",
   "metadata": {},
   "source": [
    "Aşağıdaki dizinin ilk n terimini for döngüsü kullanarak toplayan bir program yazın:\n",
    "1/1! + 1/2! + 1/3! + …….. + 1/n!"
   ]
  },
  {
   "cell_type": "code",
   "execution_count": 20,
   "id": "20dbb7bc",
   "metadata": {},
   "outputs": [
    {
     "name": "stdout",
     "output_type": "stream",
     "text": [
      "Enter any number  : 3\n",
      "Sum is       :     2.0\n"
     ]
    }
   ],
   "source": [
    "num = int(input(\"Enter any number  : \"))\n",
    "sum = 0\n",
    "fact = 1\n",
    "i = 1\n",
    "while(i < num):\n",
    "      fact= fact*i\n",
    "      sum= sum + i/fact\n",
    "      i = i + 1\n",
    "print(\"Sum is       :    \", round(sum, 1))\n"
   ]
  },
  {
   "cell_type": "markdown",
   "id": "b20be60e",
   "metadata": {},
   "source": [
    "Aşağıdaki çıktıyı almak için bir python programı yazın\n",
    "1—–49\n",
    "\n",
    "2—–48\n",
    "\n",
    "3—–47\n",
    "\n",
    ". .\n",
    "\n",
    ". .\n",
    "\n",
    ". .\n",
    "\n",
    "48—–2\n",
    "\n",
    "49—–1"
   ]
  },
  {
   "cell_type": "code",
   "execution_count": 7,
   "id": "c746434a",
   "metadata": {},
   "outputs": [
    {
     "name": "stdout",
     "output_type": "stream",
     "text": [
      "1 --- 49\n",
      "2 --- 48\n",
      "3 --- 47\n",
      "4 --- 46\n",
      "5 --- 45\n",
      "6 --- 44\n",
      "7 --- 43\n",
      "8 --- 42\n",
      "9 --- 41\n",
      "10 --- 40\n",
      "11 --- 39\n",
      "12 --- 38\n",
      "13 --- 37\n",
      "14 --- 36\n",
      "15 --- 35\n",
      "16 --- 34\n",
      "17 --- 33\n",
      "18 --- 32\n",
      "19 --- 31\n",
      "20 --- 30\n",
      "21 --- 29\n",
      "22 --- 28\n",
      "23 --- 27\n",
      "24 --- 26\n",
      "25 --- 25\n",
      "26 --- 24\n",
      "27 --- 23\n",
      "28 --- 22\n",
      "29 --- 21\n",
      "30 --- 20\n",
      "31 --- 19\n",
      "32 --- 18\n",
      "33 --- 17\n",
      "34 --- 16\n",
      "35 --- 15\n",
      "36 --- 14\n",
      "37 --- 13\n",
      "38 --- 12\n",
      "39 --- 11\n",
      "40 --- 10\n",
      "41 --- 9\n",
      "42 --- 8\n",
      "43 --- 7\n",
      "44 --- 6\n",
      "45 --- 5\n",
      "46 --- 4\n",
      "47 --- 3\n",
      "48 --- 2\n",
      "49 --- 1\n"
     ]
    }
   ],
   "source": [
    "i=1\n",
    "j=49\n",
    "while(i<=49 and j>=1):\n",
    "   print(i,\"---\",j)\n",
    "   i=i+1\n",
    "   j = j - 1"
   ]
  },
  {
   "cell_type": "markdown",
   "id": "5ed4180b",
   "metadata": {},
   "source": [
    "Bir sayının tüm çarpanlarını for döngüsü kullanarak yazdıran bir program yazın."
   ]
  },
  {
   "cell_type": "code",
   "execution_count": 8,
   "id": "2ddfab86",
   "metadata": {},
   "outputs": [
    {
     "name": "stdout",
     "output_type": "stream",
     "text": [
      "Enter any number10\n",
      "Factors are : \n",
      "1\n",
      "2\n",
      "5\n",
      "10\n"
     ]
    }
   ],
   "source": [
    "n = int(input(\"Enter any number\"))\n",
    "print(\"Factors are : \")\n",
    "for i in range(1, n+1):\n",
    "     if n % i == 0 :\n",
    "         print(i)"
   ]
  },
  {
   "cell_type": "markdown",
   "id": "81e3ea09",
   "metadata": {},
   "source": [
    "Write a program to print the following pattern without loop.\n",
    "*\n",
    "* *\n",
    "* * *\n",
    "* * * *"
   ]
  },
  {
   "cell_type": "code",
   "execution_count": 19,
   "id": "7e61ec05",
   "metadata": {},
   "outputs": [
    {
     "name": "stdout",
     "output_type": "stream",
     "text": [
      "\n",
      "* \n",
      "* * \n",
      "* * * \n",
      "* * * * \n"
     ]
    }
   ],
   "source": [
    "for i in range(0,5,1):\n",
    "    for j in range(i):\n",
    "        print(\"*\", end=\" \")\n",
    "\n",
    "    print()"
   ]
  },
  {
   "cell_type": "code",
   "execution_count": 17,
   "id": "88733d35",
   "metadata": {},
   "outputs": [
    {
     "name": "stdout",
     "output_type": "stream",
     "text": [
      "* * * * \n",
      "* * * \n",
      "* * \n",
      "* \n"
     ]
    }
   ],
   "source": [
    "for i in range(4,0,-1):\n",
    "\n",
    "    for j in range(i):\n",
    "\n",
    "        print(\"*\",end=\" \")\n",
    "\n",
    "    print()"
   ]
  },
  {
   "cell_type": "markdown",
   "id": "66bde24a",
   "metadata": {},
   "source": [
    "Aşağıdaki serilerin toplamını bulan bir program yazın:\n",
    "S = 1 + 4 – 9 + 16 – 25 + 36 – … … n terim"
   ]
  },
  {
   "cell_type": "code",
   "execution_count": 10,
   "id": "9e13ad98",
   "metadata": {},
   "outputs": [
    {
     "name": "stdout",
     "output_type": "stream",
     "text": [
      "Enter number of terms : 10\n",
      "57\n"
     ]
    }
   ],
   "source": [
    "n = int(input(\"Enter number of terms : \"))\n",
    "s = 0\n",
    "sp = 1\n",
    "sn = 0\n",
    "i = 2\n",
    "while(i <= n):\n",
    "   if i % 2 == 0:\n",
    "      sp = sp + i ** 2\n",
    "      i = i + 1\n",
    "   else :\n",
    "      sn = sn + i ** 2\n",
    "      i = i + 1\n",
    "print(sp - sn)"
   ]
  },
  {
   "cell_type": "code",
   "execution_count": null,
   "id": "ff3ad08b",
   "metadata": {},
   "outputs": [],
   "source": []
  }
 ],
 "metadata": {
  "kernelspec": {
   "display_name": "Python 3 (ipykernel)",
   "language": "python",
   "name": "python3"
  },
  "language_info": {
   "codemirror_mode": {
    "name": "ipython",
    "version": 3
   },
   "file_extension": ".py",
   "mimetype": "text/x-python",
   "name": "python",
   "nbconvert_exporter": "python",
   "pygments_lexer": "ipython3",
   "version": "3.10.4"
  }
 },
 "nbformat": 4,
 "nbformat_minor": 5
}
