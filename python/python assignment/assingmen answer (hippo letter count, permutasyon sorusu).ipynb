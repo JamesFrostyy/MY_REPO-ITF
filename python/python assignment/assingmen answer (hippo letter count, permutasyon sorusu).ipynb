{
 "cells": [
  {
   "cell_type": "code",
   "execution_count": 1,
   "id": "22f051ae",
   "metadata": {},
   "outputs": [],
   "source": [
    "word = {1: \"1\", 2: \"2\"}"
   ]
  },
  {
   "cell_type": "code",
   "execution_count": 2,
   "id": "8adec18b",
   "metadata": {},
   "outputs": [
    {
     "data": {
      "text/plain": [
       "{1: '1', 2: '2'}"
      ]
     },
     "execution_count": 2,
     "metadata": {},
     "output_type": "execute_result"
    }
   ],
   "source": [
    "word"
   ]
  },
  {
   "cell_type": "code",
   "execution_count": 3,
   "id": "72cc1f4c",
   "metadata": {},
   "outputs": [],
   "source": [
    "keys = word.keys()"
   ]
  },
  {
   "cell_type": "code",
   "execution_count": 4,
   "id": "a195b9dc",
   "metadata": {},
   "outputs": [
    {
     "data": {
      "text/plain": [
       "dict_keys([1, 2])"
      ]
     },
     "execution_count": 4,
     "metadata": {},
     "output_type": "execute_result"
    }
   ],
   "source": [
    "keys"
   ]
  },
  {
   "cell_type": "code",
   "execution_count": 6,
   "id": "58ddc0b7",
   "metadata": {},
   "outputs": [
    {
     "data": {
      "text/plain": [
       "{'e': 1}"
      ]
     },
     "execution_count": 6,
     "metadata": {},
     "output_type": "execute_result"
    }
   ],
   "source": [
    "wordd = {}\n",
    "wordd[\"e\"] = 1\n",
    "wordd"
   ]
  },
  {
   "cell_type": "code",
   "execution_count": 7,
   "id": "4f22492b",
   "metadata": {},
   "outputs": [],
   "source": [
    "wordd[\"d\"] = 1"
   ]
  },
  {
   "cell_type": "code",
   "execution_count": 8,
   "id": "6bcd44ab",
   "metadata": {},
   "outputs": [
    {
     "data": {
      "text/plain": [
       "{'e': 1, 'd': 1}"
      ]
     },
     "execution_count": 8,
     "metadata": {},
     "output_type": "execute_result"
    }
   ],
   "source": [
    "wordd"
   ]
  },
  {
   "cell_type": "code",
   "execution_count": 12,
   "id": "99de6fca",
   "metadata": {},
   "outputs": [
    {
     "data": {
      "text/plain": [
       "{'e': 1, 'd': 1, 'c': 1}"
      ]
     },
     "execution_count": 12,
     "metadata": {},
     "output_type": "execute_result"
    }
   ],
   "source": [
    "wordd[\"c\"] = 1\n",
    "wordd"
   ]
  },
  {
   "cell_type": "code",
   "execution_count": 13,
   "id": "943f62d6",
   "metadata": {},
   "outputs": [
    {
     "data": {
      "text/plain": [
       "{'e': 1, 'd': 1, 'c': 2}"
      ]
     },
     "execution_count": 13,
     "metadata": {},
     "output_type": "execute_result"
    }
   ],
   "source": [
    "wordd[\"c\"] = wordd[\"c\"] + 1\n",
    "wordd"
   ]
  },
  {
   "cell_type": "code",
   "execution_count": 14,
   "id": "6d5369e8",
   "metadata": {},
   "outputs": [
    {
     "data": {
      "text/plain": [
       "{'e': 1, 'd': 1, 'c': 3}"
      ]
     },
     "execution_count": 14,
     "metadata": {},
     "output_type": "execute_result"
    }
   ],
   "source": [
    "wordd[\"c\"] = wordd[\"c\"] + 1\n",
    "wordd"
   ]
  },
  {
   "cell_type": "code",
   "execution_count": 15,
   "id": "66954c71",
   "metadata": {},
   "outputs": [
    {
     "data": {
      "text/plain": [
       "{'e': 1, 'd': 1, 'c': 4}"
      ]
     },
     "execution_count": 15,
     "metadata": {},
     "output_type": "execute_result"
    }
   ],
   "source": [
    "wordd[\"c\"] = wordd[\"c\"] + 1\n",
    "wordd"
   ]
  },
  {
   "cell_type": "markdown",
   "id": "27e7a0ce",
   "metadata": {},
   "source": [
    "kelimeleri tek tek kontrol edeceğiz içinde varsa bir artıracağız ama yoksa ekleyeceğiz.\n",
    "hiç yoksa 1 e eşitleyeceğiz ama varsa değerini bir arttırmamız lazım."
   ]
  },
  {
   "cell_type": "code",
   "execution_count": 16,
   "id": "45579727",
   "metadata": {},
   "outputs": [
    {
     "data": {
      "text/plain": [
       "True"
      ]
     },
     "execution_count": 16,
     "metadata": {},
     "output_type": "execute_result"
    }
   ],
   "source": [
    "\"c\" in wordd"
   ]
  },
  {
   "cell_type": "code",
   "execution_count": 17,
   "id": "90577a46",
   "metadata": {},
   "outputs": [
    {
     "data": {
      "text/plain": [
       "False"
      ]
     },
     "execution_count": 17,
     "metadata": {},
     "output_type": "execute_result"
    }
   ],
   "source": [
    "\"f\" in wordd"
   ]
  },
  {
   "cell_type": "code",
   "execution_count": 19,
   "id": "4982c872",
   "metadata": {},
   "outputs": [
    {
     "name": "stdout",
     "output_type": "stream",
     "text": [
      "{'a': 3, 's': 1, 'u': 2, 'm': 2, 'n': 1, ' ': 4, 'k': 1, 'b': 1, 'e': 1, 'r': 1, 'o': 1, 'ğ': 1, 'l': 1}\n"
     ]
    }
   ],
   "source": [
    "string = \"asuman kamberoğlu   \"\n",
    "word_dict = {} # uygun olanları buraya ekleyeceğiz.\n",
    "\n",
    "for n in string:\n",
    "    if n in word_dict:\n",
    "        word_dict[n] += 1\n",
    "    else:\n",
    "        word_dict[n] = 1\n",
    "print(word_dict)"
   ]
  },
  {
   "cell_type": "code",
   "execution_count": 21,
   "id": "8127035a",
   "metadata": {},
   "outputs": [],
   "source": [
    "veri = [\"a\", \"b\", True, (False, 1), {\"1\": 2}, [1, 2], {\"2\": \"two\"}, {2, \"3\"}, \"c\", 23, 0] # bunun içindekilerin tiplerini yazdıralım.\n",
    "# yani {\"bool\": 1, \"int\": 2, .... gibi yazdıralım.}"
   ]
  },
  {
   "cell_type": "code",
   "execution_count": 22,
   "id": "1cbafbc0",
   "metadata": {},
   "outputs": [],
   "source": [
    "tipler = [\"int\", \"str\", \"bool\", \"list\", \"tuple\", \"dict\", \"set\"]"
   ]
  },
  {
   "cell_type": "code",
   "execution_count": 23,
   "id": "41f3c632",
   "metadata": {},
   "outputs": [
    {
     "data": {
      "text/plain": [
       "{'int': None,\n",
       " 'str': None,\n",
       " 'bool': None,\n",
       " 'list': None,\n",
       " 'tuple': None,\n",
       " 'dict': None,\n",
       " 'set': None}"
      ]
     },
     "execution_count": 23,
     "metadata": {},
     "output_type": "execute_result"
    }
   ],
   "source": [
    "{}.fromkeys(tipler) #otomatik dict. yapma özelliğini kullanalım"
   ]
  },
  {
   "cell_type": "code",
   "execution_count": 24,
   "id": "4038f2bf",
   "metadata": {},
   "outputs": [
    {
     "data": {
      "text/plain": [
       "{'int': True,\n",
       " 'str': True,\n",
       " 'bool': True,\n",
       " 'list': True,\n",
       " 'tuple': True,\n",
       " 'dict': True,\n",
       " 'set': True}"
      ]
     },
     "execution_count": 24,
     "metadata": {},
     "output_type": "execute_result"
    }
   ],
   "source": [
    "{}.fromkeys(tipler, True) #otomatik dict. yapma özelliğini kullanalım"
   ]
  },
  {
   "cell_type": "code",
   "execution_count": 27,
   "id": "9f7516db",
   "metadata": {},
   "outputs": [
    {
     "data": {
      "text/plain": [
       "{'int': 25,\n",
       " 'str': 25,\n",
       " 'bool': 25,\n",
       " 'list': 25,\n",
       " 'tuple': 25,\n",
       " 'dict': 25,\n",
       " 'set': 25}"
      ]
     },
     "execution_count": 27,
     "metadata": {},
     "output_type": "execute_result"
    }
   ],
   "source": [
    "{}.fromkeys(tipler, 25) #otomatik dict. yapma özelliğini kullanalım"
   ]
  },
  {
   "cell_type": "code",
   "execution_count": 28,
   "id": "dc5013d5",
   "metadata": {},
   "outputs": [],
   "source": [
    "toplam = {}.fromkeys(tipler, 0) #otomatik dict. yapma özelliğini kullanalım"
   ]
  },
  {
   "cell_type": "code",
   "execution_count": 29,
   "id": "b7a322e4",
   "metadata": {},
   "outputs": [
    {
     "data": {
      "text/plain": [
       "{'int': 0, 'str': 0, 'bool': 0, 'list': 0, 'tuple': 0, 'dict': 0, 'set': 0}"
      ]
     },
     "execution_count": 29,
     "metadata": {},
     "output_type": "execute_result"
    }
   ],
   "source": [
    "toplam"
   ]
  },
  {
   "cell_type": "code",
   "execution_count": 30,
   "id": "fe2efde7",
   "metadata": {},
   "outputs": [
    {
     "data": {
      "text/plain": [
       "11"
      ]
     },
     "execution_count": 30,
     "metadata": {},
     "output_type": "execute_result"
    }
   ],
   "source": [
    "len(veri)"
   ]
  },
  {
   "cell_type": "code",
   "execution_count": 31,
   "id": "9b3f5c78",
   "metadata": {},
   "outputs": [
    {
     "data": {
      "text/plain": [
       "str"
      ]
     },
     "execution_count": 31,
     "metadata": {},
     "output_type": "execute_result"
    }
   ],
   "source": [
    "type(veri[0])"
   ]
  },
  {
   "cell_type": "code",
   "execution_count": 32,
   "id": "65d81c26",
   "metadata": {},
   "outputs": [
    {
     "data": {
      "text/plain": [
       "list"
      ]
     },
     "execution_count": 32,
     "metadata": {},
     "output_type": "execute_result"
    }
   ],
   "source": [
    "type(veri[5])"
   ]
  },
  {
   "cell_type": "code",
   "execution_count": 33,
   "id": "661373d5",
   "metadata": {},
   "outputs": [
    {
     "data": {
      "text/plain": [
       "False"
      ]
     },
     "execution_count": 33,
     "metadata": {},
     "output_type": "execute_result"
    }
   ],
   "source": [
    "type(veri[5]) == str"
   ]
  },
  {
   "cell_type": "code",
   "execution_count": null,
   "id": "530188e9",
   "metadata": {},
   "outputs": [],
   "source": [
    "toplam = {}.fromkeys(tipler, 0) #otomatik dict. yapma özelliğini kullanalım"
   ]
  },
  {
   "cell_type": "code",
   "execution_count": 34,
   "id": "46460ceb",
   "metadata": {},
   "outputs": [
    {
     "data": {
      "text/plain": [
       "{'int': 2, 'str': 3, 'bool': 1, 'list': 1, 'tuple': 1, 'dict': 2, 'set': 1}"
      ]
     },
     "execution_count": 34,
     "metadata": {},
     "output_type": "execute_result"
    }
   ],
   "source": [
    "for i in range(len(veri)):\n",
    "    if type(veri[i]) == int: toplam[\"int\"] += 1\n",
    "    elif type(veri[i]) == str: toplam[\"str\"] += 1\n",
    "    elif type(veri[i]) == bool: toplam[\"bool\"] += 1    \n",
    "    elif type(veri[i]) == list: toplam[\"list\"] += 1    \n",
    "    elif type(veri[i]) == tuple: toplam[\"tuple\"] += 1  \n",
    "    elif type(veri[i]) == dict: toplam[\"dict\"] += 1   \n",
    "    elif type(veri[i]) == set: toplam[\"set\"] += 1\n",
    "toplam"
   ]
  },
  {
   "cell_type": "markdown",
   "id": "1b321f6c",
   "metadata": {},
   "source": [
    "## given a list such [1,2,3] get an all possible output combinations\n",
    "Input: [1, 2, 3]\n",
    "Output:\n",
    "[1 2 3]\n",
    "\n",
    "[1 3 2]\n",
    "\n",
    "[2 1 3]\n",
    "\n",
    "[2 3 1]\n",
    "\n",
    "[3 1 2]\n",
    "\n",
    "[3 2 1]\n"
   ]
  },
  {
   "cell_type": "markdown",
   "id": "08663e6e",
   "metadata": {},
   "source": [
    "https://www.geeksforgeeks.org/python-program-to-print-all-possible-combinations-from-the-three-digits/"
   ]
  },
  {
   "cell_type": "code",
   "execution_count": 41,
   "id": "a934bc5b",
   "metadata": {},
   "outputs": [],
   "source": [
    "x = [([1], [2, 3], [4,5,6])]  # listenin bir elemanı var. tuple olan. (tuple tek eleman, tuple ında 3 tane elemanı var.)"
   ]
  },
  {
   "cell_type": "code",
   "execution_count": 42,
   "id": "37ffdfa8",
   "metadata": {},
   "outputs": [
    {
     "data": {
      "text/plain": [
       "[1, 2, 3, 4, 5]"
      ]
     },
     "execution_count": 42,
     "metadata": {},
     "output_type": "execute_result"
    }
   ],
   "source": [
    "[1,2,3,4,5] # bunu bu şekilde tek bir liste içine nasıl toplarız?"
   ]
  },
  {
   "cell_type": "code",
   "execution_count": 44,
   "id": "84083e28",
   "metadata": {},
   "outputs": [
    {
     "data": {
      "text/plain": [
       "[1, 2, 3, 4, 5, 6]"
      ]
     },
     "execution_count": 44,
     "metadata": {},
     "output_type": "execute_result"
    }
   ],
   "source": [
    "a = []\n",
    "for i in x:          # i = tuple  i nin elemanı bunun tamamı  --->  ([1], [2, 3], [4,5,6])\n",
    "    for j in i:      # j = tuple ın elemanı olan listeler [1], [2, 3], [4,5,6], j nin ilk elemanı [1], ikinci elemanı [2,3] ...\n",
    "        for z in j:  # z = listelerin içindeki tek tek elemanlara gider. 1, 2, 3, 4,5,6\n",
    "            a.append(z)\n",
    "a           \n",
    "            # ilk iterasyon da z ye 1 gelir , ikinci de 2 sonra 3 ... şeklinde devam eder."
   ]
  },
  {
   "cell_type": "code",
   "execution_count": 45,
   "id": "38d0f0d9",
   "metadata": {},
   "outputs": [
    {
     "data": {
      "text/plain": [
       "[0, 1, 2, 3, 4]"
      ]
     },
     "execution_count": 45,
     "metadata": {},
     "output_type": "execute_result"
    }
   ],
   "source": [
    "[i for i in range(5)] # list.comp. ile yapalım."
   ]
  },
  {
   "cell_type": "code",
   "execution_count": 54,
   "id": "760d5cd9",
   "metadata": {},
   "outputs": [
    {
     "data": {
      "text/plain": [
       "['elma', 'armut', 'muz']"
      ]
     },
     "execution_count": 54,
     "metadata": {},
     "output_type": "execute_result"
    }
   ],
   "source": [
    "xList = \"elma armut muz\".split()\n",
    "xList"
   ]
  },
  {
   "cell_type": "code",
   "execution_count": 55,
   "id": "da965e56",
   "metadata": {},
   "outputs": [
    {
     "data": {
      "text/plain": [
       "['ayşe', 'fatma', 'hayriye']"
      ]
     },
     "execution_count": 55,
     "metadata": {},
     "output_type": "execute_result"
    }
   ],
   "source": [
    "yList = \"ayşe fatma hayriye\".split()\n",
    "yList"
   ]
  },
  {
   "cell_type": "code",
   "execution_count": 56,
   "id": "afc352ee",
   "metadata": {},
   "outputs": [
    {
     "data": {
      "text/plain": [
       "['elmaayşe',\n",
       " 'elmafatma',\n",
       " 'elmahayriye',\n",
       " 'armutayşe',\n",
       " 'armutfatma',\n",
       " 'armuthayriye',\n",
       " 'muzayşe',\n",
       " 'muzfatma',\n",
       " 'muzhayriye']"
      ]
     },
     "execution_count": 56,
     "metadata": {},
     "output_type": "execute_result"
    }
   ],
   "source": [
    "result = []\n",
    "for i in xList:\n",
    "    for j in yList:\n",
    "        result.append(i+j)\n",
    "result"
   ]
  },
  {
   "cell_type": "code",
   "execution_count": 58,
   "id": "6de8be23",
   "metadata": {},
   "outputs": [
    {
     "data": {
      "text/plain": [
       "['elmaayşe',\n",
       " 'elmafatma',\n",
       " 'elmahayriye',\n",
       " 'armutayşe',\n",
       " 'armutfatma',\n",
       " 'armuthayriye',\n",
       " 'muzayşe',\n",
       " 'muzfatma',\n",
       " 'muzhayriye']"
      ]
     },
     "execution_count": 58,
     "metadata": {},
     "output_type": "execute_result"
    }
   ],
   "source": [
    "# iç içe for döngüsünde soldan sağa giderken sanki yukardan aşağı gidiyormuş gibi düşünmek lazım.\n",
    "# mesela burada yukardan aşağı inerken ilk gelen for döngüsü; for i in xList dir. bu durumda\n",
    "# ilk önce elma yı alıyor sonra yanına ayşe fatma hayriyeyi sırayla koyuyor.\n",
    "# yani soldan sağa giderken yukardan aşağı iner gibi çalışıyor.\n",
    "\n",
    "\n",
    "# list comp. da bu şekilde düşünmek lazım.\n",
    "# yani kaç tane for döngüsü varsa yukardan aşağı, onları soldan sağa yazarız aşağıdaki gibi.\n",
    "\n",
    "#  [code_block for i in xList for j in yList]\n",
    "\n",
    "#append ile yaptığımızı kendi içinde yaptığı için code_block kısmına i +j yazabiliriz\n",
    "[i + j for i in xList for j in yList]"
   ]
  },
  {
   "cell_type": "code",
   "execution_count": 59,
   "id": "04f5253c",
   "metadata": {},
   "outputs": [
    {
     "data": {
      "text/plain": [
       "[['elmaayşe'],\n",
       " ['elmafatma'],\n",
       " ['elmahayriye'],\n",
       " ['armutayşe'],\n",
       " ['armutfatma'],\n",
       " ['armuthayriye'],\n",
       " ['muzayşe'],\n",
       " ['muzfatma'],\n",
       " ['muzhayriye']]"
      ]
     },
     "execution_count": 59,
     "metadata": {},
     "output_type": "execute_result"
    }
   ],
   "source": [
    "[[i + j] for i in xList for j in yList] #tüm elemanları liste haline getirelim."
   ]
  },
  {
   "cell_type": "code",
   "execution_count": 60,
   "id": "138bc52a",
   "metadata": {},
   "outputs": [
    {
     "data": {
      "text/plain": [
       "[{'elma': 'ayşe'},\n",
       " {'elma': 'fatma'},\n",
       " {'elma': 'hayriye'},\n",
       " {'armut': 'ayşe'},\n",
       " {'armut': 'fatma'},\n",
       " {'armut': 'hayriye'},\n",
       " {'muz': 'ayşe'},\n",
       " {'muz': 'fatma'},\n",
       " {'muz': 'hayriye'}]"
      ]
     },
     "execution_count": 60,
     "metadata": {},
     "output_type": "execute_result"
    }
   ],
   "source": [
    "[{i:j} for i in xList for j in yList] #tüm elemanları dict. haline getirelim."
   ]
  },
  {
   "cell_type": "code",
   "execution_count": 64,
   "id": "40f07269",
   "metadata": {},
   "outputs": [
    {
     "data": {
      "text/plain": [
       "['0-->bir',\n",
       " '0-->iki',\n",
       " '0-->üç',\n",
       " '2-->bir',\n",
       " '2-->iki',\n",
       " '2-->üç',\n",
       " '4-->bir',\n",
       " '4-->iki',\n",
       " '4-->üç']"
      ]
     },
     "execution_count": 64,
     "metadata": {},
     "output_type": "execute_result"
    }
   ],
   "source": [
    "result = []\n",
    "sayılar = [\"bir\", \"iki\", \"üç\"]\n",
    "for i in range(5):\n",
    "    if i %2 == 0:\n",
    "        for j in sayılar:\n",
    "            result.append(str(i) + \"-->\" + j)\n",
    "result"
   ]
  },
  {
   "cell_type": "code",
   "execution_count": 66,
   "id": "0b571f73",
   "metadata": {},
   "outputs": [
    {
     "data": {
      "text/plain": [
       "['0-->bir',\n",
       " '0-->iki',\n",
       " '0-->üç',\n",
       " '2-->bir',\n",
       " '2-->iki',\n",
       " '2-->üç',\n",
       " '4-->bir',\n",
       " '4-->iki',\n",
       " '4-->üç']"
      ]
     },
     "execution_count": 66,
     "metadata": {},
     "output_type": "execute_result"
    }
   ],
   "source": [
    "[str(i) + \"-->\" + j for i in range(5) for j in sayılar if i %2 == 0]"
   ]
  },
  {
   "cell_type": "markdown",
   "id": "9eed3875",
   "metadata": {},
   "source": [
    "``` [\n",
    "\n",
    "[1, 2, 3],\n",
    "\n",
    "[1, 3, 2], \n",
    "\n",
    "[2, 1, 3], \n",
    "\n",
    "[2, 3, 1], \n",
    "\n",
    "[3, 1, 2], \n",
    "\n",
    "[3, 2, 1], \n",
    "\n",
    "]```"
   ]
  },
  {
   "cell_type": "code",
   "execution_count": null,
   "id": "bf526f8f",
   "metadata": {},
   "outputs": [],
   "source": [
    "solution = [[]]"
   ]
  },
  {
   "cell_type": "code",
   "execution_count": null,
   "id": "f47bcdac",
   "metadata": {},
   "outputs": [],
   "source": [
    "# solution -1 = [[1],[2],[3]]\n",
    "\n",
    "şimdi 1 in haricinde kalanları yazalım.\n",
    "# solution -2 =[[1,2], [1,3]]  # solution -1 in üzerinden gideceğiz. [1] in haricinde kalanları yazdık.\n",
    "\n",
    "# bunu yapmak için 1 ,2 ,3 de 1 dışında kalanları bulmak için set() kullanabiliriz.\n",
    "# yani 1 kümesinin 1,2,3 kümesinden farkı = 2, 3 olur.\n",
    "\n",
    "şimdi de 2 nin haricinde kalanları ekleyelim.\n",
    "# solution -2 =[[1,2], [1,3], [2,1], [2,3]]  # solution -1 in üzerinden gideceğiz. [2] in haricinde kalanlarıda yazalım.\n",
    "şimdi de 3 ün haricinde kalanları ekleyelim.\n",
    "# solution -2 =[[1,2], [1,3], [2,1], [2,3], [3,1], [3,2]]  # solution -1 in üzerinden gideceğiz. [3] ün haricinde kalanlarıda yazalım.\n",
    "\n",
    "şimdi de eksikleri tamamlayalım.\n",
    "# solution -3 =[[1,2,3], [1,3,2], [2,1,3], [2,3,1], [3,1,2], [3,2,1]]\n"
   ]
  },
  {
   "cell_type": "code",
   "execution_count": null,
   "id": "0b30f86b",
   "metadata": {},
   "outputs": [],
   "source": [
    "#solution -1 = [[1],[2],[3]]\n",
    "# solution -2 =[[1,2], [1,3], [2,1], [2,3], [3,1], [3,2]]\n",
    "# solution -3 =[[1,2,3], [1,3,2], [2,1,3], [2,3,1], [3,1,2], [3,2,1]]"
   ]
  },
  {
   "cell_type": "code",
   "execution_count": 68,
   "id": "23602bc7",
   "metadata": {},
   "outputs": [],
   "source": [
    "solution = [[]]"
   ]
  },
  {
   "cell_type": "code",
   "execution_count": 69,
   "id": "7d8799d2",
   "metadata": {},
   "outputs": [
    {
     "name": "stdout",
     "output_type": "stream",
     "text": [
      "[]\n"
     ]
    }
   ],
   "source": [
    "for i in solution:\n",
    "    print(i)"
   ]
  },
  {
   "cell_type": "code",
   "execution_count": 70,
   "id": "dba17e9d",
   "metadata": {},
   "outputs": [
    {
     "data": {
      "text/plain": [
       "1"
      ]
     },
     "execution_count": 70,
     "metadata": {},
     "output_type": "execute_result"
    }
   ],
   "source": [
    "len(solution)"
   ]
  },
  {
   "cell_type": "code",
   "execution_count": 73,
   "id": "93cafae9",
   "metadata": {},
   "outputs": [
    {
     "data": {
      "text/plain": [
       "{1, 2, 3}"
      ]
     },
     "execution_count": 73,
     "metadata": {},
     "output_type": "execute_result"
    }
   ],
   "source": [
    "num = [1,2,3]\n",
    "num_set = set(num)\n",
    "num_set"
   ]
  },
  {
   "cell_type": "code",
   "execution_count": 74,
   "id": "33de66d4",
   "metadata": {},
   "outputs": [
    {
     "data": {
      "text/plain": [
       "set()"
      ]
     },
     "execution_count": 74,
     "metadata": {},
     "output_type": "execute_result"
    }
   ],
   "source": [
    "set([])  # set fonk. içerisine iterable alır ve ıterable elemanları böler ve sadece unic olanları alır.\n",
    "#boş bir listeyi kümenin içine atınca listenin elemanı old. için bize boş bir küme verir."
   ]
  },
  {
   "cell_type": "code",
   "execution_count": 75,
   "id": "dca9bca3",
   "metadata": {},
   "outputs": [],
   "source": [
    "set_boş_list = set([]) #boş küme"
   ]
  },
  {
   "cell_type": "code",
   "execution_count": 76,
   "id": "eadacb24",
   "metadata": {},
   "outputs": [
    {
     "data": {
      "text/plain": [
       "{1, 2, 3}"
      ]
     },
     "execution_count": 76,
     "metadata": {},
     "output_type": "execute_result"
    }
   ],
   "source": [
    "num_set - set_boş_list # kümeden boş küme çıkarsa kümenin kendisini verir. "
   ]
  },
  {
   "cell_type": "code",
   "execution_count": 77,
   "id": "9cef9762",
   "metadata": {},
   "outputs": [
    {
     "data": {
      "text/plain": [
       "{2, 3}"
      ]
     },
     "execution_count": 77,
     "metadata": {},
     "output_type": "execute_result"
    }
   ],
   "source": [
    "num_set - set([1]) # 1 in dışındakiler."
   ]
  },
  {
   "cell_type": "code",
   "execution_count": 78,
   "id": "50d87b16",
   "metadata": {},
   "outputs": [
    {
     "data": {
      "text/plain": [
       "{1, 3}"
      ]
     },
     "execution_count": 78,
     "metadata": {},
     "output_type": "execute_result"
    }
   ],
   "source": [
    "num_set - set([2]) # 2 in dışındakiler."
   ]
  },
  {
   "cell_type": "code",
   "execution_count": 79,
   "id": "2557d298",
   "metadata": {},
   "outputs": [
    {
     "data": {
      "text/plain": [
       "{1, 2}"
      ]
     },
     "execution_count": 79,
     "metadata": {},
     "output_type": "execute_result"
    }
   ],
   "source": [
    "num_set - set([3]) # 3 ün dışındakiler."
   ]
  },
  {
   "cell_type": "code",
   "execution_count": 80,
   "id": "69e1efd6",
   "metadata": {},
   "outputs": [
    {
     "data": {
      "text/plain": [
       "{3}"
      ]
     },
     "execution_count": 80,
     "metadata": {},
     "output_type": "execute_result"
    }
   ],
   "source": [
    "num_set - set([1,2 ]) # 1 ve 2 nin dışındakiler."
   ]
  },
  {
   "cell_type": "code",
   "execution_count": 81,
   "id": "d961e33d",
   "metadata": {},
   "outputs": [
    {
     "data": {
      "text/plain": [
       "[1, 2, 3]"
      ]
     },
     "execution_count": 81,
     "metadata": {},
     "output_type": "execute_result"
    }
   ],
   "source": [
    "[1] + [2,3]"
   ]
  },
  {
   "cell_type": "code",
   "execution_count": 82,
   "id": "e36290e7",
   "metadata": {},
   "outputs": [
    {
     "data": {
      "text/plain": [
       "[2, 3]"
      ]
     },
     "execution_count": 82,
     "metadata": {},
     "output_type": "execute_result"
    }
   ],
   "source": [
    "[] + [2,3]"
   ]
  },
  {
   "cell_type": "code",
   "execution_count": 83,
   "id": "45101cbc",
   "metadata": {},
   "outputs": [
    {
     "data": {
      "text/plain": [
       "{3}"
      ]
     },
     "execution_count": 83,
     "metadata": {},
     "output_type": "execute_result"
    }
   ],
   "source": [
    "num_set - set([1] + [2])"
   ]
  },
  {
   "cell_type": "code",
   "execution_count": 84,
   "id": "688c46b5",
   "metadata": {},
   "outputs": [
    {
     "data": {
      "text/plain": [
       "[1, 2, 3]"
      ]
     },
     "execution_count": 84,
     "metadata": {},
     "output_type": "execute_result"
    }
   ],
   "source": [
    "[1,2] + [3]"
   ]
  },
  {
   "cell_type": "code",
   "execution_count": null,
   "id": "11941afb",
   "metadata": {},
   "outputs": [],
   "source": [
    "solution-1 = [[1],[2],[3]]\n",
    "solution-2 =[[1,2], [1,3], [2,1], [2,3], [3,1], [3,2]]\n",
    "solution-3 =[[1,2,3], [1,3,2], [2,1,3], [2,3,1], [3,1,2], [3,2,1]]"
   ]
  },
  {
   "cell_type": "code",
   "execution_count": 85,
   "id": "308dd7e2",
   "metadata": {},
   "outputs": [
    {
     "data": {
      "text/plain": [
       "[[0], [1], [2]]"
      ]
     },
     "execution_count": 85,
     "metadata": {},
     "output_type": "execute_result"
    }
   ],
   "source": [
    "[[i] for i in range(3)]"
   ]
  },
  {
   "cell_type": "code",
   "execution_count": 87,
   "id": "e4f1fcb4",
   "metadata": {},
   "outputs": [
    {
     "data": {
      "text/plain": [
       "[[0], [1], [4]]"
      ]
     },
     "execution_count": 87,
     "metadata": {},
     "output_type": "execute_result"
    }
   ],
   "source": [
    "[[i**2] for i in range(3)]"
   ]
  },
  {
   "cell_type": "code",
   "execution_count": 88,
   "id": "57655daf",
   "metadata": {},
   "outputs": [
    {
     "data": {
      "text/plain": [
       "[[0, 'a'], [1, 'a'], [4, 'a']]"
      ]
     },
     "execution_count": 88,
     "metadata": {},
     "output_type": "execute_result"
    }
   ],
   "source": [
    "[[i**2] + [\"a\"] for i in range(3)]  # iki listenin toplamı tek bir liste oldu."
   ]
  },
  {
   "cell_type": "code",
   "execution_count": null,
   "id": "f968bf97",
   "metadata": {},
   "outputs": [],
   "source": [
    "#solution -1 = [[1],[2],[3]]\n",
    "# solution -2 =[[1,2], [1,3], [2,1], [2,3], [3,1], [3,2]]\n",
    "# solution -3 =[[1,2,3], [1,3,2], [2,1,3], [2,3,1], [3,1,2], [3,2,1]]\n",
    "\n",
    "3 elemanlı old. için 3 kez iterasyon yaptık eğer 4 elemanlı olsaydı\n",
    "bu kezde 4 kez iterasyon yapardık yanı solution-4 e kadar yapardık.\n",
    "yani burada uzunluk önemli yani len kullanmamız lazım."
   ]
  },
  {
   "cell_type": "code",
   "execution_count": 113,
   "id": "c1daa372",
   "metadata": {},
   "outputs": [],
   "source": [
    "solution = [[]]"
   ]
  },
  {
   "cell_type": "code",
   "execution_count": 114,
   "id": "7542268b",
   "metadata": {},
   "outputs": [
    {
     "data": {
      "text/plain": [
       "[1, 2, 3]"
      ]
     },
     "execution_count": 114,
     "metadata": {},
     "output_type": "execute_result"
    }
   ],
   "source": [
    "num"
   ]
  },
  {
   "cell_type": "code",
   "execution_count": 115,
   "id": "858e0abf",
   "metadata": {},
   "outputs": [
    {
     "data": {
      "text/plain": [
       "{1, 2, 3}"
      ]
     },
     "execution_count": 115,
     "metadata": {},
     "output_type": "execute_result"
    }
   ],
   "source": [
    "num_set"
   ]
  },
  {
   "cell_type": "code",
   "execution_count": null,
   "id": "8dd1a9eb",
   "metadata": {},
   "outputs": [],
   "source": [
    "for index in range(len(num)):\n",
    "    solution = [code_block for i in solution for j in num_set.difference(set(i))]\n",
    "                                      ---> buradaki solution set(i) dir yani (1,2,3)\n",
    "        burada solution dış döngü (ilk rakamları yani i yi dış döngü getiriyor ve bu i ler yani solution bir liste)\n",
    "               num_set difference den gelenler yani j ler iç döngü den geliyor ama bunlar iterasyon şeklinde geliyor.\n",
    "            bunlar bir küme elemanı old.için listeye çevirmemiz gerekiyor.            "
   ]
  },
  {
   "cell_type": "code",
   "execution_count": 116,
   "id": "761a9fae",
   "metadata": {},
   "outputs": [
    {
     "name": "stdout",
     "output_type": "stream",
     "text": [
      "[[1], [2], [3]]\n",
      "[[1, 2], [1, 3], [2, 1], [2, 3], [3, 1], [3, 2]]\n",
      "[[1, 2, 3], [1, 3, 2], [2, 1, 3], [2, 3, 1], [3, 1, 2], [3, 2, 1]]\n"
     ]
    }
   ],
   "source": [
    "for index in range(len(num)):\n",
    "    solution = [i + [j] for i in solution for j in num_set.difference(set(i))]\n",
    "    print(solution)\n",
    "    \n",
    "# burada list comp. sürekli güncelleme durumu var.\n",
    "# list.comp. bir değişkene atadık.\n",
    "# ve bu değişkene atanan list comp. for döngüsü içinde kullanmış olduk.\n",
    "# her iterasyonda bu değişken e atanan list comp.güncellenmiş oldu."
   ]
  },
  {
   "cell_type": "code",
   "execution_count": 137,
   "id": "11a88a2e",
   "metadata": {},
   "outputs": [],
   "source": [
    "import smtplib  # gmail server ı"
   ]
  },
  {
   "cell_type": "code",
   "execution_count": 138,
   "id": "7cd15611",
   "metadata": {},
   "outputs": [
    {
     "ename": "NameError",
     "evalue": "name 'password' is not defined",
     "output_type": "error",
     "traceback": [
      "\u001b[1;31m---------------------------------------------------------------------------\u001b[0m",
      "\u001b[1;31mNameError\u001b[0m                                 Traceback (most recent call last)",
      "Input \u001b[1;32mIn [138]\u001b[0m, in \u001b[0;36m<cell line: 3>\u001b[1;34m()\u001b[0m\n\u001b[0;32m      1\u001b[0m server \u001b[38;5;241m=\u001b[39m smtplib\u001b[38;5;241m.\u001b[39mSMTP(\u001b[38;5;124m\"\u001b[39m\u001b[38;5;124msmtp.gmail.com\u001b[39m\u001b[38;5;124m\"\u001b[39m, \u001b[38;5;241m587\u001b[39m)\n\u001b[0;32m      2\u001b[0m server\u001b[38;5;241m.\u001b[39mstarttls()\n\u001b[1;32m----> 3\u001b[0m server\u001b[38;5;241m.\u001b[39mlogin(\u001b[38;5;124m\"\u001b[39m\u001b[38;5;124masumankamberoglu\u001b[39m\u001b[38;5;124m\"\u001b[39m, \u001b[43mpassword\u001b[49m)\n\u001b[0;32m      4\u001b[0m message \u001b[38;5;241m=\u001b[39m \u001b[38;5;124m\"\u001b[39m\u001b[38;5;130;01m\\n\u001b[39;00m\u001b[38;5;124m Merhaba\u001b[39m\u001b[38;5;130;01m\\n\u001b[39;00m\u001b[38;5;124m\"\u001b[39m\n\u001b[0;32m      5\u001b[0m mails \u001b[38;5;241m=\u001b[39m [\u001b[38;5;124m\"\u001b[39m\u001b[38;5;124moraykamberoglu@gmail.com\u001b[39m\u001b[38;5;124m\"\u001b[39m,\n\u001b[0;32m      6\u001b[0m         \u001b[38;5;124m\"\u001b[39m\u001b[38;5;124masumankamberoglu@gmail.com\u001b[39m\u001b[38;5;124m\"\u001b[39m]\n",
      "\u001b[1;31mNameError\u001b[0m: name 'password' is not defined"
     ]
    }
   ],
   "source": [
    "server = smtplib.SMTP(\"smtp.gmail.com\", 587)\n",
    "server.starttls()\n",
    "server.login(\"asumankamberoglu\", password)\n",
    "message = \"\\n Merhaba\\n\"\n",
    "mails = [\"oraykamberoglu@gmail.com\",\n",
    "        \"asumankamberoglu@gmail.com\"]\n",
    "server.sendmail(\"oraykamberoglu@gmail.com\", mails, message)\n",
    "server.quit()"
   ]
  },
  {
   "cell_type": "code",
   "execution_count": null,
   "id": "af41476e",
   "metadata": {},
   "outputs": [],
   "source": []
  },
  {
   "cell_type": "code",
   "execution_count": null,
   "id": "afb7d2a3",
   "metadata": {},
   "outputs": [],
   "source": []
  }
 ],
 "metadata": {
  "kernelspec": {
   "display_name": "Python 3 (ipykernel)",
   "language": "python",
   "name": "python3"
  },
  "language_info": {
   "codemirror_mode": {
    "name": "ipython",
    "version": 3
   },
   "file_extension": ".py",
   "mimetype": "text/x-python",
   "name": "python",
   "nbconvert_exporter": "python",
   "pygments_lexer": "ipython3",
   "version": "3.10.4"
  }
 },
 "nbformat": 4,
 "nbformat_minor": 5
}
