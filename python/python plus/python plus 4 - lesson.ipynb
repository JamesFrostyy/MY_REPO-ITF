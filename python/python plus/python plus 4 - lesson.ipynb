{
 "cells": [
  {
   "cell_type": "code",
   "execution_count": 134,
   "id": "a2ad474d",
   "metadata": {},
   "outputs": [
    {
     "name": "stdout",
     "output_type": "stream",
     "text": [
      "evens [2, 4, 6, 8, 10]\n",
      "odss [1, 3, 5, 7, 9]\n"
     ]
    }
   ],
   "source": [
    "#konu dışı çalışma.....\n",
    "def orgnzr(* num):\n",
    "    even = [i for i in num if i % 2 == 0]\n",
    "    odds = [i for i in num if i % 2 != 0]\n",
    "    print(\"evens\", even)\n",
    "    print(\"odss\", odds)\n",
    "orgnzr(1, 2, 3, 4, 5, 6, 7, 8, 9, 10)"
   ]
  },
  {
   "cell_type": "code",
   "execution_count": 129,
   "id": "ffc258a9",
   "metadata": {},
   "outputs": [],
   "source": [
    "#konu dışı çalışma....\n",
    "def organizer(** peoples):\n",
    "    names = []\n",
    "    ages = []\n",
    "    \n",
    "    for keys, values in peoples.items():\n",
    "        names.append(keys)\n",
    "        ages.append(values)\n",
    "    print(names, ages, sep = '\\n')  "
   ]
  },
  {
   "cell_type": "code",
   "execution_count": 128,
   "id": "3bf5d9dd",
   "metadata": {},
   "outputs": [
    {
     "name": "stdout",
     "output_type": "stream",
     "text": [
      "['Beth', 'Oscar', 'Justin', 'Frank']\n",
      "[26, 42, 18, 33]\n"
     ]
    }
   ],
   "source": [
    "#konu dışı çalışma.....\n",
    "def organizer(**kwargs):\n",
    "    print(list(kwargs.keys()))\n",
    "    print(list(kwargs.values()))\n",
    "organizer(Beth=26,Oscar=42,Justin=18,Frank=33)"
   ]
  },
  {
   "cell_type": "code",
   "execution_count": 156,
   "id": "f35aa42b",
   "metadata": {},
   "outputs": [
    {
     "name": "stdout",
     "output_type": "stream",
     "text": [
      "names : ['Beth', 'Buğra', 'Yunus', 'Asuman']\n",
      "ages : [26, 41, 33, 24]\n"
     ]
    }
   ],
   "source": [
    "#konu dışı çalışma......\n",
    "def organizer(** data):\n",
    "    names = [i for i in data.keys()]\n",
    "    ages = [i for i in data.values()]\n",
    "    \n",
    "    print(\"names :\", names)\n",
    "    print(\"ages :\", ages)\n",
    "    \n",
    "organizer(Beth = 26, Buğra = 41, Yunus = 33, Asuman = 24)"
   ]
  },
  {
   "cell_type": "code",
   "execution_count": 85,
   "id": "c4ff6289",
   "metadata": {},
   "outputs": [
    {
     "data": {
      "text/plain": [
       "2.0"
      ]
     },
     "execution_count": 85,
     "metadata": {},
     "output_type": "execute_result"
    }
   ],
   "source": [
    "def orta(*nt):\n",
    "    return (sum(nt)/len(nt))\n",
    "orta(1, 2, 3)"
   ]
  },
  {
   "cell_type": "markdown",
   "id": "b9862bb2",
   "metadata": {},
   "source": [
    "list comp. ile ternary yani tek satırlık İf yapılar bu lambda içinde kullanılması gereken yapılardır.\n",
    "\n",
    "lambda parameters: expression (list comp. + ternary if li yapılar)"
   ]
  },
  {
   "cell_type": "code",
   "execution_count": null,
   "id": "e0f061c3",
   "metadata": {},
   "outputs": [],
   "source": [
    "def square(x):\n",
    "    return x ** 2"
   ]
  },
  {
   "cell_type": "code",
   "execution_count": null,
   "id": "70180367",
   "metadata": {},
   "outputs": [],
   "source": [
    "lambda x: x**2\n",
    "x = parametre\n",
    "x**2 = expression\n",
    "tek kullanımlık fonk. lambda; ama bir değişkene atarsak aynı def gibi daha sonrada kullanabiliriz.\n",
    "normalda lambda tek kullanımlıktır."
   ]
  },
  {
   "cell_type": "code",
   "execution_count": null,
   "id": "c619c453",
   "metadata": {},
   "outputs": [],
   "source": [
    "lambda x, y:(x+y)/2\n",
    "code body (x+y) / 2\n",
    "parametre x, y"
   ]
  },
  {
   "cell_type": "code",
   "execution_count": null,
   "id": "9454c843",
   "metadata": {},
   "outputs": [],
   "source": [
    "lambda fonk; usual conditional statement(yani if elif else li multi satırlı ) kullanmıyoruz.\n",
    "tek satırlık kullanıyoruz.\n",
    "lambda x: \"odd\" if x%2 !=0 else \"even\""
   ]
  },
  {
   "cell_type": "code",
   "execution_count": 14,
   "id": "988ec1c8",
   "metadata": {},
   "outputs": [],
   "source": [
    "condition = True"
   ]
  },
  {
   "cell_type": "code",
   "execution_count": 15,
   "id": "5c97a156",
   "metadata": {},
   "outputs": [
    {
     "data": {
      "text/plain": [
       "'odd'"
      ]
     },
     "execution_count": 15,
     "metadata": {},
     "output_type": "execute_result"
    }
   ],
   "source": [
    "\"odd\" if condition else \"even\""
   ]
  },
  {
   "cell_type": "code",
   "execution_count": 16,
   "id": "68227c74",
   "metadata": {},
   "outputs": [
    {
     "data": {
      "text/plain": [
       "'even'"
      ]
     },
     "execution_count": 16,
     "metadata": {},
     "output_type": "execute_result"
    }
   ],
   "source": [
    "condition = False\n",
    "\"odd\" if condition else \"even\""
   ]
  },
  {
   "cell_type": "code",
   "execution_count": 17,
   "id": "22b73db2",
   "metadata": {},
   "outputs": [
    {
     "data": {
      "text/plain": [
       "<function __main__.<lambda>(x)>"
      ]
     },
     "execution_count": 17,
     "metadata": {},
     "output_type": "execute_result"
    }
   ],
   "source": [
    "lambda x: \"odd\" if x%2 !=0 else \"even\"  # bu şekilde çıktı alırsak lambda bize sadece bir adres verir. "
   ]
  },
  {
   "cell_type": "code",
   "execution_count": null,
   "id": "0e582170",
   "metadata": {},
   "outputs": [],
   "source": [
    "lambda yı görünür hale getirmek için;\n",
    "1) ... its own syntax using parentheses\n",
    "2) ... assigning it to a variable\n",
    "3) ... inside several built in functions\n",
    "4) ... inside user-defined functions (def)"
   ]
  },
  {
   "cell_type": "code",
   "execution_count": 18,
   "id": "8d511c2b",
   "metadata": {},
   "outputs": [
    {
     "name": "stdout",
     "output_type": "stream",
     "text": [
      "4\n"
     ]
    }
   ],
   "source": [
    "# 1.yöntem parentheses\n",
    "print((lambda x: x**2)(2))"
   ]
  },
  {
   "cell_type": "code",
   "execution_count": 19,
   "id": "dcd00931",
   "metadata": {},
   "outputs": [
    {
     "data": {
      "text/plain": [
       "'even'"
      ]
     },
     "execution_count": 19,
     "metadata": {},
     "output_type": "execute_result"
    }
   ],
   "source": [
    "(lambda x: \"odd\" if x%2 !=0 else \"even\")(4) # x = 4 olur burada."
   ]
  },
  {
   "cell_type": "code",
   "execution_count": 21,
   "id": "5b8bcc45",
   "metadata": {},
   "outputs": [
    {
     "name": "stdout",
     "output_type": "stream",
     "text": [
      "4.0\n"
     ]
    }
   ],
   "source": [
    "print((lambda x, y: (x+y)/2)(3, 5))  #yöntem 1"
   ]
  },
  {
   "cell_type": "code",
   "execution_count": 24,
   "id": "6e46dbba",
   "metadata": {},
   "outputs": [
    {
     "name": "stdout",
     "output_type": "stream",
     "text": [
      "4.0\n"
     ]
    }
   ],
   "source": [
    "avarage = (lambda x, y: (x+y)/2)(3, 5)  #yöntem 2\n",
    "print(avarage)"
   ]
  },
  {
   "cell_type": "code",
   "execution_count": 26,
   "id": "97efb4e7",
   "metadata": {},
   "outputs": [
    {
     "data": {
      "text/plain": [
       "'namusa'"
      ]
     },
     "execution_count": 26,
     "metadata": {},
     "output_type": "execute_result"
    }
   ],
   "source": [
    "(lambda x:x[::-1])(\"asuman\")"
   ]
  },
  {
   "cell_type": "code",
   "execution_count": 56,
   "id": "deb1b0be",
   "metadata": {},
   "outputs": [
    {
     "data": {
      "text/plain": [
       "[5, 3, 1]"
      ]
     },
     "execution_count": 56,
     "metadata": {},
     "output_type": "execute_result"
    }
   ],
   "source": [
    "(lambda x:x[::-1])([1,3,5])"
   ]
  },
  {
   "cell_type": "code",
   "execution_count": 147,
   "id": "995afcc0",
   "metadata": {},
   "outputs": [
    {
     "name": "stdout",
     "output_type": "stream",
     "text": [
      "1 : odd\n",
      "2 : even\n",
      "3 : odd\n",
      "4 : even\n",
      "5 : odd\n",
      "6 : even\n",
      "7 : odd\n",
      "8 : even\n"
     ]
    }
   ],
   "source": [
    "liste = [1, 2, 3, 4, 5, 6, 7, 8]\n",
    "for i in liste:\n",
    "    print(i, \":\", (lambda x: \"odd\" if x%2 !=0 else \"even\")(i))"
   ]
  },
  {
   "cell_type": "code",
   "execution_count": 148,
   "id": "949eceec",
   "metadata": {},
   "outputs": [
    {
     "name": "stdout",
     "output_type": "stream",
     "text": [
      "1 : odd\n",
      "2 : even\n",
      "3 : odd\n",
      "4 : even\n"
     ]
    }
   ],
   "source": [
    "liste=[1,2,3,4]\n",
    "for i in liste:print(i,\":\",(lambda i: \"odd\" if i%2 != 0 else \"even\")(i))"
   ]
  },
  {
   "cell_type": "code",
   "execution_count": 154,
   "id": "f9afdbbd",
   "metadata": {},
   "outputs": [
    {
     "name": "stdout",
     "output_type": "stream",
     "text": [
      "1 : odd\n",
      "2 : even\n",
      "3 : odd\n",
      "4 : even\n"
     ]
    }
   ],
   "source": [
    "liste=[1,2,3,4]\n",
    "var = [print(i, \":\", (lambda x: \"odd\" if x % 2 != 0 else \"even\")(i)) for i in liste]"
   ]
  },
  {
   "cell_type": "code",
   "execution_count": 155,
   "id": "f7f076c9",
   "metadata": {},
   "outputs": [
    {
     "name": "stdout",
     "output_type": "stream",
     "text": [
      "1 : odd\n",
      "2 : even\n",
      "3 : odd\n",
      "4 : even\n"
     ]
    }
   ],
   "source": [
    "for i in [1, 2, 3, 4]:    \n",
    "    print(i, \":\", (lambda i: 'odd' if i % 2 != 0 else 'even')(i))"
   ]
  },
  {
   "cell_type": "code",
   "execution_count": 151,
   "id": "1b0ce06b",
   "metadata": {},
   "outputs": [
    {
     "name": "stdout",
     "output_type": "stream",
     "text": [
      "1 : odd\n",
      "2 : even\n",
      "3 : odd\n",
      "4 : even\n"
     ]
    }
   ],
   "source": [
    "for i in [1, 2, 3, 4]:print(i, \":\", (lambda i: 'odd' if i % 2 != 0 else 'even')(i))"
   ]
  },
  {
   "cell_type": "code",
   "execution_count": 152,
   "id": "7b81abc5",
   "metadata": {},
   "outputs": [
    {
     "name": "stdout",
     "output_type": "stream",
     "text": [
      "[0, 2, 4, 6, 8, 10, 12, 14, 16, 18]\n"
     ]
    }
   ],
   "source": [
    "a=list(filter(lambda x : x%2==0 ,[x for x in range(20)]))\n",
    "print(a)"
   ]
  },
  {
   "cell_type": "code",
   "execution_count": 52,
   "id": "e451c901",
   "metadata": {},
   "outputs": [
    {
     "name": "stdout",
     "output_type": "stream",
     "text": [
      "<function <lambda> at 0x000002336F044550>\n"
     ]
    }
   ],
   "source": [
    "reverser = lambda x: \"odd\" if x%2 !=0 else \"even\"\n",
    "print(reverser) # bir yer gösterir."
   ]
  },
  {
   "cell_type": "code",
   "execution_count": 53,
   "id": "3e89d8db",
   "metadata": {},
   "outputs": [
    {
     "name": "stdout",
     "output_type": "stream",
     "text": [
      "1 : odd\n",
      "2 : even\n",
      "3 : odd\n",
      "4 : even\n"
     ]
    }
   ],
   "source": [
    "liste = [1, 2, 3, 4]\n",
    "for i in liste:\n",
    "    print(i, \":\", (reverser)(i))"
   ]
  },
  {
   "cell_type": "code",
   "execution_count": 54,
   "id": "6bf28b2f",
   "metadata": {},
   "outputs": [],
   "source": [
    "sonuç = lambda x:x[::-1]"
   ]
  },
  {
   "cell_type": "code",
   "execution_count": 58,
   "id": "bd5b23b5",
   "metadata": {},
   "outputs": [
    {
     "data": {
      "text/plain": [
       "[5, 3, 1]"
      ]
     },
     "execution_count": 58,
     "metadata": {},
     "output_type": "execute_result"
    }
   ],
   "source": [
    "(lambda x:x[::-1])([1,3,5])"
   ]
  },
  {
   "cell_type": "code",
   "execution_count": 60,
   "id": "3112ae98",
   "metadata": {},
   "outputs": [
    {
     "data": {
      "text/plain": [
       "[5, 3, 1]"
      ]
     },
     "execution_count": 60,
     "metadata": {},
     "output_type": "execute_result"
    }
   ],
   "source": [
    "sonuç([1, 3, 5])"
   ]
  },
  {
   "cell_type": "code",
   "execution_count": 62,
   "id": "cd462d1e",
   "metadata": {},
   "outputs": [],
   "source": [
    "reverser = lambda x: \"odd\" if x%2 !=0 else \"even\""
   ]
  },
  {
   "cell_type": "code",
   "execution_count": 63,
   "id": "8473964e",
   "metadata": {},
   "outputs": [
    {
     "data": {
      "text/plain": [
       "'even'"
      ]
     },
     "execution_count": 63,
     "metadata": {},
     "output_type": "execute_result"
    }
   ],
   "source": [
    "reverser(50)"
   ]
  },
  {
   "cell_type": "code",
   "execution_count": 65,
   "id": "d5be03ac",
   "metadata": {},
   "outputs": [
    {
     "data": {
      "text/plain": [
       "'odd'"
      ]
     },
     "execution_count": 65,
     "metadata": {},
     "output_type": "execute_result"
    }
   ],
   "source": [
    "reverser(1)"
   ]
  },
  {
   "cell_type": "markdown",
   "id": "7eb40b19",
   "metadata": {},
   "source": [
    "### 3. yöntem (map ve filter ile kullanımı) bu iki fonk. içinde fonk.istediği için kullanımı uygundur.\n",
    "the basic formula syntax is: <b>map(function, iterable)<b/>\n",
    "    map fonk. içine atanan fonk. iterable olarak atanana uygulanıyor ve havada bir object oluşturuyor."
   ]
  },
  {
   "cell_type": "markdown",
   "id": "2012489f",
   "metadata": {},
   "source": [
    "# map fonk.ile kullanımı"
   ]
  },
  {
   "cell_type": "code",
   "execution_count": 67,
   "id": "866e830b",
   "metadata": {},
   "outputs": [],
   "source": [
    "kelimeler = [\"a\", \"clarusway\", \"bununuzunluğunubulacağım\"]"
   ]
  },
  {
   "cell_type": "code",
   "execution_count": 79,
   "id": "38ff02a4",
   "metadata": {},
   "outputs": [],
   "source": [
    "uzunluk = map(len, kelimeler) # map; iterable ın içindeki her bir string in uzunluğunu havada bir object olarak oluşturdu."
   ]
  },
  {
   "cell_type": "code",
   "execution_count": 80,
   "id": "1747f426",
   "metadata": {},
   "outputs": [
    {
     "data": {
      "text/plain": [
       "<map at 0x2336d47f190>"
      ]
     },
     "execution_count": 80,
     "metadata": {},
     "output_type": "execute_result"
    }
   ],
   "source": [
    "uzunluk #bir yer gösterdi.\n",
    "# map fonk; iterable elemanlarına len fonk. tatbik ediyor ve uzunluk çıkıyor. çıkan sonuç bir integer. havada bir \n",
    "# iterable object oluşturdu. bu uzunluklar map fonk. elemanlarıdır.( 1 , 9, 24 bu iterable ın uzunlukları map in elemanları)\n",
    "# havada bir object oluştu ama bunu görünür hala getirmek için uzunluk gibi bir değişkene atamalıyız ve\n",
    "# print etmeliyiz."
   ]
  },
  {
   "cell_type": "code",
   "execution_count": 81,
   "id": "3806908e",
   "metadata": {},
   "outputs": [
    {
     "name": "stdout",
     "output_type": "stream",
     "text": [
      "<class 'map'>\n"
     ]
    }
   ],
   "source": [
    "print(map) #sadece tipini gösterir."
   ]
  },
  {
   "cell_type": "code",
   "execution_count": 82,
   "id": "4229c8c7",
   "metadata": {},
   "outputs": [
    {
     "name": "stdout",
     "output_type": "stream",
     "text": [
      "1 9 24\n"
     ]
    }
   ],
   "source": [
    "print(*uzunluk) # 2.kez çalıştırınca çalışmaz yeniden atamak lazım."
   ]
  },
  {
   "cell_type": "code",
   "execution_count": 97,
   "id": "4f60a4db",
   "metadata": {},
   "outputs": [
    {
     "name": "stdout",
     "output_type": "stream",
     "text": [
      "<class 'map'>\n",
      "[1, 4, 9, 16, 25, 36]\n",
      "[1, 4, 9, 16, 25, 36]\n"
     ]
    }
   ],
   "source": [
    "iterable = [1, 2, 3, 4, 5, 6]\n",
    "map(lambda x:x**2, iterable)\n",
    "result = map(lambda x:x**2, iterable)\n",
    "print(type(result))  # it's a map type\n",
    "print(list(result)) # we've coverted it to list type to print\n",
    "print(list(map(lambda x:x**2, iterable))) #you can print directly"
   ]
  },
  {
   "cell_type": "code",
   "execution_count": 95,
   "id": "998e3e1f",
   "metadata": {},
   "outputs": [
    {
     "name": "stdout",
     "output_type": "stream",
     "text": [
      "1 4 9 16 25 36\n"
     ]
    }
   ],
   "source": [
    "result2 = map(lambda x:x**2, [1, 2, 3, 4, 5, 6])\n",
    "print(*result2)"
   ]
  },
  {
   "cell_type": "code",
   "execution_count": 102,
   "id": "430f17a3",
   "metadata": {},
   "outputs": [
    {
     "name": "stdout",
     "output_type": "stream",
     "text": [
      "1\n",
      "4\n",
      "9\n",
      "16\n",
      "25\n",
      "36\n"
     ]
    }
   ],
   "source": [
    "result2 = map(lambda x:x**2, [1, 2, 3, 4, 5, 6])\n",
    "for i in result2 :\n",
    "    print(i)"
   ]
  },
  {
   "cell_type": "code",
   "execution_count": 104,
   "id": "47e6bb8f",
   "metadata": {},
   "outputs": [],
   "source": [
    "def result(x):\n",
    "    return x**2"
   ]
  },
  {
   "cell_type": "code",
   "execution_count": 105,
   "id": "727893f6",
   "metadata": {},
   "outputs": [],
   "source": [
    "iterable = [1, 2, 3, 4, 5, 6]"
   ]
  },
  {
   "cell_type": "code",
   "execution_count": 106,
   "id": "34262e9d",
   "metadata": {},
   "outputs": [
    {
     "name": "stdout",
     "output_type": "stream",
     "text": [
      "1 4 9 16 25 36\n"
     ]
    }
   ],
   "source": [
    "a = map(result, iterable)\n",
    "print(*a)"
   ]
  },
  {
   "cell_type": "code",
   "execution_count": 111,
   "id": "6bb06d06",
   "metadata": {},
   "outputs": [],
   "source": [
    "topla = lambda x, y, z : x + y + z"
   ]
  },
  {
   "cell_type": "code",
   "execution_count": 112,
   "id": "c0267ec6",
   "metadata": {},
   "outputs": [
    {
     "data": {
      "text/plain": [
       "11"
      ]
     },
     "execution_count": 112,
     "metadata": {},
     "output_type": "execute_result"
    }
   ],
   "source": [
    "(lambda x, y, z : x + y + z)(2,3,6) #bunu yazmakla alttaki şekilde atadığımız ile yazmak aynısı"
   ]
  },
  {
   "cell_type": "code",
   "execution_count": 113,
   "id": "d77b2c97",
   "metadata": {},
   "outputs": [
    {
     "data": {
      "text/plain": [
       "11"
      ]
     },
     "execution_count": 113,
     "metadata": {},
     "output_type": "execute_result"
    }
   ],
   "source": [
    "topla(2,3,6) # direkt lambda nın yanına değerleri girmekle aynı."
   ]
  },
  {
   "cell_type": "code",
   "execution_count": 116,
   "id": "5afe4b65",
   "metadata": {},
   "outputs": [
    {
     "data": {
      "text/plain": [
       "'asumanenesoray'"
      ]
     },
     "execution_count": 116,
     "metadata": {},
     "output_type": "execute_result"
    }
   ],
   "source": [
    "(lambda x, y, z : x + y + z)(\"asuman\", \"enes\", \"oray\") "
   ]
  },
  {
   "cell_type": "code",
   "execution_count": 117,
   "id": "4d685355",
   "metadata": {},
   "outputs": [
    {
     "name": "stdout",
     "output_type": "stream",
     "text": [
      "['one', 'six', 'ten', 'two']\n"
     ]
    }
   ],
   "source": [
    "letter1 = ['o', 's', 't', 't'] #parametre\n",
    "letter2 = ['n', 'i', 'e', 'w'] #parametre\n",
    "letter3 = ['e', 'x', 'n', 'o'] #parametre\n",
    "numbers = map(lambda x, y, z: x+y+z, letter1, letter2, letter3) # 3 iterable (letter1,2ve3) ve 3 tane değer tanımladık.\n",
    "print(list(numbers))"
   ]
  },
  {
   "cell_type": "code",
   "execution_count": null,
   "id": "0276ca6a",
   "metadata": {},
   "outputs": [],
   "source": [
    "map()\n",
    "Init signature: map(self, /, *args, **kwargs)\n",
    "Docstring:     \n",
    "map(func, *iterables) --> map object (* içine atılan birden fazla iterable kullanılabilir hale getirir;\n",
    "\n",
    "birden fazla parametre geliyor(letter1,2 ve3) ama fonk.tanımlanırsen *iterable olarak tanımlanmış.\n",
    "yani map func. bunların hepsini bir iterable haline getiriyor.\n",
    "*iterable arbitry keyword arguments ----> özelliğini alıyor.\n",
    "                        3 tane parametre var bu durumda da 3 tane değişkene ihtiyacımız var.\n",
    "                        3 tane değişken(x,y,z) 3 tane arguman istiyor(o,n,e) bu  durumdada one, six, ten, two oluyor.\n",
    "                        one, two, six, ten ---> map ın havada oluşturduğu objectler\n",
    "biz yukarda 3 tane parametre tanımladıysak (letter1,2 ve 3)\n",
    "aşağıda da 3 tane iterable (letter1,2,3) kullanmak zorundayiz.\n",
    "                                    \n",
    "3 tane arguman varsa (x,y,z) ve 3 tane keyword tanımladığımız içinde 3 tane iterable (letter1, letter2, letter3)\n",
    "tanımlamamız lazım.\n",
    "\n",
    "Make an iterator that computes the function using arguments from\n",
    "each of the iterables.  Stops when the shortest iterable is exhausted.\n",
    "Type:           type\n",
    "Subclasses:  "
   ]
  },
  {
   "cell_type": "code",
   "execution_count": 118,
   "id": "53f51790",
   "metadata": {},
   "outputs": [
    {
     "name": "stdout",
     "output_type": "stream",
     "text": [
      "[6.0, 6.0, 6.0, 6.0]\n"
     ]
    }
   ],
   "source": [
    "#1.yazım\n",
    "num1 = [9, 6, 7, 4]\n",
    "num2 = [3, 6, 5, 8]\n",
    "number = map(lambda x, y : (x+y)/2, num1, num2) \n",
    "print(list(number))"
   ]
  },
  {
   "cell_type": "code",
   "execution_count": 119,
   "id": "b5ceeb6a",
   "metadata": {},
   "outputs": [
    {
     "data": {
      "text/plain": [
       "[6.0, 6.0, 6.0, 6.0]"
      ]
     },
     "execution_count": 119,
     "metadata": {},
     "output_type": "execute_result"
    }
   ],
   "source": [
    "#2.yazım\n",
    "func = lambda x, y : (x+y)/2\n",
    "num1 = [9, 6, 7, 4]\n",
    "num2 = [3, 6, 5, 8]\n",
    "numberr = map(func, num1, num2)\n",
    "list(numberr)"
   ]
  },
  {
   "cell_type": "code",
   "execution_count": 162,
   "id": "ffa75396",
   "metadata": {},
   "outputs": [],
   "source": [
    "#iterable larımız.\n",
    "words1 = [\"you\", \"much\", \"hard\"]\n",
    "words2 = [\"i\", \"you\", \"he\"]          #uzunluklar farklı ise en kısa olanda kalır.\n",
    "words3 = [\"love\", \"ate\", \"works\"]"
   ]
  },
  {
   "cell_type": "code",
   "execution_count": 163,
   "id": "5ee1a958",
   "metadata": {},
   "outputs": [
    {
     "name": "stdout",
     "output_type": "stream",
     "text": [
      "['i love you', 'you ate much', 'he works hard']\n"
     ]
    }
   ],
   "source": [
    "fonk = map (lambda a, b, c: a + \" \" + b + \" \"+ c, words2, words3, words1) #concat fonk (+ ile birleştirmek.)\n",
    "print(list(fonk))"
   ]
  },
  {
   "cell_type": "code",
   "execution_count": 166,
   "id": "29dd98f0",
   "metadata": {},
   "outputs": [
    {
     "name": "stdout",
     "output_type": "stream",
     "text": [
      "i love you\n",
      "you ate much\n",
      "he works hard\n"
     ]
    }
   ],
   "source": [
    "fonk = lambda a, b, c: a + \" \" + b + \" \"+ c\n",
    "center = map(fonk, words2, words3, words1)  #havada bir object oluştu (yani map fonk. iterable elemanlar oluşturdu)\n",
    "center #yer gösterir\n",
    "for i in center:\n",
    "    print(i)\n",
    "#a + \" \" + b + \" \"+ c  ---> expression \n",
    "#words2, words3, words1 ---> argument (iterable larımız aynı zamanda)\n",
    "#a,b,c ----> variable"
   ]
  },
  {
   "cell_type": "markdown",
   "id": "1ef3130a",
   "metadata": {},
   "source": [
    "# filter fonk ile kullanımı;\n",
    "filter fonk. map gibi havada bir object üretmez, iterable mevcut elemanlarından birini döndürür.\n",
    "\n",
    "yani iterable lar içinden fonk göre tanımladığımızı şartımıza uyanı alıyor, true ise alır false ise almaz.\n",
    "\n",
    "filter fonk <b> mevcut bir iterable <b/> döndürür. Dikkat !!!\n",
    "\n",
    "    filter fonk. syntax; \n",
    "    <b>filter (function, sequence)<b/>\n",
    "        \n",
    "    filter (function, iterable) ---> yani sequence iterable olmalı.\n",
    "    bu işlem sonunda ya true ya da false dönecek, yani boolean değer döndürmesi lazım.\n",
    "filter ın bir tane itareble uygulama durumu var."
   ]
  },
  {
   "cell_type": "code",
   "execution_count": 168,
   "id": "ad9d08ee",
   "metadata": {},
   "outputs": [
    {
     "name": "stdout",
     "output_type": "stream",
     "text": [
      "<class 'filter'>\n"
     ]
    }
   ],
   "source": [
    "first_ten = [0, 1, 2, 3, 4, 5, 6, 7, 8, 9]\n",
    "even = filter(lambda x:x % 2 == 0, first_ten)  # karşılaştırma operatörleri true ya da false döndürür.\n",
    "print(type(even)) #it's filter type\n",
    "                # in order to print the result\n",
    "    # we better convert it into the list type"
   ]
  },
  {
   "cell_type": "code",
   "execution_count": 169,
   "id": "95e21e15",
   "metadata": {},
   "outputs": [
    {
     "name": "stdout",
     "output_type": "stream",
     "text": [
      "Even numbers are:  [0, 2, 4, 6, 8]\n"
     ]
    }
   ],
   "source": [
    "print(\"Even numbers are: \", list(even))"
   ]
  },
  {
   "cell_type": "code",
   "execution_count": 170,
   "id": "d7212c5d",
   "metadata": {},
   "outputs": [
    {
     "name": "stdout",
     "output_type": "stream",
     "text": [
      "<class 'filter'>\n"
     ]
    }
   ],
   "source": [
    "first_ten = [0, 1, 2, 3, 4, 5, 6, 7, 8, 9]\n",
    "odd = filter(lambda x:x % 2 != 0, first_ten)  # karşılaştırma operatörleri true ya da false döndürür.\n",
    "print(type(odd))"
   ]
  },
  {
   "cell_type": "code",
   "execution_count": 174,
   "id": "f3bb7ec9",
   "metadata": {},
   "outputs": [
    {
     "name": "stdout",
     "output_type": "stream",
     "text": [
      "<class 'filter'>\n",
      "1 3 5 7 9\n"
     ]
    }
   ],
   "source": [
    "first_ten = [0, 1, 2, 3, 4, 5, 6, 7, 8, 9]\n",
    "odd = filter(lambda x:x % 2 == 1, first_ten)  # karşılaştırma operatörleri true ya da false döndürür.\n",
    "print(type(odd))\n",
    "print(* odd)"
   ]
  },
  {
   "cell_type": "code",
   "execution_count": 175,
   "id": "dccf52c8",
   "metadata": {},
   "outputs": [
    {
     "name": "stdout",
     "output_type": "stream",
     "text": [
      "<class 'filter'>\n",
      "[1, 3, 5, 7, 9]\n"
     ]
    }
   ],
   "source": [
    "first_ten = [0, 1, 2, 3, 4, 5, 6, 7, 8, 9]\n",
    "odd = filter(lambda x:not x % 2 == 0, first_ten)  # karşılaştırma operatörleri true ya da false döndürür.\n",
    "print(type(odd))\n",
    "print(list(odd))"
   ]
  },
  {
   "cell_type": "code",
   "execution_count": 177,
   "id": "a04ba4d2",
   "metadata": {},
   "outputs": [
    {
     "name": "stdout",
     "output_type": "stream",
     "text": [
      "<class 'filter'>\n",
      "(1, 3, 5, 7, 9)\n"
     ]
    }
   ],
   "source": [
    "first_ten = [0, 1, 2, 3, 4, 5, 6, 7, 8, 9]\n",
    "odd = filter(lambda x:x % 2, first_ten)  # karşılaştırma operatörleri true ya da false döndürür.\n",
    "print(type(odd))\n",
    "print(tuple(odd))"
   ]
  },
  {
   "cell_type": "markdown",
   "id": "6d2da903",
   "metadata": {},
   "source": [
    "# x: den sonraki kısım expression dır unutma"
   ]
  },
  {
   "cell_type": "code",
   "execution_count": 220,
   "id": "635ce52e",
   "metadata": {},
   "outputs": [
    {
     "name": "stdout",
     "output_type": "stream",
     "text": [
      "elma\n",
      "kivi\n",
      "muz\n",
      "erik\n"
     ]
    }
   ],
   "source": [
    "letter = [\"elma\", \"armut\", \"portakal\", \"kivi\", \"muz\", \"banana\", \"kiraz\", \"erik\"]\n",
    "for i in filter(lambda x: len(x) < 5, letter):\n",
    "            print(i)"
   ]
  },
  {
   "cell_type": "code",
   "execution_count": 228,
   "id": "cc99a298",
   "metadata": {},
   "outputs": [
    {
     "name": "stdout",
     "output_type": "stream",
     "text": [
      "['elma', 'kivi', 'muz', 'erik']\n"
     ]
    }
   ],
   "source": [
    "letter = [\"elma\", \"armut\", \"portakal\", \"kivi\", \"muz\", \"banana\", \"kiraz\", \"erik\"]\n",
    "center2 = lambda x: len(x)<5\n",
    "a = filter(center2, letter)\n",
    "print(list(a))"
   ]
  },
  {
   "cell_type": "code",
   "execution_count": 248,
   "id": "4e243820",
   "metadata": {},
   "outputs": [],
   "source": [
    "x = [\"birinci\", \"ikinci\"]  #burada for döngüsüne sokunca sadece ilk elemanlarını iterate etti ve y deki eleman sayısı fazlada olsa\n",
    "                        # x in elemanları bitince biter , az olana göre işlem yapar yani. bunun zip le birleşmiş haline dikkat\n",
    "                        # et hemen alt satırda.\n",
    "y = [\"a\", \"b\", \"c\"]\n",
    "\n",
    "birleştir = map(zip, x, y)"
   ]
  },
  {
   "cell_type": "code",
   "execution_count": 249,
   "id": "20d39bb4",
   "metadata": {},
   "outputs": [],
   "source": [
    "# birleştir = map(zip, x, y)\n",
    "# print(* list(birleştir)) # görünmez çünkü zip fonk bir döngüye girmesi lazım."
   ]
  },
  {
   "cell_type": "code",
   "execution_count": 250,
   "id": "8d02b162",
   "metadata": {},
   "outputs": [
    {
     "name": "stdout",
     "output_type": "stream",
     "text": [
      "('b', 'a')\n",
      "('i', 'b')\n"
     ]
    }
   ],
   "source": [
    "for i in birleştir:    #döngüye dikkat etmek lazım birden fazla elemanı varsa sadece ilk elemanlarına alacak.\n",
    "    for j in i:\n",
    "        print(j)"
   ]
  },
  {
   "cell_type": "code",
   "execution_count": 251,
   "id": "53278eab",
   "metadata": {},
   "outputs": [
    {
     "data": {
      "text/plain": [
       "[('birinci', 'a'), ('ikinci', 'b')]"
      ]
     },
     "execution_count": 251,
     "metadata": {},
     "output_type": "execute_result"
    }
   ],
   "source": [
    "yapıştır = zip(x, y)  #ama zip fonk. sorun yok old.gibi alır.\n",
    "list(yapıştır)"
   ]
  },
  {
   "cell_type": "code",
   "execution_count": null,
   "id": "2246d1bf",
   "metadata": {},
   "outputs": [],
   "source": []
  },
  {
   "cell_type": "code",
   "execution_count": null,
   "id": "9de75bca",
   "metadata": {},
   "outputs": [],
   "source": []
  }
 ],
 "metadata": {
  "kernelspec": {
   "display_name": "Python 3 (ipykernel)",
   "language": "python",
   "name": "python3"
  },
  "language_info": {
   "codemirror_mode": {
    "name": "ipython",
    "version": 3
   },
   "file_extension": ".py",
   "mimetype": "text/x-python",
   "name": "python",
   "nbconvert_exporter": "python",
   "pygments_lexer": "ipython3",
   "version": "3.10.4"
  }
 },
 "nbformat": 4,
 "nbformat_minor": 5
}
